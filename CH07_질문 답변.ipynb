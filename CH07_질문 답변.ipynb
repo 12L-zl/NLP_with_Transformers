{
 "cells": [
  {
   "cell_type": "markdown",
   "id": "3151482b",
   "metadata": {},
   "source": [
    "### 리뷰 기반 QA 시스템 구축하기"
   ]
  },
  {
   "cell_type": "code",
   "execution_count": 1,
   "id": "c74cd1c7",
   "metadata": {},
   "outputs": [
    {
     "name": "stderr",
     "output_type": "stream",
     "text": [
      "C:\\Users\\knuyh\\anaconda3\\Lib\\site-packages\\pandas\\core\\arrays\\masked.py:60: UserWarning: Pandas requires version '1.3.6' or newer of 'bottleneck' (version '1.3.5' currently installed).\n",
      "  from pandas.core import (\n"
     ]
    },
    {
     "data": {
      "text/plain": [
       "['books', 'electronics', 'grocery', 'movies', 'restaurants', 'tripadvisor']"
      ]
     },
     "execution_count": 1,
     "metadata": {},
     "output_type": "execute_result"
    }
   ],
   "source": [
    "from datasets import get_dataset_config_names\n",
    "\n",
    "domains = get_dataset_config_names('subjqa')\n",
    "domains"
   ]
  },
  {
   "cell_type": "code",
   "execution_count": 2,
   "id": "41aa19de",
   "metadata": {},
   "outputs": [],
   "source": [
    "# 전자제품용\n",
    "from datasets import load_dataset\n",
    "\n",
    "subjqa = load_dataset('subjqa', name = 'electronics')"
   ]
  },
  {
   "cell_type": "code",
   "execution_count": 3,
   "id": "13179af8",
   "metadata": {},
   "outputs": [
    {
     "name": "stdout",
     "output_type": "stream",
     "text": [
      "{'text': ['Bass is weak as expected', 'Bass is weak as expected, even with EQ adjusted up'], 'answer_start': [1302, 1302], 'answer_subj_level': [1, 1], 'ans_subj_score': [0.5083333253860474, 0.5083333253860474], 'is_ans_subjective': [True, True]}\n"
     ]
    }
   ],
   "source": [
    "print(subjqa[\"train\"][\"answers\"][1])\n",
    "# 답은 text 필드\n",
    "# answer_start 에 시작 문자의 인덱스 (Bass)"
   ]
  },
  {
   "cell_type": "code",
   "execution_count": 4,
   "id": "bf2aab3f",
   "metadata": {},
   "outputs": [
    {
     "name": "stdout",
     "output_type": "stream",
     "text": [
      "train에 있는 질문 개수 : 1295\n",
      "test에 있는 질문 개수 : 358\n",
      "validation에 있는 질문 개수 : 255\n"
     ]
    }
   ],
   "source": [
    "import pandas as pd\n",
    "\n",
    "dfs = {split : dset.to_pandas() for split, dset in subjqa.flatten().items()}\n",
    "\n",
    "for split, df in dfs.items() :\n",
    "    print(f\"{split}에 있는 질문 개수 : {df['id'].nunique()}\")"
   ]
  },
  {
   "cell_type": "code",
   "execution_count": 5,
   "id": "5db443db",
   "metadata": {},
   "outputs": [
    {
     "data": {
      "text/html": [
       "<div>\n",
       "<style scoped>\n",
       "    .dataframe tbody tr th:only-of-type {\n",
       "        vertical-align: middle;\n",
       "    }\n",
       "\n",
       "    .dataframe tbody tr th {\n",
       "        vertical-align: top;\n",
       "    }\n",
       "\n",
       "    .dataframe thead th {\n",
       "        text-align: right;\n",
       "    }\n",
       "</style>\n",
       "<table border=\"1\" class=\"dataframe\">\n",
       "  <thead>\n",
       "    <tr style=\"text-align: right;\">\n",
       "      <th></th>\n",
       "      <th>title</th>\n",
       "      <th>question</th>\n",
       "      <th>answers.text</th>\n",
       "      <th>answers.answer_start</th>\n",
       "      <th>context</th>\n",
       "    </tr>\n",
       "  </thead>\n",
       "  <tbody>\n",
       "    <tr>\n",
       "      <th>791</th>\n",
       "      <td>B005DKZTMG</td>\n",
       "      <td>Does the keyboard lightweight?</td>\n",
       "      <td>[this keyboard is compact]</td>\n",
       "      <td>[215]</td>\n",
       "      <td>I really like this keyboard.  I give it 4 star...</td>\n",
       "    </tr>\n",
       "    <tr>\n",
       "      <th>1159</th>\n",
       "      <td>B00AAIPT76</td>\n",
       "      <td>How is the battery?</td>\n",
       "      <td>[]</td>\n",
       "      <td>[]</td>\n",
       "      <td>I bought this after the first spare gopro batt...</td>\n",
       "    </tr>\n",
       "  </tbody>\n",
       "</table>\n",
       "</div>"
      ],
      "text/plain": [
       "           title                        question                answers.text  \\\n",
       "791   B005DKZTMG  Does the keyboard lightweight?  [this keyboard is compact]   \n",
       "1159  B00AAIPT76             How is the battery?                          []   \n",
       "\n",
       "     answers.answer_start                                            context  \n",
       "791                 [215]  I really like this keyboard.  I give it 4 star...  \n",
       "1159                   []  I bought this after the first spare gopro batt...  "
      ]
     },
     "execution_count": 5,
     "metadata": {},
     "output_type": "execute_result"
    }
   ],
   "source": [
    "qa_cols = [\"title\", \"question\", \"answers.text\", \n",
    "           \"answers.answer_start\", \"context\"]\n",
    "sample_df = dfs[\"train\"][qa_cols].sample(2, random_state=7)\n",
    "sample_df"
   ]
  },
  {
   "cell_type": "markdown",
   "id": "fbb74a4e",
   "metadata": {},
   "source": [
    "* 질문이 문법적으로 바르지 않다.\n",
    "* 빈 answers.text 항목에는 리뷰에서 답을 찾지 못해 답변이 불가한 질문이 담김\n",
    "* 시작 인덱스와 답변 길이를 사용해 리뷰에서 답변에 해당하는 텍스트 추출 가능"
   ]
  },
  {
   "cell_type": "code",
   "execution_count": 6,
   "id": "e5b8ea99",
   "metadata": {},
   "outputs": [
    {
     "data": {
      "text/plain": [
       "'this keyboard is compact'"
      ]
     },
     "execution_count": 6,
     "metadata": {},
     "output_type": "execute_result"
    }
   ],
   "source": [
    "start_idx = sample_df[\"answers.answer_start\"].iloc[0][0]\n",
    "end_idx = start_idx + len(sample_df[\"answers.text\"].iloc[0][0])\n",
    "sample_df[\"context\"].iloc[0][start_idx:end_idx]"
   ]
  },
  {
   "cell_type": "code",
   "execution_count": 7,
   "id": "cd1ed784",
   "metadata": {},
   "outputs": [
    {
     "data": {
      "image/png": "[encoded data removed]",
      "text/plain": [
       "<Figure size 640x480 with 1 Axes>"
      ]
     },
     "metadata": {},
     "output_type": "display_data"
    }
   ],
   "source": [
    "# 흔한 단어로 질문 개수 카운트\n",
    "import matplotlib.pyplot as plt\n",
    "\n",
    "counts = {}\n",
    "question_types = [\"What\", \"How\", \"Is\", \"Does\", \"Do\", \"Was\", \"Where\", \"Why\"]\n",
    "\n",
    "for q in question_types:\n",
    "    counts[q] = dfs[\"train\"][\"question\"].str.startswith(q).value_counts()[True]\n",
    "\n",
    "pd.Series(counts).sort_values().plot.barh()\n",
    "plt.title(\"Frequency of Question Types\")\n",
    "plt.show()"
   ]
  },
  {
   "cell_type": "code",
   "execution_count": 8,
   "id": "edd23bc9",
   "metadata": {},
   "outputs": [
    {
     "name": "stdout",
     "output_type": "stream",
     "text": [
      "How is the camera?\n",
      "How do you like the control?\n",
      "How fast is the charger?\n",
      "What is direction?\n",
      "What is the quality of the construction of the bag?\n",
      "What is your impression of the product?\n",
      "Is this how zoom works?\n",
      "Is sound clear?\n",
      "Is it a wireless keyboard?\n"
     ]
    }
   ],
   "source": [
    "for question_type in [\"How\", \"What\", \"Is\"]:\n",
    "    for question in (\n",
    "        dfs[\"train\"][dfs[\"train\"].question.str.startswith(question_type)]\n",
    "        .sample(n=3, random_state=42)['question']):\n",
    "        print(question)"
   ]
  },
  {
   "cell_type": "markdown",
   "id": "c8913d91",
   "metadata": {},
   "source": [
    "#### QA를 위한 텍스트 토큰화\n",
    "* MiniLM \n",
    ": 99% 성능을 위지하며 두 배 빠른 BERT 기반의 압축 \n",
    "\n",
    "<br>\n",
    "\n",
    "    * 추출적 QA(문서에 있는 텍스트 일부를 질문의 답으로 추출) 작업에서는 입력을 (질문, 문맥) 쌍으로 제공"
   ]
  },
  {
   "cell_type": "code",
   "execution_count": 9,
   "id": "70681392",
   "metadata": {},
   "outputs": [
    {
     "name": "stderr",
     "output_type": "stream",
     "text": [
      "C:\\Users\\knuyh\\anaconda3\\Lib\\site-packages\\huggingface_hub\\file_download.py:1132: FutureWarning: `resume_download` is deprecated and will be removed in version 1.0.0. Downloads always resume when possible. If you want to force a new download, use `force_download=True`.\n",
      "  warnings.warn(\n"
     ]
    }
   ],
   "source": [
    "from transformers import AutoTokenizer\n",
    "\n",
    "model_ckpt = \"deepset/minilm-uncased-squad2\"\n",
    "tokenizer = AutoTokenizer.from_pretrained(model_ckpt)"
   ]
  },
  {
   "cell_type": "code",
   "execution_count": 10,
   "id": "f6d04236",
   "metadata": {},
   "outputs": [],
   "source": [
    "question = \"How much music can this hold?\"\n",
    "context = \"\"\"An MP3 is about 1 MB/minute, so about 6000 hours depending on \\\n",
    "file size.\"\"\"\n",
    "inputs = tokenizer(question, context, return_tensors=\"pt\")"
   ]
  },
  {
   "cell_type": "code",
   "execution_count": 11,
   "id": "ae2f327a",
   "metadata": {},
   "outputs": [
    {
     "data": {
      "text/html": [
       "<div>\n",
       "<style scoped>\n",
       "    .dataframe tbody tr th:only-of-type {\n",
       "        vertical-align: middle;\n",
       "    }\n",
       "\n",
       "    .dataframe tbody tr th {\n",
       "        vertical-align: top;\n",
       "    }\n",
       "\n",
       "    .dataframe thead th {\n",
       "        text-align: right;\n",
       "    }\n",
       "</style>\n",
       "<table border=\"1\" class=\"dataframe\">\n",
       "  <thead>\n",
       "    <tr style=\"text-align: right;\">\n",
       "      <th></th>\n",
       "      <th>0</th>\n",
       "      <th>1</th>\n",
       "      <th>2</th>\n",
       "      <th>3</th>\n",
       "      <th>4</th>\n",
       "      <th>5</th>\n",
       "      <th>6</th>\n",
       "      <th>7</th>\n",
       "      <th>8</th>\n",
       "      <th>9</th>\n",
       "      <th>...</th>\n",
       "      <th>18</th>\n",
       "      <th>19</th>\n",
       "      <th>20</th>\n",
       "      <th>21</th>\n",
       "      <th>22</th>\n",
       "      <th>23</th>\n",
       "      <th>24</th>\n",
       "      <th>25</th>\n",
       "      <th>26</th>\n",
       "      <th>27</th>\n",
       "    </tr>\n",
       "  </thead>\n",
       "  <tbody>\n",
       "    <tr>\n",
       "      <th>input_ids</th>\n",
       "      <td>101</td>\n",
       "      <td>2129</td>\n",
       "      <td>2172</td>\n",
       "      <td>2189</td>\n",
       "      <td>2064</td>\n",
       "      <td>2023</td>\n",
       "      <td>2907</td>\n",
       "      <td>1029</td>\n",
       "      <td>102</td>\n",
       "      <td>2019</td>\n",
       "      <td>...</td>\n",
       "      <td>2061</td>\n",
       "      <td>2055</td>\n",
       "      <td>25961</td>\n",
       "      <td>2847</td>\n",
       "      <td>5834</td>\n",
       "      <td>2006</td>\n",
       "      <td>5371</td>\n",
       "      <td>2946</td>\n",
       "      <td>1012</td>\n",
       "      <td>102</td>\n",
       "    </tr>\n",
       "    <tr>\n",
       "      <th>token_type_ids</th>\n",
       "      <td>0</td>\n",
       "      <td>0</td>\n",
       "      <td>0</td>\n",
       "      <td>0</td>\n",
       "      <td>0</td>\n",
       "      <td>0</td>\n",
       "      <td>0</td>\n",
       "      <td>0</td>\n",
       "      <td>0</td>\n",
       "      <td>1</td>\n",
       "      <td>...</td>\n",
       "      <td>1</td>\n",
       "      <td>1</td>\n",
       "      <td>1</td>\n",
       "      <td>1</td>\n",
       "      <td>1</td>\n",
       "      <td>1</td>\n",
       "      <td>1</td>\n",
       "      <td>1</td>\n",
       "      <td>1</td>\n",
       "      <td>1</td>\n",
       "    </tr>\n",
       "    <tr>\n",
       "      <th>attention_mask</th>\n",
       "      <td>1</td>\n",
       "      <td>1</td>\n",
       "      <td>1</td>\n",
       "      <td>1</td>\n",
       "      <td>1</td>\n",
       "      <td>1</td>\n",
       "      <td>1</td>\n",
       "      <td>1</td>\n",
       "      <td>1</td>\n",
       "      <td>1</td>\n",
       "      <td>...</td>\n",
       "      <td>1</td>\n",
       "      <td>1</td>\n",
       "      <td>1</td>\n",
       "      <td>1</td>\n",
       "      <td>1</td>\n",
       "      <td>1</td>\n",
       "      <td>1</td>\n",
       "      <td>1</td>\n",
       "      <td>1</td>\n",
       "      <td>1</td>\n",
       "    </tr>\n",
       "  </tbody>\n",
       "</table>\n",
       "<p>3 rows × 28 columns</p>\n",
       "</div>"
      ],
      "text/plain": [
       "                 0     1     2     3     4     5     6     7    8     9   ...  \\\n",
       "input_ids       101  2129  2172  2189  2064  2023  2907  1029  102  2019  ...   \n",
       "token_type_ids    0     0     0     0     0     0     0     0    0     1  ...   \n",
       "attention_mask    1     1     1     1     1     1     1     1    1     1  ...   \n",
       "\n",
       "                  18    19     20    21    22    23    24    25    26   27  \n",
       "input_ids       2061  2055  25961  2847  5834  2006  5371  2946  1012  102  \n",
       "token_type_ids     1     1      1     1     1     1     1     1     1    1  \n",
       "attention_mask     1     1      1     1     1     1     1     1     1    1  \n",
       "\n",
       "[3 rows x 28 columns]"
      ]
     },
     "execution_count": 11,
     "metadata": {},
     "output_type": "execute_result"
    }
   ],
   "source": [
    "input_df = pd.DataFrame.from_dict(tokenizer(question, context), orient=\"index\")\n",
    "input_df\n",
    "# token_type_ids : 0은 질문 토큰, 1은 답변 토큰"
   ]
  },
  {
   "cell_type": "code",
   "execution_count": 12,
   "id": "8570c2f7",
   "metadata": {},
   "outputs": [
    {
     "name": "stdout",
     "output_type": "stream",
     "text": [
      "[CLS] how much music can this hold? [SEP] an mp3 is about 1 mb / minute, so about 6000 hours depending on file size. [SEP]\n"
     ]
    }
   ],
   "source": [
    "print(tokenizer.decode(inputs[\"input_ids\"][0]))"
   ]
  },
  {
   "cell_type": "code",
   "execution_count": 13,
   "id": "d2fe4969",
   "metadata": {},
   "outputs": [
    {
     "name": "stderr",
     "output_type": "stream",
     "text": [
      "C:\\Users\\knuyh\\anaconda3\\Lib\\site-packages\\huggingface_hub\\file_download.py:1132: FutureWarning: `resume_download` is deprecated and will be removed in version 1.0.0. Downloads always resume when possible. If you want to force a new download, use `force_download=True`.\n",
      "  warnings.warn(\n",
      "Some weights of the model checkpoint at deepset/minilm-uncased-squad2 were not used when initializing BertForQuestionAnswering: ['bert.pooler.dense.bias', 'bert.pooler.dense.weight']\n",
      "- This IS expected if you are initializing BertForQuestionAnswering from the checkpoint of a model trained on another task or with another architecture (e.g. initializing a BertForSequenceClassification model from a BertForPreTraining model).\n",
      "- This IS NOT expected if you are initializing BertForQuestionAnswering from the checkpoint of a model that you expect to be exactly identical (initializing a BertForSequenceClassification model from a BertForSequenceClassification model).\n"
     ]
    },
    {
     "name": "stdout",
     "output_type": "stream",
     "text": [
      "QuestionAnsweringModelOutput(loss=None, start_logits=tensor([[-0.9862, -4.7750, -5.4025, -5.2378, -5.2863, -5.5117, -4.9819, -6.1880,\n",
      "         -0.9862,  0.2596, -0.2144, -1.7136,  3.7806,  4.8561, -1.0546, -3.9097,\n",
      "         -1.7374, -4.5944, -1.4278,  3.9949,  5.0391, -0.2018, -3.0193, -4.8549,\n",
      "         -2.3107, -3.5110, -3.5713, -0.9862]]), end_logits=tensor([[-0.9623, -5.4733, -5.0326, -5.1639, -5.4278, -5.5151, -5.1749, -4.6233,\n",
      "         -0.9623, -3.7855, -0.8715, -3.7745, -3.0161, -1.1780,  0.1758, -2.7365,\n",
      "          4.8934,  0.3046, -3.1761, -3.2762,  0.8937,  5.6606, -0.3623, -4.9554,\n",
      "         -3.2531, -0.0914,  1.6211, -0.9623]]), hidden_states=None, attentions=None)\n"
     ]
    }
   ],
   "source": [
    "# 모델 객체 초기화 및 입력 정방향 패스에 통과\n",
    "import torch\n",
    "from transformers import AutoModelForQuestionAnswering\n",
    "\n",
    "model = AutoModelForQuestionAnswering.from_pretrained(model_ckpt)\n",
    "\n",
    "with torch.no_grad():\n",
    "    outputs = model(**inputs)\n",
    "print(outputs)"
   ]
  },
  {
   "cell_type": "code",
   "execution_count": 14,
   "id": "e4c11a20",
   "metadata": {},
   "outputs": [],
   "source": [
    "start_logits = outputs.start_logits\n",
    "end_logits = outputs.end_logits"
   ]
  },
  {
   "cell_type": "code",
   "execution_count": 15,
   "id": "6ef54f58",
   "metadata": {},
   "outputs": [
    {
     "name": "stdout",
     "output_type": "stream",
     "text": [
      "입력 ID 크기: torch.Size([1, 28])\n",
      "시작 로짓 크기: torch.Size([1, 28])\n",
      "종료 로짓 크기: torch.Size([1, 28])\n"
     ]
    }
   ],
   "source": [
    "print(f\"입력 ID 크기: {inputs.input_ids.size()}\")\n",
    "print(f\"시작 로짓 크기: {start_logits.size()}\")\n",
    "print(f\"종료 로짓 크기: {end_logits.size()}\")"
   ]
  },
  {
   "cell_type": "code",
   "execution_count": 16,
   "id": "73cfee02",
   "metadata": {},
   "outputs": [
    {
     "name": "stdout",
     "output_type": "stream",
     "text": [
      "질문: How much music can this hold?\n",
      "답변: 6000 hours\n"
     ]
    }
   ],
   "source": [
    "start_idx = torch.argmax(start_logits)\n",
    "end_idx = torch.argmax(end_logits) + 1\n",
    "answer_span = inputs[\"input_ids\"][0][start_idx:end_idx]\n",
    "answer = tokenizer.decode(answer_span)\n",
    "print(f\"질문: {question}\")\n",
    "print(f\"답변: {answer}\")"
   ]
  },
  {
   "cell_type": "code",
   "execution_count": 17,
   "id": "736b71b6",
   "metadata": {},
   "outputs": [
    {
     "name": "stderr",
     "output_type": "stream",
     "text": [
      "C:\\Users\\knuyh\\anaconda3\\Lib\\site-packages\\transformers\\pipelines\\question_answering.py:326: UserWarning: topk parameter is deprecated, use top_k instead\n",
      "  warnings.warn(\"topk parameter is deprecated, use top_k instead\", UserWarning)\n"
     ]
    },
    {
     "data": {
      "text/plain": [
       "[{'score': 0.26516205072402954,\n",
       "  'start': 38,\n",
       "  'end': 48,\n",
       "  'answer': '6000 hours'},\n",
       " {'score': 0.22082941234111786,\n",
       "  'start': 16,\n",
       "  'end': 48,\n",
       "  'answer': '1 MB/minute, so about 6000 hours'},\n",
       " {'score': 0.10253491997718811,\n",
       "  'start': 16,\n",
       "  'end': 27,\n",
       "  'answer': '1 MB/minute'}]"
      ]
     },
     "execution_count": 17,
     "metadata": {},
     "output_type": "execute_result"
    }
   ],
   "source": [
    "# 토크나이저와 미세 튜닝된 모델 전달해 파이프라인 초기화\n",
    "from transformers import pipeline\n",
    "\n",
    "pipe = pipeline(\"question-answering\", model=model, tokenizer=tokenizer)\n",
    "pipe(question=question, context=context, topk=3)"
   ]
  },
  {
   "cell_type": "markdown",
   "id": "2c038846",
   "metadata": {},
   "source": [
    "answers.answer_start가 비어있는 SubjQA 샘플처럼 답변이 불가한 질문도 있는데, 모델은 이 경우 [CLS] 토큰에 높은 시작 점수와 종료 점수 할당하고, 출력을 빈 문자열로 매핑한다."
   ]
  },
  {
   "cell_type": "code",
   "execution_count": 18,
   "id": "20f8d4ca",
   "metadata": {},
   "outputs": [
    {
     "data": {
      "text/plain": [
       "{'score': 0.9068413972854614, 'start': 0, 'end': 0, 'answer': ''}"
      ]
     },
     "execution_count": 18,
     "metadata": {},
     "output_type": "execute_result"
    }
   ],
   "source": [
    "pipe(question=\"Why is there no data?\", context=context,\n",
    "     handle_impossible_answer=True)"
   ]
  },
  {
   "cell_type": "markdown",
   "id": "0fb7e07d",
   "metadata": {},
   "source": [
    "#### 긴 텍스트 다루기"
   ]
  },
  {
   "cell_type": "code",
   "execution_count": 19,
   "id": "af30611e",
   "metadata": {},
   "outputs": [
    {
     "name": "stderr",
     "output_type": "stream",
     "text": [
      "Truncation was not explicitly activated but `max_length` is provided a specific value, please use `truncation=True` to explicitly truncate examples to max length. Defaulting to 'longest_first' truncation strategy. If you encode pairs of sequences (GLUE-style) with the tokenizer you can select this strategy more precisely by providing a specific strategy to `truncation`.\n"
     ]
    }
   ],
   "source": [
    "example = dfs[\"train\"].iloc[0][[\"question\", \"context\"]]\n",
    "tokenized_example = tokenizer(example[\"question\"], example[\"context\"],\n",
    "                              return_overflowing_tokens=True, max_length=100,\n",
    "                              stride=25)\n",
    "\n",
    "# return_overflowing_tokens : 슬라이딩 윈도 생성 \n",
    "# ; [CLS] 토큰 임베딩에 충분한 정보 담겼다고 생각해 긴 텍스트 자르면, QA 작업에서는 문제"
   ]
  },
  {
   "cell_type": "code",
   "execution_count": 20,
   "id": "0e483d86",
   "metadata": {},
   "outputs": [
    {
     "name": "stdout",
     "output_type": "stream",
     "text": [
      "#0 윈도에는 100개의 토큰이 있습니다.\n",
      "#1 윈도에는 88개의 토큰이 있습니다.\n"
     ]
    }
   ],
   "source": [
    "for idx, window in enumerate(tokenized_example[\"input_ids\"]):\n",
    "    print(f\"#{idx} 윈도에는 {len(window)}개의 토큰이 있습니다.\")"
   ]
  },
  {
   "cell_type": "code",
   "execution_count": 21,
   "id": "9ffb0c95",
   "metadata": {},
   "outputs": [
    {
     "name": "stdout",
     "output_type": "stream",
     "text": [
      "[CLS] how is the bass? [SEP] i have had koss headphones in the past, pro 4aa and qz - 99. the koss portapro is portable and has great bass response. the work great with my android phone and can be \" rolled up \" to be carried in my motorcycle jacket or computer bag without getting crunched. they are very light and do not feel heavy or bear down on your ears even after listening to music with them on all day. the sound is [SEP] \n",
      "\n",
      "[CLS] how is the bass? [SEP] and do not feel heavy or bear down on your ears even after listening to music with them on all day. the sound is night and day better than any ear - bud could be and are almost as good as the pro 4aa. they are \" open air \" headphones so you cannot match the bass to the sealed types, but it comes close. for $ 32, you cannot go wrong. [SEP] \n",
      "\n"
     ]
    }
   ],
   "source": [
    "# 두 윈도가 어디서 겹치는지\n",
    "for window in tokenized_example[\"input_ids\"]:\n",
    "    print(f\"{tokenizer.decode(window)} \\n\")"
   ]
  },
  {
   "cell_type": "markdown",
   "id": "e9639a6f",
   "metadata": {},
   "source": [
    "#### 헤이스택을 사용해 QA 파이프라인 구축하기\n",
    "실제 사용자는 제품에 대한 질문만 제공하여 말뭉치에 있는 전체 리뷰 중 관련된 텍스트를 선택할 방법이 필요하다.  \n",
    "=> 해당 제품의 리뷰를 모두 연결해 하나의 긴 문맥으로 만들어 모델에 주입  \n",
    "-> 하지만, 문맥이 극도로 길어져 사용자 쿼리에 대한 레이턴시를 수용하지 못함  \n",
    "=> **리트리버-리더** 구조 기반으로 문제 처리\n",
    "\n",
    "<br>\n",
    "\n",
    "* 리트리버\n",
    "    * 쿼리에서 관련된 문서 추출\n",
    "    * 희소 or 밀집으로 구분\n",
    "        * 희소 리트리버 : 단어 빈도를 사용해 각 문서와 쿼리를 희소 벡터로 표현, 내적을 계산해 쿼리와 문서의 관련성 결정\n",
    "        * 밀집 리트리버 : 트랜스포머 같은 인코더 사용해 쿼리와 문서를 문맥화된 임베딩으로 표현, 쿼리 내용을 이해해 검색 정확도 향상\n",
    "* 리더\n",
    "    * 리트리버가 제공한 문서에서 답 추출\n",
    "    * 독해 모델이지만, 자유 형식의 답변을 생성하는 모델도 있음 (본 절)"
   ]
  },
  {
   "cell_type": "markdown",
   "id": "a4d012cf",
   "metadata": {},
   "source": [
    "* 문서 저장소 초기화하기\n",
    "    * 쿼리 시점에 리트리버로 제공하는 문서와 메타데이터를 저장하는 문서 전용 DB\n",
    "    * 희소 리트리버 : TF-IDF\n",
    "    * 밀집 리트리버 : Embedding, DPR\n",
    "    * 양쪽 리트리버에 모두 호환되는 문서 저장소 : ElasticsearchDocumentStore"
   ]
  },
  {
   "cell_type": "code",
   "execution_count": null,
   "id": "d76a58b8",
   "metadata": {},
   "outputs": [],
   "source": [
    "from haystack.document_stores.elasticsearch import ElasticsearchDocumentStore\n",
    "\n",
    "# 밀집 리트리버에서 사용할 문서 임베딩 반환\n",
    "document_store = ElasticsearchDocumentStore(return_embedding = True)"
   ]
  },
  {
   "cell_type": "markdown",
   "id": "e7953138",
   "metadata": {},
   "source": [
    "meta에 있는 필드를 사용해 검색 과정에서 필터 적용"
   ]
  },
  {
   "cell_type": "code",
   "execution_count": null,
   "id": "645f1a2e",
   "metadata": {},
   "outputs": [],
   "source": [
    "# 노트북을 다시 시작할 때 일래스틱서치 저장소를 모두 비우는 것이 좋음\n",
    "if len(document_store.get_all_documents()) or len(document_store.get_all_labels()) > 0:\n",
    "    document_store.delete_documents(\"document\")\n",
    "    document_store.delete_documents(\"label\")"
   ]
  },
  {
   "cell_type": "code",
   "execution_count": null,
   "id": "2fe48aa1",
   "metadata": {},
   "outputs": [],
   "source": [
    "# 모든 리뷰 인덱스에 저장\n",
    "for split, df in dfs.items():\n",
    "    # 중복 리뷰 제외\n",
    "    docs = [{\"content\": row[\"context\"], \"id\": row[\"review_id\"],\n",
    "             \"meta\":{\"item_id\": row[\"title\"], \"question_id\": row[\"id\"], \n",
    "                     \"split\": split}} \n",
    "        for _,row in df.drop_duplicates(subset=\"context\").iterrows()]\n",
    "    document_store.write_documents(documents=docs, index=\"document\")\n",
    "    \n",
    "print(f\"{document_store.get_document_count()}개 문서가 저장되었습니다\")"
   ]
  },
  {
   "cell_type": "markdown",
   "id": "22b9a678",
   "metadata": {},
   "source": [
    "* 리트리버 초기화하기\n",
    "    * 인덱스를 검색하기 위해 리트리버 필요"
   ]
  },
  {
   "cell_type": "code",
   "execution_count": 23,
   "id": "c4844a7a",
   "metadata": {},
   "outputs": [],
   "source": [
    "# 희소 리트리버 : TF-IDF\n",
    "from haystack.nodes.retriever import BM25Retriever # ElasticsearchRetriever\n",
    "\n",
    "bm25_retriever = BM25Retriever(document_store=document_store)"
   ]
  },
  {
   "cell_type": "code",
   "execution_count": null,
   "id": "15b5eea9",
   "metadata": {},
   "outputs": [],
   "source": [
    "# 이 제품이 독서에 유용한지\n",
    "item_id = \"B0074BW614\"\n",
    "query = \"Is it good for reading?\"\n",
    "retrieved_docs = bm25_retriever.retrieve(\n",
    "    query=query, top_k=3, filters={\"item_id\":[item_id], \"split\":[\"train\"]})\n",
    "# 각 원소는 문서를 나타내는 데 사용하는 헤이스택의 document 객체이고, 리트리버의 쿼리 점수와 그 외 메타데이터 포함"
   ]
  },
  {
   "cell_type": "code",
   "execution_count": null,
   "id": "c360aed4",
   "metadata": {},
   "outputs": [],
   "source": [
    "print(retrieved_docs[0])"
   ]
  },
  {
   "cell_type": "markdown",
   "id": "b263aaef",
   "metadata": {},
   "source": [
    "* 리더 초기화하기\n",
    "    * 문서에서 답 추출\n",
    "    * FASMReader\n",
    "        * 트랜스포머 미세튜닝하고 배포되는 딥셋의 FARM 프레임워크 기반\n",
    "    * TransformersReader\n",
    "        * 트랜스포머 QA 파이프라인 기반, 추론만 실행\n",
    "        * 각 구절의 시작 로짓과 종료 로짓을 softmax로 정규화\n",
    "        * 같은 답을 다른 점수로 두 번 예측 -> FARM에서는 이런 중복 제거"
   ]
  },
  {
   "cell_type": "code",
   "execution_count": null,
   "id": "bdcbb726",
   "metadata": {},
   "outputs": [],
   "source": [
    "from haystack.reader.farm import FARMReader\n",
    "\n",
    "model_ckpt = \"deepset/minilm-uncased-squad2\"\n",
    "max_seq_length, doc_stride = 384, 128\n",
    "reader = FARMReader(model_name_or_path=model_ckpt, progress_bar=False,\n",
    "                    max_seq_len=max_seq_length, doc_stride=doc_stride, \n",
    "                    return_no_answer=True)"
   ]
  },
  {
   "cell_type": "code",
   "execution_count": null,
   "id": "f16408ad",
   "metadata": {},
   "outputs": [],
   "source": [
    "print(reader.predict_on_texts(question=question, texts=[context], top_k=1))"
   ]
  },
  {
   "cell_type": "markdown",
   "id": "f86fcc1c",
   "metadata": {},
   "source": [
    "* 모두 합치기"
   ]
  },
  {
   "cell_type": "code",
   "execution_count": null,
   "id": "aa91d101",
   "metadata": {},
   "outputs": [],
   "source": [
    "from haystack.pipeline import ExtractiveQAPipeline\n",
    "\n",
    "pipe = ExtractiveQAPipeline(reader=reader, retriever=bm25_retriever)"
   ]
  },
  {
   "cell_type": "code",
   "execution_count": null,
   "id": "8df58c5e",
   "metadata": {},
   "outputs": [],
   "source": [
    "n_answers = 3\n",
    "preds = pipe.run(query=query, \n",
    "                 params={\"Retriever\": {\"top_k\": 3, \"filters\": {\"item_id\": [item_id], \"split\": [\"train\"]}}, \n",
    "                                      \"Reader\": {\"top_k\": n_answers}})\n",
    "\n",
    "print(f\"질문: {preds['query']} \\n\")\n",
    "for idx in range(n_answers):\n",
    "    print(f\"답변 {idx+1}: {preds['answers'][idx].answer}\")\n",
    "    print(f\"해당 리뷰 텍스트: ...{preds['answers'][idx].context}...\")\n",
    "    print(\"\\n\\n\")"
   ]
  },
  {
   "cell_type": "markdown",
   "id": "63f231db",
   "metadata": {},
   "source": [
    "### QA 파이프라인 개선하기\n",
    "* 리트리버가 관련된 문서를 찾지 못한다면, 리더의 성능이 얼마나 좋은지는 중요하지 않음\n",
    "* 특히 리트리버는 전체 QA 시스템 성능의 상한선을 설정하므로 리트리버의 성능을 높이는 것이 중요\n",
    "#### 리트리버 평가하기\n",
    "* 재현율 -> mAP ; 문서 순위에서 정답율 높은 위치에 놓은 리트리버에 보상 제공\n",
    "* eval() : 오픈 도메인과 클로즈드 도메인 QA에 모두 사용 가능, 하지만 각 문서가 하나의 제품과 쌍을 이루어 모든 쿼리에서 제품 ID 필터링해야 하는 SubjQA 같은 데이터셋에서는 사용 X\n",
    "* EvalDocuments 클래스와 리트리버 결합하는 사용자 정의 pipeline 생성"
   ]
  },
  {
   "cell_type": "code",
   "execution_count": null,
   "id": "01c2e102",
   "metadata": {},
   "outputs": [],
   "source": [
    "from haystack.pipelines import DocumentSearchPipeline\n",
    "\n",
    "pipe = DocumentSearchPipeline(retriever=bm25_retriever)"
   ]
  },
  {
   "cell_type": "code",
   "execution_count": null,
   "id": "6447abdc",
   "metadata": {},
   "outputs": [],
   "source": [
    "from haystack import Label, Answer, Document\n",
    "\n",
    "labels = []\n",
    "for i, row in dfs[\"test\"].iterrows():\n",
    "    # 리트리버에서 필터링을 위해 사용하는 메타데이터\n",
    "    meta = {\"item_id\": row[\"title\"], \"question_id\": row[\"id\"]}\n",
    "    # 답이 있는 질문을 레이블에 추가\n",
    "    if len(row[\"answers.text\"]):\n",
    "        for answer in row[\"answers.text\"]:\n",
    "            label = Label(\n",
    "                query=row[\"question\"], answer=Answer(answer=answer), origin=\"gold-label\", document=Document(content=row[\"context\"], id=row[\"review_id\"]),\n",
    "                meta=meta, is_correct_answer=True, is_correct_document=True,\n",
    "                no_answer=False, filters={\"item_id\": [meta[\"item_id\"]], \"split\":[\"test\"]})\n",
    "            labels.append(label)\n",
    "    # 답이 없는 질문을 레이블에 추가\n",
    "    else:\n",
    "        label = Label(\n",
    "            query=row[\"question\"], answer=Answer(answer=\"\"), origin=\"gold-label\", document=Document(content=row[\"context\"], id=row[\"review_id\"]),\n",
    "            meta=meta, is_correct_answer=True, is_correct_document=True,\n",
    "            no_answer=True, filters={\"item_id\": [row[\"title\"]], \"split\":[\"test\"]})\n",
    "        labels.append(label)"
   ]
  },
  {
   "cell_type": "code",
   "execution_count": null,
   "id": "38e0046c",
   "metadata": {},
   "outputs": [],
   "source": [
    "print(labels[0])\n",
    "# origin : 질문 답변 쌍과 쿼리마다 문서 저장소 필터링할 수 있는 고유한 질문 ID 담김"
   ]
  },
  {
   "cell_type": "code",
   "execution_count": null,
   "id": "1467cd72",
   "metadata": {},
   "outputs": [],
   "source": [
    "document_store.write_labels(labels, index=\"label\")\n",
    "print(f\"\"\"{document_store.get_label_count(index=\"label\")}개의 \\\n",
    "질문 답변 쌍을 로드했습니다.\"\"\")"
   ]
  },
  {
   "cell_type": "code",
   "execution_count": null,
   "id": "9e37331b",
   "metadata": {},
   "outputs": [],
   "source": [
    "# 파이프라인에 전달하기 위해 질문 ID와 상응하는 답변 매핑\n",
    "# 고유 ID를 가진 모든 질문-답변 쌍 가져옴\n",
    "labels_agg = document_store.get_all_labels_aggregated(\n",
    "    index=\"label\",\n",
    "    open_domain=True,\n",
    "    aggregate_by_meta=[\"item_id\"]\n",
    ")\n",
    "print(len(labels_agg))"
   ]
  },
  {
   "cell_type": "code",
   "execution_count": null,
   "id": "ae0846af",
   "metadata": {},
   "outputs": [],
   "source": [
    "eval_result = pipe.eval(\n",
    "    labels=labels_agg,\n",
    "    params={\"Retriever\": {\"top_k\": 3}},\n",
    ")\n",
    "metrics = eval_result.calculate_metrics()"
   ]
  },
  {
   "cell_type": "code",
   "execution_count": null,
   "id": "b9362216",
   "metadata": {},
   "outputs": [],
   "source": [
    "print(f\"재현율@3: {metrics['Retriever']['recall_single_hit']:.2f}\")"
   ]
  },
  {
   "cell_type": "code",
   "execution_count": null,
   "id": "1e9ed11f",
   "metadata": {},
   "outputs": [],
   "source": [
    "eval_df = eval_result[\"Retriever\"]\n",
    "eval_df[eval_df[\"query\"] == \"How do you like the lens?\"][[\"query\", \"filters\", \"rank\", \"document_id\", \"gold_document_ids\", \"gold_id_match\"]]"
   ]
  },
  {
   "cell_type": "code",
   "execution_count": null,
   "id": "2726c508",
   "metadata": {},
   "outputs": [],
   "source": [
    "def evaluate_retriever(retriever, topk_values = [1,3,5,10,20]):\n",
    "    topk_results = {}\n",
    "    # 최대 top_k 계산\n",
    "    max_top_k = max(topk_values)\n",
    "    # 파이프라인 생성\n",
    "    p = DocumentSearchPipeline(retriever=retriever)\n",
    "    # 테스트 세트에 있는 질문-답변 쌍을 순회하며 최대 top_k로 추론 실행\n",
    "    eval_result = p.eval(\n",
    "        labels=labels_agg,\n",
    "        params={\"Retriever\": {\"top_k\": max_top_k}},\n",
    "    )\n",
    "    # 각 top_k 값에 대해 재현율 계산\n",
    "    for topk in topk_values:\n",
    "        metrics = eval_result.calculate_metrics(simulated_top_k_retriever=topk)\n",
    "        topk_results[topk] = {\"recall\": metrics[\"Retriever\"][\"recall_single_hit\"]}\n",
    "        \n",
    "    return pd.DataFrame.from_dict(topk_results, orient=\"index\")\n",
    "\n",
    "\n",
    "bm25_topk_df = evaluate_retriever(bm25_retriever)"
   ]
  },
  {
   "cell_type": "code",
   "execution_count": null,
   "id": "2929e13a",
   "metadata": {},
   "outputs": [],
   "source": [
    "def plot_retriever_eval(dfs, retriever_names):\n",
    "    fig, ax = plt.subplots()\n",
    "    for df, retriever_name in zip(dfs, retriever_names):\n",
    "        df.plot(y=\"recall\", ax=ax, label=retriever_name)\n",
    "    plt.xticks(df.index)\n",
    "    plt.ylabel(\"Top-k Recall\")\n",
    "    plt.xlabel(\"k\")\n",
    "    plt.show()\n",
    "    \n",
    "plot_retriever_eval([bm25_topk_df], [\"BM25\"])"
   ]
  },
  {
   "attachments": {
    "image.png": {
     "image/png": "[encoded data removed]"
    }
   },
   "cell_type": "markdown",
   "id": "d99ff08b",
   "metadata": {},
   "source": [
    "![image.png](attachment:image.png)\n",
    "\n",
    "k=5에서 변곡점 있고, k=10부터 거의 완벽한 재현율 달성\n",
    "\n",
    "* DPR\n",
    "    * 밀집 리트리버\n",
    "    * 희소 리트리버 : 사용자 쿼리의 단어가 리뷰에 들어있지 않으면 연관된 문서 검색하지 못하는 단점 -> DPR로 해결\n",
    "    * 두 개의 BERT 모델 사용해 질문과 구절을 인코딩하는 개념"
   ]
  },
  {
   "cell_type": "code",
   "execution_count": null,
   "id": "2e072772",
   "metadata": {},
   "outputs": [],
   "source": [
    "from haystack.retriever.dense import DensePassageRetriever\n",
    "\n",
    "dpr_retriever = DensePassageRetriever(document_store=document_store,\n",
    "    query_embedding_model=\"facebook/dpr-question_encoder-single-nq-base\",\n",
    "    passage_embedding_model=\"facebook/dpr-ctx_encoder-single-nq-base\",\n",
    "    embed_title=False) # 제품으로 필터링하므로 문서 제목을 연결해 추가 정보 얻지 못하게 False"
   ]
  },
  {
   "cell_type": "code",
   "execution_count": null,
   "id": "ddf8f8ce",
   "metadata": {},
   "outputs": [],
   "source": [
    "document_store.update_embeddings(retriever=dpr_retriever)"
   ]
  },
  {
   "cell_type": "code",
   "execution_count": null,
   "id": "d76a0542",
   "metadata": {},
   "outputs": [],
   "source": [
    "dpr_topk_df = evaluate_retriever(dpr_retriever)\n",
    "plot_retriever_eval([bm25_topk_df, dpr_topk_df], [\"BM25\", \"DPR\"])"
   ]
  },
  {
   "attachments": {
    "image.png": {
     "image/png": "[encoded data removed]"
    }
   },
   "cell_type": "markdown",
   "id": "45f95910",
   "metadata": {},
   "source": [
    "![image.png](attachment:image.png)\n",
    "\n",
    "DPR은 재현율이 BM25보다 높지 않으며 k=3 에서 같아짐\n",
    "\n",
    "#### 리더 평가하기\n",
    "* EM -> 엄격\n",
    "    * 예측 = 정답에 있는 문자 : EM=1\n",
    "    * otherwise EM=0\n",
    "    * 이진\n",
    "* F1-score -> 유함\n",
    "    * 정밀도와 재현율의 조화 평균"
   ]
  },
  {
   "cell_type": "code",
   "execution_count": null,
   "id": "6bd97167",
   "metadata": {},
   "outputs": [],
   "source": [
    "from haystack.modeling.evaluation.squad import compute_f1, compute_exact\n",
    "\n",
    "pred = \"about 6000 hours\"\n",
    "label = \"6000 hours\"\n",
    "print(f\"EM: {compute_exact(label, pred)}\")\n",
    "print(f\"F1: {compute_f1(label, pred)}\")"
   ]
  },
  {
   "cell_type": "code",
   "execution_count": null,
   "id": "29ee94f8",
   "metadata": {},
   "outputs": [],
   "source": [
    "pred = \"about 6000 dollars\"\n",
    "print(f\"EM: {compute_exact(label, pred)}\")\n",
    "print(f\"F1: {compute_f1(label, pred)}\")"
   ]
  },
  {
   "cell_type": "markdown",
   "id": "264d381f",
   "metadata": {},
   "source": [
    "F1 score에만 의존하면 결과 왜곡될 가능성  \n",
    "따라서 두 지표 모두 참고해 모델 성능의 과소평가(EM)와 과대평가(F1 score) 사이 균형 잡아야"
   ]
  },
  {
   "cell_type": "code",
   "execution_count": null,
   "id": "51fce008",
   "metadata": {},
   "outputs": [],
   "source": [
    "from haystack.pipelines import Pipeline\n",
    "def evaluate_reader(reader):\n",
    "    score_keys = ['exact_match', 'f1']\n",
    "    p = Pipeline()\n",
    "    p.add_node(component=reader, name=\"Reader\", inputs=[\"Query\"])\n",
    "\n",
    "    eval_result = p.eval(\n",
    "        labels=labels_agg,\n",
    "        documents= [[label.document for label in multilabel.labels] for multilabel in labels_agg],\n",
    "        params={},\n",
    "    )\n",
    "    metrics = eval_result.calculate_metrics(simulated_top_k_reader=1)\n",
    "                \n",
    "    return {k:v for k,v in metrics[\"Reader\"].items() if k in score_keys}\n",
    "\n",
    "reader_eval = {}\n",
    "reader_eval[\"Fine-tune on SQuAD\"] = evaluate_reader(reader)"
   ]
  },
  {
   "cell_type": "code",
   "execution_count": null,
   "id": "2adebe46",
   "metadata": {},
   "outputs": [],
   "source": [
    "def plot_reader_eval(reader_eval):\n",
    "    fig, ax = plt.subplots()\n",
    "    df = pd.DataFrame.from_dict(reader_eval)\n",
    "    df.plot(kind=\"bar\", ylabel=\"Score\", rot=0, ax=ax)\n",
    "    ax.set_xticklabels([\"EM\", \"F1\"])\n",
    "    plt.legend(loc='upper left')\n",
    "    plt.show()\n",
    "\n",
    "plot_reader_eval(reader_eval)"
   ]
  },
  {
   "attachments": {
    "image.png": {
     "image/png": "[encoded data removed]"
    }
   },
   "cell_type": "markdown",
   "id": "97f4e6b5",
   "metadata": {},
   "source": [
    "![image.png](attachment:image.png)\n",
    "\n",
    "MiniLM이 SQuAD(EM 점수 76.1, F1 score 79.5) 보다 SubjQA에서 모델 성능이 떨어진다.  \n",
    "   * 고객 리뷰가 SQuAD 데이터셋을 만드는 데 사용한 위키피디아 항목 본문과 크게 다르고 리뷰가 자유로운 형식이기에\n",
    "   * 위키피디아에 있는 사실 정보와 달리, 데이터셋 질문과 답에는 주관성 내재\n",
    "   \n",
    "#### 도메인 적응\n",
    "* SQuAD 에서 미세 튜닝한 모델은 다른 도메인에 잘 일반화되지만, SubjQA에서 모델의 EM과 F1 score는 SQuAD보다 훨씬 나쁘다. -> 과대적합\n",
    "* 리더의 성능을 향상하는 방법은 MiniLM 모델을 SubjQA 훈련셋에서 미세 튜닝"
   ]
  },
  {
   "cell_type": "code",
   "execution_count": null,
   "id": "4beb41c9",
   "metadata": {},
   "outputs": [],
   "source": [
    "# 각 제품 ID에 연관된 paragraphs 배열 생성\n",
    "# 이 배열의 원소는 하나의 문맥(리뷰)과 질문-답 쌍의 배열인 qas 담음\n",
    "def create_paragraphs(df):\n",
    "    paragraphs = []\n",
    "    id2context = dict(zip(df[\"review_id\"], df[\"context\"]))\n",
    "    for review_id, review in id2context.items():\n",
    "        qas = []\n",
    "        # 특정 문맥으로 전체 질문-답 쌍 필터링\n",
    "        review_df = df.query(f\"review_id == '{review_id}'\")\n",
    "        id2question = dict(zip(review_df[\"id\"], review_df[\"question\"]))\n",
    "        # qas 배열 생성\n",
    "        for qid, question in id2question.items():\n",
    "            # 하나의 질문 ID에 대해 필터링\n",
    "            question_df = df.query(f\"id == '{qid}'\").to_dict(orient=\"list\")\n",
    "            ans_start_idxs = question_df[\"answers.answer_start\"][0].tolist()\n",
    "            ans_text = question_df[\"answers.text\"][0].tolist()\n",
    "            # 답변 가능한 질문 추가\n",
    "            if len(ans_start_idxs):\n",
    "                answers = [\n",
    "                    {\"text\": text, \"answer_start\": answer_start}\n",
    "                    for text, answer_start in zip(ans_text, ans_start_idxs)]\n",
    "                is_impossible = False\n",
    "            else:\n",
    "                answers = []\n",
    "                is_impossible = True\n",
    "            # 질문-답 쌍을 qas에 추가\n",
    "            qas.append({\"question\": question, \"id\": qid, \n",
    "                        \"is_impossible\": is_impossible, \"answers\": answers})\n",
    "        # 문맥과 질문-답 쌍을 paragraphs에 추가\n",
    "        paragraphs.append({\"qas\": qas, \"context\": review})\n",
    "    return paragraphs"
   ]
  },
  {
   "cell_type": "code",
   "execution_count": null,
   "id": "c6acc0fc",
   "metadata": {},
   "outputs": [],
   "source": [
    "# SQuAD 포맷 생성\n",
    "product = dfs[\"train\"].query(\"title == 'B00001P4ZH'\")\n",
    "create_paragraphs(product)"
   ]
  },
  {
   "cell_type": "code",
   "execution_count": null,
   "id": "5633580e",
   "metadata": {},
   "outputs": [],
   "source": [
    "# 모든 제품 ID에 적용하고, json파일로 저장\n",
    "import json\n",
    "\n",
    "def convert_to_squad(dfs):\n",
    "    for split, df in dfs.items():\n",
    "        subjqa_data = {}\n",
    "        # 각 제품 ID에 대해 `paragraphs` 생성\n",
    "        groups = (df.groupby(\"title\").apply(create_paragraphs)\n",
    "            .to_frame(name=\"paragraphs\").reset_index())\n",
    "        subjqa_data[\"data\"] = groups.to_dict(orient=\"records\")\n",
    "        # 결과를 디스크에 저장\n",
    "        with open(f\"electronics-{split}.json\", \"w+\", encoding=\"utf-8\") as f:\n",
    "            json.dump(subjqa_data, f)\n",
    "            \n",
    "convert_to_squad(dfs)"
   ]
  },
  {
   "cell_type": "code",
   "execution_count": null,
   "id": "dea6b786",
   "metadata": {},
   "outputs": [],
   "source": [
    "# 리더 미세튜닝\n",
    "train_filename = \"electronics-train.json\"\n",
    "dev_filename = \"electronics-validation.json\"\n",
    "\n",
    "reader.train(data_dir=\".\", use_gpu=True, n_epochs=1, batch_size=16,\n",
    "             train_filename=train_filename, dev_filename=dev_filename)"
   ]
  },
  {
   "cell_type": "code",
   "execution_count": null,
   "id": "cc008c4a",
   "metadata": {},
   "outputs": [],
   "source": [
    "reader_eval[\"Fine-tune on SQuAD + SubjQA\"] = evaluate_reader(reader)\n",
    "plot_reader_eval(reader_eval)"
   ]
  },
  {
   "attachments": {
    "image.png": {
     "image/png": "[encoded data removed]"
    }
   },
   "cell_type": "markdown",
   "id": "fea0c668",
   "metadata": {},
   "source": [
    "![image.png](attachment:image.png)\n",
    "\n",
    "도메인 적응을 수행하니 두 점수 모두 향상  \n",
    "사전 훈련된 언어 모델을 바로 SubjQA 훈련셋에 미세 튜닝하지 않는 이유 :   \n",
    "SubjQA 훈련 샘플이 적고(1295), SQuAD에는 샘플이 많다.(100000개 이상) -> 과대적합 위험 발생"
   ]
  },
  {
   "cell_type": "code",
   "execution_count": null,
   "id": "0a73e93d",
   "metadata": {},
   "outputs": [],
   "source": [
    "minilm_ckpt = \"microsoft/MiniLM-L12-H384-uncased\"\n",
    "minilm_reader = FARMReader(model_name_or_path=minilm_ckpt, progress_bar=False,\n",
    "                           max_seq_len=max_seq_length, doc_stride=doc_stride,\n",
    "                           return_no_answer=True)"
   ]
  },
  {
   "cell_type": "code",
   "execution_count": null,
   "id": "3d51a4ad",
   "metadata": {},
   "outputs": [],
   "source": [
    "minilm_reader.train(data_dir=\".\", use_gpu=True, n_epochs=1, batch_size=16,\n",
    "             train_filename=train_filename, dev_filename=dev_filename)"
   ]
  },
  {
   "cell_type": "code",
   "execution_count": null,
   "id": "eafc9872",
   "metadata": {},
   "outputs": [],
   "source": [
    "# 테스트셋에서 평가\n",
    "reader_eval[\"Fine-tune on SubjQA\"] = evaluate_reader(minilm_reader)\n",
    "plot_reader_eval(reader_eval)"
   ]
  },
  {
   "attachments": {
    "image.png": {
     "image/png": "[encoded data removed]"
    }
   },
   "cell_type": "markdown",
   "id": "ed7e3f10",
   "metadata": {},
   "source": [
    "![image.png](attachment:image.png)\n",
    "\n",
    "SubjQA에서 바로 미세 튜닝한 언어모델 < SQuAD와 SubjQA에서 미세 튜닝한 모델\n",
    "\n",
    "\n",
    "#### 전체 QA 파이프라인 평가하기"
   ]
  },
  {
   "cell_type": "code",
   "execution_count": null,
   "id": "0459ad00",
   "metadata": {},
   "outputs": [],
   "source": [
    "from haystack.pipelines import ExtractiveQAPipeline\n",
    "pipe = ExtractiveQAPipeline(retriever=bm25_retriever, reader=reader)\n",
    "\n",
    "# 평가하기\n",
    "eval_result = pipe.eval(\n",
    "    labels=labels_agg,\n",
    "    params={},\n",
    ")\n",
    "metrics = eval_result.calculate_metrics(simulated_top_k_reader=1)\n",
    "# 리더에서 지표 추출\n",
    "reader_eval[\"QA Pipeline (top-1)\"] = {\n",
    "    k:v for k,v in metrics[\"Reader\"].items()\n",
    "    if k in [\"exact_match\", \"f1\"]}"
   ]
  },
  {
   "cell_type": "code",
   "execution_count": null,
   "id": "cc19ffdd",
   "metadata": {},
   "outputs": [],
   "source": [
    "# 리더와 전체 QA 파이프라인의 EM과 F1-점수 비교\n",
    "plot_reader_eval({\"Reader\": reader_eval[\"Fine-tune on SQuAD + SubjQA\"], \n",
    "                  \"QA pipeline (top-1)\": reader_eval[\"QA Pipeline (top-1)\"]})"
   ]
  },
  {
   "attachments": {
    "image.png": {
     "image/png": "[encoded data removed]"
    }
   },
   "cell_type": "markdown",
   "id": "42f27abc",
   "metadata": {},
   "source": [
    "![image.png](attachment:image.png)\n",
    "\n",
    "리트리버가 반환한 문서에서 정답을 예측하는 모델의 탑-1 EM과 탑-1 F1 score 점수 비교  \n",
    "SQuAD 스타일의 평가에서와 같이 질문-문맥 쌍을 매칭하는 것에 비해 전체적으로 감소  \n",
    "리더가 예측하는 답변의 개수 증가시켜 피할 수 있음\n",
    "\n",
    "\n",
    "### 추출적 QA를 넘어서\n",
    "* 문서에서 텍스트 범위로 답을 추출하는 것의 대안은 사전 훈련된 언어 모델로 답을 생성하는 **생성적 QA**\n",
    "* RAG\n",
    "    * 고전적인 리트리버-리더 구조 확장\n",
    "    * 리더를 generator로 바꾸고 리트리버로 DPR 사용\n",
    "    * generator는 T5나 BART 같은 사전 훈련된 시퀀스 - 투 - 시퀀스 트랜스포머\n",
    "    * DPR로부터 문서의 잠재 벡터를 받고 쿼리와 문서를 기반으로 답변 반복적으로 생성\n",
    "    * DPR과 generator가 미분 가능해 전체 과정을 엔드-투-엔드로 미세 튜닝 가능\n",
    "    \n",
    "    <br>\n",
    "    \n",
    "    * RAG-시퀀스 ; 하나의 추출 문서 사용해 완전한 답 생성\n",
    "        * 특히 리트리버가 반환한 탑-k개 문서를 generator에 주입해 각 문서에서 출력 시퀀스 만들고 결과 합쳐 최선의 답 얻음\n",
    "    * RAG-토큰 ; 여러 문서를 사용해 답에 있는 각 토큰 생성, generator가 여러 문서에서 단서를 찾아 합성\n",
    "    * RAG-토큰 모델이 더 성능이 좋다."
   ]
  },
  {
   "cell_type": "code",
   "execution_count": null,
   "id": "5fade9fe",
   "metadata": {},
   "outputs": [],
   "source": [
    "from haystack.generator.transformers import RAGenerator\n",
    "\n",
    "generator = RAGenerator(model_name_or_path=\"facebook/rag-token-nq\",\n",
    "                        embed_title=False, num_beams=5)"
   ]
  },
  {
   "cell_type": "code",
   "execution_count": null,
   "id": "05d3e358",
   "metadata": {},
   "outputs": [],
   "source": [
    "# 리트리버와 generator 연결\n",
    "from haystack.pipeline import GenerativeQAPipeline\n",
    "\n",
    "pipe = GenerativeQAPipeline(generator=generator, retriever=dpr_retriever)"
   ]
  },
  {
   "cell_type": "code",
   "execution_count": null,
   "id": "f21c6bd3",
   "metadata": {},
   "outputs": [],
   "source": [
    "# 쿼리 주입해 RAG 실행\n",
    "def generate_answers(query, top_k_generator=3): \n",
    "    preds = pipe.run(query=query, \n",
    "                     params={\"Retriever\": {\"top_k\":5, \n",
    "                                  \"filters\":{\"item_id\": [\"B0074BW614\"]}},\n",
    "                             \"Generator\": {\"top_k\": top_k_generator}})  \n",
    "    print(f\"질문: {preds['query']} \\n\")\n",
    "    for idx in range(top_k_generator):\n",
    "        # print(f\"답변 {idx+1}: {preds['answers'][idx]['answer']}\")\n",
    "        print(f\"답변 {idx+1}: {preds['answers'][idx].answer}\")"
   ]
  },
  {
   "cell_type": "code",
   "execution_count": null,
   "id": "7d0c8599",
   "metadata": {},
   "outputs": [],
   "source": [
    "generate_answers(query)"
   ]
  },
  {
   "attachments": {
    "image.png": {
     "image/png": "[encoded data removed]"
    }
   },
   "cell_type": "markdown",
   "id": "42f0cdcd",
   "metadata": {},
   "source": [
    "![image.png](attachment:image.png)\n",
    "\n",
    "주관적인 특징이 generator 혼동 시킴"
   ]
  },
  {
   "cell_type": "code",
   "execution_count": null,
   "id": "b1489251",
   "metadata": {},
   "outputs": [],
   "source": [
    "generate_answers(\"What is the main drawback?\")"
   ]
  },
  {
   "attachments": {
    "image.png": {
     "image/png": "[encoded data removed]"
    }
   },
   "cell_type": "markdown",
   "id": "ba9d8d30",
   "metadata": {},
   "source": [
    "![image.png](attachment:image.png)\n",
    "\n",
    "사실적인 질문에서 훨씬 좋다.  \n",
    "\n",
    "<br>\n",
    "\n",
    "SubjQA에서 엔드-투-엔드로 RAG 미세 튜닝하면 더 좋은 결과 얻는다."
   ]
  },
  {
   "cell_type": "code",
   "execution_count": null,
   "id": "468e1742",
   "metadata": {},
   "outputs": [],
   "source": []
  }
 ],
 "metadata": {
  "kernelspec": {
   "display_name": "Python 3 (ipykernel)",
   "language": "python",
   "name": "python3"
  },
  "language_info": {
   "codemirror_mode": {
    "name": "ipython",
    "version": 3
   },
   "file_extension": ".py",
   "mimetype": "text/x-python",
   "name": "python",
   "nbconvert_exporter": "python",
   "pygments_lexer": "ipython3",
   "version": "3.11.4"
  }
 },
 "nbformat": 4,
 "nbformat_minor": 5
}
