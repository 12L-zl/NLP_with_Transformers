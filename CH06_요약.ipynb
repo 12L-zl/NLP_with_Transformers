{
 "cells": [
  {
   "cell_type": "markdown",
   "id": "c5b38991",
   "metadata": {},
   "source": [
    "### CNN/DailyMail 데이터셋"
   ]
  },
  {
   "cell_type": "code",
   "execution_count": 1,
   "id": "60e78baa",
   "metadata": {},
   "outputs": [
    {
     "name": "stderr",
     "output_type": "stream",
     "text": [
      "C:\\Users\\knuyh\\anaconda3\\Lib\\site-packages\\pandas\\core\\arrays\\masked.py:60: UserWarning: Pandas requires version '1.3.6' or newer of 'bottleneck' (version '1.3.5' currently installed).\n",
      "  from pandas.core import (\n"
     ]
    },
    {
     "name": "stdout",
     "output_type": "stream",
     "text": [
      "특성: ['article', 'highlights', 'id']\n"
     ]
    }
   ],
   "source": [
    "from datasets import load_dataset\n",
    "\n",
    "dataset = load_dataset(\"ccdv/cnn_dailymail\", version=\"3.0.0\")\n",
    "print(f\"특성: {dataset['train'].column_names}\")"
   ]
  },
  {
   "cell_type": "code",
   "execution_count": 2,
   "id": "4b33539f",
   "metadata": {},
   "outputs": [
    {
     "name": "stdout",
     "output_type": "stream",
     "text": [
      "기사 (500개 문자 발췌, 총 길이: 6195):\n",
      "Kansas City, Missouri (CNN) -- The General Services Administration, already under investigation for lavish spending, allowed an employee to telecommute from Hawaii even though he is based at the GSA's Kansas City, Missouri, office, a CNN investigation has found. It cost more than $24,000 for the business development specialist to travel to and from the mainland United States over the past year. He is among several hundred GSA \"virtual\" workers who also travel to various conferences and their hom\n",
      "\n",
      "요약 (길이: 240):\n",
      "The employee in agency's Kansas City office is among hundreds of \"virtual\" workers .\n",
      "The employee's travel to and from the mainland U.S. last year cost more than $24,000 .\n",
      "The telecommuting program, like all GSA practices, is under review .\n"
     ]
    }
   ],
   "source": [
    "sample = dataset[\"train\"][1]\n",
    "print(f\"\"\"기사 (500개 문자 발췌, 총 길이: {len(sample[\"article\"])}):\"\"\")\n",
    "print(sample[\"article\"][:500])\n",
    "print(f'\\n요약 (길이: {len(sample[\"highlights\"])}):')\n",
    "print(sample[\"highlights\"])"
   ]
  },
  {
   "cell_type": "markdown",
   "id": "19ba7ce1",
   "metadata": {},
   "source": [
    "긴 기사는 트랜스포머 모델에 문제를 일으켜, 이를 처리하는 표준적이면서 가장 단순한 방법은 모델의 문맥 크기에 맞춰 텍스트를 자르는 것\n",
    "\n",
    "### 텍스트 요약 파이프라인"
   ]
  },
  {
   "cell_type": "code",
   "execution_count": 3,
   "id": "c5ffd05e",
   "metadata": {},
   "outputs": [],
   "source": [
    "sample_text = dataset[\"train\"][1][\"article\"][:2000]  # 입력 텍스트 2000자로 제한\n",
    "# 딕셔너리에 각 모델이 생성한 요약 저장\n",
    "summaries = {}"
   ]
  },
  {
   "cell_type": "code",
   "execution_count": 4,
   "id": "93ca0533",
   "metadata": {},
   "outputs": [
    {
     "name": "stderr",
     "output_type": "stream",
     "text": [
      "[nltk_data] Downloading package punkt to\n",
      "[nltk_data]     C:\\Users\\knuyh\\AppData\\Roaming\\nltk_data...\n",
      "[nltk_data]   Package punkt is already up-to-date!\n"
     ]
    },
    {
     "data": {
      "text/plain": [
       "True"
      ]
     },
     "execution_count": 4,
     "metadata": {},
     "output_type": "execute_result"
    }
   ],
   "source": [
    "# 요약 문장은 줄바꿈으로 나눔\n",
    "import nltk\n",
    "from nltk.tokenize import sent_tokenize\n",
    "\n",
    "nltk.download(\"punkt\")"
   ]
  },
  {
   "cell_type": "code",
   "execution_count": 5,
   "id": "1a204008",
   "metadata": {},
   "outputs": [
    {
     "data": {
      "text/plain": [
       "['The U.S. are a country.', 'The U.N. is an organization.']"
      ]
     },
     "execution_count": 5,
     "metadata": {},
     "output_type": "execute_result"
    }
   ],
   "source": [
    "string = \"The U.S. are a country. The U.N. is an organization.\"\n",
    "sent_tokenize(string)"
   ]
  },
  {
   "cell_type": "markdown",
   "id": "dc5c91cf",
   "metadata": {},
   "source": [
    "* 요약 기준 모델\n",
    "기사를 요약하는 일반적인 기준 모델은 단순히 기사에서 맨 처음 문장 세 개를 선택하는 것"
   ]
  },
  {
   "cell_type": "code",
   "execution_count": 6,
   "id": "82316a6c",
   "metadata": {},
   "outputs": [],
   "source": [
    "def three_sentence_summary(text) :\n",
    "    return '\\n'.join(sent_tokenize(text)[:3])"
   ]
  },
  {
   "cell_type": "code",
   "execution_count": 7,
   "id": "487605f9",
   "metadata": {},
   "outputs": [],
   "source": [
    "summaries['baseline'] = three_sentence_summary(sample_text)"
   ]
  },
  {
   "cell_type": "markdown",
   "id": "80da8942",
   "metadata": {},
   "source": [
    "* GPT2"
   ]
  },
  {
   "cell_type": "code",
   "execution_count": 8,
   "id": "60af01be",
   "metadata": {},
   "outputs": [
    {
     "name": "stdout",
     "output_type": "stream",
     "text": [
      "WARNING:tensorflow:From C:\\Users\\knuyh\\anaconda3\\Lib\\site-packages\\tf_keras\\src\\losses.py:2976: The name tf.losses.sparse_softmax_cross_entropy is deprecated. Please use tf.compat.v1.losses.sparse_softmax_cross_entropy instead.\n",
      "\n"
     ]
    },
    {
     "name": "stderr",
     "output_type": "stream",
     "text": [
      "Truncation was not explicitly activated but `max_length` is provided a specific value, please use `truncation=True` to explicitly truncate examples to max length. Defaulting to 'longest_first' truncation strategy. If you encode pairs of sequences (GLUE-style) with the tokenizer you can select this strategy more precisely by providing a specific strategy to `truncation`.\n",
      "Setting `pad_token_id` to `eos_token_id`:50256 for open-end generation.\n"
     ]
    }
   ],
   "source": [
    "from transformers import pipeline, set_seed\n",
    "\n",
    "pipe = pipeline(\"text-generation\", model=\"gpt2-large\")\n",
    "\n",
    "gpt2_query = sample_text + \"\\nTL;DR:\\n\" # 긴 포스트 짧게 요약할 때, '너무 길어 읽지 않았다'는 약어\n",
    "pipe_out = pipe(gpt2_query, max_length=512, clean_up_tokenization_spaces=True)\n",
    "summaries[\"gpt2\"] = \"\\n\".join(\n",
    "    sent_tokenize(pipe_out[0][\"generated_text\"][len(gpt2_query) :]))"
   ]
  },
  {
   "cell_type": "markdown",
   "id": "5b2d2164",
   "metadata": {},
   "source": [
    "* T5  \n",
    "모델의 입력 포맷은 'translate English to German : < TEXT >'  \n",
    "pipeline() : T5 로드, 이 함수는 립력을 텍스트 - 투 - 텍스트 포맷으로 처리하므로 앞에 'summarize' 붙일 필요 없다."
   ]
  },
  {
   "cell_type": "code",
   "execution_count": 9,
   "id": "174e0d1c",
   "metadata": {},
   "outputs": [],
   "source": [
    "pipe = pipeline(\"summarization\", model=\"t5-large\")\n",
    "pipe_out = pipe(sample_text)\n",
    "summaries[\"t5\"] = \"\\n\".join(sent_tokenize(pipe_out[0][\"summary_text\"]))"
   ]
  },
  {
   "cell_type": "markdown",
   "id": "8ee3ec40",
   "metadata": {},
   "source": [
    "* BART  \n",
    "인코더-디코더 구조 사용하는 모델로, 손상된 입력을 재구성하도록 훈련됨"
   ]
  },
  {
   "cell_type": "code",
   "execution_count": 10,
   "id": "6223d0fd",
   "metadata": {},
   "outputs": [],
   "source": [
    "pipe = pipeline(\"summarization\", model=\"facebook/bart-large-cnn\")\n",
    "pipe_out = pipe(sample_text)\n",
    "summaries[\"bart\"] = \"\\n\".join(sent_tokenize(pipe_out[0][\"summary_text\"]))"
   ]
  },
  {
   "attachments": {
    "image-2.png": {
     "image/png": "[encoded data removed]"
    }
   },
   "cell_type": "markdown",
   "id": "cfbb2624",
   "metadata": {},
   "source": [
    "* PEGASUS  \n",
    "인코더-디코더 트랜스포머로, 여러 문장으로 구성된 텍스트에서 마스킹된 문장 예측하는 사전 훈련 목표로 훈련됨\n",
    "\n",
    "![image-2.png](attachment:image-2.png)"
   ]
  },
  {
   "cell_type": "code",
   "execution_count": 11,
   "id": "05631f7d",
   "metadata": {},
   "outputs": [
    {
     "name": "stderr",
     "output_type": "stream",
     "text": [
      "C:\\Users\\knuyh\\anaconda3\\Lib\\site-packages\\torch\\_utils.py:831: UserWarning: TypedStorage is deprecated. It will be removed in the future and UntypedStorage will be the only storage class. This should only matter to you if you are using storages directly.  To access UntypedStorage directly, use tensor.untyped_storage() instead of tensor.storage()\n",
      "  return self.fget.__get__(instance, owner)()\n",
      "Some weights of PegasusForConditionalGeneration were not initialized from the model checkpoint at google/pegasus-cnn_dailymail and are newly initialized: ['model.decoder.embed_positions.weight', 'model.encoder.embed_positions.weight']\n",
      "You should probably TRAIN this model on a down-stream task to be able to use it for predictions and inference.\n"
     ]
    }
   ],
   "source": [
    "pipe = pipeline(\"summarization\", model=\"google/pegasus-cnn_dailymail\")\n",
    "pipe_out = pipe(sample_text)\n",
    "summaries[\"pegasus\"] = pipe_out[0][\"summary_text\"].replace(\" .<n>\", \".\\n\") \n",
    "# 줄바꿈하는 특수 토큰이 있어 sent_tokenize() 사용 X"
   ]
  },
  {
   "cell_type": "markdown",
   "id": "fa59eb47",
   "metadata": {},
   "source": [
    "### 요약 결과 비교하기\n",
    "* GPT-2 : 데이터셋에서 전혀 훈련되지 않음\n",
    "* T5 : 여러 작업 중의 하나로 이 작업을 위해 미세 튜닝됨\n",
    "* BART, PEGASUS : 이 작업만을 위해 미세 튜닝됨"
   ]
  },
  {
   "cell_type": "code",
   "execution_count": 12,
   "id": "2940ff66",
   "metadata": {},
   "outputs": [
    {
     "name": "stdout",
     "output_type": "stream",
     "text": [
      "GROUND TRUTH\n",
      "The employee in agency's Kansas City office is among hundreds of \"virtual\" workers .\n",
      "The employee's travel to and from the mainland U.S. last year cost more than $24,000 .\n",
      "The telecommuting program, like all GSA practices, is under review .\n",
      "\n",
      "BASELINE\n",
      "Kansas City, Missouri (CNN) -- The General Services Administration, already under investigation for lavish spending, allowed an employee to telecommute from Hawaii even though he is based at the GSA's Kansas City, Missouri, office, a CNN investigation has found.\n",
      "It cost more than $24,000 for the business development specialist to travel to and from the mainland United States over the past year.\n",
      "He is among several hundred GSA \"virtual\" workers who also travel to various conferences and their home offices, costing the agency millions of dollars over the past three years.\n",
      "\n",
      "GPT2\n",
      "- Hawaii Virtual Workers have an amazing vacation that goes on for nearly 6 months\n",
      "- They have a telecommuting allowance that costs them hundreds of thousands to spend\n",
      "- They don't have any benefits for vacations and their salary is based on their office in Hawaii- GSA used virtual tax payers to give themselves and their families the luxury of commuting, not their families, so as to minimize the costs.\n",
      "GSA spokesperson:\n",
      "\n",
      "T5\n",
      "a business development specialist works from his home in honolulu, a GSA representative says .\n",
      "the employee has flown back to the mainland nine times in the past year, records show .\n",
      "he is among several hundred \"virtual\" workers who travel to conferences and offices .\n",
      "\n",
      "BART\n",
      "GSA employee travels to and from the mainland U.S. nine times in a year.\n",
      "He is among several hundred GSA \"virtual\" workers who also travel to conferences and their home offices.\n",
      "The employee is paid $84,440 and works from his home in Honolulu, GSA says.\n",
      "\n",
      "PEGASUS\n",
      "It cost more than $24,000 for the business development specialist to travel to and from the mainland.\n",
      "Under the program, employees work from home and may live in another state.\n",
      "The Kansas City employee is paid $84,440 and works from his home in Honolulu.\n",
      "GSA: \"We are not going to defend this type of travel\"\n",
      "\n"
     ]
    }
   ],
   "source": [
    "print(\"GROUND TRUTH\")\n",
    "print(dataset[\"train\"][1][\"highlights\"])\n",
    "print(\"\")\n",
    "\n",
    "for model_name in summaries:\n",
    "    print(model_name.upper())\n",
    "    print(summaries[model_name])\n",
    "    print(\"\")"
   ]
  },
  {
   "cell_type": "markdown",
   "id": "127358db",
   "metadata": {},
   "source": [
    "* GPT2 : 텍스트를 요약하는 대신 등장인물 요약\n",
    "    * 진짜 요약을 생성하도록 명시적으로 훈련되지 않았기에 종종 사실을 지어내거나 환상 만들어냄\n",
    "* PEGASUS : 정답 요약과 가장 비슷\n",
    "\n",
    "### 생성된 텍스트 품질 평가하기\n",
    "#### BLEU\n",
    "* 생성된 텍스트에서 얼마나 많은 토큰이 참조 텍스트 토큰과 완벽하게 똑같이 정렬됐는지 확인하는 대신, 단어 또는 n-그램 체크\n",
    "* 정밀도 근간으로 하는 지표\n",
    "* 참조 텍스트에 있는 단어가 생성된 텍스트에 얼마나 자주 등장하는지 카운트한 후 생성된 텍스트 길이로 나눔\n",
    "    * 생성된 텍스트에 동일단어 반복되고 참조 텍스트에 등장하면 문제\n",
    "    * 따라서 변화를 주어, 단어를 참조 텍스트에 등장한 횟수만큼만 카운트\n",
    "* 단점\n",
    "    * 동의어를 고려하지 않음\n",
    "    * 토큰화된 텍스트 기대함\n",
    "    * SacreBLEU : 토큰화 단계 내재화해 문제 해결"
   ]
  },
  {
   "cell_type": "code",
   "execution_count": 13,
   "id": "dd18c990",
   "metadata": {},
   "outputs": [],
   "source": [
    "import evaluate\n",
    "\n",
    "bleu_metric = evaluate.load(\"sacrebleu\")"
   ]
  },
  {
   "cell_type": "code",
   "execution_count": 14,
   "id": "2cf665dc",
   "metadata": {},
   "outputs": [
    {
     "data": {
      "text/html": [
       "<div>\n",
       "<style scoped>\n",
       "    .dataframe tbody tr th:only-of-type {\n",
       "        vertical-align: middle;\n",
       "    }\n",
       "\n",
       "    .dataframe tbody tr th {\n",
       "        vertical-align: top;\n",
       "    }\n",
       "\n",
       "    .dataframe thead th {\n",
       "        text-align: right;\n",
       "    }\n",
       "</style>\n",
       "<table border=\"1\" class=\"dataframe\">\n",
       "  <thead>\n",
       "    <tr style=\"text-align: right;\">\n",
       "      <th></th>\n",
       "      <th>Value</th>\n",
       "    </tr>\n",
       "  </thead>\n",
       "  <tbody>\n",
       "    <tr>\n",
       "      <th>score</th>\n",
       "      <td>0.0</td>\n",
       "    </tr>\n",
       "    <tr>\n",
       "      <th>counts</th>\n",
       "      <td>[2, 0, 0, 0]</td>\n",
       "    </tr>\n",
       "    <tr>\n",
       "      <th>totals</th>\n",
       "      <td>[6, 5, 4, 3]</td>\n",
       "    </tr>\n",
       "    <tr>\n",
       "      <th>precisions</th>\n",
       "      <td>[33.33, 0.0, 0.0, 0.0]</td>\n",
       "    </tr>\n",
       "    <tr>\n",
       "      <th>bp</th>\n",
       "      <td>1.0</td>\n",
       "    </tr>\n",
       "    <tr>\n",
       "      <th>sys_len</th>\n",
       "      <td>6</td>\n",
       "    </tr>\n",
       "    <tr>\n",
       "      <th>ref_len</th>\n",
       "      <td>6</td>\n",
       "    </tr>\n",
       "  </tbody>\n",
       "</table>\n",
       "</div>"
      ],
      "text/plain": [
       "                             Value\n",
       "score                          0.0\n",
       "counts                [2, 0, 0, 0]\n",
       "totals                [6, 5, 4, 3]\n",
       "precisions  [33.33, 0.0, 0.0, 0.0]\n",
       "bp                             1.0\n",
       "sys_len                          6\n",
       "ref_len                          6"
      ]
     },
     "execution_count": 14,
     "metadata": {},
     "output_type": "execute_result"
    }
   ],
   "source": [
    "import pandas as pd\n",
    "import numpy as np\n",
    "\n",
    "# add : 샘플 하나 추가\n",
    "# add_batch : 배치 전체 추가\n",
    "\n",
    "bleu_metric.add(\n",
    "    prediction=\"the the the the the the\", reference=[\"the cat is on the mat\"])\n",
    "results = bleu_metric.compute(smooth_method=\"floor\", smooth_value=0) \n",
    "# bleu는 참조 매개변수를 전달해 n-그램이 없어도 점수가 0이 되지 않음 -> 해당 기능 끔(smooth_value=0)\n",
    "results[\"precisions\"] = [np.round(p, 2) for p in results[\"precisions\"]]\n",
    "pd.DataFrame.from_dict(results, orient=\"index\", columns=[\"Value\"])"
   ]
  },
  {
   "cell_type": "markdown",
   "id": "43a2ded3",
   "metadata": {},
   "source": [
    "1-그램의 정밀도 = 2/6  \n",
    "2/3/4-그램의 정밀도 = 0"
   ]
  },
  {
   "cell_type": "code",
   "execution_count": 15,
   "id": "c76a3dd6",
   "metadata": {},
   "outputs": [
    {
     "data": {
      "text/html": [
       "<div>\n",
       "<style scoped>\n",
       "    .dataframe tbody tr th:only-of-type {\n",
       "        vertical-align: middle;\n",
       "    }\n",
       "\n",
       "    .dataframe tbody tr th {\n",
       "        vertical-align: top;\n",
       "    }\n",
       "\n",
       "    .dataframe thead th {\n",
       "        text-align: right;\n",
       "    }\n",
       "</style>\n",
       "<table border=\"1\" class=\"dataframe\">\n",
       "  <thead>\n",
       "    <tr style=\"text-align: right;\">\n",
       "      <th></th>\n",
       "      <th>Value</th>\n",
       "    </tr>\n",
       "  </thead>\n",
       "  <tbody>\n",
       "    <tr>\n",
       "      <th>score</th>\n",
       "      <td>57.893007</td>\n",
       "    </tr>\n",
       "    <tr>\n",
       "      <th>counts</th>\n",
       "      <td>[5, 3, 2, 1]</td>\n",
       "    </tr>\n",
       "    <tr>\n",
       "      <th>totals</th>\n",
       "      <td>[5, 4, 3, 2]</td>\n",
       "    </tr>\n",
       "    <tr>\n",
       "      <th>precisions</th>\n",
       "      <td>[100.0, 75.0, 66.67, 50.0]</td>\n",
       "    </tr>\n",
       "    <tr>\n",
       "      <th>bp</th>\n",
       "      <td>0.818731</td>\n",
       "    </tr>\n",
       "    <tr>\n",
       "      <th>sys_len</th>\n",
       "      <td>5</td>\n",
       "    </tr>\n",
       "    <tr>\n",
       "      <th>ref_len</th>\n",
       "      <td>6</td>\n",
       "    </tr>\n",
       "  </tbody>\n",
       "</table>\n",
       "</div>"
      ],
      "text/plain": [
       "                                 Value\n",
       "score                        57.893007\n",
       "counts                    [5, 3, 2, 1]\n",
       "totals                    [5, 4, 3, 2]\n",
       "precisions  [100.0, 75.0, 66.67, 50.0]\n",
       "bp                            0.818731\n",
       "sys_len                              5\n",
       "ref_len                              6"
      ]
     },
     "execution_count": 15,
     "metadata": {},
     "output_type": "execute_result"
    }
   ],
   "source": [
    "bleu_metric.add(\n",
    "    prediction=\"the cat is on mat\", reference=[\"the cat is on the mat\"])\n",
    "results = bleu_metric.compute(smooth_method=\"floor\", smooth_value=0)\n",
    "results[\"precisions\"] = [np.round(p, 2) for p in results[\"precisions\"]]\n",
    "pd.DataFrame.from_dict(results, orient=\"index\", columns=[\"Value\"])"
   ]
  },
  {
   "cell_type": "markdown",
   "id": "e548099b",
   "metadata": {},
   "source": [
    "1-그램의 정밀도 = 1  \n",
    "4-그램의 경우 [the, cat, is, on] / [cat, is, on, mat] 에서 두 번째 맞추지 못했으므로 정밀도 = 0.5\n",
    "\n",
    "* BLEU는 텍스트 평가에 널리 사용 (주로 번역)\n",
    "\n",
    "#### ROUGE\n",
    "* 중요한 정보가 생성된 텍스트에 모두 포함되어야 하므로 높은 재현율 선호\n",
    "* 높은 재현율이 정밀도보다 훨씬 더 중요한 요약 같은 애플리케이션을 위해 개발\n",
    "* 생성된 텍스트와 참조 텍스트에서 여러 가지 n-그램이 얼마나 자주 등장하는지 비교한다는 점에서 BLEU와 비슷\n",
    "* ROUGE는 참조 텍스트에 있는 n-그램이 생성된 텍스트에 얼마나 많이 등장하는지도 확인\n",
    "* ROUGE-L : 문장마다 점수 계산해 요약에 대해 평균한 점수\n",
    "* ROUGE-Lsum : 전체 요약에 대해 계산한 점수"
   ]
  },
  {
   "cell_type": "code",
   "execution_count": 16,
   "id": "acca428e",
   "metadata": {},
   "outputs": [],
   "source": [
    "rouge_metric = evaluate.load(\"rouge\")"
   ]
  },
  {
   "cell_type": "code",
   "execution_count": 17,
   "id": "b14e1ae3",
   "metadata": {},
   "outputs": [
    {
     "data": {
      "text/html": [
       "<div>\n",
       "<style scoped>\n",
       "    .dataframe tbody tr th:only-of-type {\n",
       "        vertical-align: middle;\n",
       "    }\n",
       "\n",
       "    .dataframe tbody tr th {\n",
       "        vertical-align: top;\n",
       "    }\n",
       "\n",
       "    .dataframe thead th {\n",
       "        text-align: right;\n",
       "    }\n",
       "</style>\n",
       "<table border=\"1\" class=\"dataframe\">\n",
       "  <thead>\n",
       "    <tr style=\"text-align: right;\">\n",
       "      <th></th>\n",
       "      <th>rouge1</th>\n",
       "      <th>rouge2</th>\n",
       "      <th>rougeL</th>\n",
       "      <th>rougeLsum</th>\n",
       "    </tr>\n",
       "  </thead>\n",
       "  <tbody>\n",
       "    <tr>\n",
       "      <th>baseline</th>\n",
       "      <td>0.432836</td>\n",
       "      <td>0.196970</td>\n",
       "      <td>0.223881</td>\n",
       "      <td>0.298507</td>\n",
       "    </tr>\n",
       "    <tr>\n",
       "      <th>gpt2</th>\n",
       "      <td>0.230088</td>\n",
       "      <td>0.036036</td>\n",
       "      <td>0.141593</td>\n",
       "      <td>0.159292</td>\n",
       "    </tr>\n",
       "    <tr>\n",
       "      <th>t5</th>\n",
       "      <td>0.376471</td>\n",
       "      <td>0.120482</td>\n",
       "      <td>0.235294</td>\n",
       "      <td>0.376471</td>\n",
       "    </tr>\n",
       "    <tr>\n",
       "      <th>bart</th>\n",
       "      <td>0.426966</td>\n",
       "      <td>0.229885</td>\n",
       "      <td>0.247191</td>\n",
       "      <td>0.404494</td>\n",
       "    </tr>\n",
       "    <tr>\n",
       "      <th>pegasus</th>\n",
       "      <td>0.464646</td>\n",
       "      <td>0.206186</td>\n",
       "      <td>0.202020</td>\n",
       "      <td>0.343434</td>\n",
       "    </tr>\n",
       "  </tbody>\n",
       "</table>\n",
       "</div>"
      ],
      "text/plain": [
       "            rouge1    rouge2    rougeL  rougeLsum\n",
       "baseline  0.432836  0.196970  0.223881   0.298507\n",
       "gpt2      0.230088  0.036036  0.141593   0.159292\n",
       "t5        0.376471  0.120482  0.235294   0.376471\n",
       "bart      0.426966  0.229885  0.247191   0.404494\n",
       "pegasus   0.464646  0.206186  0.202020   0.343434"
      ]
     },
     "execution_count": 17,
     "metadata": {},
     "output_type": "execute_result"
    }
   ],
   "source": [
    "reference = dataset[\"train\"][1][\"highlights\"]\n",
    "records = []\n",
    "rouge_names = [\"rouge1\", \"rouge2\", \"rougeL\", \"rougeLsum\"]\n",
    "\n",
    "for model_name in summaries:\n",
    "    rouge_metric.add(prediction=summaries[model_name], reference=reference)\n",
    "    score = rouge_metric.compute()\n",
    "    rouge_dict = dict((rn, score[rn]) for rn in rouge_names)\n",
    "    records.append(rouge_dict)\n",
    "pd.DataFrame.from_records(records, index=summaries.keys())"
   ]
  },
  {
   "cell_type": "markdown",
   "id": "98f04d23",
   "metadata": {},
   "source": [
    "GPT-2 성능이 가장 낮고, PEGASUS가 가장 좋다.\n",
    "\n",
    "### CNN/DailyMail 데이터셋에서 PEGASUS 평가하기"
   ]
  },
  {
   "cell_type": "code",
   "execution_count": 18,
   "id": "476526af",
   "metadata": {},
   "outputs": [],
   "source": [
    "rouge_metric = evaluate.load(\"rouge\", cache_dir=None)"
   ]
  },
  {
   "cell_type": "code",
   "execution_count": 19,
   "id": "5b602ff9",
   "metadata": {},
   "outputs": [],
   "source": [
    "# 처음 세 문장 사용하는 기준 모델 성능 평가\n",
    "def evaluate_summaries_baseline(dataset, metric,\n",
    "                                column_text=\"article\",\n",
    "                                column_summary=\"highlights\"):\n",
    "    summaries = [three_sentence_summary(text) for text in dataset[column_text]]\n",
    "    metric.add_batch(predictions=summaries,\n",
    "                     references=dataset[column_summary])\n",
    "    score = metric.compute()\n",
    "    return score"
   ]
  },
  {
   "cell_type": "code",
   "execution_count": 20,
   "id": "13e46b49",
   "metadata": {},
   "outputs": [
    {
     "data": {
      "text/html": [
       "<div>\n",
       "<style scoped>\n",
       "    .dataframe tbody tr th:only-of-type {\n",
       "        vertical-align: middle;\n",
       "    }\n",
       "\n",
       "    .dataframe tbody tr th {\n",
       "        vertical-align: top;\n",
       "    }\n",
       "\n",
       "    .dataframe thead th {\n",
       "        text-align: right;\n",
       "    }\n",
       "</style>\n",
       "<table border=\"1\" class=\"dataframe\">\n",
       "  <thead>\n",
       "    <tr style=\"text-align: right;\">\n",
       "      <th></th>\n",
       "      <th>rouge1</th>\n",
       "      <th>rouge2</th>\n",
       "      <th>rougeL</th>\n",
       "      <th>rougeLsum</th>\n",
       "    </tr>\n",
       "  </thead>\n",
       "  <tbody>\n",
       "    <tr>\n",
       "      <th>baseline</th>\n",
       "      <td>0.38216</td>\n",
       "      <td>0.166896</td>\n",
       "      <td>0.245206</td>\n",
       "      <td>0.349356</td>\n",
       "    </tr>\n",
       "  </tbody>\n",
       "</table>\n",
       "</div>"
      ],
      "text/plain": [
       "           rouge1    rouge2    rougeL  rougeLsum\n",
       "baseline  0.38216  0.166896  0.245206   0.349356"
      ]
     },
     "execution_count": 20,
     "metadata": {},
     "output_type": "execute_result"
    }
   ],
   "source": [
    "test_sampled = dataset[\"test\"].shuffle(seed=42).select(range(1000))\n",
    "\n",
    "score = evaluate_summaries_baseline(test_sampled, rouge_metric)\n",
    "rouge_dict = dict((rn, score[rn]) for rn in rouge_names)\n",
    "pd.DataFrame.from_dict(rouge_dict, orient=\"index\", columns=[\"baseline\"]).T\n",
    "\n",
    "# GPT2보다 점수가 좋다."
   ]
  },
  {
   "cell_type": "code",
   "execution_count": 21,
   "id": "e19707fe",
   "metadata": {},
   "outputs": [],
   "source": [
    "# PEGASUS 모델 성능 평가\n",
    "from tqdm import tqdm\n",
    "import torch\n",
    "\n",
    "# 작은 배치로 나눔\n",
    "def chunks(list_of_elements, batch_size) :\n",
    "    for i in range(0, len(list_of_elements), batch_size):\n",
    "        yield list_of_elements[i : i + batch_size]\n",
    "\n",
    "def evaluate_summaries_pegasus(dataset, metric, model, tokenizer,\n",
    "                               batch_size=16,# device=device,\n",
    "                               column_text=\"article\",\n",
    "                               column_summary=\"highlights\"):\n",
    "    article_batches = list(chunks(dataset[column_text], batch_size))\n",
    "    target_batches = list(chunks(dataset[column_summary], batch_size))\n",
    "\n",
    "    for article_batch, target_batch in tqdm(\n",
    "        zip(article_batches, target_batches), total=len(article_batches)):\n",
    "\n",
    "        inputs = tokenizer(article_batch, max_length=1024,  truncation=True,\n",
    "                        padding=\"max_length\", return_tensors=\"pt\")\n",
    "        \n",
    "        # 빔 서치로 요약 생성\n",
    "        summaries = model.generate(input_ids=inputs[\"input_ids\"],\n",
    "                         attention_mask=inputs[\"attention_mask\"],\n",
    "                         length_penalty=0.8, num_beams=8, max_length=128)\n",
    "\n",
    "        decoded_summaries = [tokenizer.decode(s, skip_special_tokens=True,\n",
    "                                clean_up_tokenization_spaces=True)\n",
    "               for s in summaries]\n",
    "        decoded_summaries = [d.replace(\"<n>\", \" \") for d in decoded_summaries]\n",
    "        metric.add_batch(predictions=decoded_summaries, references=target_batch)\n",
    "\n",
    "    score = metric.compute()\n",
    "    return score"
   ]
  },
  {
   "cell_type": "code",
   "execution_count": null,
   "id": "968435bb",
   "metadata": {},
   "outputs": [
    {
     "name": "stderr",
     "output_type": "stream",
     "text": [
      "Some weights of PegasusForConditionalGeneration were not initialized from the model checkpoint at google/pegasus-cnn_dailymail and are newly initialized: ['model.decoder.embed_positions.weight', 'model.encoder.embed_positions.weight']\n",
      "You should probably TRAIN this model on a down-stream task to be able to use it for predictions and inference.\n",
      "  0%|                                                                                          | 0/125 [00:00<?, ?it/s]"
     ]
    }
   ],
   "source": [
    "from transformers import AutoModelForSeq2SeqLM, AutoTokenizer\n",
    "\n",
    "model_ckpt = \"google/pegasus-cnn_dailymail\"\n",
    "tokenizer = AutoTokenizer.from_pretrained(model_ckpt)\n",
    "model = AutoModelForSeq2SeqLM.from_pretrained(model_ckpt)\n",
    "score = evaluate_summaries_pegasus(test_sampled, rouge_metric,\n",
    "                                   model, tokenizer, batch_size=8)\n",
    "rouge_dict = dict((rn, score[rn]) for rn in rouge_names)\n",
    "pd.DataFrame(rouge_dict, index=[\"pegasus\"])"
   ]
  },
  {
   "cell_type": "markdown",
   "id": "c7f59231",
   "metadata": {},
   "source": [
    "손실과 각 토큰의 정확도는 ROUGE 점수와 일정 수준 관련성이 없다.  \n",
    "ROUGE 점수는 디코딩 전략과 밀접하게 관련\n",
    "\n",
    "### 요약 모델 훈련하기"
   ]
  },
  {
   "cell_type": "code",
   "execution_count": null,
   "id": "cbf8019a",
   "metadata": {},
   "outputs": [],
   "source": [
    "dataset_samsum = load_dataset(\"samsum\")\n",
    "split_lengths = [len(dataset_samsum[split])for split in dataset_samsum]\n",
    "\n",
    "print(f\"분할 크기: {split_lengths}\")\n",
    "print(f\"특성: {dataset_samsum['train'].column_names}\")\n",
    "print(\"\\n대화:\")\n",
    "print(dataset_samsum[\"test\"][0][\"dialogue\"])\n",
    "print(\"\\nSummary:\")\n",
    "print(dataset_samsum[\"test\"][0][\"summary\"])"
   ]
  },
  {
   "cell_type": "markdown",
   "id": "a44c6d4b",
   "metadata": {},
   "source": [
    "* SAMSum에서 PEGASUS 평가하기"
   ]
  },
  {
   "cell_type": "code",
   "execution_count": null,
   "id": "993a4976",
   "metadata": {},
   "outputs": [],
   "source": [
    "pipe_out = pipe(dataset_samsum[\"test\"][0][\"dialogue\"])\n",
    "print(\"요약:\")\n",
    "print(pipe_out[0][\"summary_text\"].replace(\" .<n>\", \".\\n\"))"
   ]
  },
  {
   "cell_type": "code",
   "execution_count": null,
   "id": "f29a5be7",
   "metadata": {},
   "outputs": [],
   "source": [
    "score = evaluate_summaries_pegasus(dataset_samsum[\"test\"], rouge_metric, model,\n",
    "                                   tokenizer, column_text=\"dialogue\",\n",
    "                                   column_summary=\"summary\", batch_size=8)\n",
    "\n",
    "rouge_dict = dict((rn, score[rn]) for rn in rouge_names)\n",
    "pd.DataFrame(rouge_dict, index=[\"pegasus\"])"
   ]
  },
  {
   "cell_type": "markdown",
   "id": "a404df6c",
   "metadata": {},
   "source": [
    "CNN/DailyMAil 데이터셋이 SAMSum 과 크게 다르기에 훌륭하지 않은 결과  \n",
    "* PEGASUS에서 미세 튜닝하기"
   ]
  },
  {
   "cell_type": "code",
   "execution_count": null,
   "id": "ccfeca9d",
   "metadata": {},
   "outputs": [],
   "source": [
    "# 입력과 출력 길이의 분포\n",
    "d_len = [len(tokenizer.encode(s)) for s in dataset_samsum[\"train\"][\"dialogue\"]]\n",
    "s_len = [len(tokenizer.encode(s)) for s in dataset_samsum[\"train\"][\"summary\"]]\n",
    "\n",
    "fig, axes = plt.subplots(1, 2, figsize=(10, 3.5), sharey=True)\n",
    "axes[0].hist(d_len, bins=20, color=\"C0\", edgecolor=\"C0\")\n",
    "axes[0].set_title(\"Dialogue Token Length\")\n",
    "axes[0].set_xlabel(\"Length\")\n",
    "axes[0].set_ylabel(\"Count\")\n",
    "axes[1].hist(s_len, bins=20, color=\"C0\", edgecolor=\"C0\")\n",
    "axes[1].set_title(\"Summary Token Length\")\n",
    "axes[1].set_xlabel(\"Length\")\n",
    "plt.tight_layout()\n",
    "plt.show()"
   ]
  },
  {
   "cell_type": "markdown",
   "id": "a328a490",
   "metadata": {},
   "source": [
    "대부분의 대화는 100-200개 토큰으로 구성되며 CNN/DailyMail 기사보다 훨씬 짧다.  \n",
    "요약도 20-40개 토큰(평균 트윗 길이)으로 구성되며 훨씬 더 짧다."
   ]
  },
  {
   "cell_type": "code",
   "execution_count": null,
   "id": "77c2ead0",
   "metadata": {},
   "outputs": [],
   "source": [
    "# 데이터셋 토큰화\n",
    "def convert_examples_to_features(example_batch):\n",
    "    input_encodings = tokenizer(example_batch[\"dialogue\"], max_length=1024,\n",
    "                                truncation=True)\n",
    "    \n",
    "    # 일부 모델은 디코더 입력에 특수 토큰 필요 (인코더와 디코더 입력의 토큰화 구별 중요)\n",
    "    # 토크나이저가 디코더를 위한 토큰화임을 인지하고 그에 따라 시퀀스 처리\n",
    "    with tokenizer.as_target_tokenizer():\n",
    "    target_encodings = tokenizer(text_target=example_batch[\"summary\"], max_length=128,\n",
    "                                    truncation=True)\n",
    "\n",
    "    return {\"input_ids\": input_encodings[\"input_ids\"],\n",
    "            \"attention_mask\": input_encodings[\"attention_mask\"],\n",
    "            \"labels\": target_encodings[\"input_ids\"]}\n",
    "\n",
    "dataset_samsum_pt = dataset_samsum.map(convert_examples_to_features,\n",
    "                                       batched=True)\n",
    "columns = [\"input_ids\", \"labels\", \"attention_mask\"]\n",
    "dataset_samsum_pt.set_format(type=\"torch\", columns=columns)"
   ]
  },
  {
   "cell_type": "markdown",
   "id": "a4c942ef",
   "metadata": {},
   "source": [
    "[데이터 콜레이터]  \n",
    "요약 작업에서는 입력을 쌓을 뿐만 아니라 디코더 쪽의 타깃도 준비  \n",
    "  \n",
    "PEGASUS는 인코더-디코더 트랜스포머이고, 따라서 고전적인 seq2seq 구조  \n",
    "seq2seq 구조에선 디코더에 '**티처 포싱(teacher forcing)**' 적용 : 디코더가 인코더 출력 외에 한 토큰이 이동된 레이블로 구성된 입력 토큰 받음, 따라서 다음 토큰을 위한 예측을 만들 때 디코더는 한 토큰이 이동된 정답을 입력으로 받음"
   ]
  },
  {
   "cell_type": "code",
   "execution_count": null,
   "id": "66d6fca8",
   "metadata": {},
   "outputs": [],
   "source": [
    "text = ['PAD','Transformers', 'are', 'awesome', 'for', 'text', 'summarization']\n",
    "rows = []\n",
    "for i in range(len(text)-1):\n",
    "    rows.append({'step': i+1, 'decoder_input': text[:i+1], 'label': text[i+1]})\n",
    "pd.DataFrame(rows).set_index('step')"
   ]
  },
  {
   "cell_type": "markdown",
   "id": "3a1e2497",
   "metadata": {},
   "source": [
    "한 스텝 이동했으므로 디코더는 이전 스텝의 정답 레이블만 보며 현재와 미래 레이블을 보지 못함  \n",
    "디코더는 현재와 미래의 모든 입력을 마스킹하는 마스크드 셀프 어텐션 갖기에 이동시키는 것으로 충분"
   ]
  },
  {
   "cell_type": "code",
   "execution_count": null,
   "id": "c0b03263",
   "metadata": {},
   "outputs": [],
   "source": [
    "# 배치 준비 시 레이블을 한 스텝 오른쪽으로 이동시켜 디코더 입력 생성\n",
    "# 그런 다음 레이블에 있는 패딩 토큰을 -100으로 설정해 손실 함수가 무시하도록 설정\n",
    "from transformers import DataCollatorForSeq2Seq\n",
    "\n",
    "seq2seq_data_collator = DataCollatorForSeq2Seq(tokenizer, model = model)"
   ]
  },
  {
   "cell_type": "code",
   "execution_count": null,
   "id": "ad1aa0f7",
   "metadata": {},
   "outputs": [],
   "source": [
    "from transformers import TrainingArguments, Trainer\n",
    "\n",
    "training_args = TrainingArguments(\n",
    "    output_dir='pegasus-samsum', num_train_epochs=1, warmup_steps=500,\n",
    "    per_device_train_batch_size=1, per_device_eval_batch_size=1,\n",
    "    weight_decay=0.01, logging_steps=10, push_to_hub=True,\n",
    "    evaluation_strategy='steps', eval_steps=500, save_steps=1e6,\n",
    "    gradient_accumulation_steps=16)\n",
    "    # 모델이 매우 크므로 배치크기를 1로 지정하는데, 배치 크기가 너무 작으면 수렴하지 않음\n",
    "    # 문제 해결을 위해 그레이디언트 누적 기술 사용\n",
    "    # 큰 배치의 그레이디언트 한 번에 계산하는 대신 작은 배치를 만들고 그레이디언트 누적"
   ]
  },
  {
   "cell_type": "code",
   "execution_count": null,
   "id": "99524926",
   "metadata": {},
   "outputs": [],
   "source": [
    "from huggingface_hub import notebook_login\n",
    "\n",
    "notebook_login()"
   ]
  },
  {
   "cell_type": "code",
   "execution_count": null,
   "id": "24bc17f6",
   "metadata": {},
   "outputs": [],
   "source": [
    "trainer = Trainer(model=model, args=training_args,\n",
    "                  tokenizer=tokenizer, data_collator=seq2seq_data_collator,\n",
    "                  train_dataset=dataset_samsum_pt[\"train\"],\n",
    "                  eval_dataset=dataset_samsum_pt[\"validation\"])"
   ]
  },
  {
   "cell_type": "code",
   "execution_count": null,
   "id": "cf38395e",
   "metadata": {},
   "outputs": [],
   "source": [
    "trainer.train()\n",
    "score = evaluate_summaries_pegasus(\n",
    "    dataset_samsum[\"test\"], rouge_metric, trainer.model, tokenizer,\n",
    "    batch_size=2, column_text=\"dialogue\", column_summary=\"summary\")\n",
    "\n",
    "rouge_dict = dict((rn, score[rn]) for rn in rouge_names)\n",
    "pd.DataFrame(rouge_dict, index=[f\"pegasus\"])"
   ]
  },
  {
   "cell_type": "code",
   "execution_count": null,
   "id": "4848b733",
   "metadata": {},
   "outputs": [],
   "source": [
    "trainer.push_to_hub(\"Training complete!\")"
   ]
  },
  {
   "cell_type": "markdown",
   "id": "c952e306",
   "metadata": {},
   "source": [
    "미세 튜닝하지 않은 모델에 비해 ROUGE 점수 향상\n",
    "\n",
    "* 대화 요약 생성하기"
   ]
  },
  {
   "cell_type": "code",
   "execution_count": null,
   "id": "a441ea09",
   "metadata": {},
   "outputs": [],
   "source": [
    "gen_kwargs = {\"length_penalty\": 0.8, \"num_beams\":8, \"max_length\": 128}\n",
    "sample_text = dataset_samsum[\"test\"][0][\"dialogue\"]\n",
    "reference = dataset_samsum[\"test\"][0][\"summary\"]\n",
    "pipe = pipeline(\"summarization\", model=\"rlaalswl7288/pegasus-samsum\")\n",
    "\n",
    "print(\"대화:\")\n",
    "print(sample_text)\n",
    "print(\"\\n참조 요약:\")\n",
    "print(reference)\n",
    "print(\"\\n모델 요약:\")\n",
    "print(pipe(sample_text, **gen_kwargs)[0][\"summary_text\"])"
   ]
  },
  {
   "cell_type": "code",
   "execution_count": null,
   "id": "30ff8bed",
   "metadata": {},
   "outputs": [],
   "source": [
    "custom_dialogue = \"\"\"\\\n",
    "Thom: Hi guys, have you heard of transformers?\n",
    "Lewis: Yes, I used them recently!\n",
    "Leandro: Indeed, there is a great library by Hugging Face.\n",
    "Thom: I know, I helped build it ;)\n",
    "Lewis: Cool, maybe we should write a book about it. What do you think?\n",
    "Leandro: Great idea, how hard can it be?!\n",
    "Thom: I am in!\n",
    "Lewis: Awesome, let's do it together!\n",
    "\"\"\"\n",
    "print(pipe(custom_dialogue, **gen_kwargs)[0][\"summary_text\"])"
   ]
  },
  {
   "cell_type": "code",
   "execution_count": null,
   "id": "26996892",
   "metadata": {},
   "outputs": [],
   "source": []
  }
 ],
 "metadata": {
  "kernelspec": {
   "display_name": "Python 3 (ipykernel)",
   "language": "python",
   "name": "python3"
  },
  "language_info": {
   "codemirror_mode": {
    "name": "ipython",
    "version": 3
   },
   "file_extension": ".py",
   "mimetype": "text/x-python",
   "name": "python",
   "nbconvert_exporter": "python",
   "pygments_lexer": "ipython3",
   "version": "3.11.4"
  }
 },
 "nbformat": 4,
 "nbformat_minor": 5
}
