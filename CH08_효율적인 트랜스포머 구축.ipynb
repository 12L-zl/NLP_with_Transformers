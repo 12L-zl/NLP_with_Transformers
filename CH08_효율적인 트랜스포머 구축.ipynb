{
 "cells": [
  {
   "cell_type": "markdown",
   "id": "f2adc2e9",
   "metadata": {},
   "source": [
    "예측 속도를 높이고, 트랜스포머 모델의 메모리 사용량 줄이는 네 가지 기술  \n",
    ": 지식 정제 / 양자화 / 가지치기 / 그래프 최적화(ONNX 포맷과 ONNX 런타임 사용)\n",
    "\n",
    "### 의도 탐지 예제"
   ]
  },
  {
   "cell_type": "code",
   "execution_count": 2,
   "id": "c4f75e9c",
   "metadata": {},
   "outputs": [],
   "source": [
    "import os\n",
    "os.environ['KMP_DUPLICATE_LIB_OK'] = 'True'"
   ]
  },
  {
   "cell_type": "code",
   "execution_count": 3,
   "id": "7b3a317f",
   "metadata": {
    "scrolled": true
   },
   "outputs": [
    {
     "name": "stderr",
     "output_type": "stream",
     "text": [
      "C:\\Users\\knuyh\\anaconda3\\Lib\\site-packages\\pandas\\core\\arrays\\masked.py:60: UserWarning: Pandas requires version '1.3.6' or newer of 'bottleneck' (version '1.3.5' currently installed).\n",
      "  from pandas.core import (\n",
      "C:\\Users\\knuyh\\anaconda3\\Lib\\site-packages\\huggingface_hub\\file_download.py:1132: FutureWarning: `resume_download` is deprecated and will be removed in version 1.0.0. Downloads always resume when possible. If you want to force a new download, use `force_download=True`.\n",
      "  warnings.warn(\n"
     ]
    },
    {
     "data": {
      "application/vnd.jupyter.widget-view+json": {
       "model_id": "008950085ede45a0b623b7650b215240",
       "version_major": 2,
       "version_minor": 0
      },
      "text/plain": [
       "config.json:   0%|          | 0.00/8.18k [00:00<?, ?B/s]"
      ]
     },
     "metadata": {},
     "output_type": "display_data"
    },
    {
     "name": "stderr",
     "output_type": "stream",
     "text": [
      "C:\\Users\\knuyh\\anaconda3\\Lib\\site-packages\\huggingface_hub\\file_download.py:157: UserWarning: `huggingface_hub` cache-system uses symlinks by default to efficiently store duplicated files but your machine does not support them in C:\\Users\\knuyh\\.cache\\huggingface\\hub\\models--transformersbook--bert-base-uncased-finetuned-clinc. Caching files will still work but in a degraded version that might require more space on your disk. This warning can be disabled by setting the `HF_HUB_DISABLE_SYMLINKS_WARNING` environment variable. For more details, see https://huggingface.co/docs/huggingface_hub/how-to-cache#limitations.\n",
      "To support symlinks on Windows, you either need to activate Developer Mode or to run Python as an administrator. In order to see activate developer mode, see this article: https://docs.microsoft.com/en-us/windows/apps/get-started/enable-your-device-for-development\n",
      "  warnings.warn(message)\n"
     ]
    },
    {
     "name": "stdout",
     "output_type": "stream",
     "text": [
      "WARNING:tensorflow:From C:\\Users\\knuyh\\anaconda3\\Lib\\site-packages\\tf_keras\\src\\losses.py:2976: The name tf.losses.sparse_softmax_cross_entropy is deprecated. Please use tf.compat.v1.losses.sparse_softmax_cross_entropy instead.\n",
      "\n"
     ]
    },
    {
     "data": {
      "application/vnd.jupyter.widget-view+json": {
       "model_id": "b4470f172ed64875a888fd93612ea091",
       "version_major": 2,
       "version_minor": 0
      },
      "text/plain": [
       "pytorch_model.bin:   0%|          | 0.00/438M [00:00<?, ?B/s]"
      ]
     },
     "metadata": {},
     "output_type": "display_data"
    },
    {
     "name": "stderr",
     "output_type": "stream",
     "text": [
      "C:\\Users\\knuyh\\anaconda3\\Lib\\site-packages\\torch\\_utils.py:831: UserWarning: TypedStorage is deprecated. It will be removed in the future and UntypedStorage will be the only storage class. This should only matter to you if you are using storages directly.  To access UntypedStorage directly, use tensor.untyped_storage() instead of tensor.storage()\n",
      "  return self.fget.__get__(instance, owner)()\n"
     ]
    },
    {
     "data": {
      "application/vnd.jupyter.widget-view+json": {
       "model_id": "9f628f17accc48f4b64047437382d448",
       "version_major": 2,
       "version_minor": 0
      },
      "text/plain": [
       "tokenizer_config.json:   0%|          | 0.00/252 [00:00<?, ?B/s]"
      ]
     },
     "metadata": {},
     "output_type": "display_data"
    },
    {
     "data": {
      "application/vnd.jupyter.widget-view+json": {
       "model_id": "87e5be2d8fce4e7693669339f01d80b2",
       "version_major": 2,
       "version_minor": 0
      },
      "text/plain": [
       "vocab.txt:   0%|          | 0.00/232k [00:00<?, ?B/s]"
      ]
     },
     "metadata": {},
     "output_type": "display_data"
    },
    {
     "data": {
      "application/vnd.jupyter.widget-view+json": {
       "model_id": "d8161e0b913e486b935b1ac5ca260b37",
       "version_major": 2,
       "version_minor": 0
      },
      "text/plain": [
       "special_tokens_map.json:   0%|          | 0.00/112 [00:00<?, ?B/s]"
      ]
     },
     "metadata": {},
     "output_type": "display_data"
    }
   ],
   "source": [
    "from transformers import pipeline\n",
    "\n",
    "bert_ckpt = \"transformersbook/bert-base-uncased-finetuned-clinc\"\n",
    "pipe = pipeline(\"text-classification\", model=bert_ckpt)"
   ]
  },
  {
   "cell_type": "code",
   "execution_count": 4,
   "id": "43ec65bd",
   "metadata": {},
   "outputs": [
    {
     "data": {
      "text/plain": [
       "[{'label': 'car_rental', 'score': 0.5490036010742188}]"
      ]
     },
     "execution_count": 4,
     "metadata": {},
     "output_type": "execute_result"
    }
   ],
   "source": [
    "query = \"\"\"Hey, I'd like to rent a vehicle from Nov 1st to Nov 15th in\n",
    "Paris and I need a 15 passenger van\"\"\"\n",
    "pipe(query) # 예측한 의도와 신뢰도 점수"
   ]
  },
  {
   "cell_type": "markdown",
   "id": "d1c1f59c",
   "metadata": {},
   "source": [
    "### 벤치마크 클래스 만들기"
   ]
  },
  {
   "cell_type": "code",
   "execution_count": 5,
   "id": "2f077c58",
   "metadata": {
    "scrolled": true
   },
   "outputs": [
    {
     "data": {
      "application/vnd.jupyter.widget-view+json": {
       "model_id": "732f3330254b4e19aa5a430c6b3daa29",
       "version_major": 2,
       "version_minor": 0
      },
      "text/plain": [
       "Downloading readme:   0%|          | 0.00/24.0k [00:00<?, ?B/s]"
      ]
     },
     "metadata": {},
     "output_type": "display_data"
    },
    {
     "data": {
      "application/vnd.jupyter.widget-view+json": {
       "model_id": "0535ecc04e7d4e3fbc18d7ef1b5ee9ca",
       "version_major": 2,
       "version_minor": 0
      },
      "text/plain": [
       "Downloading data files:   0%|          | 0/3 [00:00<?, ?it/s]"
      ]
     },
     "metadata": {},
     "output_type": "display_data"
    },
    {
     "data": {
      "application/vnd.jupyter.widget-view+json": {
       "model_id": "330dabeedbe2468c8bf67710c4a89adb",
       "version_major": 2,
       "version_minor": 0
      },
      "text/plain": [
       "Downloading data:   0%|          | 0.00/312k [00:00<?, ?B/s]"
      ]
     },
     "metadata": {},
     "output_type": "display_data"
    },
    {
     "data": {
      "application/vnd.jupyter.widget-view+json": {
       "model_id": "1c91036ea4d344bf8e17971ed8bfbb97",
       "version_major": 2,
       "version_minor": 0
      },
      "text/plain": [
       "Downloading data:   0%|          | 0.00/77.8k [00:00<?, ?B/s]"
      ]
     },
     "metadata": {},
     "output_type": "display_data"
    },
    {
     "data": {
      "application/vnd.jupyter.widget-view+json": {
       "model_id": "d42b2f17f6a9436a8865cd0a7e76ac64",
       "version_major": 2,
       "version_minor": 0
      },
      "text/plain": [
       "Downloading data:   0%|          | 0.00/136k [00:00<?, ?B/s]"
      ]
     },
     "metadata": {},
     "output_type": "display_data"
    },
    {
     "data": {
      "application/vnd.jupyter.widget-view+json": {
       "model_id": "7e5e38cecb034bb6a2dc1716c9bcf1d7",
       "version_major": 2,
       "version_minor": 0
      },
      "text/plain": [
       "Extracting data files:   0%|          | 0/3 [00:00<?, ?it/s]"
      ]
     },
     "metadata": {},
     "output_type": "display_data"
    },
    {
     "data": {
      "application/vnd.jupyter.widget-view+json": {
       "model_id": "0480c7d0a7294925a7012108618ed852",
       "version_major": 2,
       "version_minor": 0
      },
      "text/plain": [
       "Generating train split:   0%|          | 0/15250 [00:00<?, ? examples/s]"
      ]
     },
     "metadata": {},
     "output_type": "display_data"
    },
    {
     "data": {
      "application/vnd.jupyter.widget-view+json": {
       "model_id": "d5e290860fd84690b109d98b659de167",
       "version_major": 2,
       "version_minor": 0
      },
      "text/plain": [
       "Generating validation split:   0%|          | 0/3100 [00:00<?, ? examples/s]"
      ]
     },
     "metadata": {},
     "output_type": "display_data"
    },
    {
     "data": {
      "application/vnd.jupyter.widget-view+json": {
       "model_id": "21b29ed9213a4832aa77102a68c9404d",
       "version_major": 2,
       "version_minor": 0
      },
      "text/plain": [
       "Generating test split:   0%|          | 0/5500 [00:00<?, ? examples/s]"
      ]
     },
     "metadata": {},
     "output_type": "display_data"
    }
   ],
   "source": [
    "from datasets import load_dataset\n",
    "\n",
    "clinc = load_dataset(\"clinc_oos\", \"plus\") # plus : 범위 밖의 훈련 샘플이 담긴 서브셋"
   ]
  },
  {
   "cell_type": "code",
   "execution_count": 6,
   "id": "9ce21bc7",
   "metadata": {},
   "outputs": [
    {
     "data": {
      "text/plain": [
       "{'text': 'transfer $100 from my checking to saving account', 'intent': 133}"
      ]
     },
     "execution_count": 6,
     "metadata": {},
     "output_type": "execute_result"
    }
   ],
   "source": [
    "sample = clinc[\"test\"][42]\n",
    "sample # 의도는 ID로 제공"
   ]
  },
  {
   "cell_type": "code",
   "execution_count": 7,
   "id": "f67b7f7b",
   "metadata": {},
   "outputs": [
    {
     "data": {
      "text/plain": [
       "'transfer'"
      ]
     },
     "execution_count": 7,
     "metadata": {},
     "output_type": "execute_result"
    }
   ],
   "source": [
    "intents = clinc[\"test\"].features[\"intent\"]\n",
    "intents.int2str(sample[\"intent\"]) # 의도 : ID를 문자열로 쉽게 매핑"
   ]
  },
  {
   "cell_type": "code",
   "execution_count": 8,
   "id": "94335411",
   "metadata": {},
   "outputs": [
    {
     "data": {
      "application/vnd.jupyter.widget-view+json": {
       "model_id": "2c760333f3604b8289914cbf980a3f22",
       "version_major": 2,
       "version_minor": 0
      },
      "text/plain": [
       "Downloading builder script:   0%|          | 0.00/4.20k [00:00<?, ?B/s]"
      ]
     },
     "metadata": {},
     "output_type": "display_data"
    }
   ],
   "source": [
    "import evaluate\n",
    "\n",
    "accuracy_score = evaluate.load(\"accuracy\")"
   ]
  },
  {
   "cell_type": "code",
   "execution_count": 14,
   "id": "a905fb9b",
   "metadata": {},
   "outputs": [],
   "source": [
    "import torch\n",
    "import numpy as np\n",
    "from pathlib import Path\n",
    "from time import perf_counter\n",
    "\n",
    "\n",
    "class PerformanceBenchmark:\n",
    "    def __init__(self, pipeline, dataset, optim_type=\"BERT baseline\"):\n",
    "        self.pipeline = pipeline\n",
    "        self.dataset = dataset\n",
    "        self.optim_type = optim_type\n",
    "\n",
    "    def compute_accuracy(self):\n",
    "        preds, labels = [], []\n",
    "        for example in self.dataset :\n",
    "            pred = self.pipeline(example['text'])[0]['label']\n",
    "            label = example['intent']\n",
    "            preds.append(intents.str2int(pred))\n",
    "            labels.append(label)\n",
    "        accuracy = accuracy_score.compute(predictions = preds, references = labels)\n",
    "        print(f\"테스트 세트 정확도 - {accuracy['accuracy']:.3f}\")\n",
    "        return accuracy\n",
    "\n",
    "    \n",
    "    def compute_size(self):\n",
    "        state_dict = self.pipeline.model.state_dict()\n",
    "        # state_dict() : 모델의 층과 학습가능한 파라미터(가중치와 편향)를 매핑하는 dict 반환\n",
    "        # 키 : BERT 층 / 값 : BERT 텐서 \n",
    "        tmp_path = Path('model.pt')\n",
    "        torch.save(state_dict, tmp_path)\n",
    "        # 메가바이트 단위로 크기 계산\n",
    "        size_mb = Path(tmp_path).stat().st_size / (1024*1024)\n",
    "        # 임시 파일 삭제\n",
    "        tmp_path.unlink()\n",
    "        print(f\"모델 크기 (MB) - {size_mb:.2f}\")\n",
    "        return {\"size_mb\": size_mb}\n",
    "        \n",
    "\n",
    "    def time_pipeline(self, query=\"What is the pin number for my account?\"):  # 쿼리마다 평균적인 레이턴시 잼\n",
    "        latencies = []\n",
    "        # 워밍업\n",
    "        for _ in range(10) :\n",
    "            _ = self.pipeline(query)\n",
    "        # 실행 측정\n",
    "        for _ in range(100) :\n",
    "            start_time = perf_counter()\n",
    "            _ = self.pipeline(query)\n",
    "            latency = perf_counter() - start_time\n",
    "            latencies.append(latency)\n",
    "        # 통계 계산\n",
    "        time_avg_ms = 1000 * np.mean(latencies)\n",
    "        time_std_ms = 1000 * np.std(latencies)\n",
    "        print(f\"평균 레이턴시 (ms) - {time_avg_ms:.2f} +\\- {time_std_ms:.2f}\")\n",
    "        return {\"time_avg_ms\": time_avg_ms, \"time_std_ms\": time_std_ms}\n",
    "\n",
    "\n",
    "    def run_benchmark(self):\n",
    "        metrics = {}\n",
    "        metrics[self.optim_type] = self.compute_size()\n",
    "        metrics[self.optim_type].update(self.time_pipeline())\n",
    "        metrics[self.optim_type].update(self.compute_accuracy())\n",
    "        return metrics"
   ]
  },
  {
   "cell_type": "code",
   "execution_count": 15,
   "id": "f3df8fae",
   "metadata": {},
   "outputs": [
    {
     "name": "stdout",
     "output_type": "stream",
     "text": [
      "모델 크기 (MB) - 418.15\n",
      "평균 레이턴시 (ms) - 47.53 +\\- 5.07\n",
      "테스트 세트 정확도 - 0.867\n"
     ]
    }
   ],
   "source": [
    "# 기준 모델\n",
    "pb = PerformanceBenchmark(pipe, clinc[\"test\"])\n",
    "perf_metrics = pb.run_benchmark()"
   ]
  },
  {
   "cell_type": "markdown",
   "id": "897b2a39",
   "metadata": {},
   "source": [
    "### 지식 정제로 모델 크기 줄이기\n",
    "* 지식 정제 트레이너 만들기"
   ]
  },
  {
   "cell_type": "code",
   "execution_count": 16,
   "id": "0f4e871a",
   "metadata": {},
   "outputs": [],
   "source": [
    "from transformers import TrainingArguments\n",
    "\n",
    "class DistillationTrainingArguments(TrainingArguments):\n",
    "    def __init__(self, *args, alpha=0.5, temperature=2.0, **kwargs):\n",
    "        super().__init__(*args, **kwargs)\n",
    "        self.alpha = alpha  # 정제 손실의 상대적인 가중치 제어\n",
    "        self.temperature = temperature # 레이블의 확률 분포를 얼마나 완만하게 만들지 조절"
   ]
  },
  {
   "cell_type": "code",
   "execution_count": 17,
   "id": "e0066318",
   "metadata": {},
   "outputs": [],
   "source": [
    "import torch.nn as nn\n",
    "import torch.nn.functional as F\n",
    "from transformers import Trainer"
   ]
  },
  {
   "cell_type": "code",
   "execution_count": 18,
   "id": "fb5949d2",
   "metadata": {},
   "outputs": [],
   "source": [
    "class DistillationTrainer(Trainer):\n",
    "    def __init__(self, *args, teacher_model=None, **kwargs):\n",
    "        super().__init__(*args, **kwargs)\n",
    "        self.teacher_model = teacher_model\n",
    "\n",
    "    def compute_loss(self, model, inputs, return_outputs=False):\n",
    "        device = torch.device(\"cuda\" if torch.cuda.is_available() else \"cpu\")\n",
    "        inputs = inputs.to(device)\n",
    "        outputs_stu = model(**inputs)\n",
    "        \n",
    "        # 스튜던트의 크로스 엔트로피 손실과 로짓 추출\n",
    "        loss_ce = outputs_stu.loss\n",
    "        logits_stu = outputs_stu.logits\n",
    "        \n",
    "        # 티처의 로짓 추출\n",
    "        with torch.no_grad():\n",
    "            outputs_tea = self.teacher_model(**inputs)\n",
    "            logits_tea = outputs_tea.logits\n",
    "            \n",
    "        # 확률을 부드럽게하고 정제 손실 계산\n",
    "        loss_fct = nn.KLDivLoss(reduction=\"batchmean\") # KL 발산\n",
    "        loss_kd = self.args.temperature ** 2 * loss_fct(\n",
    "            F.log_softmax(logits_stu / self.args.temperature, dim=-1),\n",
    "            F.softmax(logits_tea / self.args.temperature, dim=-1))\n",
    "        \n",
    "        # 가중 평균된 스튜던트 손실 반환\n",
    "        loss = self.args.alpha * loss_ce + (1. - self.args.alpha) * loss_kd\n",
    "        return (loss, outputs_stu) if return_outputs else loss"
   ]
  },
  {
   "cell_type": "markdown",
   "id": "78708a02",
   "metadata": {},
   "source": [
    "* 좋은 스튜던트 초기화 선택하기\n",
    "    * 레이턴시와 메모리 사용량을 줄이기 위해 스튜던트로 작은 모델 골라야\n",
    "    * 경험 법칙에 의하면 티처와 스튜던트가 동일한 종류의 모델일 때 지식 정제 잘 동작함 -- BERT와 RoBERTa처럼 모델 종류가 다를 때 출력 임베딩 공간이 달라 스튜던트가 티처를 모방하는 데 방해가 됨"
   ]
  },
  {
   "cell_type": "code",
   "execution_count": 19,
   "id": "79b9b5b6",
   "metadata": {
    "scrolled": true
   },
   "outputs": [
    {
     "name": "stderr",
     "output_type": "stream",
     "text": [
      "C:\\Users\\knuyh\\anaconda3\\Lib\\site-packages\\huggingface_hub\\file_download.py:1132: FutureWarning: `resume_download` is deprecated and will be removed in version 1.0.0. Downloads always resume when possible. If you want to force a new download, use `force_download=True`.\n",
      "  warnings.warn(\n"
     ]
    },
    {
     "data": {
      "application/vnd.jupyter.widget-view+json": {
       "model_id": "9f3c184455f74628b80ddcd01ebf7665",
       "version_major": 2,
       "version_minor": 0
      },
      "text/plain": [
       "tokenizer_config.json:   0%|          | 0.00/48.0 [00:00<?, ?B/s]"
      ]
     },
     "metadata": {},
     "output_type": "display_data"
    },
    {
     "name": "stderr",
     "output_type": "stream",
     "text": [
      "C:\\Users\\knuyh\\anaconda3\\Lib\\site-packages\\huggingface_hub\\file_download.py:157: UserWarning: `huggingface_hub` cache-system uses symlinks by default to efficiently store duplicated files but your machine does not support them in C:\\Users\\knuyh\\.cache\\huggingface\\hub\\models--distilbert-base-uncased. Caching files will still work but in a degraded version that might require more space on your disk. This warning can be disabled by setting the `HF_HUB_DISABLE_SYMLINKS_WARNING` environment variable. For more details, see https://huggingface.co/docs/huggingface_hub/how-to-cache#limitations.\n",
      "To support symlinks on Windows, you either need to activate Developer Mode or to run Python as an administrator. In order to see activate developer mode, see this article: https://docs.microsoft.com/en-us/windows/apps/get-started/enable-your-device-for-development\n",
      "  warnings.warn(message)\n"
     ]
    },
    {
     "data": {
      "application/vnd.jupyter.widget-view+json": {
       "model_id": "9cf7cdfad47440c1b508785446cbd3e7",
       "version_major": 2,
       "version_minor": 0
      },
      "text/plain": [
       "config.json:   0%|          | 0.00/483 [00:00<?, ?B/s]"
      ]
     },
     "metadata": {},
     "output_type": "display_data"
    },
    {
     "data": {
      "application/vnd.jupyter.widget-view+json": {
       "model_id": "3056dd4c55344428a4d98fa22c6308f7",
       "version_major": 2,
       "version_minor": 0
      },
      "text/plain": [
       "vocab.txt:   0%|          | 0.00/232k [00:00<?, ?B/s]"
      ]
     },
     "metadata": {},
     "output_type": "display_data"
    },
    {
     "data": {
      "application/vnd.jupyter.widget-view+json": {
       "model_id": "40edec21258145a384cd0a1b8b7ce48b",
       "version_major": 2,
       "version_minor": 0
      },
      "text/plain": [
       "tokenizer.json:   0%|          | 0.00/466k [00:00<?, ?B/s]"
      ]
     },
     "metadata": {},
     "output_type": "display_data"
    },
    {
     "data": {
      "application/vnd.jupyter.widget-view+json": {
       "model_id": "81a6c5d7ed1e461685456de671637660",
       "version_major": 2,
       "version_minor": 0
      },
      "text/plain": [
       "Map:   0%|          | 0/15250 [00:00<?, ? examples/s]"
      ]
     },
     "metadata": {},
     "output_type": "display_data"
    },
    {
     "data": {
      "application/vnd.jupyter.widget-view+json": {
       "model_id": "7bd33a56a435455aac49a58c48e75289",
       "version_major": 2,
       "version_minor": 0
      },
      "text/plain": [
       "Map:   0%|          | 0/3100 [00:00<?, ? examples/s]"
      ]
     },
     "metadata": {},
     "output_type": "display_data"
    },
    {
     "data": {
      "application/vnd.jupyter.widget-view+json": {
       "model_id": "df8480fe944e4a7ea110c3867091aed1",
       "version_major": 2,
       "version_minor": 0
      },
      "text/plain": [
       "Map:   0%|          | 0/5500 [00:00<?, ? examples/s]"
      ]
     },
     "metadata": {},
     "output_type": "display_data"
    }
   ],
   "source": [
    "from transformers import AutoTokenizer\n",
    "\n",
    "student_ckpt = \"distilbert-base-uncased\"\n",
    "student_tokenizer = AutoTokenizer.from_pretrained(student_ckpt)\n",
    "\n",
    "def tokenize_text(batch):\n",
    "    return student_tokenizer(batch[\"text\"], truncation=True)\n",
    "\n",
    "clinc_enc = clinc.map(tokenize_text, batched=True, remove_columns=[\"text\"])\n",
    "clinc_enc = clinc_enc.rename_column(\"intent\", \"labels\")"
   ]
  },
  {
   "cell_type": "code",
   "execution_count": 20,
   "id": "406b26fd",
   "metadata": {},
   "outputs": [],
   "source": [
    "def compute_metrics(pred):\n",
    "    predictions, labels = pred\n",
    "    predictions = np.argmax(predictions, axis=1)\n",
    "    return accuracy_score.compute(predictions=predictions, references=labels)"
   ]
  },
  {
   "cell_type": "code",
   "execution_count": 46,
   "id": "68367e62",
   "metadata": {},
   "outputs": [],
   "source": [
    "batch_size = 48\n",
    "\n",
    "finetuned_ckpt = \"distilbert-base-uncased-finetuned-clinc\"\n",
    "student_training_args = DistillationTrainingArguments(\n",
    "    output_dir='C:/Users/knuyh/Desktop', evaluation_strategy = \"epoch\",\n",
    "    num_train_epochs=3, learning_rate=2e-5,\n",
    "    per_device_train_batch_size=batch_size,\n",
    "    per_device_eval_batch_size=batch_size, alpha=1, weight_decay=0.01,\n",
    "    push_to_hub=True)\n",
    "# 처음에는 alpha를 1로 지정해 티처로부터 어떤 신호도 받지 않고 성능 확인"
   ]
  },
  {
   "cell_type": "code",
   "execution_count": 47,
   "id": "52e81a47",
   "metadata": {},
   "outputs": [],
   "source": [
    "student_training_args.logging_steps = len(clinc_enc['train']) // batch_size\n",
    "student_training_args.disable_tqdm = False\n",
    "student_training_args.save_steps = 1e9\n",
    "student_training_args.log_level = 'error'"
   ]
  },
  {
   "cell_type": "code",
   "execution_count": 48,
   "id": "e7aedac2",
   "metadata": {},
   "outputs": [],
   "source": [
    "id2label = pipe.model.config.id2label\n",
    "label2id = pipe.model.config.label2id"
   ]
  },
  {
   "cell_type": "code",
   "execution_count": 49,
   "id": "f416713b",
   "metadata": {},
   "outputs": [],
   "source": [
    "from transformers import AutoConfig\n",
    "\n",
    "num_labels = intents.num_classes\n",
    "student_config = (AutoConfig\n",
    "                  .from_pretrained(student_ckpt, num_labels=num_labels,\n",
    "                                   id2label=id2label, label2id=label2id))"
   ]
  },
  {
   "cell_type": "code",
   "execution_count": 50,
   "id": "5cb410fe",
   "metadata": {},
   "outputs": [],
   "source": [
    "from transformers import AutoModelForSequenceClassification\n",
    "\n",
    "def student_init():\n",
    "    return AutoModelForSequenceClassification.from_pretrained(student_ckpt, config=student_config)"
   ]
  },
  {
   "cell_type": "code",
   "execution_count": 51,
   "id": "a348bbe6",
   "metadata": {},
   "outputs": [],
   "source": [
    "teacher_ckpt = \"transformersbook/bert-base-uncased-finetuned-clinc\"\n",
    "teacher_model = AutoModelForSequenceClassification.from_pretrained(teacher_ckpt, num_labels=num_labels)"
   ]
  },
  {
   "cell_type": "code",
   "execution_count": 52,
   "id": "0638bc35",
   "metadata": {},
   "outputs": [
    {
     "data": {
      "text/html": [
       "\n",
       "    <div>\n",
       "      \n",
       "      <progress value='954' max='954' style='width:300px; height:20px; vertical-align: middle;'></progress>\n",
       "      [954/954 1:57:29, Epoch 3/3]\n",
       "    </div>\n",
       "    <table border=\"1\" class=\"dataframe\">\n",
       "  <thead>\n",
       " <tr style=\"text-align: left;\">\n",
       "      <th>Epoch</th>\n",
       "      <th>Training Loss</th>\n",
       "      <th>Validation Loss</th>\n",
       "      <th>Accuracy</th>\n",
       "    </tr>\n",
       "  </thead>\n",
       "  <tbody>\n",
       "    <tr>\n",
       "      <td>1</td>\n",
       "      <td>4.356300</td>\n",
       "      <td>3.448467</td>\n",
       "      <td>0.703226</td>\n",
       "    </tr>\n",
       "    <tr>\n",
       "      <td>2</td>\n",
       "      <td>2.950100</td>\n",
       "      <td>2.370932</td>\n",
       "      <td>0.820645</td>\n",
       "    </tr>\n",
       "    <tr>\n",
       "      <td>3</td>\n",
       "      <td>2.250700</td>\n",
       "      <td>2.044150</td>\n",
       "      <td>0.840000</td>\n",
       "    </tr>\n",
       "  </tbody>\n",
       "</table><p>"
      ],
      "text/plain": [
       "<IPython.core.display.HTML object>"
      ]
     },
     "metadata": {},
     "output_type": "display_data"
    },
    {
     "data": {
      "text/plain": [
       "TrainOutput(global_step=954, training_loss=3.182282893662683, metrics={'train_runtime': 7058.5071, 'train_samples_per_second': 6.482, 'train_steps_per_second': 0.135, 'total_flos': 249062300327400.0, 'train_loss': 3.182282893662683, 'epoch': 3.0})"
      ]
     },
     "execution_count": 52,
     "metadata": {},
     "output_type": "execute_result"
    }
   ],
   "source": [
    "distilbert_trainer = DistillationTrainer(model_init=student_init,\n",
    "    teacher_model=teacher_model, args=student_training_args,\n",
    "    train_dataset=clinc_enc['train'], eval_dataset=clinc_enc['validation'],\n",
    "    compute_metrics=compute_metrics, tokenizer=student_tokenizer)\n",
    "\n",
    "distilbert_trainer.train()"
   ]
  },
  {
   "cell_type": "code",
   "execution_count": 53,
   "id": "6176d4e0",
   "metadata": {},
   "outputs": [
    {
     "name": "stderr",
     "output_type": "stream",
     "text": [
      "C:\\Users\\knuyh\\anaconda3\\Lib\\site-packages\\huggingface_hub\\file_download.py:1132: FutureWarning: `resume_download` is deprecated and will be removed in version 1.0.0. Downloads always resume when possible. If you want to force a new download, use `force_download=True`.\n",
      "  warnings.warn(\n"
     ]
    },
    {
     "data": {
      "application/vnd.jupyter.widget-view+json": {
       "model_id": "8f9b86e1ddf04a09b21a8a129d87664f",
       "version_major": 2,
       "version_minor": 0
      },
      "text/plain": [
       "config.json:   0%|          | 0.00/8.21k [00:00<?, ?B/s]"
      ]
     },
     "metadata": {},
     "output_type": "display_data"
    },
    {
     "name": "stderr",
     "output_type": "stream",
     "text": [
      "C:\\Users\\knuyh\\anaconda3\\Lib\\site-packages\\huggingface_hub\\file_download.py:157: UserWarning: `huggingface_hub` cache-system uses symlinks by default to efficiently store duplicated files but your machine does not support them in C:\\Users\\knuyh\\.cache\\huggingface\\hub\\models--transformersbook--distilbert-base-uncased-finetuned-clinc. Caching files will still work but in a degraded version that might require more space on your disk. This warning can be disabled by setting the `HF_HUB_DISABLE_SYMLINKS_WARNING` environment variable. For more details, see https://huggingface.co/docs/huggingface_hub/how-to-cache#limitations.\n",
      "To support symlinks on Windows, you either need to activate Developer Mode or to run Python as an administrator. In order to see activate developer mode, see this article: https://docs.microsoft.com/en-us/windows/apps/get-started/enable-your-device-for-development\n",
      "  warnings.warn(message)\n"
     ]
    },
    {
     "data": {
      "application/vnd.jupyter.widget-view+json": {
       "model_id": "105448de198847d78dc9d8e99397948f",
       "version_major": 2,
       "version_minor": 0
      },
      "text/plain": [
       "pytorch_model.bin:   0%|          | 0.00/268M [00:00<?, ?B/s]"
      ]
     },
     "metadata": {},
     "output_type": "display_data"
    },
    {
     "data": {
      "application/vnd.jupyter.widget-view+json": {
       "model_id": "b34d8f8acb044bf6a61259891c80300f",
       "version_major": 2,
       "version_minor": 0
      },
      "text/plain": [
       "tokenizer_config.json:   0%|          | 0.00/333 [00:00<?, ?B/s]"
      ]
     },
     "metadata": {},
     "output_type": "display_data"
    },
    {
     "data": {
      "application/vnd.jupyter.widget-view+json": {
       "model_id": "758de05f330b4334ab02410a546be5ec",
       "version_major": 2,
       "version_minor": 0
      },
      "text/plain": [
       "vocab.txt:   0%|          | 0.00/232k [00:00<?, ?B/s]"
      ]
     },
     "metadata": {},
     "output_type": "display_data"
    },
    {
     "data": {
      "application/vnd.jupyter.widget-view+json": {
       "model_id": "4301dde4191242b9994f4bcef268eaab",
       "version_major": 2,
       "version_minor": 0
      },
      "text/plain": [
       "tokenizer.json:   0%|          | 0.00/466k [00:00<?, ?B/s]"
      ]
     },
     "metadata": {},
     "output_type": "display_data"
    },
    {
     "data": {
      "application/vnd.jupyter.widget-view+json": {
       "model_id": "790c2b1b05474c86a764e952f20b24b7",
       "version_major": 2,
       "version_minor": 0
      },
      "text/plain": [
       "special_tokens_map.json:   0%|          | 0.00/112 [00:00<?, ?B/s]"
      ]
     },
     "metadata": {},
     "output_type": "display_data"
    }
   ],
   "source": [
    "finetuned_ckpt = \"transformersbook/distilbert-base-uncased-finetuned-clinc\"\n",
    "pipe = pipeline(\"text-classification\", model=finetuned_ckpt)"
   ]
  },
  {
   "cell_type": "code",
   "execution_count": 54,
   "id": "5a9c5e67",
   "metadata": {},
   "outputs": [
    {
     "name": "stdout",
     "output_type": "stream",
     "text": [
      "모델 크기 (MB) - 255.88\n",
      "평균 레이턴시 (ms) - 70.97 +\\- 31.32\n",
      "테스트 세트 정확도 - 0.858\n"
     ]
    }
   ],
   "source": [
    "optim_type = \"DistilBERT\"\n",
    "pb = PerformanceBenchmark(pipe, clinc[\"test\"], optim_type=optim_type)\n",
    "perf_metrics.update(pb.run_benchmark())"
   ]
  },
  {
   "cell_type": "code",
   "execution_count": 55,
   "id": "1fd0e63d",
   "metadata": {},
   "outputs": [
    {
     "data": {
      "image/png": "[encoded data removed]",
      "text/plain": [
       "<Figure size 640x480 with 1 Axes>"
      ]
     },
     "metadata": {},
     "output_type": "display_data"
    }
   ],
   "source": [
    "import pandas as pd\n",
    "import matplotlib.pyplot as plt\n",
    "\n",
    "def plot_metrics(perf_metrics, current_optim_type):\n",
    "    df = pd.DataFrame.from_dict(perf_metrics, orient='index')\n",
    "\n",
    "    for idx in df.index:\n",
    "        df_opt = df.loc[idx]\n",
    "        if idx == current_optim_type:\n",
    "            plt.scatter(df_opt[\"time_avg_ms\"], df_opt[\"accuracy\"] * 100,\n",
    "                        alpha=0.5, s=df_opt[\"size_mb\"], label=idx,\n",
    "                        marker='$\\u25CC$')\n",
    "        else:\n",
    "            plt.scatter(df_opt[\"time_avg_ms\"], df_opt[\"accuracy\"] * 100,\n",
    "                        s=df_opt[\"size_mb\"], label=idx, alpha=0.5)\n",
    "\n",
    "    legend = plt.legend(bbox_to_anchor=(1,1))\n",
    "    for handle in legend.legend_handles:\n",
    "        handle.set_sizes([20])\n",
    "\n",
    "    plt.ylim(80,90)\n",
    "    # 가장 느린 모델을 사용해 x 축 범위 지정\n",
    "    xlim = int(perf_metrics[\"BERT baseline\"][\"time_avg_ms\"] + 3)\n",
    "    plt.xlim(1, xlim)\n",
    "    plt.ylabel(\"Accuracy (%)\")\n",
    "    plt.xlabel(\"Average latency (ms)\")\n",
    "    plt.show()\n",
    "\n",
    "plot_metrics(perf_metrics, optim_type)"
   ]
  },
  {
   "cell_type": "markdown",
   "id": "bfd9cabc",
   "metadata": {},
   "source": [
    "작은 모델을 사용해 평균 레이턴시를 크게 줄였음  \n",
    "티처의 정제 손실 추가해보기\n",
    "\n",
    "* 옵투나로 좋은 하이퍼파라미터 찾기"
   ]
  },
  {
   "cell_type": "code",
   "execution_count": 56,
   "id": "9b230e7e",
   "metadata": {},
   "outputs": [],
   "source": [
    "def objective(trial):\n",
    "    x = trial.suggest_float(\"x\", -2, 2) # 균등하게 샘플링할 파라미터 범위 지정\n",
    "    y = trial.suggest_float(\"y\", -2, 2)\n",
    "    return (1 - x) ** 2 + 100 * (y - x ** 2) ** 2"
   ]
  },
  {
   "cell_type": "code",
   "execution_count": 59,
   "id": "b65d2d32",
   "metadata": {},
   "outputs": [
    {
     "name": "stderr",
     "output_type": "stream",
     "text": [
      "[I 2024-08-02 11:27:20,820] A new study created in memory with name: no-name-e64f6afa-e5b5-4619-879c-51fe58dc6d00\n",
      "[I 2024-08-02 11:27:20,839] Trial 0 finished with value: 197.40361824165817 and parameters: {'x': -0.38303787554184554, 'y': 1.5448983475204279}. Best is trial 0 with value: 197.40361824165817.\n",
      "[I 2024-08-02 11:27:20,844] Trial 1 finished with value: 538.9884567126995 and parameters: {'x': 1.6291780467216683, 'y': 0.3334613364264021}. Best is trial 0 with value: 197.40361824165817.\n",
      "[I 2024-08-02 11:27:20,848] Trial 2 finished with value: 5.872215096507523 and parameters: {'x': -1.1155689585303339, 'y': 1.1263169850840278}. Best is trial 2 with value: 5.872215096507523.\n",
      "[I 2024-08-02 11:27:20,854] Trial 3 finished with value: 118.70205319118675 and parameters: {'x': 0.8714482218583242, 'y': -0.33000687282769325}. Best is trial 2 with value: 5.872215096507523.\n",
      "[I 2024-08-02 11:27:20,860] Trial 4 finished with value: 332.95066660703066 and parameters: {'x': 0.09263318265107401, 'y': -1.8138552434256279}. Best is trial 2 with value: 5.872215096507523.\n",
      "[I 2024-08-02 11:27:20,866] Trial 5 finished with value: 263.45969902097045 and parameters: {'x': 1.5203962548158176, 'y': 0.6892950393351134}. Best is trial 2 with value: 5.872215096507523.\n",
      "[I 2024-08-02 11:27:20,872] Trial 6 finished with value: 134.38057143921083 and parameters: {'x': -0.11538941348100584, 'y': -1.140533097725581}. Best is trial 2 with value: 5.872215096507523.\n",
      "[I 2024-08-02 11:27:20,878] Trial 7 finished with value: 483.47989976040793 and parameters: {'x': 1.3178586401574823, 'y': -0.46183648237221986}. Best is trial 2 with value: 5.872215096507523.\n",
      "[I 2024-08-02 11:27:20,884] Trial 8 finished with value: 73.33010449027154 and parameters: {'x': -1.6616461039868575, 'y': 1.9471528867927392}. Best is trial 2 with value: 5.872215096507523.\n",
      "[I 2024-08-02 11:27:20,889] Trial 9 finished with value: 27.273097206785636 and parameters: {'x': -0.33134342071757716, 'y': 0.6147698670896462}. Best is trial 2 with value: 5.872215096507523.\n",
      "[I 2024-08-02 11:27:20,963] Trial 10 finished with value: 384.87090530161623 and parameters: {'x': -1.7847111269702483, 'y': 1.2432455858950693}. Best is trial 2 with value: 5.872215096507523.\n",
      "[I 2024-08-02 11:27:21,027] Trial 11 finished with value: 4.304947658444501 and parameters: {'x': -0.9719007798871127, 'y': 0.8800500558637872}. Best is trial 11 with value: 4.304947658444501.\n",
      "[I 2024-08-02 11:27:21,073] Trial 12 finished with value: 4.404135607035562 and parameters: {'x': -1.097429823024534, 'y': 1.211369156340013}. Best is trial 11 with value: 4.304947658444501.\n",
      "[I 2024-08-02 11:27:21,131] Trial 13 finished with value: 60.30158550135178 and parameters: {'x': -1.1028679908257466, 'y': 1.96384393660091}. Best is trial 11 with value: 4.304947658444501.\n",
      "[I 2024-08-02 11:27:21,180] Trial 14 finished with value: 3.9399743201305384 and parameters: {'x': -0.9833615861881455, 'y': 0.959093594981874}. Best is trial 14 with value: 3.9399743201305384.\n",
      "[I 2024-08-02 11:27:21,217] Trial 15 finished with value: 28.62210762645907 and parameters: {'x': -0.743056382223437, 'y': 0.046327863552612564}. Best is trial 14 with value: 3.9399743201305384.\n",
      "[I 2024-08-02 11:27:21,255] Trial 16 finished with value: 38.93202660559482 and parameters: {'x': 0.3869574816325847, 'y': 0.7706725263450698}. Best is trial 14 with value: 3.9399743201305384.\n",
      "[I 2024-08-02 11:27:21,300] Trial 17 finished with value: 860.0067246627423 and parameters: {'x': -1.4442010456061658, 'y': -0.8366669661439936}. Best is trial 14 with value: 3.9399743201305384.\n",
      "[I 2024-08-02 11:27:21,348] Trial 18 finished with value: 20.882906875149402 and parameters: {'x': -0.7033060779665878, 'y': 0.07059162030420399}. Best is trial 14 with value: 3.9399743201305384.\n",
      "[I 2024-08-02 11:27:21,396] Trial 19 finished with value: 168.6182811567663 and parameters: {'x': 0.452376195917748, 'y': 1.5020199944353414}. Best is trial 14 with value: 3.9399743201305384.\n",
      "[I 2024-08-02 11:27:21,446] Trial 20 finished with value: 944.8337627877452 and parameters: {'x': 1.997276217611914, 'y': 0.9169156763719739}. Best is trial 14 with value: 3.9399743201305384.\n",
      "[I 2024-08-02 11:27:21,494] Trial 21 finished with value: 9.312294045436463 and parameters: {'x': -1.1195116568960692, 'y': 1.472850522741544}. Best is trial 14 with value: 3.9399743201305384.\n",
      "[I 2024-08-02 11:27:21,540] Trial 22 finished with value: 1270.2134587725984 and parameters: {'x': -1.9860714053616053, 'y': 0.3930055158791584}. Best is trial 14 with value: 3.9399743201305384.\n",
      "[I 2024-08-02 11:27:21,587] Trial 23 finished with value: 24.586070153508988 and parameters: {'x': -0.8707263991487326, 'y': 1.2173643412363162}. Best is trial 14 with value: 3.9399743201305384.\n",
      "[I 2024-08-02 11:27:21,639] Trial 24 finished with value: 119.56746958887184 and parameters: {'x': -1.4388709026699864, 'y': 1.0044255639967714}. Best is trial 14 with value: 3.9399743201305384.\n",
      "[I 2024-08-02 11:27:21,681] Trial 25 finished with value: 214.07331123555227 and parameters: {'x': -0.4376969068391472, 'y': 1.6476223276145645}. Best is trial 14 with value: 3.9399743201305384.\n",
      "[I 2024-08-02 11:27:21,723] Trial 26 finished with value: 300.84240260449764 and parameters: {'x': -1.4315241095244924, 'y': 0.33190839130269445}. Best is trial 14 with value: 3.9399743201305384.\n",
      "[I 2024-08-02 11:27:21,765] Trial 27 finished with value: 11.092444354345236 and parameters: {'x': -0.9477182926851488, 'y': 0.6280063487762257}. Best is trial 14 with value: 3.9399743201305384.\n",
      "[I 2024-08-02 11:27:21,805] Trial 28 finished with value: 40.48946156655676 and parameters: {'x': -0.6200849301581763, 'y': -0.2308383751058245}. Best is trial 14 with value: 3.9399743201305384.\n",
      "[I 2024-08-02 11:27:21,852] Trial 29 finished with value: 284.64896077581835 and parameters: {'x': -0.27128493234505535, 'y': 1.755953370018516}. Best is trial 14 with value: 3.9399743201305384.\n",
      "[I 2024-08-02 11:27:21,898] Trial 30 finished with value: 5.726824644335249 and parameters: {'x': -1.2054303121613463, 'y': 1.3601697306463785}. Best is trial 14 with value: 3.9399743201305384.\n",
      "[I 2024-08-02 11:27:21,943] Trial 31 finished with value: 9.714496938280696 and parameters: {'x': -1.2718591983860044, 'y': 1.4042446423193806}. Best is trial 14 with value: 3.9399743201305384.\n",
      "[I 2024-08-02 11:27:21,992] Trial 32 finished with value: 298.5985968245859 and parameters: {'x': -1.6347489864554814, 'y': 0.9646083165199433}. Best is trial 14 with value: 3.9399743201305384.\n",
      "[I 2024-08-02 11:27:22,037] Trial 33 finished with value: 12.498073222718812 and parameters: {'x': -0.9769885458920529, 'y': 1.247586633682977}. Best is trial 14 with value: 3.9399743201305384.\n",
      "[I 2024-08-02 11:27:22,091] Trial 34 finished with value: 2.697427759810792 and parameters: {'x': -0.6081535745179664, 'y': 0.3364936359431897}. Best is trial 34 with value: 2.697427759810792.\n",
      "[I 2024-08-02 11:27:22,146] Trial 35 finished with value: 2.35288372856994 and parameters: {'x': -0.5146732289593763, 'y': 0.24067103107578544}. Best is trial 35 with value: 2.35288372856994.\n",
      "[I 2024-08-02 11:27:22,206] Trial 36 finished with value: 11.326454359662982 and parameters: {'x': 0.08598567151780356, 'y': 0.33129216440047343}. Best is trial 35 with value: 2.35288372856994.\n",
      "[I 2024-08-02 11:27:22,284] Trial 37 finished with value: 26.62361825714415 and parameters: {'x': -0.5887868126571055, 'y': -0.14424122907263515}. Best is trial 35 with value: 2.35288372856994.\n",
      "[I 2024-08-02 11:27:22,339] Trial 38 finished with value: 27.26707658186515 and parameters: {'x': -0.06850865743016155, 'y': 0.5158232223113469}. Best is trial 35 with value: 2.35288372856994.\n",
      "[I 2024-08-02 11:27:22,390] Trial 39 finished with value: 2.409910479206009 and parameters: {'x': -0.47732646321274186, 'y': 0.18015229393903803}. Best is trial 35 with value: 2.35288372856994.\n",
      "[I 2024-08-02 11:27:22,435] Trial 40 finished with value: 52.11752938576893 and parameters: {'x': -0.4237236547552825, 'y': -0.5282049729107223}. Best is trial 35 with value: 2.35288372856994.\n",
      "[I 2024-08-02 11:27:22,474] Trial 41 finished with value: 0.44960966097618793 and parameters: {'x': 0.34377055190982775, 'y': 0.10440409622472194}. Best is trial 41 with value: 0.44960966097618793.\n"
     ]
    },
    {
     "name": "stderr",
     "output_type": "stream",
     "text": [
      "[I 2024-08-02 11:27:22,522] Trial 42 finished with value: 1.1661833768853724 and parameters: {'x': 0.288437969967569, 'y': 0.1644284053925825}. Best is trial 41 with value: 0.44960966097618793.\n",
      "[I 2024-08-02 11:27:22,571] Trial 43 finished with value: 0.34186818194930163 and parameters: {'x': 0.4276457622309091, 'y': 0.17093150112531758}. Best is trial 43 with value: 0.34186818194930163.\n",
      "[I 2024-08-02 11:27:22,614] Trial 44 finished with value: 181.6854626257205 and parameters: {'x': 0.8315804945004462, 'y': -0.6562761570803636}. Best is trial 43 with value: 0.34186818194930163.\n",
      "[I 2024-08-02 11:27:22,655] Trial 45 finished with value: 0.8002350245652193 and parameters: {'x': 0.33373073258246266, 'y': 0.1710687715801777}. Best is trial 43 with value: 0.34186818194930163.\n",
      "[I 2024-08-02 11:27:22,730] Trial 46 finished with value: 7.361887594265816 and parameters: {'x': 0.3738278487441027, 'y': -0.12425645219045808}. Best is trial 43 with value: 0.34186818194930163.\n",
      "[I 2024-08-02 11:27:22,777] Trial 47 finished with value: 75.26202376505465 and parameters: {'x': 0.6979570485294755, 'y': -0.3798668800262094}. Best is trial 43 with value: 0.34186818194930163.\n",
      "[I 2024-08-02 11:27:22,819] Trial 48 finished with value: 260.8657724370478 and parameters: {'x': 0.24612068291572148, 'y': -1.5527982128334452}. Best is trial 43 with value: 0.34186818194930163.\n",
      "[I 2024-08-02 11:27:22,859] Trial 49 finished with value: 175.62824356831064 and parameters: {'x': 1.2268660377869187, 'y': 0.18014640645221477}. Best is trial 43 with value: 0.34186818194930163.\n",
      "[I 2024-08-02 11:27:22,902] Trial 50 finished with value: 26.026381546645048 and parameters: {'x': 0.6528189955269212, 'y': -0.08280522595339243}. Best is trial 43 with value: 0.34186818194930163.\n",
      "[I 2024-08-02 11:27:22,943] Trial 51 finished with value: 3.0619421279790027 and parameters: {'x': -0.1719285110139852, 'y': 0.15950269641393117}. Best is trial 43 with value: 0.34186818194930163.\n",
      "[I 2024-08-02 11:27:22,988] Trial 52 finished with value: 68.63480575170942 and parameters: {'x': 1.010829896292376, 'y': 0.19331652818574735}. Best is trial 43 with value: 0.34186818194930163.\n",
      "[I 2024-08-02 11:27:23,039] Trial 53 finished with value: 20.456835457800093 and parameters: {'x': 0.18617176662197268, 'y': 0.47957024421593647}. Best is trial 43 with value: 0.34186818194930163.\n",
      "[I 2024-08-02 11:27:23,081] Trial 54 finished with value: 9.920488525582943 and parameters: {'x': 0.5891717757407462, 'y': 0.03484612157889516}. Best is trial 43 with value: 0.34186818194930163.\n",
      "[I 2024-08-02 11:27:23,129] Trial 55 finished with value: 10.473954033994211 and parameters: {'x': 0.18742070003497743, 'y': -0.2781412407151192}. Best is trial 43 with value: 0.34186818194930163.\n",
      "[I 2024-08-02 11:27:23,175] Trial 56 finished with value: 19.772427013339765 and parameters: {'x': 0.5196863195522788, 'y': 0.7121341130239237}. Best is trial 43 with value: 0.34186818194930163.\n",
      "[I 2024-08-02 11:27:23,218] Trial 57 finished with value: 82.74279771345198 and parameters: {'x': -0.0020835490311694738, 'y': -0.9040898257895371}. Best is trial 43 with value: 0.34186818194930163.\n",
      "[I 2024-08-02 11:27:23,260] Trial 58 finished with value: 19.390164733005495 and parameters: {'x': 0.31026384904114424, 'y': 0.5311708734264806}. Best is trial 43 with value: 0.34186818194930163.\n",
      "[I 2024-08-02 11:27:23,297] Trial 59 finished with value: 75.50588314935712 and parameters: {'x': 1.0102276310125877, 'y': 0.1516192554589134}. Best is trial 43 with value: 0.34186818194930163.\n",
      "[I 2024-08-02 11:27:23,338] Trial 60 finished with value: 2.246833384584886 and parameters: {'x': -0.22494219400968707, 'y': -0.035792560209479574}. Best is trial 43 with value: 0.34186818194930163.\n",
      "[I 2024-08-02 11:27:23,367] Trial 61 finished with value: 2.4234888417349674 and parameters: {'x': -0.24427575787716957, 'y': -0.033885042347557015}. Best is trial 43 with value: 0.34186818194930163.\n",
      "[I 2024-08-02 11:27:23,400] Trial 62 finished with value: 8.852649262926763 and parameters: {'x': 0.01790287091113041, 'y': 0.2811787420051294}. Best is trial 43 with value: 0.34186818194930163.\n",
      "[I 2024-08-02 11:27:23,442] Trial 63 finished with value: 13.193568209583473 and parameters: {'x': -0.3532642635761793, 'y': -0.21228363921934024}. Best is trial 43 with value: 0.34186818194930163.\n",
      "[I 2024-08-02 11:27:23,484] Trial 64 finished with value: 22.37037018835293 and parameters: {'x': -0.14846905072144656, 'y': -0.43677486813294686}. Best is trial 43 with value: 0.34186818194930163.\n",
      "[I 2024-08-02 11:27:23,535] Trial 65 finished with value: 60.2537164937709 and parameters: {'x': 0.12891007264694876, 'y': 0.7879473008350621}. Best is trial 43 with value: 0.34186818194930163.\n",
      "[I 2024-08-02 11:27:23,573] Trial 66 finished with value: 5.57577486026598 and parameters: {'x': -0.5009189502320499, 'y': 0.06862834769705532}. Best is trial 43 with value: 0.34186818194930163.\n",
      "[I 2024-08-02 11:27:23,611] Trial 67 finished with value: 55.82171455271332 and parameters: {'x': -0.8257812607186529, 'y': -0.042572972147782745}. Best is trial 43 with value: 0.34186818194930163.\n",
      "[I 2024-08-02 11:27:23,656] Trial 68 finished with value: 10.25596394806533 and parameters: {'x': 0.40085228252915334, 'y': 0.47527730698549076}. Best is trial 43 with value: 0.34186818194930163.\n",
      "[I 2024-08-02 11:27:23,695] Trial 69 finished with value: 35.544702274325644 and parameters: {'x': -0.0355606661248804, 'y': -0.5858667393409672}. Best is trial 43 with value: 0.34186818194930163.\n",
      "[I 2024-08-02 11:27:23,746] Trial 70 finished with value: 6.0196958820792235 and parameters: {'x': -0.1943905900301866, 'y': 0.2521035198661635}. Best is trial 43 with value: 0.34186818194930163.\n",
      "[I 2024-08-02 11:27:23,787] Trial 71 finished with value: 3.522117543628257 and parameters: {'x': -0.3047431895616599, 'y': -0.042030170799765426}. Best is trial 43 with value: 0.34186818194930163.\n",
      "[I 2024-08-02 11:27:23,830] Trial 72 finished with value: 85.35651522409242 and parameters: {'x': 0.7949003768824643, 'y': -0.291791603423167}. Best is trial 43 with value: 0.34186818194930163.\n",
      "[I 2024-08-02 11:27:23,879] Trial 73 finished with value: 0.5163864878074192 and parameters: {'x': 0.28562855354105676, 'y': 0.07379911904274364}. Best is trial 43 with value: 0.34186818194930163.\n",
      "[I 2024-08-02 11:27:23,918] Trial 74 finished with value: 1.0932209854178758 and parameters: {'x': 0.5273016227025032, 'y': 0.37130884931974095}. Best is trial 43 with value: 0.34186818194930163.\n",
      "[I 2024-08-02 11:27:23,957] Trial 75 finished with value: 3.755471266696697 and parameters: {'x': 0.5270145115806044, 'y': 0.08981462786930977}. Best is trial 43 with value: 0.34186818194930163.\n",
      "[I 2024-08-02 11:27:23,994] Trial 76 finished with value: 32.47012847748068 and parameters: {'x': 0.2707248662601679, 'y': 0.6384316373321528}. Best is trial 43 with value: 0.34186818194930163.\n",
      "[I 2024-08-02 11:27:24,034] Trial 77 finished with value: 2.719728827498824 and parameters: {'x': 0.7334771048944554, 'y': 0.3752405643714175}. Best is trial 43 with value: 0.34186818194930163.\n",
      "[I 2024-08-02 11:27:24,068] Trial 78 finished with value: 6.784976156958636 and parameters: {'x': 0.41295603583295853, 'y': 0.4243112433840738}. Best is trial 43 with value: 0.34186818194930163.\n",
      "[I 2024-08-02 11:27:24,106] Trial 79 finished with value: 113.3989896498618 and parameters: {'x': 0.9381385605730885, 'y': -0.18476768982673242}. Best is trial 43 with value: 0.34186818194930163.\n",
      "[I 2024-08-02 11:27:24,147] Trial 80 finished with value: 8.364145900669495 and parameters: {'x': 0.08020405639421135, 'y': 0.2806246183841804}. Best is trial 43 with value: 0.34186818194930163.\n",
      "[I 2024-08-02 11:27:24,191] Trial 81 finished with value: 7.093394662664096 and parameters: {'x': 0.5532218611252493, 'y': 0.5686145913472729}. Best is trial 43 with value: 0.34186818194930163.\n",
      "[I 2024-08-02 11:27:24,230] Trial 82 finished with value: 0.4855561406439441 and parameters: {'x': 0.3176798736927942, 'y': 0.08677999795758784}. Best is trial 43 with value: 0.34186818194930163.\n",
      "[I 2024-08-02 11:27:24,270] Trial 83 finished with value: 0.5543494748351253 and parameters: {'x': 0.2587851514975243, 'y': 0.05993411451221241}. Best is trial 43 with value: 0.34186818194930163.\n"
     ]
    },
    {
     "name": "stderr",
     "output_type": "stream",
     "text": [
      "[I 2024-08-02 11:27:24,312] Trial 84 finished with value: 0.863897616921725 and parameters: {'x': 0.2955263100887491, 'y': 0.026704583807825824}. Best is trial 43 with value: 0.34186818194930163.\n",
      "[I 2024-08-02 11:27:24,356] Trial 85 finished with value: 0.5406866827703981 and parameters: {'x': 0.33690004856679656, 'y': 0.08172348400174048}. Best is trial 43 with value: 0.34186818194930163.\n",
      "[I 2024-08-02 11:27:24,403] Trial 86 finished with value: 12.027790773939955 and parameters: {'x': 0.6387553032020119, 'y': 0.06308380876895417}. Best is trial 43 with value: 0.34186818194930163.\n",
      "[I 2024-08-02 11:27:24,451] Trial 87 finished with value: 16.681827441562074 and parameters: {'x': 0.47534224915968526, 'y': -0.17909988733210283}. Best is trial 43 with value: 0.34186818194930163.\n",
      "[I 2024-08-02 11:27:24,492] Trial 88 finished with value: 9.041516458451357 and parameters: {'x': 0.3411987168124785, 'y': 0.40980193085597993}. Best is trial 43 with value: 0.34186818194930163.\n",
      "[I 2024-08-02 11:27:24,536] Trial 89 finished with value: 12.240919425973743 and parameters: {'x': 0.1753557071078084, 'y': -0.3092633347991469}. Best is trial 43 with value: 0.34186818194930163.\n",
      "[I 2024-08-02 11:27:24,586] Trial 90 finished with value: 37.12480922542887 and parameters: {'x': 0.4662587488294736, 'y': -0.38956183461429317}. Best is trial 43 with value: 0.34186818194930163.\n",
      "[I 2024-08-02 11:27:24,625] Trial 91 finished with value: 0.5614003966476125 and parameters: {'x': 0.31106140622086287, 'y': 0.12621492974136658}. Best is trial 43 with value: 0.34186818194930163.\n",
      "[I 2024-08-02 11:27:24,664] Trial 92 finished with value: 0.8472998371645054 and parameters: {'x': 0.22508607527485247, 'y': 0.10034354064128673}. Best is trial 43 with value: 0.34186818194930163.\n",
      "[I 2024-08-02 11:27:24,705] Trial 93 finished with value: 0.6323761951263027 and parameters: {'x': 0.23061243405165138, 'y': 0.07328656401607665}. Best is trial 43 with value: 0.34186818194930163.\n",
      "[I 2024-08-02 11:27:24,748] Trial 94 finished with value: 1.9293495550019335 and parameters: {'x': 0.10535607784918066, 'y': 0.1173525175810333}. Best is trial 43 with value: 0.34186818194930163.\n",
      "[I 2024-08-02 11:27:24,785] Trial 95 finished with value: 3.892761687042246 and parameters: {'x': 0.2347957601739957, 'y': -0.12672870196353506}. Best is trial 43 with value: 0.34186818194930163.\n",
      "[I 2024-08-02 11:27:24,819] Trial 96 finished with value: 6.922236240300858 and parameters: {'x': 0.030248810551788408, 'y': 0.24549256250551682}. Best is trial 43 with value: 0.34186818194930163.\n",
      "[I 2024-08-02 11:27:24,861] Trial 97 finished with value: 2.307155166825743 and parameters: {'x': -0.09895992652385971, 'y': -0.09506122454366228}. Best is trial 43 with value: 0.34186818194930163.\n",
      "[I 2024-08-02 11:27:24,903] Trial 98 finished with value: 1.5846018352395044 and parameters: {'x': 0.35399849666379185, 'y': 0.01727402242088613}. Best is trial 43 with value: 0.34186818194930163.\n",
      "[I 2024-08-02 11:27:24,947] Trial 99 finished with value: 0.7779133700833704 and parameters: {'x': 0.6182234421104189, 'y': 0.30269173238001446}. Best is trial 43 with value: 0.34186818194930163.\n",
      "[I 2024-08-02 11:27:24,985] Trial 100 finished with value: 5.91199524636065 and parameters: {'x': 0.7589422825743348, 'y': 0.334045327257149}. Best is trial 43 with value: 0.34186818194930163.\n",
      "[I 2024-08-02 11:27:25,025] Trial 101 finished with value: 5.225990803674872 and parameters: {'x': 0.5941579440229141, 'y': 0.1280507078648765}. Best is trial 43 with value: 0.34186818194930163.\n",
      "[I 2024-08-02 11:27:25,067] Trial 102 finished with value: 3.669244587771478 and parameters: {'x': 0.21946738276538144, 'y': 0.22309487256241778}. Best is trial 43 with value: 0.34186818194930163.\n",
      "[I 2024-08-02 11:27:25,107] Trial 103 finished with value: 2.0712062254110775 and parameters: {'x': 0.4154733638365514, 'y': 0.3041298964055249}. Best is trial 43 with value: 0.34186818194930163.\n",
      "[I 2024-08-02 11:27:25,150] Trial 104 finished with value: 11.056142934916249 and parameters: {'x': 0.6619768112483818, 'y': 0.10742812274171523}. Best is trial 43 with value: 0.34186818194930163.\n",
      "[I 2024-08-02 11:27:25,191] Trial 105 finished with value: 109.15007923628791 and parameters: {'x': 0.8952625092554805, 'y': -0.2432016906807604}. Best is trial 43 with value: 0.34186818194930163.\n",
      "[I 2024-08-02 11:27:25,234] Trial 106 finished with value: 369.9216738524643 and parameters: {'x': 0.14413956401290606, 'y': -1.9006534016760206}. Best is trial 43 with value: 0.34186818194930163.\n",
      "[I 2024-08-02 11:27:25,277] Trial 107 finished with value: 11.623044055927735 and parameters: {'x': 0.35408075066039774, 'y': 0.4601243150925026}. Best is trial 43 with value: 0.34186818194930163.\n",
      "[I 2024-08-02 11:27:25,320] Trial 108 finished with value: 8.679252625473119 and parameters: {'x': 0.4623566041998971, 'y': -0.07588465550978439}. Best is trial 43 with value: 0.34186818194930163.\n",
      "[I 2024-08-02 11:27:25,358] Trial 109 finished with value: 5.025563610794022 and parameters: {'x': 0.05599873600907415, 'y': 0.2064687191428024}. Best is trial 43 with value: 0.34186818194930163.\n",
      "[I 2024-08-02 11:27:25,395] Trial 110 finished with value: 1.2416389488490447 and parameters: {'x': -0.059473142856689476, 'y': 0.03805597828708977}. Best is trial 43 with value: 0.34186818194930163.\n",
      "[I 2024-08-02 11:27:25,429] Trial 111 finished with value: 1.014850357185153 and parameters: {'x': 0.2912214896882982, 'y': 0.013222011505147763}. Best is trial 43 with value: 0.34186818194930163.\n",
      "[I 2024-08-02 11:27:25,464] Trial 112 finished with value: 1.0100683845911205 and parameters: {'x': 0.2591924606288591, 'y': -0.0007363188045716729}. Best is trial 43 with value: 0.34186818194930163.\n",
      "[I 2024-08-02 11:27:25,495] Trial 113 finished with value: 3.3399112405125577 and parameters: {'x': 0.17205315898784518, 'y': -0.1333214739108023}. Best is trial 43 with value: 0.34186818194930163.\n",
      "[I 2024-08-02 11:27:25,533] Trial 114 finished with value: 0.5937570157755976 and parameters: {'x': 0.32051224022112834, 'y': 0.1390672485826469}. Best is trial 43 with value: 0.34186818194930163.\n",
      "[I 2024-08-02 11:27:25,575] Trial 115 finished with value: 5.2327533837661075 and parameters: {'x': 0.6010294937616193, 'y': 0.1359904553166172}. Best is trial 43 with value: 0.34186818194930163.\n",
      "[I 2024-08-02 11:27:25,616] Trial 116 finished with value: 15.521963692622801 and parameters: {'x': 0.4372207017453064, 'y': 0.5811009520615951}. Best is trial 43 with value: 0.34186818194930163.\n",
      "[I 2024-08-02 11:27:25,651] Trial 117 finished with value: 1.020290466134811 and parameters: {'x': 0.36147692317765096, 'y': 0.2089329759701341}. Best is trial 43 with value: 0.34186818194930163.\n",
      "[I 2024-08-02 11:27:25,691] Trial 118 finished with value: 0.32499933231964445 and parameters: {'x': 0.5212597380499386, 'y': 0.3026644355405225}. Best is trial 118 with value: 0.32499933231964445.\n",
      "[I 2024-08-02 11:27:25,731] Trial 119 finished with value: 0.5566676366460759 and parameters: {'x': 0.5035641195711794, 'y': 0.30927413423819117}. Best is trial 118 with value: 0.32499933231964445.\n",
      "[I 2024-08-02 11:27:25,772] Trial 120 finished with value: 2.258062981100367 and parameters: {'x': 0.6945062359763123, 'y': 0.33520847507974894}. Best is trial 118 with value: 0.32499933231964445.\n",
      "[I 2024-08-02 11:27:25,812] Trial 121 finished with value: 2.7506826182124944 and parameters: {'x': 0.5408878811152147, 'y': 0.45193029573545307}. Best is trial 118 with value: 0.32499933231964445.\n",
      "[I 2024-08-02 11:27:25,851] Trial 122 finished with value: 0.5885039207138354 and parameters: {'x': 0.47858159421183893, 'y': 0.2853099403992955}. Best is trial 118 with value: 0.32499933231964445.\n",
      "[I 2024-08-02 11:27:25,889] Trial 123 finished with value: 19.53640396162647 and parameters: {'x': 0.4853457431277729, 'y': 0.674554054761408}. Best is trial 118 with value: 0.32499933231964445.\n",
      "[I 2024-08-02 11:27:25,929] Trial 124 finished with value: 1.5737386579993011 and parameters: {'x': 0.8184166678099992, 'y': 0.7939334438931569}. Best is trial 118 with value: 0.32499933231964445.\n",
      "[I 2024-08-02 11:27:25,965] Trial 125 finished with value: 1.395397327255139 and parameters: {'x': 0.6158469111593012, 'y': 0.26756138718981304}. Best is trial 118 with value: 0.32499933231964445.\n"
     ]
    },
    {
     "name": "stderr",
     "output_type": "stream",
     "text": [
      "[I 2024-08-02 11:27:26,000] Trial 126 finished with value: 12.01461796924494 and parameters: {'x': 0.41807920352763916, 'y': 0.516491642073985}. Best is trial 118 with value: 0.32499933231964445.\n",
      "[I 2024-08-02 11:27:26,034] Trial 127 finished with value: 5.9527596708700115 and parameters: {'x': 0.7179073671473446, 'y': 0.2730444710694012}. Best is trial 118 with value: 0.32499933231964445.\n",
      "[I 2024-08-02 11:27:26,069] Trial 128 finished with value: 88.73620875626477 and parameters: {'x': 1.1599428793160498, 'y': 0.40360429240580076}. Best is trial 118 with value: 0.32499933231964445.\n",
      "[I 2024-08-02 11:27:26,106] Trial 129 finished with value: 951.0387734908381 and parameters: {'x': 1.8054149158144197, 'y': 0.17668328789230836}. Best is trial 118 with value: 0.32499933231964445.\n",
      "[I 2024-08-02 11:27:26,138] Trial 130 finished with value: 1.2292883073757126 and parameters: {'x': 0.11215372661423156, 'y': -0.053830675180975285}. Best is trial 118 with value: 0.32499933231964445.\n",
      "[I 2024-08-02 11:27:26,178] Trial 131 finished with value: 7.568186111005277 and parameters: {'x': 0.30849256732732777, 'y': 0.3614382704643089}. Best is trial 118 with value: 0.32499933231964445.\n",
      "[I 2024-08-02 11:27:26,225] Trial 132 finished with value: 0.9013750604743085 and parameters: {'x': 0.4894449985760951, 'y': 0.15951212819756766}. Best is trial 118 with value: 0.32499933231964445.\n",
      "[I 2024-08-02 11:27:26,278] Trial 133 finished with value: 0.740600862281432 and parameters: {'x': 0.3532212430853805, 'y': 0.06799570351019067}. Best is trial 118 with value: 0.32499933231964445.\n",
      "[I 2024-08-02 11:27:26,328] Trial 134 finished with value: 5.8658321300613645 and parameters: {'x': 0.5704234557358819, 'y': 0.08702822259870485}. Best is trial 118 with value: 0.32499933231964445.\n",
      "[I 2024-08-02 11:27:26,365] Trial 135 finished with value: 260.905931357039 and parameters: {'x': 0.3940035099665504, 'y': -1.4588823560177282}. Best is trial 118 with value: 0.32499933231964445.\n",
      "[I 2024-08-02 11:27:26,403] Trial 136 finished with value: 5.366470768544781 and parameters: {'x': 0.17506966520903733, 'y': -0.18582141200074492}. Best is trial 118 with value: 0.32499933231964445.\n",
      "[I 2024-08-02 11:27:26,473] Trial 137 finished with value: 5.324618056820149 and parameters: {'x': 0.237729033951542, 'y': 0.2743122705886475}. Best is trial 118 with value: 0.32499933231964445.\n",
      "[I 2024-08-02 11:27:26,512] Trial 138 finished with value: 1.3268926844980675 and parameters: {'x': 0.32469122276147716, 'y': 0.012105006306114718}. Best is trial 118 with value: 0.32499933231964445.\n",
      "[I 2024-08-02 11:27:26,550] Trial 139 finished with value: 3.8799762953528467 and parameters: {'x': 0.5166153235797932, 'y': 0.07593811162321709}. Best is trial 118 with value: 0.32499933231964445.\n",
      "[I 2024-08-02 11:27:26,590] Trial 140 finished with value: 1.2935018382462624 and parameters: {'x': 0.02318866348050752, 'y': -0.05771530736069458}. Best is trial 118 with value: 0.32499933231964445.\n",
      "[I 2024-08-02 11:27:26,625] Trial 141 finished with value: 0.5307291047938715 and parameters: {'x': 0.4080895861805779, 'y': 0.2090072371213905}. Best is trial 118 with value: 0.32499933231964445.\n",
      "[I 2024-08-02 11:27:26,660] Trial 142 finished with value: 0.5521790246158816 and parameters: {'x': 0.4324275012304594, 'y': 0.23495607953907982}. Best is trial 118 with value: 0.32499933231964445.\n",
      "[I 2024-08-02 11:27:26,695] Trial 143 finished with value: 0.3365302705304378 and parameters: {'x': 0.4314881617645828, 'y': 0.19772523967401226}. Best is trial 118 with value: 0.32499933231964445.\n",
      "[I 2024-08-02 11:27:26,731] Trial 144 finished with value: 0.38037107108104984 and parameters: {'x': 0.4339567957576917, 'y': 0.21280648988764356}. Best is trial 118 with value: 0.32499933231964445.\n",
      "[I 2024-08-02 11:27:26,766] Trial 145 finished with value: 0.364863710577563 and parameters: {'x': 0.4406221639571213, 'y': 0.216942659875672}. Best is trial 118 with value: 0.32499933231964445.\n",
      "[I 2024-08-02 11:27:26,808] Trial 146 finished with value: 3.7123881802507483 and parameters: {'x': 0.4422426428726974, 'y': 0.38000455417791046}. Best is trial 118 with value: 0.32499933231964445.\n",
      "[I 2024-08-02 11:27:26,848] Trial 147 finished with value: 0.8520562187204299 and parameters: {'x': 0.5572656456606341, 'y': 0.2295485486638896}. Best is trial 118 with value: 0.32499933231964445.\n",
      "[I 2024-08-02 11:27:26,888] Trial 148 finished with value: 0.848765115298315 and parameters: {'x': 0.656455160861562, 'y': 0.5164168303513966}. Best is trial 118 with value: 0.32499933231964445.\n",
      "[I 2024-08-02 11:27:26,925] Trial 149 finished with value: 0.32765892244902095 and parameters: {'x': 0.4355797333576574, 'y': 0.1992631636374138}. Best is trial 118 with value: 0.32499933231964445.\n",
      "[I 2024-08-02 11:27:26,959] Trial 150 finished with value: 0.5814099849872658 and parameters: {'x': 0.39994780882033176, 'y': 0.20700581643859373}. Best is trial 118 with value: 0.32499933231964445.\n",
      "[I 2024-08-02 11:27:26,997] Trial 151 finished with value: 0.6967527798756835 and parameters: {'x': 0.39409369329894006, 'y': 0.21272328067534785}. Best is trial 118 with value: 0.32499933231964445.\n",
      "[I 2024-08-02 11:27:27,037] Trial 152 finished with value: 6.5406753912058635 and parameters: {'x': 0.4202089735162092, 'y': 0.4256642756032447}. Best is trial 118 with value: 0.32499933231964445.\n",
      "[I 2024-08-02 11:27:27,074] Trial 153 finished with value: 1.4771824569196739 and parameters: {'x': 0.2816078528948809, 'y': 0.17733844475810615}. Best is trial 118 with value: 0.32499933231964445.\n",
      "[I 2024-08-02 11:27:27,114] Trial 154 finished with value: 1.0214730280627886 and parameters: {'x': 0.5045180631510573, 'y': 0.3426276739259797}. Best is trial 118 with value: 0.32499933231964445.\n",
      "[I 2024-08-02 11:27:27,154] Trial 155 finished with value: 0.897726088970867 and parameters: {'x': 0.17947376148575223, 'y': -0.015166672131182168}. Best is trial 118 with value: 0.32499933231964445.\n",
      "[I 2024-08-02 11:27:27,193] Trial 156 finished with value: 3.3087203046572053 and parameters: {'x': 0.5658995070844253, 'y': 0.1435991920591998}. Best is trial 118 with value: 0.32499933231964445.\n",
      "[I 2024-08-02 11:27:27,233] Trial 157 finished with value: 45.00302035116607 and parameters: {'x': 0.7508709013430166, 'y': -0.10657304318563332}. Best is trial 118 with value: 0.32499933231964445.\n",
      "[I 2024-08-02 11:27:27,269] Trial 158 finished with value: 1.0077424752818338 and parameters: {'x': 0.38725436281158454, 'y': 0.22948230834686317}. Best is trial 118 with value: 0.32499933231964445.\n",
      "[I 2024-08-02 11:27:27,301] Trial 159 finished with value: 6.025331344470002 and parameters: {'x': 0.2758977443790409, 'y': 0.3106618273847158}. Best is trial 118 with value: 0.32499933231964445.\n",
      "[I 2024-08-02 11:27:27,334] Trial 160 finished with value: 0.9126867525115779 and parameters: {'x': 0.0959603025193631, 'y': 0.04009510462207279}. Best is trial 118 with value: 0.32499933231964445.\n",
      "[I 2024-08-02 11:27:27,370] Trial 161 finished with value: 0.3032896632539741 and parameters: {'x': 0.4832342507398597, 'y': 0.2525528891564915}. Best is trial 161 with value: 0.3032896632539741.\n",
      "[I 2024-08-02 11:27:27,405] Trial 162 finished with value: 0.9758681669276438 and parameters: {'x': 0.4703334871141852, 'y': 0.13782764591779909}. Best is trial 161 with value: 0.3032896632539741.\n",
      "[I 2024-08-02 11:27:27,441] Trial 163 finished with value: 0.1351359709817165 and parameters: {'x': 0.671030179720798, 'y': 0.433875762756741}. Best is trial 163 with value: 0.1351359709817165.\n",
      "[I 2024-08-02 11:27:27,482] Trial 164 finished with value: 0.5768551013864438 and parameters: {'x': 0.7116643677296666, 'y': 0.436201126608348}. Best is trial 163 with value: 0.1351359709817165.\n",
      "[I 2024-08-02 11:27:27,524] Trial 165 finished with value: 0.9038873221954514 and parameters: {'x': 0.6462923357019126, 'y': 0.3294453718465317}. Best is trial 163 with value: 0.1351359709817165.\n",
      "[I 2024-08-02 11:27:27,563] Trial 166 finished with value: 5.639232897801239 and parameters: {'x': 0.5596377522393057, 'y': 0.5465463794088141}. Best is trial 163 with value: 0.1351359709817165.\n",
      "[I 2024-08-02 11:27:27,596] Trial 167 finished with value: 2.8840991550495643 and parameters: {'x': 0.3219732239536174, 'y': 0.25937092663721206}. Best is trial 163 with value: 0.1351359709817165.\n"
     ]
    },
    {
     "name": "stderr",
     "output_type": "stream",
     "text": [
      "[I 2024-08-02 11:27:27,633] Trial 168 finished with value: 2.077611322035337 and parameters: {'x': 0.5061085316175911, 'y': 0.3915593805314851}. Best is trial 163 with value: 0.1351359709817165.\n",
      "[I 2024-08-02 11:27:27,670] Trial 169 finished with value: 0.3603986052434123 and parameters: {'x': 0.6560487770043868, 'y': 0.4796032661397479}. Best is trial 163 with value: 0.1351359709817165.\n",
      "[I 2024-08-02 11:27:27,709] Trial 170 finished with value: 0.522955534289103 and parameters: {'x': 0.6436419306866868, 'y': 0.4772006419841247}. Best is trial 163 with value: 0.1351359709817165.\n",
      "[I 2024-08-02 11:27:27,747] Trial 171 finished with value: 0.2763713378756556 and parameters: {'x': 0.6562979587304988, 'y': 0.4705064330407416}. Best is trial 163 with value: 0.1351359709817165.\n",
      "[I 2024-08-02 11:27:27,784] Trial 172 finished with value: 0.040648255595129176 and parameters: {'x': 0.8380581871644457, 'y': 0.6903319019107997}. Best is trial 172 with value: 0.040648255595129176.\n",
      "[I 2024-08-02 11:27:27,822] Trial 173 finished with value: 6.925317059245892 and parameters: {'x': 0.9467170972780996, 'y': 0.6331672381833753}. Best is trial 172 with value: 0.040648255595129176.\n",
      "[I 2024-08-02 11:27:27,859] Trial 174 finished with value: 6.064674216678581 and parameters: {'x': 0.7983513283577139, 'y': 0.8828034718664094}. Best is trial 172 with value: 0.040648255595129176.\n",
      "[I 2024-08-02 11:27:27,895] Trial 175 finished with value: 20.95259851858623 and parameters: {'x': 1.0741409035522127, 'y': 0.696098643485413}. Best is trial 172 with value: 0.040648255595129176.\n",
      "[I 2024-08-02 11:27:27,933] Trial 176 finished with value: 0.12070996346648205 and parameters: {'x': 0.8543934466477598, 'y': 0.7615331604997079}. Best is trial 172 with value: 0.040648255595129176.\n",
      "[I 2024-08-02 11:27:27,969] Trial 177 finished with value: 0.017288226744885327 and parameters: {'x': 0.8685661159372242, 'y': 0.7540415725833484}. Best is trial 177 with value: 0.017288226744885327.\n",
      "[I 2024-08-02 11:27:28,005] Trial 178 finished with value: 5.753959483770097 and parameters: {'x': 0.9099747771664045, 'y': 1.0677592252499277}. Best is trial 177 with value: 0.017288226744885327.\n",
      "[I 2024-08-02 11:27:28,041] Trial 179 finished with value: 4.242266651135187 and parameters: {'x': 0.7762676754445721, 'y': 0.8073403866741704}. Best is trial 177 with value: 0.017288226744885327.\n",
      "[I 2024-08-02 11:27:28,079] Trial 180 finished with value: 0.044156866919819786 and parameters: {'x': 0.8519721499067898, 'y': 0.7109419129720762}. Best is trial 177 with value: 0.017288226744885327.\n",
      "[I 2024-08-02 11:27:28,118] Trial 181 finished with value: 0.15017772730441414 and parameters: {'x': 0.9662013744664022, 'y': 0.972150196748059}. Best is trial 177 with value: 0.017288226744885327.\n",
      "[I 2024-08-02 11:27:28,161] Trial 182 finished with value: 0.401510822190787 and parameters: {'x': 1.0168831203850437, 'y': 0.9707088948382242}. Best is trial 177 with value: 0.017288226744885327.\n",
      "[I 2024-08-02 11:27:28,195] Trial 183 finished with value: 0.28007206444625604 and parameters: {'x': 1.0189526846054437, 'y': 0.9853766863644265}. Best is trial 177 with value: 0.017288226744885327.\n",
      "[I 2024-08-02 11:27:28,232] Trial 184 finished with value: 67.35346621156268 and parameters: {'x': 1.3384613599189565, 'y': 0.9714854576364194}. Best is trial 177 with value: 0.017288226744885327.\n",
      "[I 2024-08-02 11:27:28,269] Trial 185 finished with value: 0.00775572126485168 and parameters: {'x': 1.0626147364188563, 'y': 1.1229572466761806}. Best is trial 185 with value: 0.00775572126485168.\n",
      "[I 2024-08-02 11:27:28,312] Trial 186 finished with value: 0.19994024412568634 and parameters: {'x': 1.0292600317079323, 'y': 1.103995053585863}. Best is trial 185 with value: 0.00775572126485168.\n",
      "[I 2024-08-02 11:27:28,354] Trial 187 finished with value: 1.2165003662747176 and parameters: {'x': 1.0972757012396586, 'y': 1.0941486923007182}. Best is trial 185 with value: 0.00775572126485168.\n",
      "[I 2024-08-02 11:27:28,398] Trial 188 finished with value: 21.335093466024187 and parameters: {'x': 1.3009832180661833, 'y': 1.2316397426991457}. Best is trial 185 with value: 0.00775572126485168.\n",
      "[I 2024-08-02 11:27:28,449] Trial 189 finished with value: 0.011895376377218662 and parameters: {'x': 1.0004739902768789, 'y': 1.011854694898909}. Best is trial 185 with value: 0.00775572126485168.\n",
      "[I 2024-08-02 11:27:28,498] Trial 190 finished with value: 15.117752074415458 and parameters: {'x': 0.8817598830312361, 'y': 1.1661361992703632}. Best is trial 185 with value: 0.00775572126485168.\n",
      "[I 2024-08-02 11:27:28,544] Trial 191 finished with value: 13.146050676790967 and parameters: {'x': 0.9782017564709943, 'y': 1.3194469528760666}. Best is trial 185 with value: 0.00775572126485168.\n",
      "[I 2024-08-02 11:27:28,585] Trial 192 finished with value: 0.8566575260509574 and parameters: {'x': 1.0615166698101532, 'y': 1.0344665046455603}. Best is trial 185 with value: 0.00775572126485168.\n",
      "[I 2024-08-02 11:27:28,623] Trial 193 finished with value: 0.4924842645169079 and parameters: {'x': 1.0051216975474593, 'y': 0.9400942727503976}. Best is trial 185 with value: 0.00775572126485168.\n",
      "[I 2024-08-02 11:27:28,670] Trial 194 finished with value: 34.93371640392082 and parameters: {'x': 1.1551467402514004, 'y': 0.7435201382585328}. Best is trial 185 with value: 0.00775572126485168.\n",
      "[I 2024-08-02 11:27:28,700] Trial 195 finished with value: 1.2579951478357914 and parameters: {'x': 0.8597832584474397, 'y': 0.8505077265784597}. Best is trial 185 with value: 0.00775572126485168.\n",
      "[I 2024-08-02 11:27:28,741] Trial 196 finished with value: 24.01377763453176 and parameters: {'x': 1.2153135805394406, 'y': 0.9874218051698666}. Best is trial 185 with value: 0.00775572126485168.\n",
      "[I 2024-08-02 11:27:28,783] Trial 197 finished with value: 3.147256932508182 and parameters: {'x': 0.8363038160423679, 'y': 0.8760523246817487}. Best is trial 185 with value: 0.00775572126485168.\n",
      "[I 2024-08-02 11:27:28,828] Trial 198 finished with value: 0.9493901424502706 and parameters: {'x': 1.0202011004084037, 'y': 1.1382259954034575}. Best is trial 185 with value: 0.00775572126485168.\n",
      "[I 2024-08-02 11:27:28,866] Trial 199 finished with value: 4.878559456704044 and parameters: {'x': 0.919205443073119, 'y': 0.6242118539950317}. Best is trial 185 with value: 0.00775572126485168.\n",
      "[I 2024-08-02 11:27:28,909] Trial 200 finished with value: 22.39966231743968 and parameters: {'x': 1.1142648067536052, 'y': 0.768441199390684}. Best is trial 185 with value: 0.00775572126485168.\n",
      "[I 2024-08-02 11:27:28,950] Trial 201 finished with value: 1.3313849002127958 and parameters: {'x': 1.018816457500565, 'y': 0.9226166641524298}. Best is trial 185 with value: 0.00775572126485168.\n",
      "[I 2024-08-02 11:27:28,991] Trial 202 finished with value: 14.76204243085371 and parameters: {'x': 0.8301678899725973, 'y': 1.0730172265450018}. Best is trial 185 with value: 0.00775572126485168.\n",
      "[I 2024-08-02 11:27:29,031] Trial 203 finished with value: 18.389866841241062 and parameters: {'x': 0.9375725121071057, 'y': 1.3078308539509937}. Best is trial 185 with value: 0.00775572126485168.\n",
      "[I 2024-08-02 11:27:29,070] Trial 204 finished with value: 17.24805583268277 and parameters: {'x': 1.1774961490142548, 'y': 0.9715688624380482}. Best is trial 185 with value: 0.00775572126485168.\n",
      "[I 2024-08-02 11:27:29,110] Trial 205 finished with value: 23.502185766605674 and parameters: {'x': 1.270813581655648, 'y': 1.1309336297938697}. Best is trial 185 with value: 0.00775572126485168.\n",
      "[I 2024-08-02 11:27:29,153] Trial 206 finished with value: 2.5395910779654747 and parameters: {'x': 0.7497781257635721, 'y': 0.7195514839599549}. Best is trial 185 with value: 0.00775572126485168.\n",
      "[I 2024-08-02 11:27:29,192] Trial 207 finished with value: 1.1367491303935104 and parameters: {'x': 0.8715897389398033, 'y': 0.8655110055414007}. Best is trial 185 with value: 0.00775572126485168.\n",
      "[I 2024-08-02 11:27:29,231] Trial 208 finished with value: 12.926135603667346 and parameters: {'x': 0.9714493691280198, 'y': 0.584195859634827}. Best is trial 185 with value: 0.00775572126485168.\n",
      "[I 2024-08-02 11:27:29,269] Trial 209 finished with value: 20.122520626379334 and parameters: {'x': 0.7531361581583651, 'y': 1.0151156117937898}. Best is trial 185 with value: 0.00775572126485168.\n"
     ]
    },
    {
     "name": "stderr",
     "output_type": "stream",
     "text": [
      "[I 2024-08-02 11:27:29,304] Trial 210 finished with value: 0.6184707143269036 and parameters: {'x': 1.0606471894048048, 'y': 1.2033811737310858}. Best is trial 185 with value: 0.00775572126485168.\n",
      "[I 2024-08-02 11:27:29,346] Trial 211 finished with value: 1.0017626785515565 and parameters: {'x': 0.8380823434223119, 'y': 0.8011517137098285}. Best is trial 185 with value: 0.00775572126485168.\n",
      "[I 2024-08-02 11:27:29,387] Trial 212 finished with value: 4.374809345346718 and parameters: {'x': 0.6921937650025913, 'y': 0.6860153798580945}. Best is trial 185 with value: 0.00775572126485168.\n",
      "[I 2024-08-02 11:27:29,427] Trial 213 finished with value: 0.10506216786758409 and parameters: {'x': 0.9370991130430174, 'y': 0.9099518617312217}. Best is trial 185 with value: 0.00775572126485168.\n",
      "[I 2024-08-02 11:27:29,470] Trial 214 finished with value: 0.34634887860944485 and parameters: {'x': 0.9835751879022229, 'y': 0.9085916619066899}. Best is trial 185 with value: 0.00775572126485168.\n",
      "[I 2024-08-02 11:27:29,509] Trial 215 finished with value: 0.4282520719518305 and parameters: {'x': 0.9233275014466983, 'y': 0.9175239357302817}. Best is trial 185 with value: 0.00775572126485168.\n",
      "[I 2024-08-02 11:27:29,550] Trial 216 finished with value: 1.4673064495601142 and parameters: {'x': 0.9868192524564148, 'y': 0.8526869829444226}. Best is trial 185 with value: 0.00775572126485168.\n",
      "[I 2024-08-02 11:27:29,592] Trial 217 finished with value: 3.5053937100690624 and parameters: {'x': 1.1046450330469542, 'y': 1.033306352365924}. Best is trial 185 with value: 0.00775572126485168.\n",
      "[I 2024-08-02 11:27:29,635] Trial 218 finished with value: 0.02336835932229067 and parameters: {'x': 0.8762619768231878, 'y': 0.7588588273505366}. Best is trial 185 with value: 0.00775572126485168.\n",
      "[I 2024-08-02 11:27:29,677] Trial 219 finished with value: 0.4308671745795778 and parameters: {'x': 0.8570379659870271, 'y': 0.7985788104825583}. Best is trial 185 with value: 0.00775572126485168.\n",
      "[I 2024-08-02 11:27:29,719] Trial 220 finished with value: 0.7173367028913236 and parameters: {'x': 0.8005392720712657, 'y': 0.7231766803528005}. Best is trial 185 with value: 0.00775572126485168.\n",
      "[I 2024-08-02 11:27:29,761] Trial 221 finished with value: 1.3771979672462273 and parameters: {'x': 0.9479932544811136, 'y': 1.015929995321593}. Best is trial 185 with value: 0.00775572126485168.\n",
      "[I 2024-08-02 11:27:29,800] Trial 222 finished with value: 18.97518222048669 and parameters: {'x': 1.031796421613918, 'y': 0.6290103386229586}. Best is trial 185 with value: 0.00775572126485168.\n",
      "[I 2024-08-02 11:27:29,840] Trial 223 finished with value: 0.040433081647583566 and parameters: {'x': 0.9035148058203608, 'y': 0.8339809115327385}. Best is trial 185 with value: 0.00775572126485168.\n",
      "[I 2024-08-02 11:27:29,884] Trial 224 finished with value: 0.1594096265880322 and parameters: {'x': 0.9016879120841854, 'y': 0.8517379071997887}. Best is trial 185 with value: 0.00775572126485168.\n",
      "[I 2024-08-02 11:27:29,921] Trial 225 finished with value: 0.5468604113204043 and parameters: {'x': 0.9043799288957751, 'y': 0.8912322596119081}. Best is trial 185 with value: 0.00775572126485168.\n",
      "[I 2024-08-02 11:27:29,958] Trial 226 finished with value: 7.320499114951052 and parameters: {'x': 0.7186892150768825, 'y': 0.7856120020030762}. Best is trial 185 with value: 0.00775572126485168.\n",
      "[I 2024-08-02 11:27:29,999] Trial 227 finished with value: 7.920337515521987 and parameters: {'x': 0.7998784738528856, 'y': 0.9205240954837388}. Best is trial 185 with value: 0.00775572126485168.\n",
      "[I 2024-08-02 11:27:30,039] Trial 228 finished with value: 0.6872623954272147 and parameters: {'x': 0.9081663947911178, 'y': 0.7423751219614806}. Best is trial 185 with value: 0.00775572126485168.\n",
      "[I 2024-08-02 11:27:30,079] Trial 229 finished with value: 10.950936260033357 and parameters: {'x': 1.075352831490862, 'y': 0.8255475259820609}. Best is trial 185 with value: 0.00775572126485168.\n",
      "[I 2024-08-02 11:27:30,119] Trial 230 finished with value: 18.20752882725855 and parameters: {'x': 0.9754838717944228, 'y': 0.5248730167895237}. Best is trial 185 with value: 0.00775572126485168.\n",
      "[I 2024-08-02 11:27:30,159] Trial 231 finished with value: 42.09531679342712 and parameters: {'x': 0.6610001311688796, 'y': 1.0848439765412639}. Best is trial 185 with value: 0.00775572126485168.\n",
      "[I 2024-08-02 11:27:30,200] Trial 232 finished with value: 0.6669312703066805 and parameters: {'x': 0.8612200698390771, 'y': 0.6612219743431754}. Best is trial 185 with value: 0.00775572126485168.\n",
      "[I 2024-08-02 11:27:30,239] Trial 233 finished with value: 9.963243982700929 and parameters: {'x': 0.7398709400674164, 'y': 0.8619813661646445}. Best is trial 185 with value: 0.00775572126485168.\n",
      "[I 2024-08-02 11:27:30,280] Trial 234 finished with value: 15.304820590607294 and parameters: {'x': 1.1543496841243905, 'y': 0.9416140379907518}. Best is trial 185 with value: 0.00775572126485168.\n",
      "[I 2024-08-02 11:27:30,323] Trial 235 finished with value: 4.341695819296119 and parameters: {'x': 0.6103554326712167, 'y': 0.5772255451953845}. Best is trial 185 with value: 0.00775572126485168.\n",
      "[I 2024-08-02 11:27:30,365] Trial 236 finished with value: 3.1902264396190176 and parameters: {'x': 0.9500181552295167, 'y': 0.7239923922532013}. Best is trial 185 with value: 0.00775572126485168.\n",
      "[I 2024-08-02 11:27:30,406] Trial 237 finished with value: 17.738076549335744 and parameters: {'x': 0.8161098450177655, 'y': 1.0867995951152138}. Best is trial 185 with value: 0.00775572126485168.\n",
      "[I 2024-08-02 11:27:30,444] Trial 238 finished with value: 0.15961186343824155 and parameters: {'x': 1.07339779032399, 'y': 1.1914542598178044}. Best is trial 185 with value: 0.00775572126485168.\n",
      "[I 2024-08-02 11:27:30,485] Trial 239 finished with value: 0.5805150091274318 and parameters: {'x': 1.0973517124773222, 'y': 1.2797478142449858}. Best is trial 185 with value: 0.00775572126485168.\n",
      "[I 2024-08-02 11:27:30,523] Trial 240 finished with value: 2.191066397007257 and parameters: {'x': 1.0195314260069033, 'y': 1.1874539539920415}. Best is trial 185 with value: 0.00775572126485168.\n",
      "[I 2024-08-02 11:27:30,560] Trial 241 finished with value: 11.153241699996947 and parameters: {'x': 0.9026376143418233, 'y': 1.1485774041988577}. Best is trial 185 with value: 0.00775572126485168.\n",
      "[I 2024-08-02 11:27:30,606] Trial 242 finished with value: 0.024518976816675427 and parameters: {'x': 0.9827211436660519, 'y': 0.9813037565853814}. Best is trial 185 with value: 0.00775572126485168.\n",
      "[I 2024-08-02 11:27:30,655] Trial 243 finished with value: 18.10495204381189 and parameters: {'x': 1.2058696329490797, 'y': 1.0291207512219953}. Best is trial 185 with value: 0.00775572126485168.\n",
      "[I 2024-08-02 11:27:30,704] Trial 244 finished with value: 1.490785732449153 and parameters: {'x': 1.002339249555472, 'y': 0.8825864585154792}. Best is trial 185 with value: 0.00775572126485168.\n",
      "[I 2024-08-02 11:27:30,745] Trial 245 finished with value: 4.5638118393501905 and parameters: {'x': 1.0810805559509369, 'y': 0.9552582895479647}. Best is trial 185 with value: 0.00775572126485168.\n",
      "[I 2024-08-02 11:27:30,786] Trial 246 finished with value: 0.27997024803412274 and parameters: {'x': 0.8737009557192806, 'y': 0.8147361197256704}. Best is trial 185 with value: 0.00775572126485168.\n",
      "[I 2024-08-02 11:27:30,836] Trial 247 finished with value: 0.367406732951888 and parameters: {'x': 0.8633924882997401, 'y': 0.8045012347914919}. Best is trial 185 with value: 0.00775572126485168.\n",
      "[I 2024-08-02 11:27:30,881] Trial 248 finished with value: 0.8908591793027244 and parameters: {'x': 0.9507181959217665, 'y': 0.9981216784411524}. Best is trial 185 with value: 0.00775572126485168.\n",
      "[I 2024-08-02 11:27:30,928] Trial 249 finished with value: 0.041621036961332444 and parameters: {'x': 0.8128610708913373, 'y': 0.6688671947784186}. Best is trial 185 with value: 0.00775572126485168.\n",
      "[I 2024-08-02 11:27:30,971] Trial 250 finished with value: 0.21822719214840267 and parameters: {'x': 0.7988121167350043, 'y': 0.6802612802611212}. Best is trial 185 with value: 0.00775572126485168.\n",
      "[I 2024-08-02 11:27:31,022] Trial 251 finished with value: 0.5608129993390494 and parameters: {'x': 0.7787750768395874, 'y': 0.6780358879845088}. Best is trial 185 with value: 0.00775572126485168.\n"
     ]
    },
    {
     "name": "stderr",
     "output_type": "stream",
     "text": [
      "[I 2024-08-02 11:27:31,071] Trial 252 finished with value: 44.30302289462106 and parameters: {'x': 0.8433210058172851, 'y': 1.3766110473200355}. Best is trial 185 with value: 0.00775572126485168.\n",
      "[I 2024-08-02 11:27:31,115] Trial 253 finished with value: 0.8438728704487234 and parameters: {'x': 0.7307873001524665, 'y': 0.6218793096837648}. Best is trial 185 with value: 0.00775572126485168.\n",
      "[I 2024-08-02 11:27:31,158] Trial 254 finished with value: 46.25213964623509 and parameters: {'x': 0.8963231605905841, 'y': 1.4834054343048284}. Best is trial 185 with value: 0.00775572126485168.\n",
      "[I 2024-08-02 11:27:31,204] Trial 255 finished with value: 2.9304875952683953 and parameters: {'x': 0.7708291176756392, 'y': 0.7638232861032046}. Best is trial 185 with value: 0.00775572126485168.\n",
      "[I 2024-08-02 11:27:31,251] Trial 256 finished with value: 0.06065854193275065 and parameters: {'x': 0.8410676123862237, 'y': 0.7262093607035484}. Best is trial 185 with value: 0.00775572126485168.\n",
      "[I 2024-08-02 11:27:31,295] Trial 257 finished with value: 0.024156879635053835 and parameters: {'x': 0.8446925901943989, 'y': 0.7129015181690587}. Best is trial 185 with value: 0.00775572126485168.\n",
      "[I 2024-08-02 11:27:31,343] Trial 258 finished with value: 0.05173461573540814 and parameters: {'x': 0.8302988240783894, 'y': 0.7045408150856495}. Best is trial 185 with value: 0.00775572126485168.\n",
      "[I 2024-08-02 11:27:31,408] Trial 259 finished with value: 0.10043523866924686 and parameters: {'x': 0.8116506418820276, 'y': 0.6332895602336581}. Best is trial 185 with value: 0.00775572126485168.\n",
      "[I 2024-08-02 11:27:31,468] Trial 260 finished with value: 0.06804660192369896 and parameters: {'x': 0.8287326697085056, 'y': 0.6671219379902048}. Best is trial 185 with value: 0.00775572126485168.\n",
      "[I 2024-08-02 11:27:31,527] Trial 261 finished with value: 0.0865641891970868 and parameters: {'x': 0.846797411697824, 'y': 0.6919475053708112}. Best is trial 185 with value: 0.00775572126485168.\n",
      "[I 2024-08-02 11:27:31,575] Trial 262 finished with value: 0.0322345983710618 and parameters: {'x': 0.8240405915355086, 'y': 0.6754751451841443}. Best is trial 185 with value: 0.00775572126485168.\n",
      "[I 2024-08-02 11:27:31,622] Trial 263 finished with value: 0.09532961922862729 and parameters: {'x': 0.8070738287410558, 'y': 0.6754739966302918}. Best is trial 185 with value: 0.00775572126485168.\n",
      "[I 2024-08-02 11:27:31,669] Trial 264 finished with value: 0.31201536502815436 and parameters: {'x': 0.7919109970059401, 'y': 0.6789606903073174}. Best is trial 185 with value: 0.00775572126485168.\n",
      "[I 2024-08-02 11:27:31,716] Trial 265 finished with value: 167.41370502061721 and parameters: {'x': 1.39188580017409, 'y': 0.644055198750216}. Best is trial 185 with value: 0.00775572126485168.\n",
      "[I 2024-08-02 11:27:31,758] Trial 266 finished with value: 0.5439450458707236 and parameters: {'x': 0.8169680998063724, 'y': 0.7388822656923228}. Best is trial 185 with value: 0.00775572126485168.\n",
      "[I 2024-08-02 11:27:31,802] Trial 267 finished with value: 6.16145418005658 and parameters: {'x': 0.9162499457203863, 'y': 0.5914325226049815}. Best is trial 185 with value: 0.00775572126485168.\n",
      "[I 2024-08-02 11:27:31,847] Trial 268 finished with value: 0.3968739949318127 and parameters: {'x': 0.8058591884954159, 'y': 0.7093409380629947}. Best is trial 185 with value: 0.00775572126485168.\n",
      "[I 2024-08-02 11:27:31,893] Trial 269 finished with value: 4.395870668277914 and parameters: {'x': 0.8947716117305975, 'y': 0.5912171527631663}. Best is trial 185 with value: 0.00775572126485168.\n",
      "[I 2024-08-02 11:27:31,939] Trial 270 finished with value: 4.904998335783787 and parameters: {'x': 0.7303556795036786, 'y': 0.753244127754198}. Best is trial 185 with value: 0.00775572126485168.\n",
      "[I 2024-08-02 11:27:31,988] Trial 271 finished with value: 5.322913937320863 and parameters: {'x': 0.9559254217026609, 'y': 0.6831211038343452}. Best is trial 185 with value: 0.00775572126485168.\n",
      "[I 2024-08-02 11:27:32,032] Trial 272 finished with value: 0.0800269634250454 and parameters: {'x': 0.8897313307498618, 'y': 0.8176732869443594}. Best is trial 185 with value: 0.00775572126485168.\n",
      "[I 2024-08-02 11:27:32,086] Trial 273 finished with value: 0.5687854378663675 and parameters: {'x': 0.8670752703727443, 'y': 0.826056742524427}. Best is trial 185 with value: 0.00775572126485168.\n",
      "[I 2024-08-02 11:27:32,131] Trial 274 finished with value: 1.7314674174529174 and parameters: {'x': 0.9626030194180895, 'y': 0.7950724900892104}. Best is trial 185 with value: 0.00775572126485168.\n",
      "[I 2024-08-02 11:27:32,176] Trial 275 finished with value: 27.977762663331795 and parameters: {'x': 1.0519670168988917, 'y': 0.577720035998212}. Best is trial 185 with value: 0.00775572126485168.\n",
      "[I 2024-08-02 11:27:32,221] Trial 276 finished with value: 0.035745526111915935 and parameters: {'x': 0.8571897344726745, 'y': 0.7471640569339811}. Best is trial 185 with value: 0.00775572126485168.\n",
      "[I 2024-08-02 11:27:32,264] Trial 277 finished with value: 0.06158557102414548 and parameters: {'x': 0.8681384316159293, 'y': 0.7746876800949598}. Best is trial 185 with value: 0.00775572126485168.\n",
      "[I 2024-08-02 11:27:32,306] Trial 278 finished with value: 0.019007919591432547 and parameters: {'x': 0.8671120070985634, 'y': 0.7482107664706362}. Best is trial 185 with value: 0.00775572126485168.\n",
      "[I 2024-08-02 11:27:32,353] Trial 279 finished with value: 5.328177330134819 and parameters: {'x': 0.7193183960950175, 'y': 0.7465345407981662}. Best is trial 185 with value: 0.00775572126485168.\n",
      "[I 2024-08-02 11:27:32,396] Trial 280 finished with value: 0.028791727518022666 and parameters: {'x': 0.8321291562782106, 'y': 0.6899668741809273}. Best is trial 185 with value: 0.00775572126485168.\n",
      "[I 2024-08-02 11:27:32,440] Trial 281 finished with value: 0.13784760753776365 and parameters: {'x': 0.8261927511340904, 'y': 0.6497861326299404}. Best is trial 185 with value: 0.00775572126485168.\n",
      "[I 2024-08-02 11:27:32,485] Trial 282 finished with value: 965.028370075914 and parameters: {'x': -1.9579415654596084, 'y': 0.7411591426559392}. Best is trial 185 with value: 0.00775572126485168.\n",
      "[I 2024-08-02 11:27:32,529] Trial 283 finished with value: 0.8253466454131588 and parameters: {'x': 0.7875207238998906, 'y': 0.5318600049996953}. Best is trial 185 with value: 0.00775572126485168.\n",
      "[I 2024-08-02 11:27:32,573] Trial 284 finished with value: 1.2636891163639825 and parameters: {'x': 0.8630241935003666, 'y': 0.633234473237245}. Best is trial 185 with value: 0.00775572126485168.\n",
      "[I 2024-08-02 11:27:32,619] Trial 285 finished with value: 4.913889848964994 and parameters: {'x': 0.7248852178983103, 'y': 0.745417705003952}. Best is trial 185 with value: 0.00775572126485168.\n",
      "[I 2024-08-02 11:27:32,665] Trial 286 finished with value: 0.8155466150505735 and parameters: {'x': 0.851274620264753, 'y': 0.8137430196037877}. Best is trial 185 with value: 0.00775572126485168.\n",
      "[I 2024-08-02 11:27:32,712] Trial 287 finished with value: 0.6343771518263592 and parameters: {'x': 0.7645974430838348, 'y': 0.6606988542552659}. Best is trial 185 with value: 0.00775572126485168.\n",
      "[I 2024-08-02 11:27:32,761] Trial 288 finished with value: 9.604130302716547 and parameters: {'x': 0.9350194286779558, 'y': 0.5644241517303974}. Best is trial 185 with value: 0.00775572126485168.\n",
      "[I 2024-08-02 11:27:32,806] Trial 289 finished with value: 5.824442618237451 and parameters: {'x': 0.6926541168463043, 'y': 0.7191435154264205}. Best is trial 185 with value: 0.00775572126485168.\n",
      "[I 2024-08-02 11:27:32,853] Trial 290 finished with value: 1.167525143879069 and parameters: {'x': 0.8647977932877973, 'y': 0.8550780920420593}. Best is trial 185 with value: 0.00775572126485168.\n",
      "[I 2024-08-02 11:27:32,904] Trial 291 finished with value: 2.5716659583100325 and parameters: {'x': 0.7920673238745572, 'y': 0.7863810213279055}. Best is trial 185 with value: 0.00775572126485168.\n",
      "[I 2024-08-02 11:27:32,951] Trial 292 finished with value: 5.007469404802801 and parameters: {'x': 0.9174856624713814, 'y': 0.6181583678896151}. Best is trial 185 with value: 0.00775572126485168.\n",
      "[I 2024-08-02 11:27:32,997] Trial 293 finished with value: 0.08567197352444014 and parameters: {'x': 0.8334891649667051, 'y': 0.6706321887522902}. Best is trial 185 with value: 0.00775572126485168.\n"
     ]
    },
    {
     "name": "stderr",
     "output_type": "stream",
     "text": [
      "[I 2024-08-02 11:27:33,042] Trial 294 finished with value: 5.443241980500672 and parameters: {'x': 0.9641118638156222, 'y': 0.6962317249121871}. Best is trial 185 with value: 0.00775572126485168.\n",
      "[I 2024-08-02 11:27:33,087] Trial 295 finished with value: 0.9999278236756313 and parameters: {'x': 0.8418907632644246, 'y': 0.8075185651042611}. Best is trial 185 with value: 0.00775572126485168.\n",
      "[I 2024-08-02 11:27:33,132] Trial 296 finished with value: 104.19804252989431 and parameters: {'x': 0.7603960235320237, 'y': 1.5986952897698987}. Best is trial 185 with value: 0.00775572126485168.\n",
      "[I 2024-08-02 11:27:33,179] Trial 297 finished with value: 0.904202697824634 and parameters: {'x': 0.8948401307400331, 'y': 0.8952451609453339}. Best is trial 185 with value: 0.00775572126485168.\n",
      "[I 2024-08-02 11:27:33,224] Trial 298 finished with value: 710.6705568387038 and parameters: {'x': 1.7926734913152655, 'y': 0.5490164938683297}. Best is trial 185 with value: 0.00775572126485168.\n",
      "[I 2024-08-02 11:27:33,271] Trial 299 finished with value: 6.992924927694495 and parameters: {'x': 0.9897777676088337, 'y': 0.7152206140049341}. Best is trial 185 with value: 0.00775572126485168.\n",
      "[I 2024-08-02 11:27:33,319] Trial 300 finished with value: 0.03501850267572387 and parameters: {'x': 0.8162921576306911, 'y': 0.6698964961947992}. Best is trial 185 with value: 0.00775572126485168.\n",
      "[I 2024-08-02 11:27:33,371] Trial 301 finished with value: 1.343020091907996 and parameters: {'x': 0.7193421537648506, 'y': 0.629892062728938}. Best is trial 185 with value: 0.00775572126485168.\n",
      "[I 2024-08-02 11:27:33,420] Trial 302 finished with value: 0.14911359062700488 and parameters: {'x': 0.7818372088996955, 'y': 0.6431314028292395}. Best is trial 185 with value: 0.00775572126485168.\n",
      "[I 2024-08-02 11:27:33,472] Trial 303 finished with value: 0.007784198479638974 and parameters: {'x': 0.9275246799899826, 'y': 0.8653334596895773}. Best is trial 185 with value: 0.00775572126485168.\n",
      "[I 2024-08-02 11:27:33,525] Trial 304 finished with value: 3.377246974696848 and parameters: {'x': 0.8451834051804091, 'y': 0.5312153882217169}. Best is trial 185 with value: 0.00775572126485168.\n",
      "[I 2024-08-02 11:27:33,577] Trial 305 finished with value: 20.707165094434718 and parameters: {'x': 1.1361895290944244, 'y': 0.8360792264796317}. Best is trial 185 with value: 0.00775572126485168.\n",
      "[I 2024-08-02 11:27:33,630] Trial 306 finished with value: 202.53569812218348 and parameters: {'x': 0.6977457150826445, 'y': 1.9096784488959369}. Best is trial 185 with value: 0.00775572126485168.\n",
      "[I 2024-08-02 11:27:33,682] Trial 307 finished with value: 8.263016634098577 and parameters: {'x': 1.009927385394556, 'y': 0.7325004044749532}. Best is trial 185 with value: 0.00775572126485168.\n",
      "[I 2024-08-02 11:27:33,736] Trial 308 finished with value: 2.081882796908851 and parameters: {'x': 0.905211290969282, 'y': 0.6754318619195355}. Best is trial 185 with value: 0.00775572126485168.\n",
      "[I 2024-08-02 11:27:33,783] Trial 309 finished with value: 4.4890090434755585 and parameters: {'x': 0.7748643229854121, 'y': 0.8110879961832361}. Best is trial 185 with value: 0.00775572126485168.\n",
      "[I 2024-08-02 11:27:33,831] Trial 310 finished with value: 2.1386855644528735 and parameters: {'x': 0.8594026561977381, 'y': 0.5930078901392098}. Best is trial 185 with value: 0.00775572126485168.\n",
      "[I 2024-08-02 11:27:33,877] Trial 311 finished with value: 370.90997491670845 and parameters: {'x': 0.9729952213121816, 'y': -0.9791807267885182}. Best is trial 185 with value: 0.00775572126485168.\n",
      "[I 2024-08-02 11:27:33,925] Trial 312 finished with value: 0.8383406656038906 and parameters: {'x': 0.8137892491125658, 'y': 0.7519003748322538}. Best is trial 185 with value: 0.00775572126485168.\n",
      "[I 2024-08-02 11:27:33,973] Trial 313 finished with value: 21.548229075161295 and parameters: {'x': 0.6557475233046969, 'y': 0.8929272625494311}. Best is trial 185 with value: 0.00775572126485168.\n",
      "[I 2024-08-02 11:27:34,019] Trial 314 finished with value: 14.446475569523166 and parameters: {'x': 1.0314366526118879, 'y': 0.6837893738092355}. Best is trial 185 with value: 0.00775572126485168.\n",
      "[I 2024-08-02 11:27:34,068] Trial 315 finished with value: 12.677106990424821 and parameters: {'x': 0.937479835953224, 'y': 0.5228740858479849}. Best is trial 185 with value: 0.00775572126485168.\n",
      "[I 2024-08-02 11:27:34,117] Trial 316 finished with value: 6.046036530066729 and parameters: {'x': 0.7688250430544306, 'y': 0.8358897137567581}. Best is trial 185 with value: 0.00775572126485168.\n",
      "[I 2024-08-02 11:27:34,164] Trial 317 finished with value: 4.030176346835636 and parameters: {'x': 0.8984719495823629, 'y': 0.606755749416034}. Best is trial 185 with value: 0.00775572126485168.\n",
      "[I 2024-08-02 11:27:34,214] Trial 318 finished with value: 20.168117327053658 and parameters: {'x': 1.0991317375463618, 'y': 0.7591107303230323}. Best is trial 185 with value: 0.00775572126485168.\n",
      "[I 2024-08-02 11:27:34,262] Trial 319 finished with value: 3.711306689301997 and parameters: {'x': 0.703571644270722, 'y': 0.6853663333302199}. Best is trial 185 with value: 0.00775572126485168.\n",
      "[I 2024-08-02 11:27:34,315] Trial 320 finished with value: 4.154995706398655 and parameters: {'x': 0.8303192164669833, 'y': 0.8925606030179826}. Best is trial 185 with value: 0.00775572126485168.\n",
      "[I 2024-08-02 11:27:34,366] Trial 321 finished with value: 0.5146454745411266 and parameters: {'x': 0.9147161060857345, 'y': 0.7654754956297709}. Best is trial 185 with value: 0.00775572126485168.\n",
      "[I 2024-08-02 11:27:34,415] Trial 322 finished with value: 18.36045533118007 and parameters: {'x': 1.0227589923559817, 'y': 0.6175509816857322}. Best is trial 185 with value: 0.00775572126485168.\n",
      "[I 2024-08-02 11:27:34,465] Trial 323 finished with value: 112.28730767580163 and parameters: {'x': -1.314770187884149, 'y': 0.6945551429643593}. Best is trial 185 with value: 0.00775572126485168.\n",
      "[I 2024-08-02 11:27:34,516] Trial 324 finished with value: 3.3864449665887664 and parameters: {'x': 0.8162235886335757, 'y': 0.8493239558256117}. Best is trial 185 with value: 0.00775572126485168.\n",
      "[I 2024-08-02 11:27:34,565] Trial 325 finished with value: 4.778001566355809 and parameters: {'x': 0.7524313655749453, 'y': 0.7833328700585401}. Best is trial 185 with value: 0.00775572126485168.\n",
      "[I 2024-08-02 11:27:34,616] Trial 326 finished with value: 160.98522925557913 and parameters: {'x': 1.4887743379956964, 'y': 0.9485912736434686}. Best is trial 185 with value: 0.00775572126485168.\n",
      "[I 2024-08-02 11:27:34,667] Trial 327 finished with value: 17.028308082171517 and parameters: {'x': 0.9541253234769319, 'y': 0.49772692741437485}. Best is trial 185 with value: 0.00775572126485168.\n",
      "[I 2024-08-02 11:27:34,717] Trial 328 finished with value: 1.0480640091762392 and parameters: {'x': 0.8687146643509085, 'y': 0.6531354596070537}. Best is trial 185 with value: 0.00775572126485168.\n",
      "[I 2024-08-02 11:27:34,768] Trial 329 finished with value: 4.048276205397948 and parameters: {'x': 0.6129675489824827, 'y': 0.5731749576969805}. Best is trial 185 with value: 0.00775572126485168.\n",
      "[I 2024-08-02 11:27:34,819] Trial 330 finished with value: 24.066734610521063 and parameters: {'x': 1.1154316465086125, 'y': 0.7537449974022227}. Best is trial 185 with value: 0.00775572126485168.\n",
      "[I 2024-08-02 11:27:34,873] Trial 331 finished with value: 12.886396460503144 and parameters: {'x': 0.6877092449016198, 'y': 0.8305593148260888}. Best is trial 185 with value: 0.00775572126485168.\n",
      "[I 2024-08-02 11:27:34,924] Trial 332 finished with value: 536.4708949155536 and parameters: {'x': 0.8204927033999967, 'y': -1.6429062977893385}. Best is trial 185 with value: 0.00775572126485168.\n",
      "[I 2024-08-02 11:27:34,975] Trial 333 finished with value: 9.61675584927362 and parameters: {'x': 0.9974640371367895, 'y': 0.6848256629054561}. Best is trial 185 with value: 0.00775572126485168.\n",
      "[I 2024-08-02 11:27:35,024] Trial 334 finished with value: 34.738210592848034 and parameters: {'x': 1.219401442266904, 'y': 0.8979570796913375}. Best is trial 185 with value: 0.00775572126485168.\n",
      "[I 2024-08-02 11:27:35,078] Trial 335 finished with value: 5.209808529436431 and parameters: {'x': 0.8993955317490758, 'y': 0.5808840946634675}. Best is trial 185 with value: 0.00775572126485168.\n"
     ]
    },
    {
     "name": "stderr",
     "output_type": "stream",
     "text": [
      "[I 2024-08-02 11:27:35,126] Trial 336 finished with value: 4.041014804303382 and parameters: {'x': 0.7270288797363156, 'y': 0.727731770534228}. Best is trial 185 with value: 0.00775572126485168.\n",
      "[I 2024-08-02 11:27:35,173] Trial 337 finished with value: 8.394153048813283 and parameters: {'x': 1.041883975876407, 'y': 0.7958258474230713}. Best is trial 185 with value: 0.00775572126485168.\n",
      "[I 2024-08-02 11:27:35,221] Trial 338 finished with value: 0.5410826571359465 and parameters: {'x': 0.9353407777417296, 'y': 0.948135956614521}. Best is trial 185 with value: 0.00775572126485168.\n",
      "[I 2024-08-02 11:27:35,272] Trial 339 finished with value: 0.06412650862285621 and parameters: {'x': 0.8140654648913733, 'y': 0.6798941073195783}. Best is trial 185 with value: 0.00775572126485168.\n",
      "[I 2024-08-02 11:27:35,319] Trial 340 finished with value: 7.456958568065287 and parameters: {'x': 0.874387908161569, 'y': 1.037339480594995}. Best is trial 185 with value: 0.00775572126485168.\n",
      "[I 2024-08-02 11:27:35,369] Trial 341 finished with value: 0.8115696980234077 and parameters: {'x': 0.7821663247773945, 'y': 0.6991980136643436}. Best is trial 185 with value: 0.00775572126485168.\n",
      "[I 2024-08-02 11:27:35,422] Trial 342 finished with value: 17.61760392246232 and parameters: {'x': 0.6530657560630102, 'y': 0.8447919120070837}. Best is trial 185 with value: 0.00775572126485168.\n",
      "[I 2024-08-02 11:27:35,471] Trial 343 finished with value: 17.763842052734045 and parameters: {'x': 0.970877830129558, 'y': 0.5211420907519142}. Best is trial 185 with value: 0.00775572126485168.\n",
      "[I 2024-08-02 11:27:35,530] Trial 344 finished with value: 0.04510349504110586 and parameters: {'x': 0.8691973094822704, 'y': 0.7722354155856868}. Best is trial 185 with value: 0.00775572126485168.\n",
      "[I 2024-08-02 11:27:35,578] Trial 345 finished with value: 5.973707127599093 and parameters: {'x': 1.0652222180161743, 'y': 0.8903737292784024}. Best is trial 185 with value: 0.00775572126485168.\n",
      "[I 2024-08-02 11:27:35,625] Trial 346 finished with value: 0.2186970211374011 and parameters: {'x': 0.8936721095339615, 'y': 0.7531095933289742}. Best is trial 185 with value: 0.00775572126485168.\n",
      "[I 2024-08-02 11:27:35,669] Trial 347 finished with value: 1.60712623966838 and parameters: {'x': 0.9658513912942519, 'y': 0.8061424285313137}. Best is trial 185 with value: 0.00775572126485168.\n",
      "[I 2024-08-02 11:27:35,714] Trial 348 finished with value: 18.901434890957358 and parameters: {'x': 0.7595052176650422, 'y': 1.0109402989548573}. Best is trial 185 with value: 0.00775572126485168.\n",
      "[I 2024-08-02 11:27:35,760] Trial 349 finished with value: 3.0384649934473944 and parameters: {'x': 0.8614879907402692, 'y': 0.9159222964690489}. Best is trial 185 with value: 0.00775572126485168.\n",
      "[I 2024-08-02 11:27:35,805] Trial 350 finished with value: 18.501243121981677 and parameters: {'x': 1.0290458291923135, 'y': 0.6288144116020667}. Best is trial 185 with value: 0.00775572126485168.\n",
      "[I 2024-08-02 11:27:35,849] Trial 351 finished with value: 29.941118552960198 and parameters: {'x': 1.1451838951861082, 'y': 0.7644540131778887}. Best is trial 185 with value: 0.00775572126485168.\n",
      "[I 2024-08-02 11:27:35,893] Trial 352 finished with value: 0.022191603010139397 and parameters: {'x': 0.9063973172939135, 'y': 0.8331449452306285}. Best is trial 185 with value: 0.00775572126485168.\n",
      "[I 2024-08-02 11:27:35,940] Trial 353 finished with value: 0.08056521473900496 and parameters: {'x': 0.9328844483364535, 'y': 0.8426942863729074}. Best is trial 185 with value: 0.00775572126485168.\n",
      "[I 2024-08-02 11:27:35,986] Trial 354 finished with value: 0.013818741165439366 and parameters: {'x': 0.9626895823539882, 'y': 0.937918731199413}. Best is trial 185 with value: 0.00775572126485168.\n",
      "[I 2024-08-02 11:27:36,031] Trial 355 finished with value: 10.886072720809787 and parameters: {'x': 1.1432585439171385, 'y': 0.9774107653456847}. Best is trial 185 with value: 0.00775572126485168.\n",
      "[I 2024-08-02 11:27:36,083] Trial 356 finished with value: 0.0423542773521251 and parameters: {'x': 1.0161044418088785, 'y': 1.0529852842842236}. Best is trial 185 with value: 0.00775572126485168.\n",
      "[I 2024-08-02 11:27:36,132] Trial 357 finished with value: 0.3556672308117428 and parameters: {'x': 1.022429431455792, 'y': 1.1049575924348811}. Best is trial 185 with value: 0.00775572126485168.\n",
      "[I 2024-08-02 11:27:36,181] Trial 358 finished with value: 0.9371428481199466 and parameters: {'x': 1.072275598792483, 'y': 1.0532390034624848}. Best is trial 185 with value: 0.00775572126485168.\n",
      "[I 2024-08-02 11:27:36,231] Trial 359 finished with value: 0.05800920120221275 and parameters: {'x': 0.9681636171017511, 'y': 0.961214550374338}. Best is trial 185 with value: 0.00775572126485168.\n",
      "[I 2024-08-02 11:27:36,280] Trial 360 finished with value: 2.353455936105997 and parameters: {'x': 1.1355189042644347, 'y': 1.1365931507694378}. Best is trial 185 with value: 0.00775572126485168.\n",
      "[I 2024-08-02 11:27:36,326] Trial 361 finished with value: 22.943968086248184 and parameters: {'x': -0.7214867777298422, 'y': 0.9675381520702111}. Best is trial 185 with value: 0.00775572126485168.\n",
      "[I 2024-08-02 11:27:36,371] Trial 362 finished with value: 15.319684743978549 and parameters: {'x': 1.2037491899168158, 'y': 1.0581391020086859}. Best is trial 185 with value: 0.00775572126485168.\n",
      "[I 2024-08-02 11:27:36,416] Trial 363 finished with value: 0.6363264735524834 and parameters: {'x': 1.0087258696681245, 'y': 0.9377625786118615}. Best is trial 185 with value: 0.00775572126485168.\n",
      "[I 2024-08-02 11:27:36,463] Trial 364 finished with value: 0.018686309106546166 and parameters: {'x': 0.9629786842160595, 'y': 0.9141690210384386}. Best is trial 185 with value: 0.00775572126485168.\n",
      "[I 2024-08-02 11:27:36,510] Trial 365 finished with value: 3.1597310977087467 and parameters: {'x': 1.0681423403494104, 'y': 0.9633023933325172}. Best is trial 185 with value: 0.00775572126485168.\n",
      "[I 2024-08-02 11:27:36,571] Trial 366 finished with value: 8.764764386723288 and parameters: {'x': 0.9673401913183197, 'y': 1.2317824781396733}. Best is trial 185 with value: 0.00775572126485168.\n",
      "[I 2024-08-02 11:27:36,633] Trial 367 finished with value: 1.2498177902844183 and parameters: {'x': 0.9555247714150236, 'y': 1.024734336315657}. Best is trial 185 with value: 0.00775572126485168.\n",
      "[I 2024-08-02 11:27:36,692] Trial 368 finished with value: 0.10013334254255586 and parameters: {'x': 1.0729840349934296, 'y': 1.1205040470593384}. Best is trial 185 with value: 0.00775572126485168.\n",
      "[I 2024-08-02 11:27:36,751] Trial 369 finished with value: 44.65318179351653 and parameters: {'x': 1.2527313111677691, 'y': 0.9015834734547782}. Best is trial 185 with value: 0.00775572126485168.\n",
      "[I 2024-08-02 11:27:36,809] Trial 370 finished with value: 0.6746946015888328 and parameters: {'x': 0.982525194845592, 'y': 0.8832345534023487}. Best is trial 185 with value: 0.00775572126485168.\n",
      "[I 2024-08-02 11:27:36,857] Trial 371 finished with value: 2.3061937656507205 and parameters: {'x': 0.9273506038102142, 'y': 1.0116668423131674}. Best is trial 185 with value: 0.00775572126485168.\n",
      "[I 2024-08-02 11:27:36,908] Trial 372 finished with value: 6.174577608532728 and parameters: {'x': 1.0890159832124722, 'y': 0.9376283310690503}. Best is trial 185 with value: 0.00775572126485168.\n",
      "[I 2024-08-02 11:27:36,958] Trial 373 finished with value: 4.795828233748052 and parameters: {'x': 1.024644224095574, 'y': 0.8309158577605691}. Best is trial 185 with value: 0.00775572126485168.\n",
      "[I 2024-08-02 11:27:37,006] Trial 374 finished with value: 9.27228262407864 and parameters: {'x': 1.1638845087852636, 'y': 1.0505642534701805}. Best is trial 185 with value: 0.00775572126485168.\n",
      "[I 2024-08-02 11:27:37,056] Trial 375 finished with value: 11.814216594862701 and parameters: {'x': 0.9203477714379281, 'y': 1.1906658651310509}. Best is trial 185 with value: 0.00775572126485168.\n",
      "[I 2024-08-02 11:27:37,103] Trial 376 finished with value: 0.7308299174216445 and parameters: {'x': 0.9003840570297462, 'y': 0.8955976679072761}. Best is trial 185 with value: 0.00775572126485168.\n",
      "[I 2024-08-02 11:27:37,147] Trial 377 finished with value: 1.3136988505528322 and parameters: {'x': 0.9701780175319178, 'y': 0.8266674864408079}. Best is trial 185 with value: 0.00775572126485168.\n"
     ]
    },
    {
     "name": "stderr",
     "output_type": "stream",
     "text": [
      "[I 2024-08-02 11:27:37,194] Trial 378 finished with value: 1.3654421292058503 and parameters: {'x': 1.0408980263977277, 'y': 0.9666881601438648}. Best is trial 185 with value: 0.00775572126485168.\n",
      "[I 2024-08-02 11:27:37,242] Trial 379 finished with value: 31.08619073729096 and parameters: {'x': 0.7474013313674823, 'y': 1.115586170227828}. Best is trial 185 with value: 0.00775572126485168.\n",
      "[I 2024-08-02 11:27:37,288] Trial 380 finished with value: 0.02616376871236286 and parameters: {'x': 0.880219571859734, 'y': 0.7639161599399049}. Best is trial 185 with value: 0.00775572126485168.\n",
      "[I 2024-08-02 11:27:37,333] Trial 381 finished with value: 0.43777575841550903 and parameters: {'x': 0.9663141047021437, 'y': 0.8676841309428417}. Best is trial 185 with value: 0.00775572126485168.\n",
      "[I 2024-08-02 11:27:37,379] Trial 382 finished with value: 0.18631820229084636 and parameters: {'x': 0.9001110347578742, 'y': 0.7682069710978803}. Best is trial 185 with value: 0.00775572126485168.\n",
      "[I 2024-08-02 11:27:37,424] Trial 383 finished with value: 616.8437081979928 and parameters: {'x': 1.1134601426715232, 'y': -1.2438144406781455}. Best is trial 185 with value: 0.00775572126485168.\n",
      "[I 2024-08-02 11:27:37,469] Trial 384 finished with value: 25.608050831532253 and parameters: {'x': 0.7137779542657801, 'y': 1.0147128521729425}. Best is trial 185 with value: 0.00775572126485168.\n",
      "[I 2024-08-02 11:27:37,515] Trial 385 finished with value: 3.8483189843442864 and parameters: {'x': 0.8375774341127985, 'y': 0.897033730358473}. Best is trial 185 with value: 0.00775572126485168.\n",
      "[I 2024-08-02 11:27:37,559] Trial 386 finished with value: 6.893621222305983 and parameters: {'x': 1.0193966906885323, 'y': 0.7766197131448855}. Best is trial 185 with value: 0.00775572126485168.\n",
      "[I 2024-08-02 11:27:37,606] Trial 387 finished with value: 5.638423832714415 and parameters: {'x': 0.784614530138815, 'y': 0.8520947572805311}. Best is trial 185 with value: 0.00775572126485168.\n",
      "[I 2024-08-02 11:27:37,653] Trial 388 finished with value: 2.012298308267563 and parameters: {'x': 0.9008663005050523, 'y': 0.953068777263665}. Best is trial 185 with value: 0.00775572126485168.\n",
      "[I 2024-08-02 11:27:37,699] Trial 389 finished with value: 49.429480640946416 and parameters: {'x': 0.6097168881868962, 'y': 1.073731604540276}. Best is trial 185 with value: 0.00775572126485168.\n",
      "[I 2024-08-02 11:27:37,745] Trial 390 finished with value: 106.60033451603755 and parameters: {'x': 1.3305510513637089, 'y': 0.7384209926437785}. Best is trial 185 with value: 0.00775572126485168.\n",
      "[I 2024-08-02 11:27:37,796] Trial 391 finished with value: 30.23953698683719 and parameters: {'x': 1.1749223917693503, 'y': 0.8308160339501379}. Best is trial 185 with value: 0.00775572126485168.\n",
      "[I 2024-08-02 11:27:37,846] Trial 392 finished with value: 822.0774072804574 and parameters: {'x': 1.959105213724711, 'y': 0.9725086131540075}. Best is trial 185 with value: 0.00775572126485168.\n",
      "[I 2024-08-02 11:27:37,894] Trial 393 finished with value: 7.664755056327801 and parameters: {'x': 0.9799429321217878, 'y': 1.2371338251023039}. Best is trial 185 with value: 0.00775572126485168.\n",
      "[I 2024-08-02 11:27:37,947] Trial 394 finished with value: 2.4499511547419597 and parameters: {'x': 0.860094233939792, 'y': 0.583865409721396}. Best is trial 185 with value: 0.00775572126485168.\n",
      "[I 2024-08-02 11:27:38,002] Trial 395 finished with value: 156.46042052493934 and parameters: {'x': 0.7253412353422348, 'y': -0.7244199081035092}. Best is trial 185 with value: 0.00775572126485168.\n",
      "[I 2024-08-02 11:27:38,050] Trial 396 finished with value: 14.927355302761788 and parameters: {'x': 1.0758068542920811, 'y': 0.7710754071432483}. Best is trial 185 with value: 0.00775572126485168.\n",
      "[I 2024-08-02 11:27:38,097] Trial 397 finished with value: 7.674005747486321 and parameters: {'x': 0.7915904915270795, 'y': 0.9028503922746551}. Best is trial 185 with value: 0.00775572126485168.\n",
      "[I 2024-08-02 11:27:38,145] Trial 398 finished with value: 0.8264571016767155 and parameters: {'x': 0.9120972541901144, 'y': 0.7414376893649559}. Best is trial 185 with value: 0.00775572126485168.\n",
      "[I 2024-08-02 11:27:38,191] Trial 399 finished with value: 2.4294824644146393 and parameters: {'x': 0.9881834165437395, 'y': 0.820642972124903}. Best is trial 185 with value: 0.00775572126485168.\n",
      "[I 2024-08-02 11:27:38,239] Trial 400 finished with value: 16.80116799148647 and parameters: {'x': 0.8343403987762568, 'y': 1.10568128269976}. Best is trial 185 with value: 0.00775572126485168.\n",
      "[I 2024-08-02 11:27:38,286] Trial 401 finished with value: 7.026152538440418 and parameters: {'x': 0.67081486611255, 'y': 0.7130094982375376}. Best is trial 185 with value: 0.00775572126485168.\n",
      "[I 2024-08-02 11:27:38,336] Trial 402 finished with value: 76.10964945388106 and parameters: {'x': 0.9313797483178479, 'y': 1.7398496929388207}. Best is trial 185 with value: 0.00775572126485168.\n",
      "[I 2024-08-02 11:27:38,387] Trial 403 finished with value: 1.8314053479765198 and parameters: {'x': 1.0731511776148257, 'y': 1.0165218751273852}. Best is trial 185 with value: 0.00775572126485168.\n",
      "[I 2024-08-02 11:27:38,436] Trial 404 finished with value: 0.09716663716134538 and parameters: {'x': 0.7607586616929437, 'y': 0.5987362885274199}. Best is trial 185 with value: 0.00775572126485168.\n",
      "[I 2024-08-02 11:27:38,485] Trial 405 finished with value: 2.1188752349836775 and parameters: {'x': 0.8736794519256061, 'y': 0.9083302100035439}. Best is trial 185 with value: 0.00775572126485168.\n",
      "[I 2024-08-02 11:27:38,537] Trial 406 finished with value: 20.7508154675339 and parameters: {'x': 0.9618263884616167, 'y': 0.4695953668375102}. Best is trial 185 with value: 0.00775572126485168.\n",
      "[I 2024-08-02 11:27:38,584] Trial 407 finished with value: 4.101760766992239 and parameters: {'x': 1.025819681912987, 'y': 0.8497944371432135}. Best is trial 185 with value: 0.00775572126485168.\n",
      "[I 2024-08-02 11:27:38,635] Trial 408 finished with value: 11.215413813259321 and parameters: {'x': 1.2240369378414115, 'y': 1.1641224253476914}. Best is trial 185 with value: 0.00775572126485168.\n",
      "[I 2024-08-02 11:27:38,678] Trial 409 finished with value: 0.24158917414762504 and parameters: {'x': 0.8177304282405785, 'y': 0.7143302850987767}. Best is trial 185 with value: 0.00775572126485168.\n",
      "[I 2024-08-02 11:27:38,731] Trial 410 finished with value: 1.9085570956900202 and parameters: {'x': 0.6996991049213679, 'y': 0.6244260275395708}. Best is trial 185 with value: 0.00775572126485168.\n",
      "[I 2024-08-02 11:27:38,776] Trial 411 finished with value: 2.4148707582087416 and parameters: {'x': 0.8992698156290474, 'y': 0.9637579327087866}. Best is trial 185 with value: 0.00775572126485168.\n",
      "[I 2024-08-02 11:27:38,828] Trial 412 finished with value: 3.2296361029427016 and parameters: {'x': 0.9906645957614691, 'y': 0.8017068826356974}. Best is trial 185 with value: 0.00775572126485168.\n",
      "[I 2024-08-02 11:27:38,877] Trial 413 finished with value: 58.8917456884918 and parameters: {'x': 1.1480781696721325, 'y': 0.5508167859502654}. Best is trial 185 with value: 0.00775572126485168.\n",
      "[I 2024-08-02 11:27:38,925] Trial 414 finished with value: 20.259887594646248 and parameters: {'x': 0.7737071751190767, 'y': 1.0481634378457798}. Best is trial 185 with value: 0.00775572126485168.\n",
      "[I 2024-08-02 11:27:38,972] Trial 415 finished with value: 0.1397326698433186 and parameters: {'x': 0.8651282837469392, 'y': 0.7135840315116055}. Best is trial 185 with value: 0.00775572126485168.\n",
      "[I 2024-08-02 11:27:39,020] Trial 416 finished with value: 19.69888160370613 and parameters: {'x': 0.9481566946075266, 'y': 1.3428050593253564}. Best is trial 185 with value: 0.00775572126485168.\n",
      "[I 2024-08-02 11:27:39,071] Trial 417 finished with value: 7.206263176877384 and parameters: {'x': 1.0752049568867832, 'y': 0.8877262241833009}. Best is trial 185 with value: 0.00775572126485168.\n",
      "[I 2024-08-02 11:27:39,122] Trial 418 finished with value: 1.9218398906764986 and parameters: {'x': 0.8096954885750168, 'y': 0.7929248122998214}. Best is trial 185 with value: 0.00775572126485168.\n",
      "[I 2024-08-02 11:27:39,169] Trial 419 finished with value: 8.93149066441747 and parameters: {'x': 0.6169414405436092, 'y': 0.6770076451789704}. Best is trial 185 with value: 0.00775572126485168.\n"
     ]
    },
    {
     "name": "stderr",
     "output_type": "stream",
     "text": [
      "[I 2024-08-02 11:27:39,216] Trial 420 finished with value: 1.2747668957235747 and parameters: {'x': 0.904865505472554, 'y': 0.9312856417508664}. Best is trial 185 with value: 0.00775572126485168.\n",
      "[I 2024-08-02 11:27:39,262] Trial 421 finished with value: 4.333652026732853 and parameters: {'x': -0.9227583951381706, 'y': 0.7716925688550703}. Best is trial 185 with value: 0.00775572126485168.\n",
      "[I 2024-08-02 11:27:39,314] Trial 422 finished with value: 6.5854823420145 and parameters: {'x': 0.7716074504909542, 'y': 0.8509816410658886}. Best is trial 185 with value: 0.00775572126485168.\n",
      "[I 2024-08-02 11:27:39,360] Trial 423 finished with value: 13.75143476531721 and parameters: {'x': 0.9974260827654213, 'y': 0.6240296096865603}. Best is trial 185 with value: 0.00775572126485168.\n",
      "[I 2024-08-02 11:27:39,405] Trial 424 finished with value: 7.928240822513774 and parameters: {'x': 0.8643473486041872, 'y': 1.0283407021947444}. Best is trial 185 with value: 0.00775572126485168.\n",
      "[I 2024-08-02 11:27:39,453] Trial 425 finished with value: 31.271245658146412 and parameters: {'x': 1.0402982039664235, 'y': 0.5230278844058133}. Best is trial 185 with value: 0.00775572126485168.\n",
      "[I 2024-08-02 11:27:39,500] Trial 426 finished with value: 5.1497175060483915 and parameters: {'x': 0.6991938291575919, 'y': 0.7137994024306108}. Best is trial 185 with value: 0.00775572126485168.\n",
      "[I 2024-08-02 11:27:39,553] Trial 427 finished with value: 9.798503748391347 and parameters: {'x': 1.1305237126881444, 'y': 0.9653304907267024}. Best is trial 185 with value: 0.00775572126485168.\n",
      "[I 2024-08-02 11:27:39,602] Trial 428 finished with value: 0.16287307176638197 and parameters: {'x': 0.9535636549400823, 'y': 0.8691941519301389}. Best is trial 185 with value: 0.00775572126485168.\n",
      "[I 2024-08-02 11:27:39,653] Trial 429 finished with value: 16.029596946379378 and parameters: {'x': 0.8400986202011436, 'y': 1.1058160446835545}. Best is trial 185 with value: 0.00775572126485168.\n",
      "[I 2024-08-02 11:27:39,701] Trial 430 finished with value: 4.159130669668875 and parameters: {'x': 0.7544999470023755, 'y': 0.7717265948109603}. Best is trial 185 with value: 0.00775572126485168.\n",
      "[I 2024-08-02 11:27:39,749] Trial 431 finished with value: 4.94938802354852 and parameters: {'x': 0.9327105675495375, 'y': 0.6475785876139265}. Best is trial 185 with value: 0.00775572126485168.\n",
      "[I 2024-08-02 11:27:39,793] Trial 432 finished with value: 29.24740118403254 and parameters: {'x': -0.5629562378003814, 'y': 0.8346510168203324}. Best is trial 185 with value: 0.00775572126485168.\n",
      "[I 2024-08-02 11:27:39,838] Trial 433 finished with value: 3.5589589099058085 and parameters: {'x': 1.0563144514581118, 'y': 0.9272322593355724}. Best is trial 185 with value: 0.00775572126485168.\n",
      "[I 2024-08-02 11:27:39,882] Trial 434 finished with value: 0.09123590030272172 and parameters: {'x': 0.864073456644918, 'y': 0.7196489000127166}. Best is trial 185 with value: 0.00775572126485168.\n",
      "[I 2024-08-02 11:27:39,929] Trial 435 finished with value: 202.67641240166228 and parameters: {'x': 1.637141298177648, 'y': 1.2580134213158585}. Best is trial 185 with value: 0.00775572126485168.\n",
      "[I 2024-08-02 11:27:39,976] Trial 436 finished with value: 91.79531495003643 and parameters: {'x': 0.6823885506690833, 'y': 1.4232262614840128}. Best is trial 185 with value: 0.00775572126485168.\n",
      "[I 2024-08-02 11:27:40,019] Trial 437 finished with value: 15.59038821910915 and parameters: {'x': 0.9909532233662951, 'y': 0.5871426707528631}. Best is trial 185 with value: 0.00775572126485168.\n",
      "[I 2024-08-02 11:27:40,064] Trial 438 finished with value: 12.961416932515196 and parameters: {'x': 0.7982405487226558, 'y': 0.9966418657494116}. Best is trial 185 with value: 0.00775572126485168.\n",
      "[I 2024-08-02 11:27:40,112] Trial 439 finished with value: 11.9691927653862 and parameters: {'x': 0.9080073315827446, 'y': 1.1703201992634078}. Best is trial 185 with value: 0.00775572126485168.\n",
      "[I 2024-08-02 11:27:40,156] Trial 440 finished with value: 19.741530779060938 and parameters: {'x': 1.1091416672003964, 'y': 0.7860148818084876}. Best is trial 185 with value: 0.00775572126485168.\n",
      "[I 2024-08-02 11:27:40,206] Trial 441 finished with value: 8.459132587482353 and parameters: {'x': 0.6053962316527259, 'y': 0.6546611598393486}. Best is trial 185 with value: 0.00775572126485168.\n",
      "[I 2024-08-02 11:27:40,257] Trial 442 finished with value: 2.245124598939273 and parameters: {'x': 0.8434759121558326, 'y': 0.8604692243821687}. Best is trial 185 with value: 0.00775572126485168.\n",
      "[I 2024-08-02 11:27:40,302] Trial 443 finished with value: 79.48469358588694 and parameters: {'x': 1.2767907115687616, 'y': 0.7390824042523252}. Best is trial 185 with value: 0.00775572126485168.\n",
      "[I 2024-08-02 11:27:40,347] Trial 444 finished with value: 24.98628591986021 and parameters: {'x': 0.9896626806300114, 'y': 0.4795704499420164}. Best is trial 185 with value: 0.00775572126485168.\n",
      "[I 2024-08-02 11:27:40,394] Trial 445 finished with value: 120.78910920485728 and parameters: {'x': 0.772012719336762, 'y': -0.5028008524577217}. Best is trial 185 with value: 0.00775572126485168.\n",
      "[I 2024-08-02 11:27:40,440] Trial 446 finished with value: 0.13671624274074726 and parameters: {'x': 0.9311358249770978, 'y': 0.9033421461113649}. Best is trial 185 with value: 0.00775572126485168.\n",
      "[I 2024-08-02 11:27:40,486] Trial 447 finished with value: 76.70513618901595 and parameters: {'x': -0.3595120460023642, 'y': 0.994447519551809}. Best is trial 185 with value: 0.00775572126485168.\n",
      "[I 2024-08-02 11:27:40,534] Trial 448 finished with value: 8.896946592804744 and parameters: {'x': 0.8797419784649728, 'y': 1.0719809231489652}. Best is trial 185 with value: 0.00775572126485168.\n",
      "[I 2024-08-02 11:27:40,581] Trial 449 finished with value: 445.61984316646107 and parameters: {'x': -1.7061480059588452, 'y': 0.817387565047514}. Best is trial 185 with value: 0.00775572126485168.\n",
      "[I 2024-08-02 11:27:40,629] Trial 450 finished with value: 0.376797774229638 and parameters: {'x': 0.7178806935299548, 'y': 0.5698693363299245}. Best is trial 185 with value: 0.00775572126485168.\n",
      "[I 2024-08-02 11:27:40,675] Trial 451 finished with value: 25.849718961924708 and parameters: {'x': 1.0755772440218008, 'y': 0.6484963945590415}. Best is trial 185 with value: 0.00775572126485168.\n",
      "[I 2024-08-02 11:27:40,722] Trial 452 finished with value: 8.89692367969761 and parameters: {'x': 1.0193078217806175, 'y': 0.7407175705945958}. Best is trial 185 with value: 0.00775572126485168.\n",
      "[I 2024-08-02 11:27:40,768] Trial 453 finished with value: 4.342065069267828 and parameters: {'x': 0.8243179707916274, 'y': 0.8871344323873256}. Best is trial 185 with value: 0.00775572126485168.\n",
      "[I 2024-08-02 11:27:40,815] Trial 454 finished with value: 41.809297937332296 and parameters: {'x': 1.2034109295184432, 'y': 0.8019167969319445}. Best is trial 185 with value: 0.00775572126485168.\n",
      "[I 2024-08-02 11:27:40,867] Trial 455 finished with value: 2.787588675815883 and parameters: {'x': 0.9259771743035459, 'y': 0.6906371657031951}. Best is trial 185 with value: 0.00775572126485168.\n",
      "[I 2024-08-02 11:27:40,915] Trial 456 finished with value: 12.99116467380051 and parameters: {'x': 0.7744950169779923, 'y': 0.9595689854028471}. Best is trial 185 with value: 0.00775572126485168.\n",
      "[I 2024-08-02 11:27:40,961] Trial 457 finished with value: 39.51727755522522 and parameters: {'x': 0.6731775011563754, 'y': 1.0809454931336455}. Best is trial 185 with value: 0.00775572126485168.\n",
      "[I 2024-08-02 11:27:41,007] Trial 458 finished with value: 3.3571507152695763 and parameters: {'x': 0.9728416178018657, 'y': 0.7632156513491485}. Best is trial 185 with value: 0.00775572126485168.\n",
      "[I 2024-08-02 11:27:41,052] Trial 459 finished with value: 2.056596269323458 and parameters: {'x': 0.8845815799110263, 'y': 0.6395414059720095}. Best is trial 185 with value: 0.00775572126485168.\n",
      "[I 2024-08-02 11:27:41,107] Trial 460 finished with value: 17.838112200344565 and parameters: {'x': 1.129931915602419, 'y': 0.8545941482608255}. Best is trial 185 with value: 0.00775572126485168.\n",
      "[I 2024-08-02 11:27:41,158] Trial 461 finished with value: 25.83422287655972 and parameters: {'x': 1.024470758131115, 'y': 0.5412724515645402}. Best is trial 185 with value: 0.00775572126485168.\n"
     ]
    },
    {
     "name": "stderr",
     "output_type": "stream",
     "text": [
      "[I 2024-08-02 11:27:41,206] Trial 462 finished with value: 7.167373777555892 and parameters: {'x': 0.8197616460052026, 'y': 0.9391212659324568}. Best is trial 185 with value: 0.00775572126485168.\n",
      "[I 2024-08-02 11:27:41,255] Trial 463 finished with value: 2.081311197334907 and parameters: {'x': 0.9275308388576886, 'y': 0.716228085879448}. Best is trial 185 with value: 0.00775572126485168.\n",
      "[I 2024-08-02 11:27:41,299] Trial 464 finished with value: 24.808120399560405 and parameters: {'x': 0.7353273431508279, 'y': 1.0380800924536204}. Best is trial 185 with value: 0.00775572126485168.\n",
      "[I 2024-08-02 11:27:41,348] Trial 465 finished with value: 0.6597311321896954 and parameters: {'x': 0.8579454713975937, 'y': 0.8160424046754367}. Best is trial 185 with value: 0.00775572126485168.\n",
      "[I 2024-08-02 11:27:41,399] Trial 466 finished with value: 1.6489002866860718 and parameters: {'x': 1.031726318249738, 'y': 1.1928295088254264}. Best is trial 185 with value: 0.00775572126485168.\n",
      "[I 2024-08-02 11:27:41,451] Trial 467 finished with value: 3.6382134333062788 and parameters: {'x': 0.9064671246940658, 'y': 0.6311710990381327}. Best is trial 185 with value: 0.00775572126485168.\n",
      "[I 2024-08-02 11:27:41,502] Trial 468 finished with value: 8.46216920285336 and parameters: {'x': 0.7829822564928623, 'y': 0.9031486577277505}. Best is trial 185 with value: 0.00775572126485168.\n",
      "[I 2024-08-02 11:27:41,556] Trial 469 finished with value: 4.276845672914746 and parameters: {'x': 0.9659935842989323, 'y': 0.7263662068041516}. Best is trial 185 with value: 0.00775572126485168.\n",
      "[I 2024-08-02 11:27:41,605] Trial 470 finished with value: 56.42226673520047 and parameters: {'x': 1.0970250525367995, 'y': 0.45237906473784123}. Best is trial 185 with value: 0.00775572126485168.\n",
      "[I 2024-08-02 11:27:41,658] Trial 471 finished with value: 14.876564638182701 and parameters: {'x': 0.6437860721812702, 'y': 0.7985135795749263}. Best is trial 185 with value: 0.00775572126485168.\n",
      "[I 2024-08-02 11:27:41,714] Trial 472 finished with value: 7.902858079078621 and parameters: {'x': 0.840994846026312, 'y': 0.9879425189874687}. Best is trial 185 with value: 0.00775572126485168.\n",
      "[I 2024-08-02 11:27:41,761] Trial 473 finished with value: 36.61910538748402 and parameters: {'x': 0.7175332773009688, 'y': 1.1193316127018829}. Best is trial 185 with value: 0.00775572126485168.\n",
      "[I 2024-08-02 11:27:41,813] Trial 474 finished with value: 8.884481324706687 and parameters: {'x': 0.9485191156957953, 'y': 0.6016645030146494}. Best is trial 185 with value: 0.00775572126485168.\n",
      "[I 2024-08-02 11:27:41,896] Trial 475 finished with value: 12.914622212272452 and parameters: {'x': 1.026560332974014, 'y': 0.6944667322047338}. Best is trial 185 with value: 0.00775572126485168.\n",
      "[I 2024-08-02 11:27:41,959] Trial 476 finished with value: 17.3983866603437 and parameters: {'x': -1.099519805218852, 'y': 0.8485217820997232}. Best is trial 185 with value: 0.00775572126485168.\n",
      "[I 2024-08-02 11:27:42,011] Trial 477 finished with value: 34.74701755645854 and parameters: {'x': 1.1642039629388607, 'y': 0.7661336093778922}. Best is trial 185 with value: 0.00775572126485168.\n",
      "[I 2024-08-02 11:27:42,059] Trial 478 finished with value: 2.386095177593728 and parameters: {'x': 0.8745168882084525, 'y': 0.9187391709201085}. Best is trial 185 with value: 0.00775572126485168.\n",
      "[I 2024-08-02 11:27:42,110] Trial 479 finished with value: 15.212855216511286 and parameters: {'x': 0.7878970300455731, 'y': 1.0102411957100301}. Best is trial 185 with value: 0.00775572126485168.\n",
      "[I 2024-08-02 11:27:42,160] Trial 480 finished with value: 14.648145433559584 and parameters: {'x': 0.9480356305312858, 'y': 0.5160778784988325}. Best is trial 185 with value: 0.00775572126485168.\n",
      "[I 2024-08-02 11:27:42,211] Trial 481 finished with value: 0.17808553037512012 and parameters: {'x': 0.8460847684533929, 'y': 0.6765662258335022}. Best is trial 185 with value: 0.00775572126485168.\n",
      "[I 2024-08-02 11:27:42,262] Trial 482 finished with value: 201.86828615707918 and parameters: {'x': -1.4964945967197596, 'y': 0.8407973939281619}. Best is trial 185 with value: 0.00775572126485168.\n",
      "[I 2024-08-02 11:27:42,313] Trial 483 finished with value: 11.849026905315815 and parameters: {'x': 1.0530736594842436, 'y': 0.764780894881083}. Best is trial 185 with value: 0.00775572126485168.\n",
      "[I 2024-08-02 11:27:42,361] Trial 484 finished with value: 6.653685081054115 and parameters: {'x': 0.913770749844593, 'y': 0.5771737715485042}. Best is trial 185 with value: 0.00775572126485168.\n",
      "[I 2024-08-02 11:27:42,409] Trial 485 finished with value: 16.70024412815394 and parameters: {'x': 0.7166221036469185, 'y': 0.9212228592117992}. Best is trial 185 with value: 0.00775572126485168.\n",
      "[I 2024-08-02 11:27:42,458] Trial 486 finished with value: 13.644663224675737 and parameters: {'x': 0.5677844470021134, 'y': 0.6892286424852968}. Best is trial 185 with value: 0.00775572126485168.\n",
      "[I 2024-08-02 11:27:42,506] Trial 487 finished with value: 8.541962523819135 and parameters: {'x': 0.9936559436226239, 'y': 1.2796178058484586}. Best is trial 185 with value: 0.00775572126485168.\n",
      "[I 2024-08-02 11:27:42,555] Trial 488 finished with value: 18.427914747313164 and parameters: {'x': 0.8180312286989405, 'y': 1.0980667104617508}. Best is trial 185 with value: 0.00775572126485168.\n",
      "[I 2024-08-02 11:27:42,603] Trial 489 finished with value: 8.458368102386661 and parameters: {'x': 0.758046391454004, 'y': 0.8644588742717983}. Best is trial 185 with value: 0.00775572126485168.\n",
      "[I 2024-08-02 11:27:42,649] Trial 490 finished with value: 172.82231570863289 and parameters: {'x': 1.4478720731206773, 'y': 0.7824776640284701}. Best is trial 185 with value: 0.00775572126485168.\n",
      "[I 2024-08-02 11:27:42,698] Trial 491 finished with value: 8.320158307201185 and parameters: {'x': 1.125905070618928, 'y': 0.979490296372781}. Best is trial 185 with value: 0.00775572126485168.\n",
      "[I 2024-08-02 11:27:42,745] Trial 492 finished with value: 2.743562322661248 and parameters: {'x': 0.886603477033356, 'y': 0.6208173200115072}. Best is trial 185 with value: 0.00775572126485168.\n",
      "[I 2024-08-02 11:27:42,791] Trial 493 finished with value: 7.082801917347182 and parameters: {'x': 0.9873899998499744, 'y': 0.7088066592938695}. Best is trial 185 with value: 0.00775572126485168.\n",
      "[I 2024-08-02 11:27:42,840] Trial 494 finished with value: 2.5261511910167993 and parameters: {'x': 0.8265886662264416, 'y': 0.841238686743534}. Best is trial 185 with value: 0.00775572126485168.\n",
      "[I 2024-08-02 11:27:42,889] Trial 495 finished with value: 18.36588844572573 and parameters: {'x': 1.214801722540467, 'y': 1.0477274699366212}. Best is trial 185 with value: 0.00775572126485168.\n",
      "[I 2024-08-02 11:27:42,943] Trial 496 finished with value: 14.621134305055207 and parameters: {'x': 1.065144350880916, 'y': 0.7522120660725767}. Best is trial 185 with value: 0.00775572126485168.\n",
      "[I 2024-08-02 11:27:42,992] Trial 497 finished with value: 20.05450718883611 and parameters: {'x': 0.6792238785342303, 'y': 0.90801732691057}. Best is trial 185 with value: 0.00775572126485168.\n",
      "[I 2024-08-02 11:27:43,044] Trial 498 finished with value: 9.177119177716772 and parameters: {'x': 0.919293722157042, 'y': 0.5422708686019901}. Best is trial 185 with value: 0.00775572126485168.\n",
      "[I 2024-08-02 11:27:43,092] Trial 499 finished with value: 35.07978990823726 and parameters: {'x': 0.7701744853801169, 'y': 1.1850046116410269}. Best is trial 185 with value: 0.00775572126485168.\n",
      "[I 2024-08-02 11:27:43,144] Trial 500 finished with value: 12.408139693383875 and parameters: {'x': 0.9883862111801327, 'y': 0.6246573228443028}. Best is trial 185 with value: 0.00775572126485168.\n",
      "[I 2024-08-02 11:27:43,192] Trial 501 finished with value: 0.0557174225898621 and parameters: {'x': 0.882200023774592, 'y': 0.7987318540063304}. Best is trial 185 with value: 0.00775572126485168.\n",
      "[I 2024-08-02 11:27:43,245] Trial 502 finished with value: 1.3011296586042862 and parameters: {'x': 0.9188100307737548, 'y': 0.9579896317908788}. Best is trial 185 with value: 0.00775572126485168.\n",
      "[I 2024-08-02 11:27:43,295] Trial 503 finished with value: 10.906625989100299 and parameters: {'x': 1.073530330211402, 'y': 0.8222974245580758}. Best is trial 185 with value: 0.00775572126485168.\n"
     ]
    },
    {
     "name": "stderr",
     "output_type": "stream",
     "text": [
      "[I 2024-08-02 11:27:43,344] Trial 504 finished with value: 7.014404871883071 and parameters: {'x': 0.8740551514759097, 'y': 1.0285199983797455}. Best is trial 185 with value: 0.00775572126485168.\n",
      "[I 2024-08-02 11:27:43,399] Trial 505 finished with value: 0.6938830811233456 and parameters: {'x': 0.9864920164552777, 'y': 0.8898778068903841}. Best is trial 185 with value: 0.00775572126485168.\n",
      "[I 2024-08-02 11:27:43,446] Trial 506 finished with value: 4.390535054059085 and parameters: {'x': 0.762341430977731, 'y': 0.7893483534633625}. Best is trial 185 with value: 0.00775572126485168.\n",
      "[I 2024-08-02 11:27:43,492] Trial 507 finished with value: 3.6874660325640347 and parameters: {'x': 0.9350421390852226, 'y': 0.6823859416000738}. Best is trial 185 with value: 0.00775572126485168.\n",
      "[I 2024-08-02 11:27:43,539] Trial 508 finished with value: 46.57279118593764 and parameters: {'x': 0.6630275501244869, 'y': 1.1212156902613732}. Best is trial 185 with value: 0.00775572126485168.\n",
      "[I 2024-08-02 11:27:43,589] Trial 509 finished with value: 5.491988583815743 and parameters: {'x': 0.8495133592346759, 'y': 0.9555391989262674}. Best is trial 185 with value: 0.00775572126485168.\n",
      "[I 2024-08-02 11:27:43,636] Trial 510 finished with value: 21.5526579250685 and parameters: {'x': 1.1557038576808758, 'y': 0.8716641844877198}. Best is trial 185 with value: 0.00775572126485168.\n",
      "[I 2024-08-02 11:27:43,683] Trial 511 finished with value: 45.37195856753426 and parameters: {'x': 1.0450524291496528, 'y': 0.41856254309226487}. Best is trial 185 with value: 0.00775572126485168.\n",
      "[I 2024-08-02 11:27:43,733] Trial 512 finished with value: 1.7251848956406368 and parameters: {'x': 0.9585252522218852, 'y': 0.7874898631052093}. Best is trial 185 with value: 0.00775572126485168.\n",
      "[I 2024-08-02 11:27:43,783] Trial 513 finished with value: 0.5597845200276299 and parameters: {'x': 0.8117764326199831, 'y': 0.7313934346504554}. Best is trial 185 with value: 0.00775572126485168.\n",
      "[I 2024-08-02 11:27:43,830] Trial 514 finished with value: 47.977309909302505 and parameters: {'x': 1.305789440948072, 'y': 1.0131048307685855}. Best is trial 185 with value: 0.00775572126485168.\n",
      "[I 2024-08-02 11:27:43,879] Trial 515 finished with value: 25.388841459503784 and parameters: {'x': 0.5989433678271254, 'y': 0.8610079336322434}. Best is trial 185 with value: 0.00775572126485168.\n",
      "[I 2024-08-02 11:27:43,933] Trial 516 finished with value: 1.7134313163317996 and parameters: {'x': 0.8863322556113276, 'y': 0.655181226275267}. Best is trial 185 with value: 0.00775572126485168.\n",
      "[I 2024-08-02 11:27:43,979] Trial 517 finished with value: 7.104795508635121 and parameters: {'x': 1.0968788548593524, 'y': 0.9367711141609818}. Best is trial 185 with value: 0.00775572126485168.\n",
      "[I 2024-08-02 11:27:44,029] Trial 518 finished with value: 399.9413370456942 and parameters: {'x': 1.6715026444181564, 'y': 0.7951954431801238}. Best is trial 185 with value: 0.00775572126485168.\n",
      "[I 2024-08-02 11:27:44,077] Trial 519 finished with value: 628.1397365728426 and parameters: {'x': 0.7312852465039985, 'y': -1.9713494367835613}. Best is trial 185 with value: 0.00775572126485168.\n",
      "[I 2024-08-02 11:27:44,129] Trial 520 finished with value: 25.358832463442784 and parameters: {'x': 1.0225674991915377, 'y': 0.542073807040049}. Best is trial 185 with value: 0.00775572126485168.\n",
      "[I 2024-08-02 11:27:44,177] Trial 521 finished with value: 1.2424519571710955 and parameters: {'x': 0.9103630634571139, 'y': 0.7176565790034712}. Best is trial 185 with value: 0.00775572126485168.\n",
      "[I 2024-08-02 11:27:44,224] Trial 522 finished with value: 18.51923975423224 and parameters: {'x': 0.81704491922502, 'y': 1.097513178524154}. Best is trial 185 with value: 0.00775572126485168.\n",
      "[I 2024-08-02 11:27:44,275] Trial 523 finished with value: 10.729913206874278 and parameters: {'x': 0.9660906577426079, 'y': 0.6057832485372254}. Best is trial 185 with value: 0.00775572126485168.\n",
      "[I 2024-08-02 11:27:44,326] Trial 524 finished with value: 0.7467575438373413 and parameters: {'x': 0.8739018210747965, 'y': 0.849194555651646}. Best is trial 185 with value: 0.00775572126485168.\n",
      "[I 2024-08-02 11:27:44,377] Trial 525 finished with value: 18.794153527486976 and parameters: {'x': 0.7343719248929388, 'y': 0.9720098227914924}. Best is trial 185 with value: 0.00775572126485168.\n",
      "[I 2024-08-02 11:27:44,426] Trial 526 finished with value: 8.245123882298618 and parameters: {'x': 1.0184700111044096, 'y': 0.7501438663772408}. Best is trial 185 with value: 0.00775572126485168.\n",
      "[I 2024-08-02 11:27:44,476] Trial 527 finished with value: 327.7362991533919 and parameters: {'x': 1.2026258079611862, 'y': -0.3639266256699458}. Best is trial 185 with value: 0.00775572126485168.\n",
      "[I 2024-08-02 11:27:44,528] Trial 528 finished with value: 6.112034833569936 and parameters: {'x': 0.8099122667449014, 'y': 0.9024513176114831}. Best is trial 185 with value: 0.00775572126485168.\n",
      "[I 2024-08-02 11:27:44,579] Trial 529 finished with value: 31.56396557048143 and parameters: {'x': 1.0979989469720537, 'y': 0.6438689951003043}. Best is trial 185 with value: 0.00775572126485168.\n",
      "[I 2024-08-02 11:27:44,629] Trial 530 finished with value: 0.36192758610981035 and parameters: {'x': 0.9244076682266644, 'y': 0.7948459224498909}. Best is trial 185 with value: 0.00775572126485168.\n",
      "[I 2024-08-02 11:27:44,678] Trial 531 finished with value: 35.15509613489923 and parameters: {'x': 0.6522256551552976, 'y': 1.017294826097265}. Best is trial 185 with value: 0.00775572126485168.\n",
      "[I 2024-08-02 11:27:44,728] Trial 532 finished with value: 16.721172056498773 and parameters: {'x': 0.8645993017692364, 'y': 1.1562230181867093}. Best is trial 185 with value: 0.00775572126485168.\n",
      "[I 2024-08-02 11:27:44,780] Trial 533 finished with value: 8.103703976937307 and parameters: {'x': 0.9890036281762887, 'y': 0.6934602461999241}. Best is trial 185 with value: 0.00775572126485168.\n",
      "[I 2024-08-02 11:27:44,831] Trial 534 finished with value: 1.1268663429517183 and parameters: {'x': 0.7635370135058965, 'y': 0.47950197961556945}. Best is trial 185 with value: 0.00775572126485168.\n",
      "[I 2024-08-02 11:27:44,882] Trial 535 finished with value: 0.10990583057730088 and parameters: {'x': 0.9398080072863684, 'y': 0.8506380545959027}. Best is trial 185 with value: 0.00775572126485168.\n",
      "[I 2024-08-02 11:27:44,940] Trial 536 finished with value: 0.40736332208288184 and parameters: {'x': 0.8374424003565227, 'y': 0.7630299771615651}. Best is trial 185 with value: 0.00775572126485168.\n",
      "[I 2024-08-02 11:27:44,995] Trial 537 finished with value: 2.630006208770969 and parameters: {'x': 1.034843927695287, 'y': 0.9087664524227668}. Best is trial 185 with value: 0.00775572126485168.\n",
      "[I 2024-08-02 11:27:45,045] Trial 538 finished with value: 2.9324813154556963 and parameters: {'x': 0.7012485145495103, 'y': 0.6603682463635894}. Best is trial 185 with value: 0.00775572126485168.\n",
      "[I 2024-08-02 11:27:45,096] Trial 539 finished with value: 5.636700523117062 and parameters: {'x': 1.1400445883512949, 'y': 1.062697696449814}. Best is trial 185 with value: 0.00775572126485168.\n",
      "[I 2024-08-02 11:27:45,146] Trial 540 finished with value: 3.021089507077387 and parameters: {'x': 0.7933819806366814, 'y': 0.8020353398127824}. Best is trial 185 with value: 0.00775572126485168.\n",
      "[I 2024-08-02 11:27:45,197] Trial 541 finished with value: 5.263350953407502 and parameters: {'x': 0.8983784686015305, 'y': 0.5778891081212001}. Best is trial 185 with value: 0.00775572126485168.\n",
      "[I 2024-08-02 11:27:45,248] Trial 542 finished with value: 0.7565081116507317 and parameters: {'x': 1.0124697608747724, 'y': 0.9381264811850725}. Best is trial 185 with value: 0.00775572126485168.\n",
      "[I 2024-08-02 11:27:45,301] Trial 543 finished with value: 11.250793011482054 and parameters: {'x': 0.9422009990853618, 'y': 1.22311493808856}. Best is trial 185 with value: 0.00775572126485168.\n",
      "[I 2024-08-02 11:27:45,348] Trial 544 finished with value: 1.9781003146118499 and parameters: {'x': 0.844948227164808, 'y': 0.8537251763725389}. Best is trial 185 with value: 0.00775572126485168.\n",
      "[I 2024-08-02 11:27:45,396] Trial 545 finished with value: 2.7036457942712273 and parameters: {'x': 0.7461350469521286, 'y': 0.7191736063563244}. Best is trial 185 with value: 0.00775572126485168.\n"
     ]
    },
    {
     "name": "stderr",
     "output_type": "stream",
     "text": [
      "[I 2024-08-02 11:27:45,443] Trial 546 finished with value: 45.140852528735415 and parameters: {'x': 0.5770841012414045, 'y': 1.0035631183245406}. Best is trial 185 with value: 0.00775572126485168.\n",
      "[I 2024-08-02 11:27:45,490] Trial 547 finished with value: 39.63474002978037 and parameters: {'x': 1.1050763863058548, 'y': 0.5917202380535102}. Best is trial 185 with value: 0.00775572126485168.\n",
      "[I 2024-08-02 11:27:45,542] Trial 548 finished with value: 0.8386526776284217 and parameters: {'x': 0.905060743137377, 'y': 0.7280504157710169}. Best is trial 185 with value: 0.00775572126485168.\n",
      "[I 2024-08-02 11:27:45,590] Trial 549 finished with value: 3.2845392801189184 and parameters: {'x': 1.0087087472952985, 'y': 0.8362624499374012}. Best is trial 185 with value: 0.00775572126485168.\n",
      "[I 2024-08-02 11:27:45,638] Trial 550 finished with value: 8.886195232445603 and parameters: {'x': 0.8038036669843686, 'y': 0.9435512088393376}. Best is trial 185 with value: 0.00775572126485168.\n",
      "[I 2024-08-02 11:27:45,686] Trial 551 finished with value: 6.7345755433022765 and parameters: {'x': 0.9595807893068271, 'y': 0.6613161623599173}. Best is trial 185 with value: 0.00775572126485168.\n",
      "[I 2024-08-02 11:27:45,736] Trial 552 finished with value: 39.64763490989954 and parameters: {'x': 0.6734567417772366, 'y': 1.0823603665023285}. Best is trial 185 with value: 0.00775572126485168.\n",
      "[I 2024-08-02 11:27:45,783] Trial 553 finished with value: 0.04183751055270683 and parameters: {'x': 0.8721962727323895, 'y': 0.7766962216522602}. Best is trial 185 with value: 0.00775572126485168.\n",
      "[I 2024-08-02 11:27:45,831] Trial 554 finished with value: 3.6381218484457847 and parameters: {'x': 0.751922148855828, 'y': 0.7545053789166107}. Best is trial 185 with value: 0.00775572126485168.\n",
      "[I 2024-08-02 11:27:45,880] Trial 555 finished with value: 3.144941608934442 and parameters: {'x': 0.8509416286997882, 'y': 0.5473893692124656}. Best is trial 185 with value: 0.00775572126485168.\n",
      "[I 2024-08-02 11:27:45,928] Trial 556 finished with value: 0.8319654807312494 and parameters: {'x': 0.8542579170694972, 'y': 0.6397163353226119}. Best is trial 185 with value: 0.00775572126485168.\n",
      "[I 2024-08-02 11:27:45,976] Trial 557 finished with value: 12.790388465481348 and parameters: {'x': 0.6508262422177135, 'y': 0.779502685653961}. Best is trial 185 with value: 0.00775572126485168.\n",
      "[I 2024-08-02 11:27:46,025] Trial 558 finished with value: 0.9930700822540597 and parameters: {'x': 0.7785879259098916, 'y': 0.7033612279112051}. Best is trial 185 with value: 0.00775572126485168.\n",
      "[I 2024-08-02 11:27:46,075] Trial 559 finished with value: 0.00900485917423367 and parameters: {'x': 0.9051281217791325, 'y': 0.8190523221854765}. Best is trial 185 with value: 0.00775572126485168.\n",
      "[I 2024-08-02 11:27:46,124] Trial 560 finished with value: 6.040261566528387 and parameters: {'x': 1.0516236994740364, 'y': 0.8601971929014962}. Best is trial 185 with value: 0.00775572126485168.\n",
      "[I 2024-08-02 11:27:46,172] Trial 561 finished with value: 2.8982489364556683 and parameters: {'x': 0.9237904403380748, 'y': 0.6833169975355089}. Best is trial 185 with value: 0.00775572126485168.\n",
      "[I 2024-08-02 11:27:46,220] Trial 562 finished with value: 0.6458322441347185 and parameters: {'x': 0.8177992440394537, 'y': 0.5905245917615599}. Best is trial 185 with value: 0.00775572126485168.\n",
      "[I 2024-08-02 11:27:46,271] Trial 563 finished with value: 57.355867526222205 and parameters: {'x': -0.16942437545821998, 'y': 0.776958012952996}. Best is trial 185 with value: 0.00775572126485168.\n",
      "[I 2024-08-02 11:27:46,319] Trial 564 finished with value: 0.08361474628506906 and parameters: {'x': 0.7146838838422779, 'y': 0.5060725643326249}. Best is trial 185 with value: 0.00775572126485168.\n",
      "[I 2024-08-02 11:27:46,371] Trial 565 finished with value: 48.427684095435595 and parameters: {'x': 1.2525343265488367, 'y': 0.8734005772923022}. Best is trial 185 with value: 0.00775572126485168.\n",
      "[I 2024-08-02 11:27:46,423] Trial 566 finished with value: 410.89125510277603 and parameters: {'x': 0.9729792969030954, 'y': -1.0803547628728767}. Best is trial 185 with value: 0.00775572126485168.\n",
      "[I 2024-08-02 11:27:46,473] Trial 567 finished with value: 26.10139787964511 and parameters: {'x': 0.892196830399554, 'y': 1.3067967065137616}. Best is trial 185 with value: 0.00775572126485168.\n",
      "[I 2024-08-02 11:27:46,522] Trial 568 finished with value: 17.36688891394153 and parameters: {'x': 1.072415328323276, 'y': 0.7334015639286438}. Best is trial 185 with value: 0.00775572126485168.\n",
      "[I 2024-08-02 11:27:46,571] Trial 569 finished with value: 0.21220908752878248 and parameters: {'x': 0.7909524879972135, 'y': 0.6666555916487806}. Best is trial 185 with value: 0.00775572126485168.\n",
      "[I 2024-08-02 11:27:46,619] Trial 570 finished with value: 0.011329755158423235 and parameters: {'x': 0.9102885939983852, 'y': 0.8228967828461753}. Best is trial 185 with value: 0.00775572126485168.\n",
      "[I 2024-08-02 11:27:46,667] Trial 571 finished with value: 25.76025905573423 and parameters: {'x': 1.1665066891162876, 'y': 0.853465398603892}. Best is trial 185 with value: 0.00775572126485168.\n",
      "[I 2024-08-02 11:27:46,718] Trial 572 finished with value: 0.5982991717032359 and parameters: {'x': 0.9993852329902385, 'y': 0.9214210673346115}. Best is trial 185 with value: 0.00775572126485168.\n",
      "[I 2024-08-02 11:27:46,766] Trial 573 finished with value: 0.41100185439009906 and parameters: {'x': 0.9344936086975509, 'y': 0.8095044254756373}. Best is trial 185 with value: 0.00775572126485168.\n",
      "[I 2024-08-02 11:27:46,817] Trial 574 finished with value: 1.437214066333916 and parameters: {'x': 1.0156307707080905, 'y': 0.9116321895138078}. Best is trial 185 with value: 0.00775572126485168.\n",
      "[I 2024-08-02 11:27:46,865] Trial 575 finished with value: 2.7888402541004362 and parameters: {'x': 0.9125990863129265, 'y': 0.9996064340776236}. Best is trial 185 with value: 0.00775572126485168.\n",
      "[I 2024-08-02 11:27:46,912] Trial 576 finished with value: 57.57612904043984 and parameters: {'x': 1.0947923301281106, 'y': 1.9573003921710668}. Best is trial 185 with value: 0.00775572126485168.\n",
      "[I 2024-08-02 11:27:46,961] Trial 577 finished with value: 563.9819727334407 and parameters: {'x': 0.8440741006663132, 'y': -1.6623181862166594}. Best is trial 185 with value: 0.00775572126485168.\n",
      "[I 2024-08-02 11:27:47,018] Trial 578 finished with value: 1.3460021818819803 and parameters: {'x': 0.9576970448163775, 'y': 0.8012434449915224}. Best is trial 185 with value: 0.00775572126485168.\n",
      "[I 2024-08-02 11:27:47,075] Trial 579 finished with value: 12.6600088223945 and parameters: {'x': 0.7192347282847693, 'y': 0.8719981811283525}. Best is trial 185 with value: 0.00775572126485168.\n",
      "[I 2024-08-02 11:27:47,144] Trial 580 finished with value: 0.8658248280045668 and parameters: {'x': 1.0626764918779406, 'y': 1.0364429461062876}. Best is trial 185 with value: 0.00775572126485168.\n",
      "[I 2024-08-02 11:27:47,195] Trial 581 finished with value: 0.16926463019304297 and parameters: {'x': 0.8900466944109329, 'y': 0.7525378283750145}. Best is trial 185 with value: 0.00775572126485168.\n",
      "[I 2024-08-02 11:27:47,246] Trial 582 finished with value: 8.58061260706324 and parameters: {'x': 0.8052858380546901, 'y': 0.9407642402244359}. Best is trial 185 with value: 0.00775572126485168.\n",
      "[I 2024-08-02 11:27:47,300] Trial 583 finished with value: 2.4044910398341814 and parameters: {'x': 0.9931014338028832, 'y': 0.8311877785713498}. Best is trial 185 with value: 0.00775572126485168.\n",
      "[I 2024-08-02 11:27:47,352] Trial 584 finished with value: 3.0583374373983885 and parameters: {'x': 0.8865223312783325, 'y': 0.6114093727793211}. Best is trial 185 with value: 0.00775572126485168.\n",
      "[I 2024-08-02 11:27:47,412] Trial 585 finished with value: 1.1893682116124156 and parameters: {'x': 1.1119116923046029, 'y': 1.1278651712116337}. Best is trial 185 with value: 0.00775572126485168.\n",
      "[I 2024-08-02 11:27:47,471] Trial 586 finished with value: 3.511643690315883 and parameters: {'x': 0.7255392135854568, 'y': 0.7117801519104102}. Best is trial 185 with value: 0.00775572126485168.\n",
      "[I 2024-08-02 11:27:47,528] Trial 587 finished with value: 138.52017001992155 and parameters: {'x': 1.401257634145415, 'y': 0.7872612417683985}. Best is trial 185 with value: 0.00775572126485168.\n"
     ]
    },
    {
     "name": "stderr",
     "output_type": "stream",
     "text": [
      "[I 2024-08-02 11:27:47,576] Trial 588 finished with value: 32.71632790093182 and parameters: {'x': 0.5885151485861345, 'y': 0.9168499321573105}. Best is trial 185 with value: 0.00775572126485168.\n",
      "[I 2024-08-02 11:27:47,626] Trial 589 finished with value: 4.614579502862475 and parameters: {'x': 0.9291326384428764, 'y': 0.6485886633646846}. Best is trial 185 with value: 0.00775572126485168.\n",
      "[I 2024-08-02 11:27:47,676] Trial 590 finished with value: 7.318824878392646 and parameters: {'x': 0.8234277901589407, 'y': 0.40807690073149333}. Best is trial 185 with value: 0.00775572126485168.\n",
      "[I 2024-08-02 11:27:47,730] Trial 591 finished with value: 0.27683563261132854 and parameters: {'x': 0.9832816155292401, 'y': 1.0194313395485706}. Best is trial 185 with value: 0.00775572126485168.\n",
      "[I 2024-08-02 11:27:47,783] Trial 592 finished with value: 7.617976672123619 and parameters: {'x': 1.0605823712403697, 'y': 0.8488946384260467}. Best is trial 185 with value: 0.00775572126485168.\n",
      "[I 2024-08-02 11:27:47,833] Trial 593 finished with value: 95.65357305685477 and parameters: {'x': -0.4737033732408249, 'y': 1.1912546037962035}. Best is trial 185 with value: 0.00775572126485168.\n",
      "[I 2024-08-02 11:27:47,885] Trial 594 finished with value: 290.404770269294 and parameters: {'x': 1.5539563533702065, 'y': 0.7115542838304062}. Best is trial 185 with value: 0.00775572126485168.\n",
      "[I 2024-08-02 11:27:47,940] Trial 595 finished with value: 41.600540121081096 and parameters: {'x': 1.1915512741805507, 'y': 0.7750941347479076}. Best is trial 185 with value: 0.00775572126485168.\n",
      "[I 2024-08-02 11:27:47,996] Trial 596 finished with value: 4.775930722222565 and parameters: {'x': 0.8537820893760837, 'y': 0.946993186448735}. Best is trial 185 with value: 0.00775572126485168.\n",
      "[I 2024-08-02 11:27:48,051] Trial 597 finished with value: 7.976154950039142 and parameters: {'x': 0.757099415898064, 'y': 0.8545739070501923}. Best is trial 185 with value: 0.00775572126485168.\n",
      "[I 2024-08-02 11:27:48,101] Trial 598 finished with value: 1.5545987155317305 and parameters: {'x': 0.6598120947643779, 'y': 0.5553049455326522}. Best is trial 185 with value: 0.00775572126485168.\n",
      "[I 2024-08-02 11:27:48,150] Trial 599 finished with value: 4.079615949545996 and parameters: {'x': 0.9298403534780035, 'y': 1.0664617853581972}. Best is trial 185 with value: 0.00775572126485168.\n",
      "[I 2024-08-02 11:27:48,205] Trial 600 finished with value: 15.972858714335077 and parameters: {'x': 1.0317010377259976, 'y': 0.6647590141280607}. Best is trial 185 with value: 0.00775572126485168.\n",
      "[I 2024-08-02 11:27:48,258] Trial 601 finished with value: 0.01769848251059298 and parameters: {'x': 0.868224537690785, 'y': 0.7519870746172793}. Best is trial 185 with value: 0.00775572126485168.\n",
      "[I 2024-08-02 11:27:48,313] Trial 602 finished with value: 0.26532344727706525 and parameters: {'x': 0.7690030328983946, 'y': 0.637405196366812}. Best is trial 185 with value: 0.00775572126485168.\n",
      "[I 2024-08-02 11:27:48,368] Trial 603 finished with value: 21.774131082673456 and parameters: {'x': 0.9694355421042838, 'y': 1.4064228535105223}. Best is trial 185 with value: 0.00775572126485168.\n",
      "[I 2024-08-02 11:27:48,424] Trial 604 finished with value: 44.294821970471354 and parameters: {'x': -0.2776518968780669, 'y': 0.7302553911881153}. Best is trial 185 with value: 0.00775572126485168.\n",
      "[I 2024-08-02 11:27:48,475] Trial 605 finished with value: 1.4142994415021808 and parameters: {'x': 0.8849631744880919, 'y': 0.901526452756616}. Best is trial 185 with value: 0.00775572126485168.\n",
      "[I 2024-08-02 11:27:48,527] Trial 606 finished with value: 915.8295756272797 and parameters: {'x': -1.877340726991298, 'y': 0.5118503452479347}. Best is trial 185 with value: 0.00775572126485168.\n",
      "[I 2024-08-02 11:27:48,576] Trial 607 finished with value: 9.799646003003161 and parameters: {'x': 0.8186627320478804, 'y': 0.9827268730859458}. Best is trial 185 with value: 0.00775572126485168.\n",
      "[I 2024-08-02 11:27:48,631] Trial 608 finished with value: 30.144298035293204 and parameters: {'x': 1.1655502412312746, 'y': 0.8097187793760801}. Best is trial 185 with value: 0.00775572126485168.\n",
      "[I 2024-08-02 11:27:48,685] Trial 609 finished with value: 337.915731735461 and parameters: {'x': 1.0469189977473532, 'y': -0.7422030617338375}. Best is trial 185 with value: 0.00775572126485168.\n",
      "[I 2024-08-02 11:27:48,745] Trial 610 finished with value: 7.799281702085841 and parameters: {'x': 0.9375918952213627, 'y': 0.5998763605152464}. Best is trial 185 with value: 0.00775572126485168.\n",
      "[I 2024-08-02 11:27:48,801] Trial 611 finished with value: 4.001058657432805 and parameters: {'x': 0.710508996297525, 'y': 0.7027435637353403}. Best is trial 185 with value: 0.00775572126485168.\n",
      "[I 2024-08-02 11:27:48,855] Trial 612 finished with value: 2.0348585833239534 and parameters: {'x': 0.863328202758836, 'y': 0.8873278179720799}. Best is trial 185 with value: 0.00775572126485168.\n",
      "[I 2024-08-02 11:27:48,910] Trial 613 finished with value: 4.057820359197801 and parameters: {'x': 0.7675793988188732, 'y': 0.7892731365108185}. Best is trial 185 with value: 0.00775572126485168.\n",
      "[I 2024-08-02 11:27:48,971] Trial 614 finished with value: 0.5685791418479765 and parameters: {'x': 1.0215416990279662, 'y': 1.1189208530883157}. Best is trial 185 with value: 0.00775572126485168.\n",
      "[I 2024-08-02 11:27:49,026] Trial 615 finished with value: 7.991683914965487 and parameters: {'x': 1.1152899993991754, 'y': 0.9614113053297123}. Best is trial 185 with value: 0.00775572126485168.\n",
      "[I 2024-08-02 11:27:49,081] Trial 616 finished with value: 2.7330920786793267 and parameters: {'x': 0.9422778576479985, 'y': 0.7226677004350891}. Best is trial 185 with value: 0.00775572126485168.\n",
      "[I 2024-08-02 11:27:49,142] Trial 617 finished with value: 2.0833714091798474 and parameters: {'x': 0.8246418439542981, 'y': 0.8233038789136826}. Best is trial 185 with value: 0.00775572126485168.\n",
      "[I 2024-08-02 11:27:49,220] Trial 618 finished with value: 4.598529002276021 and parameters: {'x': 0.6169609262647126, 'y': 0.5916339140527599}. Best is trial 185 with value: 0.00775572126485168.\n",
      "[I 2024-08-02 11:27:49,277] Trial 619 finished with value: 62.125490972464405 and parameters: {'x': 0.8820600426894548, 'y': 1.566138928748279}. Best is trial 185 with value: 0.00775572126485168.\n",
      "[I 2024-08-02 11:27:49,336] Trial 620 finished with value: 2.5129264388421664 and parameters: {'x': 1.2536716908820367, 'y': 1.7281720078556213}. Best is trial 185 with value: 0.00775572126485168.\n",
      "[I 2024-08-02 11:27:49,392] Trial 621 finished with value: 0.243575116817172 and parameters: {'x': 1.0052592988435436, 'y': 1.0598967854255992}. Best is trial 185 with value: 0.00775572126485168.\n",
      "[I 2024-08-02 11:27:49,452] Trial 622 finished with value: 8.534740686561488 and parameters: {'x': 0.7744750501926545, 'y': 0.8910825971821056}. Best is trial 185 with value: 0.00775572126485168.\n",
      "[I 2024-08-02 11:27:49,509] Trial 623 finished with value: 5.058449992549929 and parameters: {'x': 0.9445046322960837, 'y': 0.6672474949918562}. Best is trial 185 with value: 0.00775572126485168.\n",
      "[I 2024-08-02 11:27:49,564] Trial 624 finished with value: 8.438221610877429 and parameters: {'x': 0.6868584363378527, 'y': 0.7605679320611335}. Best is trial 185 with value: 0.00775572126485168.\n",
      "[I 2024-08-02 11:27:49,619] Trial 625 finished with value: 7.427414237895789 and parameters: {'x': 0.8566344744438961, 'y': 0.4616671421705675}. Best is trial 185 with value: 0.00775572126485168.\n",
      "[I 2024-08-02 11:27:49,672] Trial 626 finished with value: 46.77499449356377 and parameters: {'x': -0.7783352861514168, 'y': 1.2662035622405143}. Best is trial 185 with value: 0.00775572126485168.\n",
      "[I 2024-08-02 11:27:49,726] Trial 627 finished with value: 1.577037790935876 and parameters: {'x': 1.055575494327744, 'y': 0.9887824938832154}. Best is trial 185 with value: 0.00775572126485168.\n",
      "[I 2024-08-02 11:27:49,783] Trial 628 finished with value: 0.01871079282036986 and parameters: {'x': 0.9201401134589688, 'y': 0.8355523381585577}. Best is trial 185 with value: 0.00775572126485168.\n",
      "[I 2024-08-02 11:27:49,838] Trial 629 finished with value: 0.563175769088643 and parameters: {'x': 0.974639952199963, 'y': 0.8749208606516246}. Best is trial 185 with value: 0.00775572126485168.\n"
     ]
    },
    {
     "name": "stderr",
     "output_type": "stream",
     "text": [
      "[I 2024-08-02 11:27:49,891] Trial 630 finished with value: 7.693093835282619 and parameters: {'x': 1.113307645248681, 'y': 0.9623211791968634}. Best is trial 185 with value: 0.00775572126485168.\n",
      "[I 2024-08-02 11:27:49,942] Trial 631 finished with value: 496.23607386158443 and parameters: {'x': 0.9165894767227187, 'y': -1.3874837987359623}. Best is trial 185 with value: 0.00775572126485168.\n",
      "[I 2024-08-02 11:27:49,993] Trial 632 finished with value: 11.969376090610943 and parameters: {'x': -1.1971178470311852, 'y': 1.165845012358443}. Best is trial 185 with value: 0.00775572126485168.\n",
      "[I 2024-08-02 11:27:50,043] Trial 633 finished with value: 3.9564128567581953 and parameters: {'x': 1.017089607595062, 'y': 0.8355712748534819}. Best is trial 185 with value: 0.00775572126485168.\n",
      "[I 2024-08-02 11:27:50,096] Trial 634 finished with value: 18.435613640726842 and parameters: {'x': 1.1585302859207804, 'y': 0.9131180500153502}. Best is trial 185 with value: 0.00775572126485168.\n",
      "[I 2024-08-02 11:27:50,146] Trial 635 finished with value: 15.717864947583012 and parameters: {'x': 0.7990689837455045, 'y': 1.0344593645868}. Best is trial 185 with value: 0.00775572126485168.\n",
      "[I 2024-08-02 11:27:50,199] Trial 636 finished with value: 967.5619092228858 and parameters: {'x': 1.9708753825520229, 'y': 0.7752995806217804}. Best is trial 185 with value: 0.00775572126485168.\n",
      "[I 2024-08-02 11:27:50,252] Trial 637 finished with value: 0.01025585393221659 and parameters: {'x': 0.9107277256074777, 'y': 0.8342065327833109}. Best is trial 185 with value: 0.00775572126485168.\n",
      "[I 2024-08-02 11:27:50,311] Trial 638 finished with value: 0.14980459610385788 and parameters: {'x': 0.8854134473011056, 'y': 0.820926489570081}. Best is trial 185 with value: 0.00775572126485168.\n",
      "[I 2024-08-02 11:27:50,369] Trial 639 finished with value: 2.879369230466847 and parameters: {'x': 0.7484136872062017, 'y': 0.7279346545935449}. Best is trial 185 with value: 0.00775572126485168.\n",
      "[I 2024-08-02 11:27:50,419] Trial 640 finished with value: 1.978784994621777 and parameters: {'x': 0.8317634726836, 'y': 0.8314901130946211}. Best is trial 185 with value: 0.00775572126485168.\n",
      "[I 2024-08-02 11:27:50,468] Trial 641 finished with value: 0.7432015892488958 and parameters: {'x': 0.9209447302381948, 'y': 0.7622932962181065}. Best is trial 185 with value: 0.00775572126485168.\n",
      "[I 2024-08-02 11:27:50,525] Trial 642 finished with value: 190.63078397514397 and parameters: {'x': 0.6923361550529935, 'y': 1.85967759364575}. Best is trial 185 with value: 0.00775572126485168.\n",
      "[I 2024-08-02 11:27:50,583] Trial 643 finished with value: 4.70848190298839 and parameters: {'x': 0.8190572615341429, 'y': 0.8870894301520129}. Best is trial 185 with value: 0.00775572126485168.\n",
      "[I 2024-08-02 11:27:50,639] Trial 644 finished with value: 5.864651312669649 and parameters: {'x': 0.949097144028254, 'y': 0.6586684705188061}. Best is trial 185 with value: 0.00775572126485168.\n",
      "[I 2024-08-02 11:27:50,690] Trial 645 finished with value: 0.05002008235112539 and parameters: {'x': 0.8824354448537168, 'y': 0.7977182591791465}. Best is trial 185 with value: 0.00775572126485168.\n",
      "[I 2024-08-02 11:27:50,743] Trial 646 finished with value: 10.702518883663704 and parameters: {'x': 0.7474287323551104, 'y': 0.8848203192700586}. Best is trial 185 with value: 0.00775572126485168.\n",
      "[I 2024-08-02 11:27:50,807] Trial 647 finished with value: 7.4626677031796875 and parameters: {'x': 0.9918872156677722, 'y': 0.7106626161769218}. Best is trial 185 with value: 0.00775572126485168.\n",
      "[I 2024-08-02 11:27:50,861] Trial 648 finished with value: 2.378911130216584 and parameters: {'x': 0.8789735338715085, 'y': 0.6188328484921112}. Best is trial 185 with value: 0.00775572126485168.\n",
      "[I 2024-08-02 11:27:50,914] Trial 649 finished with value: 4.06437505051484 and parameters: {'x': 0.7863633118677804, 'y': 0.8188350715284776}. Best is trial 185 with value: 0.00775572126485168.\n",
      "[I 2024-08-02 11:27:50,975] Trial 650 finished with value: 41.21488269713411 and parameters: {'x': 0.5561527918188036, 'y': 0.9497579740849106}. Best is trial 185 with value: 0.00775572126485168.\n",
      "[I 2024-08-02 11:27:51,028] Trial 651 finished with value: 16.600959589871266 and parameters: {'x': 1.0697404474207115, 'y': 0.7369615635914488}. Best is trial 185 with value: 0.00775572126485168.\n",
      "[I 2024-08-02 11:27:51,083] Trial 652 finished with value: 12.299669280295317 and parameters: {'x': 0.9459662261206663, 'y': 0.5441848850485713}. Best is trial 185 with value: 0.00775572126485168.\n",
      "[I 2024-08-02 11:27:51,148] Trial 653 finished with value: 3.661876569310258 and parameters: {'x': 0.8392233405549232, 'y': 0.8949795177057009}. Best is trial 185 with value: 0.00775572126485168.\n",
      "[I 2024-08-02 11:27:51,200] Trial 654 finished with value: 5.534013975935059 and parameters: {'x': 0.65285516050032, 'y': 0.6588892491315989}. Best is trial 185 with value: 0.00775572126485168.\n",
      "[I 2024-08-02 11:27:51,250] Trial 655 finished with value: 1.2809571649693885 and parameters: {'x': 0.9594681801303744, 'y': 0.8074724100817862}. Best is trial 185 with value: 0.00775572126485168.\n",
      "[I 2024-08-02 11:27:51,304] Trial 656 finished with value: 0.019595905936314946 and parameters: {'x': 0.8738041489730507, 'y': 0.7574752147826204}. Best is trial 185 with value: 0.00775572126485168.\n",
      "[I 2024-08-02 11:27:51,356] Trial 657 finished with value: 0.938111529379841 and parameters: {'x': 0.775131820254989, 'y': 0.6950389896106732}. Best is trial 185 with value: 0.00775572126485168.\n",
      "[I 2024-08-02 11:27:51,405] Trial 658 finished with value: 1.264757838836384 and parameters: {'x': 1.0351427105761923, 'y': 0.9591138999216644}. Best is trial 185 with value: 0.00775572126485168.\n",
      "[I 2024-08-02 11:27:51,458] Trial 659 finished with value: 6.02974231731694 and parameters: {'x': 0.9204672754458251, 'y': 0.6018335016459133}. Best is trial 185 with value: 0.00775572126485168.\n",
      "[I 2024-08-02 11:27:51,516] Trial 660 finished with value: 12.594366302619093 and parameters: {'x': 0.7093114865240893, 'y': 0.8568156812354265}. Best is trial 185 with value: 0.00775572126485168.\n",
      "[I 2024-08-02 11:27:51,570] Trial 661 finished with value: 24.251990276988668 and parameters: {'x': 1.0920832638403721, 'y': 0.7002688558039624}. Best is trial 185 with value: 0.00775572126485168.\n",
      "[I 2024-08-02 11:27:51,623] Trial 662 finished with value: 0.836408883269354 and parameters: {'x': 0.8132944850571647, 'y': 0.7509772405409628}. Best is trial 185 with value: 0.00775572126485168.\n",
      "[I 2024-08-02 11:27:51,677] Trial 663 finished with value: 0.10497133608308046 and parameters: {'x': 0.9771021758149149, 'y': 0.9224103969095812}. Best is trial 185 with value: 0.00775572126485168.\n",
      "[I 2024-08-02 11:27:51,735] Trial 664 finished with value: 7.470985035616708 and parameters: {'x': 0.8834742338907049, 'y': 0.5074441926384997}. Best is trial 185 with value: 0.00775572126485168.\n",
      "[I 2024-08-02 11:27:51,793] Trial 665 finished with value: 4.05052639096798 and parameters: {'x': 1.024654642861971, 'y': 0.8486730430748585}. Best is trial 185 with value: 0.00775572126485168.\n",
      "[I 2024-08-02 11:27:51,848] Trial 666 finished with value: 11.12630127091816 and parameters: {'x': 0.8106710012050828, 'y': 0.9902108317529081}. Best is trial 185 with value: 0.00775572126485168.\n",
      "[I 2024-08-02 11:27:51,907] Trial 667 finished with value: 3.241444430772556 and parameters: {'x': 0.9095178780977482, 'y': 0.647410162111931}. Best is trial 185 with value: 0.00775572126485168.\n",
      "[I 2024-08-02 11:27:51,964] Trial 668 finished with value: 7.081782856289557 and parameters: {'x': 0.7201882057866102, 'y': 0.7833120957384108}. Best is trial 185 with value: 0.00775572126485168.\n",
      "[I 2024-08-02 11:27:52,024] Trial 669 finished with value: 3.673599910831585 and parameters: {'x': 0.6211346262933685, 'y': 0.5736927879936613}. Best is trial 185 with value: 0.00775572126485168.\n",
      "[I 2024-08-02 11:27:52,081] Trial 670 finished with value: 0.33620775688303683 and parameters: {'x': 0.964458880355359, 'y': 0.8723065346469726}. Best is trial 185 with value: 0.00775572126485168.\n",
      "[I 2024-08-02 11:27:52,138] Trial 671 finished with value: 11.747661688837685 and parameters: {'x': -0.6586381515965216, 'y': 0.7337472288412644}. Best is trial 185 with value: 0.00775572126485168.\n"
     ]
    },
    {
     "name": "stderr",
     "output_type": "stream",
     "text": [
      "[I 2024-08-02 11:27:52,211] Trial 672 finished with value: 19.694467819394724 and parameters: {'x': 1.121162515433548, 'y': 0.8133863212262888}. Best is trial 185 with value: 0.00775572126485168.\n",
      "[I 2024-08-02 11:27:52,270] Trial 673 finished with value: 3.8523856640243612 and parameters: {'x': 0.8631740380193317, 'y': 0.9408668744433996}. Best is trial 185 with value: 0.00775572126485168.\n",
      "[I 2024-08-02 11:27:52,330] Trial 674 finished with value: 759.9244899746518 and parameters: {'x': 1.8535313686102368, 'y': 0.6802274239872987}. Best is trial 185 with value: 0.00775572126485168.\n",
      "[I 2024-08-02 11:27:52,395] Trial 675 finished with value: 107.57048321453357 and parameters: {'x': -0.040735306675635186, 'y': 1.0335864616463892}. Best is trial 185 with value: 0.00775572126485168.\n",
      "[I 2024-08-02 11:27:52,452] Trial 676 finished with value: 5.906641268740142 and parameters: {'x': 1.0014611865680871, 'y': 0.7598887261933335}. Best is trial 185 with value: 0.00775572126485168.\n",
      "[I 2024-08-02 11:27:52,510] Trial 677 finished with value: 9.105189014609651 and parameters: {'x': 0.7778032967436335, 'y': 0.9059068244638915}. Best is trial 185 with value: 0.00775572126485168.\n",
      "[I 2024-08-02 11:27:52,567] Trial 678 finished with value: 4.102135041041968 and parameters: {'x': 0.9187658479265571, 'y': 0.6417563753228519}. Best is trial 185 with value: 0.00775572126485168.\n",
      "[I 2024-08-02 11:27:52,626] Trial 679 finished with value: 45.22708081440095 and parameters: {'x': 1.2199603702593516, 'y': 0.8161522933257772}. Best is trial 185 with value: 0.00775572126485168.\n",
      "[I 2024-08-02 11:27:52,685] Trial 680 finished with value: 7.341228964059073 and parameters: {'x': 0.8364537243905398, 'y': 0.42920185044551545}. Best is trial 185 with value: 0.00775572126485168.\n",
      "[I 2024-08-02 11:27:52,738] Trial 681 finished with value: 12.283821383940374 and parameters: {'x': 1.0429051320824674, 'y': 0.7371945475490758}. Best is trial 185 with value: 0.00775572126485168.\n",
      "[I 2024-08-02 11:27:52,791] Trial 682 finished with value: 0.08205991629675347 and parameters: {'x': 0.7516309027111254, 'y': 0.5792223133917727}. Best is trial 185 with value: 0.00775572126485168.\n",
      "[I 2024-08-02 11:27:52,847] Trial 683 finished with value: 7.405235711522325 and parameters: {'x': -1.0163768920540197, 'y': 0.8502800938384518}. Best is trial 185 with value: 0.00775572126485168.\n",
      "[I 2024-08-02 11:27:52,909] Trial 684 finished with value: 1.8433840239525607 and parameters: {'x': 0.910999856833906, 'y': 0.9653999995003147}. Best is trial 185 with value: 0.00775572126485168.\n",
      "[I 2024-08-02 11:27:52,963] Trial 685 finished with value: 31.169580487244218 and parameters: {'x': 1.1174912559378294, 'y': 0.690613111412237}. Best is trial 185 with value: 0.00775572126485168.\n",
      "[I 2024-08-02 11:27:53,017] Trial 686 finished with value: 3.687421997399701 and parameters: {'x': 0.8316463622475785, 'y': 0.8829228656100245}. Best is trial 185 with value: 0.00775572126485168.\n",
      "[I 2024-08-02 11:27:53,069] Trial 687 finished with value: 2.8155663396507604 and parameters: {'x': 0.967809589684326, 'y': 1.1044210156779513}. Best is trial 185 with value: 0.00775572126485168.\n",
      "[I 2024-08-02 11:27:53,124] Trial 688 finished with value: 0.07030660563280862 and parameters: {'x': 0.898990685850169, 'y': 0.7836681923693132}. Best is trial 185 with value: 0.00775572126485168.\n",
      "[I 2024-08-02 11:27:53,181] Trial 689 finished with value: 34.241210769249065 and parameters: {'x': 0.6508165666678809, 'y': 1.007679329539123}. Best is trial 185 with value: 0.00775572126485168.\n",
      "[I 2024-08-02 11:27:53,234] Trial 690 finished with value: 2.31131558248724 and parameters: {'x': 0.7345865398500278, 'y': 0.689312784513554}. Best is trial 185 with value: 0.00775572126485168.\n",
      "[I 2024-08-02 11:27:53,292] Trial 691 finished with value: 29.40388567369247 and parameters: {'x': 1.0200143983443712, 'y': 0.49817956787319}. Best is trial 185 with value: 0.00775572126485168.\n",
      "[I 2024-08-02 11:27:53,346] Trial 692 finished with value: 2.6412496662587044 and parameters: {'x': 0.827395793048616, 'y': 0.8461838433422086}. Best is trial 185 with value: 0.00775572126485168.\n",
      "[I 2024-08-02 11:27:53,403] Trial 693 finished with value: 28.932569048176358 and parameters: {'x': 1.074653006378575, 'y': 0.6170408558675328}. Best is trial 185 with value: 0.00775572126485168.\n",
      "[I 2024-08-02 11:27:53,463] Trial 694 finished with value: 0.0028801463380608173 and parameters: {'x': 0.9615656989146562, 'y': 0.9283541918637006}. Best is trial 694 with value: 0.0028801463380608173.\n",
      "[I 2024-08-02 11:27:53,519] Trial 695 finished with value: 1.0181422903513504 and parameters: {'x': 0.9866387025915594, 'y': 1.0743501198731509}. Best is trial 694 with value: 0.0028801463380608173.\n",
      "[I 2024-08-02 11:27:53,583] Trial 696 finished with value: 17.349665888214776 and parameters: {'x': 1.1773257703493878, 'y': 0.9699442969455159}. Best is trial 694 with value: 0.0028801463380608173.\n",
      "[I 2024-08-02 11:27:53,640] Trial 697 finished with value: 6.557509158514645 and parameters: {'x': 1.0885170697160498, 'y': 0.9289461044480594}. Best is trial 694 with value: 0.0028801463380608173.\n",
      "[I 2024-08-02 11:27:53,701] Trial 698 finished with value: 0.19027447661634408 and parameters: {'x': 0.9590838880036161, 'y': 0.9632700458410828}. Best is trial 694 with value: 0.0028801463380608173.\n",
      "[I 2024-08-02 11:27:53,767] Trial 699 finished with value: 39.045660362646814 and parameters: {'x': 1.291588676370878, 'y': 1.044016749632636}. Best is trial 694 with value: 0.0028801463380608173.\n",
      "[I 2024-08-02 11:27:53,829] Trial 700 finished with value: 4.37825560016877 and parameters: {'x': 1.051956773989367, 'y': 0.8974347549464715}. Best is trial 694 with value: 0.0028801463380608173.\n",
      "[I 2024-08-02 11:27:53,884] Trial 701 finished with value: 2.467286880530519 and parameters: {'x': 0.9265050587567957, 'y': 1.0153155873363278}. Best is trial 694 with value: 0.0028801463380608173.\n",
      "[I 2024-08-02 11:27:53,940] Trial 702 finished with value: 11.133484298165373 and parameters: {'x': 0.8873279344062546, 'y': 1.1208293378023486}. Best is trial 694 with value: 0.0028801463380608173.\n",
      "[I 2024-08-02 11:27:53,995] Trial 703 finished with value: 25.692541953202053 and parameters: {'x': 1.1606473053501183, 'y': 0.8404786938536701}. Best is trial 694 with value: 0.0028801463380608173.\n",
      "[I 2024-08-02 11:27:54,051] Trial 704 finished with value: 1.6443116634567094 and parameters: {'x': 1.0116542001634334, 'y': 0.8952188003317287}. Best is trial 694 with value: 0.0028801463380608173.\n",
      "[I 2024-08-02 11:27:54,107] Trial 705 finished with value: 1.0437364341112507 and parameters: {'x': 0.9380762862399719, 'y': 0.7780115389944612}. Best is trial 694 with value: 0.0028801463380608173.\n",
      "[I 2024-08-02 11:27:54,167] Trial 706 finished with value: 20.402973276346085 and parameters: {'x': 0.8589073335049279, 'y': 1.18919789922791}. Best is trial 694 with value: 0.0028801463380608173.\n",
      "[I 2024-08-02 11:27:54,225] Trial 707 finished with value: 0.03666128845693509 and parameters: {'x': 0.9878903882790611, 'y': 0.956818613493222}. Best is trial 694 with value: 0.0028801463380608173.\n",
      "[I 2024-08-02 11:27:54,285] Trial 708 finished with value: 2.900755003933678 and parameters: {'x': 1.0977587357059804, 'y': 1.0350390033084518}. Best is trial 694 with value: 0.0028801463380608173.\n",
      "[I 2024-08-02 11:27:54,340] Trial 709 finished with value: 0.4087905422012892 and parameters: {'x': 1.021024174901839, 'y': 0.9785882119149597}. Best is trial 694 with value: 0.0028801463380608173.\n",
      "[I 2024-08-02 11:27:54,396] Trial 710 finished with value: 10.970427024786854 and parameters: {'x': 1.2090946735829002, 'y': 1.1313542393366973}. Best is trial 694 with value: 0.0028801463380608173.\n",
      "[I 2024-08-02 11:27:54,454] Trial 711 finished with value: 5.292676471377951 and parameters: {'x': 1.0811645740174418, 'y': 0.9390018782823726}. Best is trial 694 with value: 0.0028801463380608173.\n",
      "[I 2024-08-02 11:27:54,510] Trial 712 finished with value: 0.47064593870657184 and parameters: {'x': 0.998661411956377, 'y': 1.0659281248893928}. Best is trial 694 with value: 0.0028801463380608173.\n",
      "[I 2024-08-02 11:27:54,565] Trial 713 finished with value: 0.042826173631013306 and parameters: {'x': 0.9646785590158176, 'y': 0.9102138984460326}. Best is trial 694 with value: 0.0028801463380608173.\n"
     ]
    },
    {
     "name": "stderr",
     "output_type": "stream",
     "text": [
      "[I 2024-08-02 11:27:54,625] Trial 714 finished with value: 7.010413770757217 and parameters: {'x': 1.1231083663589227, 'y': 0.9968869001303653}. Best is trial 694 with value: 0.0028801463380608173.\n",
      "[I 2024-08-02 11:27:54,679] Trial 715 finished with value: 104.55767298984586 and parameters: {'x': 1.3643194822934412, 'y': 0.83948241009972}. Best is trial 694 with value: 0.0028801463380608173.\n",
      "[I 2024-08-02 11:27:54,730] Trial 716 finished with value: 2.531305988045018 and parameters: {'x': 1.0383155592101978, 'y': 0.919044558755991}. Best is trial 694 with value: 0.0028801463380608173.\n",
      "[I 2024-08-02 11:27:54,786] Trial 717 finished with value: 12.776038325433579 and parameters: {'x': 0.9278374280371923, 'y': 1.2182452860352608}. Best is trial 694 with value: 0.0028801463380608173.\n",
      "[I 2024-08-02 11:27:54,843] Trial 718 finished with value: 7.804584463532741 and parameters: {'x': 0.8833246827410658, 'y': 1.0593856101601142}. Best is trial 694 with value: 0.0028801463380608173.\n",
      "[I 2024-08-02 11:27:54,894] Trial 719 finished with value: 1.7735371667713276 and parameters: {'x': 0.9811162472413076, 'y': 0.8294282641295251}. Best is trial 694 with value: 0.0028801463380608173.\n",
      "[I 2024-08-02 11:27:54,950] Trial 720 finished with value: 14.65227926310702 and parameters: {'x': 1.1724325653800418, 'y': 0.9922037392137001}. Best is trial 694 with value: 0.0028801463380608173.\n",
      "[I 2024-08-02 11:27:55,003] Trial 721 finished with value: 4.958065076934302 and parameters: {'x': 1.0807798628732872, 'y': 0.9455645580948238}. Best is trial 694 with value: 0.0028801463380608173.\n",
      "[I 2024-08-02 11:27:55,056] Trial 722 finished with value: 0.9033070021257094 and parameters: {'x': 0.8814615847711278, 'y': 0.8712748778253362}. Best is trial 694 with value: 0.0028801463380608173.\n",
      "[I 2024-08-02 11:27:55,107] Trial 723 finished with value: 2.3494754649039216 and parameters: {'x': 0.8015276580248949, 'y': 0.7944361978809233}. Best is trial 694 with value: 0.0028801463380608173.\n",
      "[I 2024-08-02 11:27:55,157] Trial 724 finished with value: 3.1610704715887574 and parameters: {'x': 0.9740650286222076, 'y': 1.1265777583520378}. Best is trial 694 with value: 0.0028801463380608173.\n",
      "[I 2024-08-02 11:27:55,212] Trial 725 finished with value: 0.30590242170054693 and parameters: {'x': 0.908367574171926, 'y': 0.8796757530847418}. Best is trial 694 with value: 0.0028801463380608173.\n",
      "[I 2024-08-02 11:27:55,266] Trial 726 finished with value: 181.89092288708372 and parameters: {'x': 1.0343673375630116, 'y': -0.27874926122023524}. Best is trial 694 with value: 0.0028801463380608173.\n",
      "[I 2024-08-02 11:27:55,325] Trial 727 finished with value: 2.6848962674475216 and parameters: {'x': 0.7806802633911806, 'y': 0.7718437884451151}. Best is trial 694 with value: 0.0028801463380608173.\n",
      "[I 2024-08-02 11:27:55,387] Trial 728 finished with value: 0.7811727995472421 and parameters: {'x': 0.9553771213719281, 'y': 1.0010167076690137}. Best is trial 694 with value: 0.0028801463380608173.\n",
      "[I 2024-08-02 11:27:55,452] Trial 729 finished with value: 644.2629139983007 and parameters: {'x': 0.8610875070262125, 'y': -1.7967237613058118}. Best is trial 694 with value: 0.0028801463380608173.\n",
      "[I 2024-08-02 11:27:55,509] Trial 730 finished with value: 1.5192460216253918 and parameters: {'x': 1.1004405404011461, 'y': 1.3338171635435003}. Best is trial 694 with value: 0.0028801463380608173.\n",
      "[I 2024-08-02 11:27:55,567] Trial 731 finished with value: 149.69017021868135 and parameters: {'x': 0.8041389819814484, 'y': -0.5766830580657729}. Best is trial 694 with value: 0.0028801463380608173.\n",
      "[I 2024-08-02 11:27:55,644] Trial 732 finished with value: 0.17369884785780795 and parameters: {'x': 0.9679359044011504, 'y': 0.8953462459211713}. Best is trial 694 with value: 0.0028801463380608173.\n",
      "[I 2024-08-02 11:27:55,699] Trial 733 finished with value: 6.185402616689941 and parameters: {'x': 0.7157163152812733, 'y': 0.7593244360022201}. Best is trial 694 with value: 0.0028801463380608173.\n",
      "[I 2024-08-02 11:27:55,754] Trial 734 finished with value: 0.12725639924194262 and parameters: {'x': 0.8884184022496128, 'y': 0.8231702836319117}. Best is trial 694 with value: 0.0028801463380608173.\n",
      "[I 2024-08-02 11:27:55,806] Trial 735 finished with value: 0.10871226221547939 and parameters: {'x': 1.0147827247289871, 'y': 1.0627223653247295}. Best is trial 694 with value: 0.0028801463380608173.\n",
      "[I 2024-08-02 11:27:55,863] Trial 736 finished with value: 15.62077282630206 and parameters: {'x': 1.1551910925770659, 'y': 0.9395400298650949}. Best is trial 694 with value: 0.0028801463380608173.\n",
      "[I 2024-08-02 11:27:55,920] Trial 737 finished with value: 54.54814597487746 and parameters: {'x': 1.2515221944083736, 'y': 0.828169045405506}. Best is trial 694 with value: 0.0028801463380608173.\n",
      "[I 2024-08-02 11:27:55,981] Trial 738 finished with value: 0.024801510321166884 and parameters: {'x': 0.852253204452731, 'y': 0.7208835572158571}. Best is trial 694 with value: 0.0028801463380608173.\n",
      "[I 2024-08-02 11:27:56,041] Trial 739 finished with value: 1.3915394244855854 and parameters: {'x': 0.7621954670571692, 'y': 0.6964836293407625}. Best is trial 694 with value: 0.0028801463380608173.\n",
      "[I 2024-08-02 11:27:56,100] Trial 740 finished with value: 20.168094666257637 and parameters: {'x': 0.5381919444002927, 'y': 0.7363588405553018}. Best is trial 694 with value: 0.0028801463380608173.\n",
      "[I 2024-08-02 11:27:56,164] Trial 741 finished with value: 0.08495218574012597 and parameters: {'x': 0.8394722152119466, 'y': 0.7290411598036985}. Best is trial 694 with value: 0.0028801463380608173.\n",
      "[I 2024-08-02 11:27:56,219] Trial 742 finished with value: 5.591847506014835 and parameters: {'x': 0.6379000064250295, 'y': 0.6405984906944491}. Best is trial 694 with value: 0.0028801463380608173.\n",
      "[I 2024-08-02 11:27:56,276] Trial 743 finished with value: 0.7913721353684963 and parameters: {'x': 0.8167431735994407, 'y': 0.7541204926568535}. Best is trial 694 with value: 0.0028801463380608173.\n",
      "[I 2024-08-02 11:27:56,329] Trial 744 finished with value: 0.09210374531533214 and parameters: {'x': 0.9136465114203204, 'y': 0.8638440744414806}. Best is trial 694 with value: 0.0028801463380608173.\n",
      "[I 2024-08-02 11:27:56,386] Trial 745 finished with value: 41.80981518695923 and parameters: {'x': 0.7058583877296789, 'y': 1.1441717871022143}. Best is trial 694 with value: 0.0028801463380608173.\n",
      "[I 2024-08-02 11:27:56,447] Trial 746 finished with value: 1.148096116643473 and parameters: {'x': 1.0453344325394505, 'y': 0.9856707757694014}. Best is trial 694 with value: 0.0028801463380608173.\n",
      "[I 2024-08-02 11:27:56,514] Trial 747 finished with value: 1.3700747066885128 and parameters: {'x': 0.9496485000737532, 'y': 0.7848904320297452}. Best is trial 694 with value: 0.0028801463380608173.\n",
      "[I 2024-08-02 11:27:56,572] Trial 748 finished with value: 0.8962544459955055 and parameters: {'x': 0.8576263247338027, 'y': 0.6419288862194326}. Best is trial 694 with value: 0.0028801463380608173.\n",
      "[I 2024-08-02 11:27:56,630] Trial 749 finished with value: 9.35911879328145 and parameters: {'x': 0.7644850648358016, 'y': 0.8894562909629576}. Best is trial 694 with value: 0.0028801463380608173.\n",
      "[I 2024-08-02 11:27:56,692] Trial 750 finished with value: 15.963767713844176 and parameters: {'x': 0.9851002708271519, 'y': 0.5708784820346324}. Best is trial 694 with value: 0.0028801463380608173.\n",
      "[I 2024-08-02 11:27:56,748] Trial 751 finished with value: 0.45559047233391314 and parameters: {'x': 0.8843611661675937, 'y': 0.7155951885849205}. Best is trial 694 with value: 0.0028801463380608173.\n",
      "[I 2024-08-02 11:27:56,804] Trial 752 finished with value: 10.834163121893763 and parameters: {'x': 1.0626075249786995, 'y': 0.8000414003441843}. Best is trial 694 with value: 0.0028801463380608173.\n",
      "[I 2024-08-02 11:27:56,866] Trial 753 finished with value: 35.69880894654103 and parameters: {'x': 0.6792944174967497, 'y': 1.0580643788302573}. Best is trial 694 with value: 0.0028801463380608173.\n",
      "[I 2024-08-02 11:27:56,932] Trial 754 finished with value: 9.065059994446434 and parameters: {'x': 0.8084493625978133, 'y': 0.9540628056912623}. Best is trial 694 with value: 0.0028801463380608173.\n",
      "[I 2024-08-02 11:27:56,997] Trial 755 finished with value: 0.5086964471122618 and parameters: {'x': 0.9514812699971293, 'y': 0.834158868296448}. Best is trial 694 with value: 0.0028801463380608173.\n"
     ]
    },
    {
     "name": "stderr",
     "output_type": "stream",
     "text": [
      "[I 2024-08-02 11:27:57,052] Trial 756 finished with value: 36.4766699652675 and parameters: {'x': 1.1425910576475808, 'y': 0.7017234857718111}. Best is trial 694 with value: 0.0028801463380608173.\n",
      "[I 2024-08-02 11:27:57,110] Trial 757 finished with value: 202.07697152958974 and parameters: {'x': -1.512094971318433, 'y': 0.8872659140354354}. Best is trial 694 with value: 0.0028801463380608173.\n",
      "[I 2024-08-02 11:27:57,176] Trial 758 finished with value: 0.023578214704078167 and parameters: {'x': 0.8685591008871139, 'y': 0.7623331135103515}. Best is trial 694 with value: 0.0028801463380608173.\n",
      "[I 2024-08-02 11:27:57,246] Trial 759 finished with value: 0.4106831706163328 and parameters: {'x': 0.7472827010532932, 'y': 0.6173226177769142}. Best is trial 694 with value: 0.0028801463380608173.\n",
      "[I 2024-08-02 11:27:57,306] Trial 760 finished with value: 0.07540990625514754 and parameters: {'x': 0.833438225745587, 'y': 0.7164520683539979}. Best is trial 694 with value: 0.0028801463380608173.\n",
      "[I 2024-08-02 11:27:57,361] Trial 761 finished with value: 0.22011662802289336 and parameters: {'x': 0.7172668102010628, 'y': 0.5519121058876177}. Best is trial 694 with value: 0.0028801463380608173.\n",
      "[I 2024-08-02 11:27:57,424] Trial 762 finished with value: 0.027168338998191432 and parameters: {'x': 0.8757005337020787, 'y': 0.756026462058159}. Best is trial 694 with value: 0.0028801463380608173.\n",
      "[I 2024-08-02 11:27:57,499] Trial 763 finished with value: 1.7081095775784658 and parameters: {'x': 0.8917231492711643, 'y': 0.6649248026223529}. Best is trial 694 with value: 0.0028801463380608173.\n",
      "[I 2024-08-02 11:27:57,572] Trial 764 finished with value: 4.097404230300585 and parameters: {'x': 0.7769923502039979, 'y': 0.8049053777989729}. Best is trial 694 with value: 0.0028801463380608173.\n",
      "[I 2024-08-02 11:27:57,632] Trial 765 finished with value: 0.11001350956586402 and parameters: {'x': 0.8861941606214153, 'y': 0.7541853570532318}. Best is trial 694 with value: 0.0028801463380608173.\n",
      "[I 2024-08-02 11:27:57,691] Trial 766 finished with value: 5.733679382226141 and parameters: {'x': 0.6289089696740784, 'y': 0.6320845363759277}. Best is trial 694 with value: 0.0028801463380608173.\n",
      "[I 2024-08-02 11:27:57,749] Trial 767 finished with value: 1.3084147216585238 and parameters: {'x': 0.8051740243177897, 'y': 0.76101978528404}. Best is trial 694 with value: 0.0028801463380608173.\n",
      "[I 2024-08-02 11:27:57,810] Trial 768 finished with value: 2.6851172610710905 and parameters: {'x': 0.912440440716491, 'y': 0.6689183861082635}. Best is trial 694 with value: 0.0028801463380608173.\n",
      "[I 2024-08-02 11:27:57,865] Trial 769 finished with value: 1.667805590352321 and parameters: {'x': 0.840341154333333, 'y': 0.8343260801904657}. Best is trial 694 with value: 0.0028801463380608173.\n",
      "[I 2024-08-02 11:27:57,921] Trial 770 finished with value: 17.666276075239356 and parameters: {'x': 0.9785404488284234, 'y': 0.5372341942225003}. Best is trial 694 with value: 0.0028801463380608173.\n",
      "[I 2024-08-02 11:27:57,975] Trial 771 finished with value: 5.289861294630123 and parameters: {'x': 0.7100409265731459, 'y': 0.7323200123511833}. Best is trial 694 with value: 0.0028801463380608173.\n",
      "[I 2024-08-02 11:27:58,030] Trial 772 finished with value: 7.018049356423769 and parameters: {'x': 1.0368100716193784, 'y': 0.8100846873538015}. Best is trial 694 with value: 0.0028801463380608173.\n",
      "[I 2024-08-02 11:27:58,082] Trial 773 finished with value: 0.13795706987232134 and parameters: {'x': 0.9293119385594787, 'y': 0.900084396436653}. Best is trial 694 with value: 0.0028801463380608173.\n",
      "[I 2024-08-02 11:27:58,133] Trial 774 finished with value: 0.8008624430994843 and parameters: {'x': 0.778948094076467, 'y': 0.6934779802166691}. Best is trial 694 with value: 0.0028801463380608173.\n",
      "[I 2024-08-02 11:27:58,188] Trial 775 finished with value: 0.22134854331996084 and parameters: {'x': 0.871408873907652, 'y': 0.8046096809611584}. Best is trial 694 with value: 0.0028801463380608173.\n",
      "[I 2024-08-02 11:27:58,244] Trial 776 finished with value: 388.93376873056627 and parameters: {'x': 1.0533480286032084, 'y': -0.8625910973341684}. Best is trial 694 with value: 0.0028801463380608173.\n",
      "[I 2024-08-02 11:27:58,296] Trial 777 finished with value: 7.023319367683847 and parameters: {'x': 0.9307552099876847, 'y': 0.6013802804673938}. Best is trial 694 with value: 0.0028801463380608173.\n",
      "[I 2024-08-02 11:27:58,356] Trial 778 finished with value: 4.2996506572764925 and parameters: {'x': 0.8173788061726233, 'y': 0.8746583525970747}. Best is trial 694 with value: 0.0028801463380608173.\n",
      "[I 2024-08-02 11:27:58,412] Trial 779 finished with value: 8.090374586927851 and parameters: {'x': 0.6808566775290674, 'y': 0.7462055529286742}. Best is trial 694 with value: 0.0028801463380608173.\n",
      "[I 2024-08-02 11:27:58,469] Trial 780 finished with value: 401.22950112255114 and parameters: {'x': 1.5713490922398459, 'y': 0.4668815891528919}. Best is trial 694 with value: 0.0028801463380608173.\n",
      "[I 2024-08-02 11:27:58,529] Trial 781 finished with value: 28.698830516579054 and parameters: {'x': 0.9594688533045899, 'y': 0.3848829189334186}. Best is trial 694 with value: 0.0028801463380608173.\n",
      "[I 2024-08-02 11:27:58,583] Trial 782 finished with value: 0.47374482336782975 and parameters: {'x': 0.7759909660352926, 'y': 0.667243833680478}. Best is trial 694 with value: 0.0028801463380608173.\n",
      "[I 2024-08-02 11:27:58,644] Trial 783 finished with value: 1.667170240825536 and parameters: {'x': 0.846965143452634, 'y': 0.8455587906394522}. Best is trial 694 with value: 0.0028801463380608173.\n",
      "[I 2024-08-02 11:27:58,703] Trial 784 finished with value: 6.091148933905955 and parameters: {'x': 1.0099898819081052, 'y': 0.773279052315673}. Best is trial 694 with value: 0.0028801463380608173.\n",
      "[I 2024-08-02 11:27:58,759] Trial 785 finished with value: 7.477986214592254 and parameters: {'x': 1.0953364191676727, 'y': 0.9264690395298495}. Best is trial 694 with value: 0.0028801463380608173.\n",
      "[I 2024-08-02 11:27:58,814] Trial 786 finished with value: 6.047948705502657 and parameters: {'x': 0.9083385356370995, 'y': 0.5793239995134498}. Best is trial 694 with value: 0.0028801463380608173.\n",
      "[I 2024-08-02 11:27:58,865] Trial 787 finished with value: 1.6073494516173361 and parameters: {'x': 0.7407674487842137, 'y': 0.6728391100066451}. Best is trial 694 with value: 0.0028801463380608173.\n",
      "[I 2024-08-02 11:27:58,922] Trial 788 finished with value: 124.5604767686756 and parameters: {'x': 0.6076730417282887, 'y': 1.4846433961516103}. Best is trial 694 with value: 0.0028801463380608173.\n",
      "[I 2024-08-02 11:27:58,976] Trial 789 finished with value: 6.112064492090179 and parameters: {'x': 0.8592458564424541, 'y': 0.9851283344633879}. Best is trial 694 with value: 0.0028801463380608173.\n",
      "[I 2024-08-02 11:27:59,034] Trial 790 finished with value: 3.1296014722175367 and parameters: {'x': 0.9735730310971473, 'y': 0.7709573900458941}. Best is trial 694 with value: 0.0028801463380608173.\n",
      "[I 2024-08-02 11:27:59,091] Trial 791 finished with value: 13.673110932141507 and parameters: {'x': 1.112800361729848, 'y': 0.8687250372397856}. Best is trial 694 with value: 0.0028801463380608173.\n",
      "[I 2024-08-02 11:27:59,150] Trial 792 finished with value: 1.432365767006148 and parameters: {'x': 0.9116559672486975, 'y': 0.7117616237175843}. Best is trial 694 with value: 0.0028801463380608173.\n",
      "[I 2024-08-02 11:27:59,205] Trial 793 finished with value: 2.302297629786967 and parameters: {'x': 1.0235894925915923, 'y': 1.1994503518955821}. Best is trial 694 with value: 0.0028801463380608173.\n",
      "[I 2024-08-02 11:27:59,269] Trial 794 finished with value: 7.987678279253842 and parameters: {'x': 0.7996278325002585, 'y': 0.9213182968868103}. Best is trial 694 with value: 0.0028801463380608173.\n",
      "[I 2024-08-02 11:27:59,328] Trial 795 finished with value: 9.13949201931314 and parameters: {'x': 0.8580923192135331, 'y': 1.038305113714907}. Best is trial 694 with value: 0.0028801463380608173.\n",
      "[I 2024-08-02 11:27:59,387] Trial 796 finished with value: 52.66380514096636 and parameters: {'x': 1.2367718832402543, 'y': 0.804292729213323}. Best is trial 694 with value: 0.0028801463380608173.\n",
      "[I 2024-08-02 11:27:59,447] Trial 797 finished with value: 2.1031909775157436 and parameters: {'x': 0.703522475672723, 'y': 0.6369048562713229}. Best is trial 694 with value: 0.0028801463380608173.\n"
     ]
    },
    {
     "name": "stderr",
     "output_type": "stream",
     "text": [
      "[I 2024-08-02 11:27:59,507] Trial 798 finished with value: 0.45878087593638023 and parameters: {'x': 0.9564842253264059, 'y': 0.84726863772268}. Best is trial 694 with value: 0.0028801463380608173.\n",
      "[I 2024-08-02 11:27:59,572] Trial 799 finished with value: 12.685156883204629 and parameters: {'x': 1.0446023003020364, 'y': 0.7350596158943006}. Best is trial 694 with value: 0.0028801463380608173.\n",
      "[I 2024-08-02 11:27:59,631] Trial 800 finished with value: 49.88805702986139 and parameters: {'x': 0.5410262551453497, 'y': 0.9975313730241422}. Best is trial 694 with value: 0.0028801463380608173.\n",
      "[I 2024-08-02 11:27:59,692] Trial 801 finished with value: 627.6196701498687 and parameters: {'x': 1.7373123150054575, 'y': 0.5141054407109755}. Best is trial 694 with value: 0.0028801463380608173.\n",
      "[I 2024-08-02 11:27:59,756] Trial 802 finished with value: 0.7879841656299261 and parameters: {'x': 0.9069895249785423, 'y': 0.910909849868695}. Best is trial 694 with value: 0.0028801463380608173.\n",
      "[I 2024-08-02 11:27:59,819] Trial 803 finished with value: 3.8001062715907468 and parameters: {'x': 0.7689639230733014, 'y': 0.7848701967551032}. Best is trial 694 with value: 0.0028801463380608173.\n",
      "[I 2024-08-02 11:27:59,883] Trial 804 finished with value: 0.045101716666848965 and parameters: {'x': 0.8417021741868235, 'y': 0.6943050378872073}. Best is trial 694 with value: 0.0028801463380608173.\n",
      "[I 2024-08-02 11:27:59,942] Trial 805 finished with value: 51.906417584969134 and parameters: {'x': 0.9623781760959907, 'y': 1.6466230164615308}. Best is trial 694 with value: 0.0028801463380608173.\n",
      "[I 2024-08-02 11:28:00,003] Trial 806 finished with value: 0.02076119686863026 and parameters: {'x': 1.12255400214998, 'y': 1.2677048972116496}. Best is trial 694 with value: 0.0028801463380608173.\n",
      "[I 2024-08-02 11:28:00,086] Trial 807 finished with value: 7.47207184727048 and parameters: {'x': 1.2241628683224919, 'y': 1.2261445012271084}. Best is trial 694 with value: 0.0028801463380608173.\n",
      "[I 2024-08-02 11:28:00,147] Trial 808 finished with value: 12.444418099066317 and parameters: {'x': 1.285660668704745, 'y': 1.301315390391677}. Best is trial 694 with value: 0.0028801463380608173.\n",
      "[I 2024-08-02 11:28:00,209] Trial 809 finished with value: 34.334120304423166 and parameters: {'x': 1.3773397928486069, 'y': 1.3123279129314478}. Best is trial 694 with value: 0.0028801463380608173.\n",
      "[I 2024-08-02 11:28:00,269] Trial 810 finished with value: 2.4327872970971103 and parameters: {'x': 1.1570017417163758, 'y': 1.1834712739909117}. Best is trial 694 with value: 0.0028801463380608173.\n",
      "[I 2024-08-02 11:28:00,326] Trial 811 finished with value: 0.3751524670766777 and parameters: {'x': 1.156854001059409, 'y': 1.3975183828279676}. Best is trial 694 with value: 0.0028801463380608173.\n",
      "[I 2024-08-02 11:28:00,385] Trial 812 finished with value: 3.5300520356134837 and parameters: {'x': 1.1140289549746398, 'y': 1.4285984935561542}. Best is trial 694 with value: 0.0028801463380608173.\n",
      "[I 2024-08-02 11:28:00,440] Trial 813 finished with value: 3.377494558231528 and parameters: {'x': 1.195856866120812, 'y': 1.2473406519829393}. Best is trial 694 with value: 0.0028801463380608173.\n",
      "[I 2024-08-02 11:28:00,504] Trial 814 finished with value: 3.0047456417959983 and parameters: {'x': 1.0948562819703134, 'y': 1.3717925686436896}. Best is trial 694 with value: 0.0028801463380608173.\n",
      "[I 2024-08-02 11:28:00,567] Trial 815 finished with value: 0.8050243005121784 and parameters: {'x': 1.0104147613571437, 'y': 1.110655091641286}. Best is trial 694 with value: 0.0028801463380608173.\n",
      "[I 2024-08-02 11:28:00,631] Trial 816 finished with value: 1.0441129410117025 and parameters: {'x': 1.0698256938332635, 'y': 1.2464700048169115}. Best is trial 694 with value: 0.0028801463380608173.\n",
      "[I 2024-08-02 11:28:00,696] Trial 817 finished with value: 5.105185629951271 and parameters: {'x': 1.1766703793522315, 'y': 1.159298365780517}. Best is trial 694 with value: 0.0028801463380608173.\n",
      "[I 2024-08-02 11:28:00,761] Trial 818 finished with value: 0.009514289341181786 and parameters: {'x': 1.0497428697470195, 'y': 1.1103505253807637}. Best is trial 694 with value: 0.0028801463380608173.\n",
      "[I 2024-08-02 11:28:00,823] Trial 819 finished with value: 17.73510742146381 and parameters: {'x': 1.2899169978262424, 'y': 1.2437542681363083}. Best is trial 694 with value: 0.0028801463380608173.\n",
      "[I 2024-08-02 11:28:00,881] Trial 820 finished with value: 14.272102846479479 and parameters: {'x': 1.212787000648579, 'y': 1.0936676785708626}. Best is trial 694 with value: 0.0028801463380608173.\n",
      "[I 2024-08-02 11:28:00,943] Trial 821 finished with value: 0.019929273922241406 and parameters: {'x': 1.0617973310689754, 'y': 1.1401062330559844}. Best is trial 694 with value: 0.0028801463380608173.\n",
      "[I 2024-08-02 11:28:00,999] Trial 822 finished with value: 29.383664122130927 and parameters: {'x': 1.3153724348545723, 'y': 1.1890558241240665}. Best is trial 694 with value: 0.0028801463380608173.\n",
      "[I 2024-08-02 11:28:01,060] Trial 823 finished with value: 0.4011557247478573 and parameters: {'x': 1.1072227294677148, 'y': 1.1635194996029297}. Best is trial 694 with value: 0.0028801463380608173.\n",
      "[I 2024-08-02 11:28:01,120] Trial 824 finished with value: 3.878457847688733 and parameters: {'x': 1.159200042586878, 'y': 1.1474512545285418}. Best is trial 694 with value: 0.0028801463380608173.\n",
      "[I 2024-08-02 11:28:01,177] Trial 825 finished with value: 9.30043456720934 and parameters: {'x': 1.2401326555798398, 'y': 1.233909746234033}. Best is trial 694 with value: 0.0028801463380608173.\n",
      "[I 2024-08-02 11:28:01,236] Trial 826 finished with value: 2.051260491116525 and parameters: {'x': 1.0938442808382391, 'y': 1.3394097516328287}. Best is trial 694 with value: 0.0028801463380608173.\n",
      "[I 2024-08-02 11:28:01,295] Trial 827 finished with value: 1.3316150604845416 and parameters: {'x': 1.069163519418385, 'y': 1.2582988020048074}. Best is trial 694 with value: 0.0028801463380608173.\n",
      "[I 2024-08-02 11:28:01,370] Trial 828 finished with value: 6.62004039952056 and parameters: {'x': 1.1460055190539056, 'y': 1.0564488570376924}. Best is trial 694 with value: 0.0028801463380608173.\n",
      "[I 2024-08-02 11:28:01,434] Trial 829 finished with value: 0.04199002842897069 and parameters: {'x': 1.048305276684363, 'y': 1.1188579252728528}. Best is trial 694 with value: 0.0028801463380608173.\n",
      "[I 2024-08-02 11:28:01,491] Trial 830 finished with value: 7.513363505170809 and parameters: {'x': 1.1739330925385036, 'y': 1.104566154272209}. Best is trial 694 with value: 0.0028801463380608173.\n",
      "[I 2024-08-02 11:28:01,551] Trial 831 finished with value: 6.670769466201713 and parameters: {'x': 1.021586339229048, 'y': 1.3019079555446003}. Best is trial 694 with value: 0.0028801463380608173.\n",
      "[I 2024-08-02 11:28:01,608] Trial 832 finished with value: 0.3376594426669194 and parameters: {'x': 1.0689531713488878, 'y': 1.084962970717798}. Best is trial 694 with value: 0.0028801463380608173.\n",
      "[I 2024-08-02 11:28:01,672] Trial 833 finished with value: 6.26665450838093 and parameters: {'x': 1.0172355281482515, 'y': 1.2850950548529068}. Best is trial 694 with value: 0.0028801463380608173.\n",
      "[I 2024-08-02 11:28:01,729] Trial 834 finished with value: 3.7579328583823983 and parameters: {'x': 1.1484652029883091, 'y': 1.5122568521684856}. Best is trial 694 with value: 0.0028801463380608173.\n",
      "[I 2024-08-02 11:28:01,796] Trial 835 finished with value: 90.53970725959852 and parameters: {'x': -0.4038833379907115, 'y': 1.1042318337090902}. Best is trial 694 with value: 0.0028801463380608173.\n",
      "[I 2024-08-02 11:28:01,862] Trial 836 finished with value: 1.3645960369828343 and parameters: {'x': 1.0165884356279828, 'y': 1.1502561938167197}. Best is trial 694 with value: 0.0028801463380608173.\n",
      "[I 2024-08-02 11:28:01,932] Trial 837 finished with value: 28.58975142072981 and parameters: {'x': 1.256003248005321, 'y': 1.0434635119273923}. Best is trial 694 with value: 0.0028801463380608173.\n",
      "[I 2024-08-02 11:28:01,998] Trial 838 finished with value: 2.7593465928384706 and parameters: {'x': 1.0963145326133585, 'y': 1.3677389076280009}. Best is trial 694 with value: 0.0028801463380608173.\n",
      "[I 2024-08-02 11:28:02,060] Trial 839 finished with value: 0.23581072565125644 and parameters: {'x': 0.9896998543284751, 'y': 1.028055223142556}. Best is trial 694 with value: 0.0028801463380608173.\n"
     ]
    },
    {
     "name": "stderr",
     "output_type": "stream",
     "text": [
      "[I 2024-08-02 11:28:02,126] Trial 840 finished with value: 4.073847076633985 and parameters: {'x': 0.9802075512457735, 'y': 1.1626348726828357}. Best is trial 694 with value: 0.0028801463380608173.\n",
      "[I 2024-08-02 11:28:02,187] Trial 841 finished with value: 0.047667869301955636 and parameters: {'x': 1.0867133539402902, 'y': 1.200983045051193}. Best is trial 694 with value: 0.0028801463380608173.\n",
      "[I 2024-08-02 11:28:02,251] Trial 842 finished with value: 98.38950641104174 and parameters: {'x': 1.4185789423080357, 'y': 1.0213349442060604}. Best is trial 694 with value: 0.0028801463380608173.\n",
      "[I 2024-08-02 11:28:02,311] Trial 843 finished with value: 0.4114770580112473 and parameters: {'x': 0.9696528679242373, 'y': 1.0043013367960512}. Best is trial 694 with value: 0.0028801463380608173.\n",
      "[I 2024-08-02 11:28:02,371] Trial 844 finished with value: 6.8715454470407895 and parameters: {'x': 1.1619596028072317, 'y': 1.0885145985266569}. Best is trial 694 with value: 0.0028801463380608173.\n",
      "[I 2024-08-02 11:28:02,431] Trial 845 finished with value: 3.045250126048594 and parameters: {'x': 1.0520235040694197, 'y': 0.9323245655679435}. Best is trial 694 with value: 0.0028801463380608173.\n",
      "[I 2024-08-02 11:28:02,496] Trial 846 finished with value: 20.363325978881786 and parameters: {'x': 0.9409817935880304, 'y': 1.3366655611606284}. Best is trial 694 with value: 0.0028801463380608173.\n",
      "[I 2024-08-02 11:28:02,556] Trial 847 finished with value: 27.841581999189756 and parameters: {'x': 1.2290997384598727, 'y': 0.9835325337926721}. Best is trial 694 with value: 0.0028801463380608173.\n",
      "[I 2024-08-02 11:28:02,621] Trial 848 finished with value: 28.639466858134284 and parameters: {'x': 1.3213711925544342, 'y': 1.2118290972374846}. Best is trial 694 with value: 0.0028801463380608173.\n",
      "[I 2024-08-02 11:28:02,693] Trial 849 finished with value: 0.7110796950927337 and parameters: {'x': 1.0326787255332297, 'y': 0.9821631524768354}. Best is trial 694 with value: 0.0028801463380608173.\n",
      "[I 2024-08-02 11:28:02,761] Trial 850 finished with value: 6.589112454933521 and parameters: {'x': 0.9268909064697827, 'y': 1.1157152852755452}. Best is trial 694 with value: 0.0028801463380608173.\n",
      "[I 2024-08-02 11:28:02,831] Trial 851 finished with value: 155.60357068750662 and parameters: {'x': -0.11993943653095121, 'y': 1.2567594312420902}. Best is trial 694 with value: 0.0028801463380608173.\n",
      "[I 2024-08-02 11:28:02,910] Trial 852 finished with value: 8.959872749659677 and parameters: {'x': 1.1145815815522644, 'y': 0.9431810220533625}. Best is trial 694 with value: 0.0028801463380608173.\n",
      "[I 2024-08-02 11:28:02,990] Trial 853 finished with value: 18.435506170017742 and parameters: {'x': 0.997967360245262, 'y': 1.4253046872531079}. Best is trial 694 with value: 0.0028801463380608173.\n",
      "[I 2024-08-02 11:28:03,055] Trial 854 finished with value: 3.777303416882455 and parameters: {'x': 0.932517442341656, 'y': 1.0638244495315867}. Best is trial 694 with value: 0.0028801463380608173.\n",
      "[I 2024-08-02 11:28:03,116] Trial 855 finished with value: 536.4274678278753 and parameters: {'x': 1.0035714145192371, 'y': -1.3089347748899094}. Best is trial 694 with value: 0.0028801463380608173.\n",
      "[I 2024-08-02 11:28:03,180] Trial 856 finished with value: 2.629184520798769 and parameters: {'x': 0.9108579298814075, 'y': 0.9915645529727823}. Best is trial 694 with value: 0.0028801463380608173.\n",
      "[I 2024-08-02 11:28:03,249] Trial 857 finished with value: 0.28933678867667834 and parameters: {'x': 1.10446616841269, 'y': 1.16707965620358}. Best is trial 694 with value: 0.0028801463380608173.\n",
      "[I 2024-08-02 11:28:03,316] Trial 858 finished with value: 2.7272222212135295 and parameters: {'x': 1.0404614396707792, 'y': 0.9174665462413754}. Best is trial 694 with value: 0.0028801463380608173.\n",
      "[I 2024-08-02 11:28:03,378] Trial 859 finished with value: 4.27413119114712 and parameters: {'x': 0.9147697884842897, 'y': 1.0433677270153592}. Best is trial 694 with value: 0.0028801463380608173.\n",
      "[I 2024-08-02 11:28:03,458] Trial 860 finished with value: 108.71879613799477 and parameters: {'x': -1.3730792209689104, 'y': 0.8700274290005948}. Best is trial 694 with value: 0.0028801463380608173.\n",
      "[I 2024-08-02 11:28:03,518] Trial 861 finished with value: 0.0012001541217534983 and parameters: {'x': 0.9831981324457808, 'y': 0.9697081738378341}. Best is trial 861 with value: 0.0012001541217534983.\n",
      "[I 2024-08-02 11:28:03,578] Trial 862 finished with value: 551.3124464854195 and parameters: {'x': 1.1710649346127038, 'y': -0.9765489609513207}. Best is trial 861 with value: 0.0012001541217534983.\n",
      "[I 2024-08-02 11:28:03,635] Trial 863 finished with value: 0.11272088639809047 and parameters: {'x': 1.0413966239021102, 'y': 1.1178246721850678}. Best is trial 861 with value: 0.0012001541217534983.\n",
      "[I 2024-08-02 11:28:03,695] Trial 864 finished with value: 19.97573138760137 and parameters: {'x': 1.2049845246406443, 'y': 1.0055158384072218}. Best is trial 861 with value: 0.0012001541217534983.\n",
      "[I 2024-08-02 11:28:03,755] Trial 865 finished with value: 2.3223622143795053 and parameters: {'x': 1.1087357250425691, 'y': 1.0772903436963392}. Best is trial 861 with value: 0.0012001541217534983.\n",
      "[I 2024-08-02 11:28:03,812] Trial 866 finished with value: 0.00037054593630534723 and parameters: {'x': 0.9808333529766853, 'y': 0.9622125481926124}. Best is trial 866 with value: 0.00037054593630534723.\n",
      "[I 2024-08-02 11:28:03,870] Trial 867 finished with value: 2.571261605875305 and parameters: {'x': 1.0975654507377783, 'y': 1.0445954720202832}. Best is trial 866 with value: 0.00037054593630534723.\n",
      "[I 2024-08-02 11:28:03,933] Trial 868 finished with value: 0.017842790920440336 and parameters: {'x': 0.9778882138330851, 'y': 0.9694387637170524}. Best is trial 866 with value: 0.00037054593630534723.\n",
      "[I 2024-08-02 11:28:03,992] Trial 869 finished with value: 12.288073690398708 and parameters: {'x': 1.1570774186081532, 'y': 0.9886367710490462}. Best is trial 866 with value: 0.00037054593630534723.\n",
      "[I 2024-08-02 11:28:04,051] Trial 870 finished with value: 2.4437027894800387 and parameters: {'x': 0.9931926811199916, 'y': 1.142753691642682}. Best is trial 866 with value: 0.00037054593630534723.\n",
      "[I 2024-08-02 11:28:04,110] Trial 871 finished with value: 21.020657031938665 and parameters: {'x': 1.237426434300531, 'y': 1.0733564513682745}. Best is trial 866 with value: 0.00037054593630534723.\n",
      "[I 2024-08-02 11:28:04,168] Trial 872 finished with value: 239.64415521221383 and parameters: {'x': 1.064073336263636, 'y': -0.41577910340757873}. Best is trial 866 with value: 0.00037054593630534723.\n",
      "[I 2024-08-02 11:28:04,227] Trial 873 finished with value: 10.898996114704914 and parameters: {'x': 1.1362930507942077, 'y': 0.9613070758994646}. Best is trial 866 with value: 0.00037054593630534723.\n",
      "[I 2024-08-02 11:28:04,289] Trial 874 finished with value: 0.06354440218350677 and parameters: {'x': 1.0276152873312827, 'y': 1.0309368825244472}. Best is trial 866 with value: 0.00037054593630534723.\n",
      "[I 2024-08-02 11:28:04,354] Trial 875 finished with value: 4.275433153013548 and parameters: {'x': 0.9918776793477678, 'y': 1.190590941246929}. Best is trial 866 with value: 0.00037054593630534723.\n",
      "[I 2024-08-02 11:28:04,412] Trial 876 finished with value: 3.183415417606756 and parameters: {'x': 1.0649843314538936, 'y': 0.955888725136559}. Best is trial 866 with value: 0.00037054593630534723.\n",
      "[I 2024-08-02 11:28:04,479] Trial 877 finished with value: 1.023716710515538 and parameters: {'x': 0.9875679110869823, 'y': 1.0764616275767054}. Best is trial 866 with value: 0.00037054593630534723.\n",
      "[I 2024-08-02 11:28:04,539] Trial 878 finished with value: 7.815398512272289 and parameters: {'x': 1.1162790880491453, 'y': 0.9667605875922695}. Best is trial 866 with value: 0.00037054593630534723.\n",
      "[I 2024-08-02 11:28:04,601] Trial 879 finished with value: 11.472828000994355 and parameters: {'x': 0.9582304297733903, 'y': 1.2568954339241318}. Best is trial 866 with value: 0.00037054593630534723.\n",
      "[I 2024-08-02 11:28:04,660] Trial 880 finished with value: 11.188768435194914 and parameters: {'x': 1.2128455890899674, 'y': 1.137176131229318}. Best is trial 866 with value: 0.00037054593630534723.\n",
      "[I 2024-08-02 11:28:04,717] Trial 881 finished with value: 2.410715447718533 and parameters: {'x': 1.0775588093836561, 'y': 1.0060620336365196}. Best is trial 866 with value: 0.00037054593630534723.\n"
     ]
    },
    {
     "name": "stderr",
     "output_type": "stream",
     "text": [
      "[I 2024-08-02 11:28:04,772] Trial 882 finished with value: 68.10580185353099 and parameters: {'x': 1.3251439504675553, 'y': 0.9313848594691281}. Best is trial 866 with value: 0.00037054593630534723.\n",
      "[I 2024-08-02 11:28:04,831] Trial 883 finished with value: 1.8330666338563466 and parameters: {'x': 0.9645898970331487, 'y': 1.0657781469395582}. Best is trial 866 with value: 0.00037054593630534723.\n",
      "[I 2024-08-02 11:28:04,894] Trial 884 finished with value: 3.2117507502379787 and parameters: {'x': 1.0497701391098126, 'y': 0.922872886958832}. Best is trial 866 with value: 0.00037054593630534723.\n",
      "[I 2024-08-02 11:28:04,951] Trial 885 finished with value: 9.097801812728305 and parameters: {'x': 0.953362322167131, 'y': 1.210489285113905}. Best is trial 866 with value: 0.00037054593630534723.\n",
      "[I 2024-08-02 11:28:05,008] Trial 886 finished with value: 6.871284431705384 and parameters: {'x': 1.1254368091167704, 'y': 1.0047769581790658}. Best is trial 866 with value: 0.00037054593630534723.\n",
      "[I 2024-08-02 11:28:05,069] Trial 887 finished with value: 1.046860998796702 and parameters: {'x': 1.014572506811463, 'y': 1.131663218959062}. Best is trial 866 with value: 0.00037054593630534723.\n",
      "[I 2024-08-02 11:28:05,129] Trial 888 finished with value: 25.371888191854914 and parameters: {'x': 1.1879699046077377, 'y': 0.9079181905389615}. Best is trial 866 with value: 0.00037054593630534723.\n",
      "[I 2024-08-02 11:28:05,199] Trial 889 finished with value: 2.0890649273830677 and parameters: {'x': 0.9387240010555141, 'y': 1.025608781172185}. Best is trial 866 with value: 0.00037054593630534723.\n",
      "[I 2024-08-02 11:28:05,267] Trial 890 finished with value: 3.7437847024630564 and parameters: {'x': 1.0557047500603403, 'y': 0.9211040995431262}. Best is trial 866 with value: 0.00037054593630534723.\n",
      "[I 2024-08-02 11:28:05,332] Trial 891 finished with value: 7.286879584939961 and parameters: {'x': 0.9236016819213044, 'y': 1.1228741433084664}. Best is trial 866 with value: 0.00037054593630534723.\n",
      "[I 2024-08-02 11:28:05,399] Trial 892 finished with value: 7.797555947752491 and parameters: {'x': 0.9966872259383873, 'y': 1.2726262717364}. Best is trial 866 with value: 0.00037054593630534723.\n",
      "[I 2024-08-02 11:28:05,468] Trial 893 finished with value: 80.93243161055432 and parameters: {'x': 0.056771436868409686, 'y': 0.8978891432087712}. Best is trial 866 with value: 0.00037054593630534723.\n",
      "[I 2024-08-02 11:28:05,531] Trial 894 finished with value: 3.5420110437503163 and parameters: {'x': 0.904951890847426, 'y': 1.0069000725520008}. Best is trial 866 with value: 0.00037054593630534723.\n",
      "[I 2024-08-02 11:28:05,599] Trial 895 finished with value: 12.471191011017071 and parameters: {'x': 1.1327913577643414, 'y': 0.9303202774442487}. Best is trial 866 with value: 0.00037054593630534723.\n",
      "[I 2024-08-02 11:28:05,667] Trial 896 finished with value: 0.0016836101054936486 and parameters: {'x': 1.0396810061244823, 'y': 1.0819807585561254}. Best is trial 866 with value: 0.00037054593630534723.\n",
      "[I 2024-08-02 11:28:05,731] Trial 897 finished with value: 6.705639587473044 and parameters: {'x': 1.2555032746792594, 'y': 1.3185995582597905}. Best is trial 866 with value: 0.00037054593630534723.\n",
      "[I 2024-08-02 11:28:05,793] Trial 898 finished with value: 0.007740456596057085 and parameters: {'x': 1.0842115860438395, 'y': 1.1729674797153191}. Best is trial 866 with value: 0.00037054593630534723.\n",
      "[I 2024-08-02 11:28:05,858] Trial 899 finished with value: 5.854134244113252 and parameters: {'x': 1.2041161865123937, 'y': 1.2088051266269402}. Best is trial 866 with value: 0.00037054593630534723.\n",
      "[I 2024-08-02 11:28:05,922] Trial 900 finished with value: 14.295339292650919 and parameters: {'x': 1.259594239552872, 'y': 1.2093780973680428}. Best is trial 866 with value: 0.00037054593630534723.\n",
      "[I 2024-08-02 11:28:05,982] Trial 901 finished with value: 21.795615146081776 and parameters: {'x': 1.3218142650894555, 'y': 1.2814456945596864}. Best is trial 866 with value: 0.00037054593630534723.\n",
      "[I 2024-08-02 11:28:06,049] Trial 902 finished with value: 0.08120143293125043 and parameters: {'x': 1.0928803365806594, 'y': 1.167447742631399}. Best is trial 866 with value: 0.00037054593630534723.\n",
      "[I 2024-08-02 11:28:06,116] Trial 903 finished with value: 0.4191458836217855 and parameters: {'x': 1.1500085202321253, 'y': 1.385499222477041}. Best is trial 866 with value: 0.00037054593630534723.\n",
      "[I 2024-08-02 11:28:06,181] Trial 904 finished with value: 4.037106364951591 and parameters: {'x': 1.160246617193699, 'y': 1.145886731792068}. Best is trial 866 with value: 0.00037054593630534723.\n",
      "[I 2024-08-02 11:28:06,243] Trial 905 finished with value: 2.3719005335658303 and parameters: {'x': 1.0798588503129334, 'y': 1.3198977080208643}. Best is trial 866 with value: 0.00037054593630534723.\n",
      "[I 2024-08-02 11:28:06,309] Trial 906 finished with value: 9.02815076019987 and parameters: {'x': 1.188106956235968, 'y': 1.111718721469408}. Best is trial 866 with value: 0.00037054593630534723.\n",
      "[I 2024-08-02 11:28:06,374] Trial 907 finished with value: 1.941189862001112 and parameters: {'x': 1.0571657168044206, 'y': 1.2568086176658986}. Best is trial 866 with value: 0.00037054593630534723.\n",
      "[I 2024-08-02 11:28:06,440] Trial 908 finished with value: 1.8440599248857032 and parameters: {'x': 1.1019219197980823, 'y': 1.078818777380068}. Best is trial 866 with value: 0.00037054593630534723.\n",
      "[I 2024-08-02 11:28:06,502] Trial 909 finished with value: 1.1098505341215337 and parameters: {'x': 1.0330901318538361, 'y': 1.1725726838125958}. Best is trial 866 with value: 0.00037054593630534723.\n",
      "[I 2024-08-02 11:28:06,564] Trial 910 finished with value: 2.5768799953749992 and parameters: {'x': 1.014904083083241, 'y': 1.1905500120278067}. Best is trial 866 with value: 0.00037054593630534723.\n",
      "[I 2024-08-02 11:28:06,628] Trial 911 finished with value: 4.458102535797337 and parameters: {'x': 1.1491636373771283, 'y': 1.109962423408038}. Best is trial 866 with value: 0.00037054593630534723.\n",
      "[I 2024-08-02 11:28:06,688] Trial 912 finished with value: 133.9205287992949 and parameters: {'x': 1.4954166834075662, 'y': 1.0800916111269472}. Best is trial 866 with value: 0.00037054593630534723.\n",
      "[I 2024-08-02 11:28:06,748] Trial 913 finished with value: 0.02142330026829558 and parameters: {'x': 1.0024626872633906, 'y': 1.0195660679600345}. Best is trial 866 with value: 0.00037054593630534723.\n",
      "[I 2024-08-02 11:28:06,811] Trial 914 finished with value: 32.788939789264084 and parameters: {'x': 1.2785450291286218, 'y': 1.0627389992327543}. Best is trial 866 with value: 0.00037054593630534723.\n",
      "[I 2024-08-02 11:28:06,879] Trial 915 finished with value: 16.752795216335066 and parameters: {'x': 1.2084917503112749, 'y': 1.0516818810333983}. Best is trial 866 with value: 0.00037054593630534723.\n",
      "[I 2024-08-02 11:28:06,948] Trial 916 finished with value: 1.6487158707641523 and parameters: {'x': 1.0663280567296616, 'y': 1.2652864280069362}. Best is trial 866 with value: 0.00037054593630534723.\n",
      "[I 2024-08-02 11:28:07,014] Trial 917 finished with value: 0.5527574673694807 and parameters: {'x': 1.1257731250086838, 'y': 1.1940890354554512}. Best is trial 866 with value: 0.00037054593630534723.\n",
      "[I 2024-08-02 11:28:07,075] Trial 918 finished with value: 1.5108728243931078 and parameters: {'x': 1.071911714241615, 'y': 1.0262876927777311}. Best is trial 866 with value: 0.00037054593630534723.\n",
      "[I 2024-08-02 11:28:07,140] Trial 919 finished with value: 2.8936659034586487 and parameters: {'x': 0.9949272700484437, 'y': 1.1599873028426384}. Best is trial 866 with value: 0.00037054593630534723.\n",
      "[I 2024-08-02 11:28:07,199] Trial 920 finished with value: 1.7588234561553604 and parameters: {'x': 0.9918870425628346, 'y': 1.1164580652002167}. Best is trial 866 with value: 0.00037054593630534723.\n",
      "[I 2024-08-02 11:28:07,267] Trial 921 finished with value: 14.227053170021831 and parameters: {'x': 1.1766835434713618, 'y': 1.0078105411751077}. Best is trial 866 with value: 0.00037054593630534723.\n",
      "[I 2024-08-02 11:28:07,330] Trial 922 finished with value: 22.648450481982053 and parameters: {'x': 1.3685954613274336, 'y': 1.3985792185161494}. Best is trial 866 with value: 0.00037054593630534723.\n",
      "[I 2024-08-02 11:28:07,390] Trial 923 finished with value: 4.059605833064349 and parameters: {'x': 1.1064747947076, 'y': 1.023083366199166}. Best is trial 866 with value: 0.00037054593630534723.\n"
     ]
    },
    {
     "name": "stderr",
     "output_type": "stream",
     "text": [
      "[I 2024-08-02 11:28:07,456] Trial 924 finished with value: 1.6308376413795336 and parameters: {'x': 0.9762645532244328, 'y': 1.0807746720187983}. Best is trial 866 with value: 0.00037054593630534723.\n",
      "[I 2024-08-02 11:28:07,521] Trial 925 finished with value: 688.1376097778608 and parameters: {'x': 1.8949930362395464, 'y': 0.9692881023196922}. Best is trial 866 with value: 0.00037054593630534723.\n",
      "[I 2024-08-02 11:28:07,590] Trial 926 finished with value: 2.404412076778092 and parameters: {'x': 1.0333211196732655, 'y': 1.2227783980685862}. Best is trial 866 with value: 0.00037054593630534723.\n",
      "[I 2024-08-02 11:28:07,656] Trial 927 finished with value: 37.83799636644001 and parameters: {'x': 0.954721045610058, 'y': 1.5266015837753724}. Best is trial 866 with value: 0.00037054593630534723.\n",
      "[I 2024-08-02 11:28:07,723] Trial 928 finished with value: 20.746346895102544 and parameters: {'x': 1.2552921541729285, 'y': 1.1209928174313268}. Best is trial 866 with value: 0.00037054593630534723.\n",
      "[I 2024-08-02 11:28:07,796] Trial 929 finished with value: 7.2793173625144485 and parameters: {'x': 1.1179692251501425, 'y': 0.9803111173214727}. Best is trial 866 with value: 0.00037054593630534723.\n",
      "[I 2024-08-02 11:28:07,863] Trial 930 finished with value: 4.332930852482786 and parameters: {'x': 1.039416784597647, 'y': 1.2885068612124668}. Best is trial 866 with value: 0.00037054593630534723.\n",
      "[I 2024-08-02 11:28:07,926] Trial 931 finished with value: 2.279069371408667 and parameters: {'x': 0.9577750517010291, 'y': 1.0682398561724051}. Best is trial 866 with value: 0.00037054593630534723.\n",
      "[I 2024-08-02 11:28:07,992] Trial 932 finished with value: 0.7391358125382127 and parameters: {'x': 0.9367079480246173, 'y': 0.9631614981504213}. Best is trial 866 with value: 0.00037054593630534723.\n",
      "[I 2024-08-02 11:28:08,060] Trial 933 finished with value: 0.03642718463218373 and parameters: {'x': 1.0567180924965955, 'y': 1.134876804634023}. Best is trial 866 with value: 0.00037054593630534723.\n",
      "[I 2024-08-02 11:28:08,133] Trial 934 finished with value: 13.726690088991695 and parameters: {'x': 1.1797453995560316, 'y': 1.021740000614413}. Best is trial 866 with value: 0.00037054593630534723.\n",
      "[I 2024-08-02 11:28:08,203] Trial 935 finished with value: 18.420618011494298 and parameters: {'x': 0.9484961298853731, 'y': 1.328806478947782}. Best is trial 866 with value: 0.00037054593630534723.\n",
      "[I 2024-08-02 11:28:08,287] Trial 936 finished with value: 1.5597576856711235 and parameters: {'x': 1.031922261536957, 'y': 1.1897130093965909}. Best is trial 866 with value: 0.00037054593630534723.\n",
      "[I 2024-08-02 11:28:08,348] Trial 937 finished with value: 8.795551023498863 and parameters: {'x': 1.1045876215740262, 'y': 0.9237253447801808}. Best is trial 866 with value: 0.00037054593630534723.\n",
      "[I 2024-08-02 11:28:08,409] Trial 938 finished with value: 3.7185015414210683 and parameters: {'x': 0.9399092652226035, 'y': 1.0761699427013611}. Best is trial 866 with value: 0.00037054593630534723.\n",
      "[I 2024-08-02 11:28:08,470] Trial 939 finished with value: 25.26949712423869 and parameters: {'x': 1.210693880638831, 'y': 0.9635336650373563}. Best is trial 866 with value: 0.00037054593630534723.\n",
      "[I 2024-08-02 11:28:08,531] Trial 940 finished with value: 0.635237478105295 and parameters: {'x': 0.8957074925651964, 'y': 0.8813084010861684}. Best is trial 866 with value: 0.00037054593630534723.\n",
      "[I 2024-08-02 11:28:08,600] Trial 941 finished with value: 0.015834613673016716 and parameters: {'x': 1.0125924324344142, 'y': 1.037863835302643}. Best is trial 866 with value: 0.00037054593630534723.\n",
      "[I 2024-08-02 11:28:08,658] Trial 942 finished with value: 0.01652650861763474 and parameters: {'x': 1.0922958847234998, 'y': 1.2020590305769951}. Best is trial 866 with value: 0.00037054593630534723.\n",
      "[I 2024-08-02 11:28:08,722] Trial 943 finished with value: 10.569346300534063 and parameters: {'x': 1.2956666631140157, 'y': 1.3549940514281578}. Best is trial 866 with value: 0.00037054593630534723.\n",
      "[I 2024-08-02 11:28:08,782] Trial 944 finished with value: 3.0394503268285042 and parameters: {'x': 1.1849214162181068, 'y': 1.2306820668474243}. Best is trial 866 with value: 0.00037054593630534723.\n",
      "[I 2024-08-02 11:28:08,846] Trial 945 finished with value: 0.1724213487572082 and parameters: {'x': 1.1413055453155156, 'y': 1.2635329777965538}. Best is trial 866 with value: 0.00037054593630534723.\n",
      "[I 2024-08-02 11:28:08,904] Trial 946 finished with value: 11.5485808769415 and parameters: {'x': 1.232921357595558, 'y': 1.1810622066098062}. Best is trial 866 with value: 0.00037054593630534723.\n",
      "[I 2024-08-02 11:28:08,970] Trial 947 finished with value: 1.280724129404516 and parameters: {'x': 1.1296580036045332, 'y': 1.1637033227915294}. Best is trial 866 with value: 0.00037054593630534723.\n",
      "[I 2024-08-02 11:28:09,032] Trial 948 finished with value: 1.2026725181145625 and parameters: {'x': 1.0961216711820905, 'y': 1.3107270836766265}. Best is trial 866 with value: 0.00037054593630534723.\n",
      "[I 2024-08-02 11:28:09,095] Trial 949 finished with value: 44.23318229456968 and parameters: {'x': 1.3266550063438023, 'y': 1.095735862086036}. Best is trial 866 with value: 0.00037054593630534723.\n",
      "[I 2024-08-02 11:28:09,156] Trial 950 finished with value: 0.678497507475989 and parameters: {'x': 1.0712748053196537, 'y': 1.229691722234154}. Best is trial 866 with value: 0.00037054593630534723.\n",
      "[I 2024-08-02 11:28:09,222] Trial 951 finished with value: 13.651160027120385 and parameters: {'x': 1.2359752421905337, 'y': 1.158914367107704}. Best is trial 866 with value: 0.00037054593630534723.\n",
      "[I 2024-08-02 11:28:09,283] Trial 952 finished with value: 4.584723256275487 and parameters: {'x': 1.1521889279452122, 'y': 1.1139611950929444}. Best is trial 866 with value: 0.00037054593630534723.\n",
      "[I 2024-08-02 11:28:09,343] Trial 953 finished with value: 12.5527543420983 and parameters: {'x': 1.0467206888500573, 'y': 1.4498920584404993}. Best is trial 866 with value: 0.00037054593630534723.\n",
      "[I 2024-08-02 11:28:09,411] Trial 954 finished with value: 0.017655727396149793 and parameters: {'x': 1.0350505347322152, 'y': 1.0585127504695169}. Best is trial 866 with value: 0.00037054593630534723.\n",
      "[I 2024-08-02 11:28:09,478] Trial 955 finished with value: 0.019887454605802955 and parameters: {'x': 1.1263173198028154, 'y': 1.262320625682846}. Best is trial 866 with value: 0.00037054593630534723.\n",
      "[I 2024-08-02 11:28:09,542] Trial 956 finished with value: 76.22856534726084 and parameters: {'x': 1.4332238369011971, 'y': 1.1821163325210762}. Best is trial 866 with value: 0.00037054593630534723.\n",
      "[I 2024-08-02 11:28:09,623] Trial 957 finished with value: 0.4698239201463291 and parameters: {'x': 1.0734783747325178, 'y': 1.0842070977293}. Best is trial 866 with value: 0.00037054593630534723.\n",
      "[I 2024-08-02 11:28:09,684] Trial 958 finished with value: 4.287036067629704 and parameters: {'x': 1.2009012155435204, 'y': 1.236089112686719}. Best is trial 866 with value: 0.00037054593630534723.\n",
      "[I 2024-08-02 11:28:09,742] Trial 959 finished with value: 9.178409369224353 and parameters: {'x': 1.0212171533632879, 'y': 1.345835942410758}. Best is trial 866 with value: 0.00037054593630534723.\n",
      "[I 2024-08-02 11:28:09,800] Trial 960 finished with value: 5.864720202634592 and parameters: {'x': 1.1424073885375157, 'y': 1.0633418681161215}. Best is trial 866 with value: 0.00037054593630534723.\n",
      "[I 2024-08-02 11:28:09,860] Trial 961 finished with value: 32.98686730562729 and parameters: {'x': 1.2994726567310102, 'y': 1.11506852242245}. Best is trial 866 with value: 0.00037054593630534723.\n",
      "[I 2024-08-02 11:28:09,921] Trial 962 finished with value: 21.705353026074928 and parameters: {'x': -0.8547956328474762, 'y': 1.158052295182834}. Best is trial 866 with value: 0.00037054593630534723.\n",
      "[I 2024-08-02 11:28:09,985] Trial 963 finished with value: 0.014400489954177524 and parameters: {'x': 1.0162882156863935, 'y': 1.0447308853292985}. Best is trial 866 with value: 0.00037054593630534723.\n",
      "[I 2024-08-02 11:28:10,046] Trial 964 finished with value: 0.35452875654940735 and parameters: {'x': 0.9785384163343945, 'y': 1.0170410587683427}. Best is trial 866 with value: 0.00037054593630534723.\n",
      "[I 2024-08-02 11:28:10,112] Trial 965 finished with value: 0.009273981246875226 and parameters: {'x': 1.0016240278350768, 'y': 1.0128794748769834}. Best is trial 866 with value: 0.00037054593630534723.\n"
     ]
    },
    {
     "name": "stderr",
     "output_type": "stream",
     "text": [
      "[I 2024-08-02 11:28:10,176] Trial 966 finished with value: 0.007326461979034676 and parameters: {'x': 0.9946262841297684, 'y': 0.9978240355301153}. Best is trial 866 with value: 0.00037054593630534723.\n",
      "[I 2024-08-02 11:28:10,250] Trial 967 finished with value: 0.24974798130072715 and parameters: {'x': 1.0014764704825814, 'y': 1.0529296945988296}. Best is trial 866 with value: 0.00037054593630534723.\n",
      "[I 2024-08-02 11:28:10,314] Trial 968 finished with value: 0.08878546598958659 and parameters: {'x': 1.0173118251966098, 'y': 1.0051767924558355}. Best is trial 866 with value: 0.00037054593630534723.\n",
      "[I 2024-08-02 11:28:10,388] Trial 969 finished with value: 0.029369039483899118 and parameters: {'x': 1.0113958224185757, 'y': 1.0058220433230518}. Best is trial 866 with value: 0.00037054593630534723.\n",
      "[I 2024-08-02 11:28:10,455] Trial 970 finished with value: 179.5350581331987 and parameters: {'x': 1.0648670376096359, 'y': -0.20594942063600408}. Best is trial 866 with value: 0.00037054593630534723.\n",
      "[I 2024-08-02 11:28:10,520] Trial 971 finished with value: 0.43616096588078684 and parameters: {'x': 0.9563172469598665, 'y': 0.980440535900369}. Best is trial 866 with value: 0.00037054593630534723.\n",
      "[I 2024-08-02 11:28:10,587] Trial 972 finished with value: 1.1683177617369322 and parameters: {'x': 0.970197768611869, 'y': 1.0493313658507137}. Best is trial 866 with value: 0.00037054593630534723.\n",
      "[I 2024-08-02 11:28:10,656] Trial 973 finished with value: 2.778740550126655 and parameters: {'x': 1.0611664557977902, 'y': 0.9594909579883012}. Best is trial 866 with value: 0.00037054593630534723.\n",
      "[I 2024-08-02 11:28:10,724] Trial 974 finished with value: 1.4750781010624343 and parameters: {'x': 0.9652202185635904, 'y': 1.0530530549604717}. Best is trial 866 with value: 0.00037054593630534723.\n",
      "[I 2024-08-02 11:28:10,791] Trial 975 finished with value: 4.941965978032263 and parameters: {'x': 1.0931374313314328, 'y': 0.9728393045019542}. Best is trial 866 with value: 0.00037054593630534723.\n",
      "[I 2024-08-02 11:28:10,858] Trial 976 finished with value: 374.8799559438273 and parameters: {'x': -1.730680352694498, 'y': 1.0784254852083155}. Best is trial 866 with value: 0.00037054593630534723.\n",
      "[I 2024-08-02 11:28:10,922] Trial 977 finished with value: 0.8420989006283491 and parameters: {'x': 0.9245021768442129, 'y': 0.9461591261090841}. Best is trial 866 with value: 0.00037054593630534723.\n",
      "[I 2024-08-02 11:28:10,992] Trial 978 finished with value: 0.00768763583603539 and parameters: {'x': 1.019726328600294, 'y': 1.0483849156949756}. Best is trial 866 with value: 0.00037054593630534723.\n",
      "[I 2024-08-02 11:28:11,059] Trial 979 finished with value: 5.729986265405806 and parameters: {'x': 1.1525536707269546, 'y': 1.0894926757773709}. Best is trial 866 with value: 0.00037054593630534723.\n",
      "[I 2024-08-02 11:28:11,123] Trial 980 finished with value: 1.2857163481321385 and parameters: {'x': 1.0739946720943125, 'y': 1.0403168143646706}. Best is trial 866 with value: 0.00037054593630534723.\n",
      "[I 2024-08-02 11:28:11,189] Trial 981 finished with value: 8.293909849685699 and parameters: {'x': 1.1793175963183373, 'y': 1.1033573043555518}. Best is trial 866 with value: 0.00037054593630534723.\n",
      "[I 2024-08-02 11:28:11,250] Trial 982 finished with value: 0.3717718086595592 and parameters: {'x': 1.0387026760491231, 'y': 1.0180531127053705}. Best is trial 866 with value: 0.00037054593630534723.\n",
      "[I 2024-08-02 11:28:11,318] Trial 983 finished with value: 1.3721402826708031 and parameters: {'x': 1.113239819461191, 'y': 1.1227131436847164}. Best is trial 866 with value: 0.00037054593630534723.\n",
      "[I 2024-08-02 11:28:11,379] Trial 984 finished with value: 0.014379230401537598 and parameters: {'x': 1.0074593956813078, 'y': 1.0030063147051582}. Best is trial 866 with value: 0.00037054593630534723.\n",
      "[I 2024-08-02 11:28:11,444] Trial 985 finished with value: 12.219895335612495 and parameters: {'x': 1.2195108004635653, 'y': 1.1383268087954905}. Best is trial 866 with value: 0.00037054593630534723.\n",
      "[I 2024-08-02 11:28:11,505] Trial 986 finished with value: 0.06416193996204135 and parameters: {'x': 1.0332674694083879, 'y': 1.0425308657713868}. Best is trial 866 with value: 0.00037054593630534723.\n",
      "[I 2024-08-02 11:28:11,569] Trial 987 finished with value: 3.495228173055052 and parameters: {'x': 1.0951201375932604, 'y': 1.0125749578842336}. Best is trial 866 with value: 0.00037054593630534723.\n",
      "[I 2024-08-02 11:28:11,640] Trial 988 finished with value: 7.07253833251655 and parameters: {'x': 1.189292201145965, 'y': 1.1491480224022057}. Best is trial 866 with value: 0.00037054593630534723.\n",
      "[I 2024-08-02 11:28:11,703] Trial 989 finished with value: 0.10813362947135198 and parameters: {'x': 1.0032813859740277, 'y': 0.9736914984503484}. Best is trial 866 with value: 0.00037054593630534723.\n",
      "[I 2024-08-02 11:28:11,766] Trial 990 finished with value: 3.884471449900267 and parameters: {'x': 1.1278490898983555, 'y': 1.0753680484815802}. Best is trial 866 with value: 0.00037054593630534723.\n",
      "[I 2024-08-02 11:28:11,829] Trial 991 finished with value: 0.2231655100433408 and parameters: {'x': 1.007530880086022, 'y': 0.967884080513881}. Best is trial 866 with value: 0.00037054593630534723.\n",
      "[I 2024-08-02 11:28:11,893] Trial 992 finished with value: 0.861668988570947 and parameters: {'x': 1.0777736642579896, 'y': 1.069096328356622}. Best is trial 866 with value: 0.00037054593630534723.\n",
      "[I 2024-08-02 11:28:11,958] Trial 993 finished with value: 3.5802249405928697 and parameters: {'x': 1.0019024231121871, 'y': 1.1930231932311055}. Best is trial 866 with value: 0.00037054593630534723.\n",
      "[I 2024-08-02 11:28:12,017] Trial 994 finished with value: 12.180184268338213 and parameters: {'x': 1.160508700743725, 'y': 0.9981485293632458}. Best is trial 866 with value: 0.00037054593630534723.\n",
      "[I 2024-08-02 11:28:12,085] Trial 995 finished with value: 19.665509701703797 and parameters: {'x': 1.258528634383124, 'y': 1.1411904423175998}. Best is trial 866 with value: 0.00037054593630534723.\n",
      "[I 2024-08-02 11:28:12,148] Trial 996 finished with value: 3.9683939016394874 and parameters: {'x': 1.060892265046205, 'y': 0.9263772043981929}. Best is trial 866 with value: 0.00037054593630534723.\n",
      "[I 2024-08-02 11:28:12,211] Trial 997 finished with value: 2.674424169460575 and parameters: {'x': 0.9702138009956749, 'y': 1.1048243591748659}. Best is trial 866 with value: 0.00037054593630534723.\n",
      "[I 2024-08-02 11:28:12,276] Trial 998 finished with value: 5.135446080668565 and parameters: {'x': 1.1245295814260095, 'y': 1.0382939692924795}. Best is trial 866 with value: 0.00037054593630534723.\n",
      "[I 2024-08-02 11:28:12,339] Trial 999 finished with value: 0.4935312284498524 and parameters: {'x': 0.9405976506973368, 'y': 0.9547241254504747}. Best is trial 866 with value: 0.00037054593630534723.\n"
     ]
    }
   ],
   "source": [
    "import optuna\n",
    "\n",
    "study = optuna.create_study()\n",
    "study.optimize(objective, n_trials=1000)"
   ]
  },
  {
   "cell_type": "code",
   "execution_count": 60,
   "id": "901865b7",
   "metadata": {},
   "outputs": [
    {
     "data": {
      "text/plain": [
       "{'x': 0.9808333529766853, 'y': 0.9622125481926124}"
      ]
     },
     "execution_count": 60,
     "metadata": {},
     "output_type": "execute_result"
    }
   ],
   "source": [
    "study.best_params # 스터디 완료 후 최상의 파라미터 얻음"
   ]
  },
  {
   "cell_type": "code",
   "execution_count": 63,
   "id": "b32707fd",
   "metadata": {},
   "outputs": [],
   "source": [
    "def hp_space(trial):\n",
    "    return {\"num_train_epochs\": trial.suggest_int(\"num_train_epochs\", 1, 5),\n",
    "        \"alpha\": trial.suggest_float(\"alpha\", 0, 1),\n",
    "        \"temperature\": trial.suggest_int(\"temperature\", 2, 20)}"
   ]
  },
  {
   "cell_type": "code",
   "execution_count": 66,
   "id": "9129cb29",
   "metadata": {},
   "outputs": [
    {
     "name": "stderr",
     "output_type": "stream",
     "text": [
      "[I 2024-08-03 09:34:58,650] A new study created in memory with name: no-name-9d64c141-a130-4330-9cde-a9bf76b36c57\n",
      "C:\\Users\\knuyh\\anaconda3\\Lib\\site-packages\\accelerate\\accelerator.py:451: FutureWarning: Passing the following arguments to `Accelerator` is deprecated and will be removed in version 1.0 of Accelerate: dict_keys(['dispatch_batches', 'split_batches', 'even_batches', 'use_seedable_sampler']). Please pass an `accelerate.DataLoaderConfiguration` instead: \n",
      "dataloader_config = DataLoaderConfiguration(dispatch_batches=None, split_batches=False, even_batches=True, use_seedable_sampler=True)\n",
      "  warnings.warn(\n"
     ]
    },
    {
     "data": {
      "text/html": [
       "\n",
       "    <div>\n",
       "      \n",
       "      <progress value='1272' max='1272' style='width:300px; height:20px; vertical-align: middle;'></progress>\n",
       "      [1272/1272 2:39:42, Epoch 4/4]\n",
       "    </div>\n",
       "    <table border=\"1\" class=\"dataframe\">\n",
       "  <thead>\n",
       " <tr style=\"text-align: left;\">\n",
       "      <th>Epoch</th>\n",
       "      <th>Training Loss</th>\n",
       "      <th>Validation Loss</th>\n",
       "      <th>Accuracy</th>\n",
       "    </tr>\n",
       "  </thead>\n",
       "  <tbody>\n",
       "    <tr>\n",
       "      <td>1</td>\n",
       "      <td>0.444500</td>\n",
       "      <td>0.236395</td>\n",
       "      <td>0.571935</td>\n",
       "    </tr>\n",
       "    <tr>\n",
       "      <td>2</td>\n",
       "      <td>0.200400</td>\n",
       "      <td>0.124032</td>\n",
       "      <td>0.801935</td>\n",
       "    </tr>\n",
       "    <tr>\n",
       "      <td>3</td>\n",
       "      <td>0.135000</td>\n",
       "      <td>0.092066</td>\n",
       "      <td>0.849677</td>\n",
       "    </tr>\n",
       "    <tr>\n",
       "      <td>4</td>\n",
       "      <td>0.114300</td>\n",
       "      <td>0.083857</td>\n",
       "      <td>0.862258</td>\n",
       "    </tr>\n",
       "  </tbody>\n",
       "</table><p>"
      ],
      "text/plain": [
       "<IPython.core.display.HTML object>"
      ]
     },
     "metadata": {},
     "output_type": "display_data"
    },
    {
     "name": "stderr",
     "output_type": "stream",
     "text": [
      "[I 2024-08-03 12:14:56,233] Trial 0 finished with value: 0.8622580645161291 and parameters: {'num_train_epochs': 4, 'alpha': 0.9395766664659024, 'temperature': 6}. Best is trial 0 with value: 0.8622580645161291.\n",
      "C:\\Users\\knuyh\\anaconda3\\Lib\\site-packages\\accelerate\\accelerator.py:451: FutureWarning: Passing the following arguments to `Accelerator` is deprecated and will be removed in version 1.0 of Accelerate: dict_keys(['dispatch_batches', 'split_batches', 'even_batches', 'use_seedable_sampler']). Please pass an `accelerate.DataLoaderConfiguration` instead: \n",
      "dataloader_config = DataLoaderConfiguration(dispatch_batches=None, split_batches=False, even_batches=True, use_seedable_sampler=True)\n",
      "  warnings.warn(\n"
     ]
    },
    {
     "data": {
      "text/html": [
       "\n",
       "    <div>\n",
       "      \n",
       "      <progress value='636' max='636' style='width:300px; height:20px; vertical-align: middle;'></progress>\n",
       "      [636/636 1:14:09, Epoch 2/2]\n",
       "    </div>\n",
       "    <table border=\"1\" class=\"dataframe\">\n",
       "  <thead>\n",
       " <tr style=\"text-align: left;\">\n",
       "      <th>Epoch</th>\n",
       "      <th>Training Loss</th>\n",
       "      <th>Validation Loss</th>\n",
       "      <th>Accuracy</th>\n",
       "    </tr>\n",
       "  </thead>\n",
       "  <tbody>\n",
       "    <tr>\n",
       "      <td>1</td>\n",
       "      <td>0.521000</td>\n",
       "      <td>0.308145</td>\n",
       "      <td>0.552258</td>\n",
       "    </tr>\n",
       "    <tr>\n",
       "      <td>2</td>\n",
       "      <td>0.288500</td>\n",
       "      <td>0.226661</td>\n",
       "      <td>0.672258</td>\n",
       "    </tr>\n",
       "  </tbody>\n",
       "</table><p>"
      ],
      "text/plain": [
       "<IPython.core.display.HTML object>"
      ]
     },
     "metadata": {},
     "output_type": "display_data"
    },
    {
     "name": "stderr",
     "output_type": "stream",
     "text": [
      "[I 2024-08-03 13:29:15,158] Trial 1 finished with value: 0.672258064516129 and parameters: {'num_train_epochs': 2, 'alpha': 0.9653195428062227, 'temperature': 4}. Best is trial 0 with value: 0.8622580645161291.\n",
      "C:\\Users\\knuyh\\anaconda3\\Lib\\site-packages\\accelerate\\accelerator.py:451: FutureWarning: Passing the following arguments to `Accelerator` is deprecated and will be removed in version 1.0 of Accelerate: dict_keys(['dispatch_batches', 'split_batches', 'even_batches', 'use_seedable_sampler']). Please pass an `accelerate.DataLoaderConfiguration` instead: \n",
      "dataloader_config = DataLoaderConfiguration(dispatch_batches=None, split_batches=False, even_batches=True, use_seedable_sampler=True)\n",
      "  warnings.warn(\n"
     ]
    },
    {
     "data": {
      "text/html": [
       "\n",
       "    <div>\n",
       "      \n",
       "      <progress value='1590' max='1590' style='width:300px; height:20px; vertical-align: middle;'></progress>\n",
       "      [1590/1590 3:18:09, Epoch 5/5]\n",
       "    </div>\n",
       "    <table border=\"1\" class=\"dataframe\">\n",
       "  <thead>\n",
       " <tr style=\"text-align: left;\">\n",
       "      <th>Epoch</th>\n",
       "      <th>Training Loss</th>\n",
       "      <th>Validation Loss</th>\n",
       "      <th>Accuracy</th>\n",
       "    </tr>\n",
       "  </thead>\n",
       "  <tbody>\n",
       "    <tr>\n",
       "      <td>1</td>\n",
       "      <td>0.387100</td>\n",
       "      <td>0.201618</td>\n",
       "      <td>0.552903</td>\n",
       "    </tr>\n",
       "    <tr>\n",
       "      <td>2</td>\n",
       "      <td>0.170100</td>\n",
       "      <td>0.104375</td>\n",
       "      <td>0.805806</td>\n",
       "    </tr>\n",
       "    <tr>\n",
       "      <td>3</td>\n",
       "      <td>0.112900</td>\n",
       "      <td>0.075983</td>\n",
       "      <td>0.860000</td>\n",
       "    </tr>\n",
       "    <tr>\n",
       "      <td>4</td>\n",
       "      <td>0.091700</td>\n",
       "      <td>0.063875</td>\n",
       "      <td>0.878065</td>\n",
       "    </tr>\n",
       "    <tr>\n",
       "      <td>5</td>\n",
       "      <td>0.082600</td>\n",
       "      <td>0.060084</td>\n",
       "      <td>0.882581</td>\n",
       "    </tr>\n",
       "  </tbody>\n",
       "</table><p>"
      ],
      "text/plain": [
       "<IPython.core.display.HTML object>"
      ]
     },
     "metadata": {},
     "output_type": "display_data"
    },
    {
     "name": "stderr",
     "output_type": "stream",
     "text": [
      "[I 2024-08-03 16:47:32,720] Trial 2 finished with value: 0.8825806451612903 and parameters: {'num_train_epochs': 5, 'alpha': 0.6431745650788608, 'temperature': 17}. Best is trial 2 with value: 0.8825806451612903.\n"
     ]
    }
   ],
   "source": [
    "best_run = distilbert_trainer.hyperparameter_search(\n",
    "    n_trials=3, direction=\"maximize\", hp_space=hp_space)\n",
    "# 최대화된 목적 함수의 값과 하이퍼파라미터 담음"
   ]
  },
  {
   "cell_type": "code",
   "execution_count": 67,
   "id": "f960e7b6",
   "metadata": {},
   "outputs": [
    {
     "name": "stdout",
     "output_type": "stream",
     "text": [
      "BestRun(run_id='2', objective=0.8825806451612903, hyperparameters={'num_train_epochs': 5, 'alpha': 0.6431745650788608, 'temperature': 17}, run_summary=None)\n"
     ]
    }
   ],
   "source": [
    "print(best_run)"
   ]
  },
  {
   "cell_type": "code",
   "execution_count": 68,
   "id": "d6173487",
   "metadata": {},
   "outputs": [
    {
     "name": "stderr",
     "output_type": "stream",
     "text": [
      "C:\\Users\\knuyh\\anaconda3\\Lib\\site-packages\\accelerate\\accelerator.py:451: FutureWarning: Passing the following arguments to `Accelerator` is deprecated and will be removed in version 1.0 of Accelerate: dict_keys(['dispatch_batches', 'split_batches', 'even_batches', 'use_seedable_sampler']). Please pass an `accelerate.DataLoaderConfiguration` instead: \n",
      "dataloader_config = DataLoaderConfiguration(dispatch_batches=None, split_batches=False, even_batches=True, use_seedable_sampler=True)\n",
      "  warnings.warn(\n"
     ]
    },
    {
     "data": {
      "text/html": [
       "\n",
       "    <div>\n",
       "      \n",
       "      <progress value='1590' max='1590' style='width:300px; height:20px; vertical-align: middle;'></progress>\n",
       "      [1590/1590 37:45:19, Epoch 5/5]\n",
       "    </div>\n",
       "    <table border=\"1\" class=\"dataframe\">\n",
       "  <thead>\n",
       " <tr style=\"text-align: left;\">\n",
       "      <th>Epoch</th>\n",
       "      <th>Training Loss</th>\n",
       "      <th>Validation Loss</th>\n",
       "      <th>Accuracy</th>\n",
       "    </tr>\n",
       "  </thead>\n",
       "  <tbody>\n",
       "    <tr>\n",
       "      <td>1</td>\n",
       "      <td>2.937800</td>\n",
       "      <td>2.248736</td>\n",
       "      <td>0.725806</td>\n",
       "    </tr>\n",
       "    <tr>\n",
       "      <td>2</td>\n",
       "      <td>1.827200</td>\n",
       "      <td>1.333700</td>\n",
       "      <td>0.850323</td>\n",
       "    </tr>\n",
       "    <tr>\n",
       "      <td>3</td>\n",
       "      <td>1.137400</td>\n",
       "      <td>0.882723</td>\n",
       "      <td>0.896774</td>\n",
       "    </tr>\n",
       "    <tr>\n",
       "      <td>4</td>\n",
       "      <td>0.800700</td>\n",
       "      <td>0.694789</td>\n",
       "      <td>0.914194</td>\n",
       "    </tr>\n",
       "    <tr>\n",
       "      <td>5</td>\n",
       "      <td>0.665100</td>\n",
       "      <td>0.640371</td>\n",
       "      <td>0.920000</td>\n",
       "    </tr>\n",
       "  </tbody>\n",
       "</table><p>"
      ],
      "text/plain": [
       "<IPython.core.display.HTML object>"
      ]
     },
     "metadata": {},
     "output_type": "display_data"
    }
   ],
   "source": [
    "for k,v in best_run.hyperparameters.items():\n",
    "    setattr(student_training_args, k, v)\n",
    "\n",
    "# 정제된 모델을 저장할 새로운 저장소를 정의합니다\n",
    "distilled_ckpt = \"distilbert-base-uncased-distilled-clinc\"\n",
    "student_training_args.output_dir = distilled_ckpt\n",
    "\n",
    "# 최적의 매개변수로 새로운 Trainer 생성\n",
    "distil_trainer = DistillationTrainer(model_init=student_init,\n",
    "    teacher_model=teacher_model, args=student_training_args,\n",
    "    train_dataset=clinc_enc['train'], eval_dataset=clinc_enc['validation'],\n",
    "    compute_metrics=compute_metrics, tokenizer=student_tokenizer)\n",
    "\n",
    "distil_trainer.train();"
   ]
  },
  {
   "cell_type": "markdown",
   "id": "93d20d5d",
   "metadata": {},
   "source": [
    "스튜던트의 매개변수 개수는 거의 티처의 절반이지만  \n",
    "티처의 정확도에 버금가는 스튜던트 훈련\n",
    "\n",
    "* 정제 모델 벤치마크 수행하기"
   ]
  },
  {
   "cell_type": "code",
   "execution_count": 72,
   "id": "32e56ab0",
   "metadata": {},
   "outputs": [
    {
     "name": "stderr",
     "output_type": "stream",
     "text": [
      "C:\\Users\\knuyh\\anaconda3\\Lib\\site-packages\\huggingface_hub\\file_download.py:1132: FutureWarning: `resume_download` is deprecated and will be removed in version 1.0.0. Downloads always resume when possible. If you want to force a new download, use `force_download=True`.\n",
      "  warnings.warn(\n"
     ]
    },
    {
     "data": {
      "application/vnd.jupyter.widget-view+json": {
       "model_id": "24551d1f2c9a4ff1b0627cbf3ba5be5f",
       "version_major": 2,
       "version_minor": 0
      },
      "text/plain": [
       "config.json:   0%|          | 0.00/8.21k [00:00<?, ?B/s]"
      ]
     },
     "metadata": {},
     "output_type": "display_data"
    },
    {
     "name": "stderr",
     "output_type": "stream",
     "text": [
      "C:\\Users\\knuyh\\anaconda3\\Lib\\site-packages\\huggingface_hub\\file_download.py:157: UserWarning: `huggingface_hub` cache-system uses symlinks by default to efficiently store duplicated files but your machine does not support them in C:\\Users\\knuyh\\.cache\\huggingface\\hub\\models--transformersbook--distilbert-base-uncased-distilled-clinc. Caching files will still work but in a degraded version that might require more space on your disk. This warning can be disabled by setting the `HF_HUB_DISABLE_SYMLINKS_WARNING` environment variable. For more details, see https://huggingface.co/docs/huggingface_hub/how-to-cache#limitations.\n",
      "To support symlinks on Windows, you either need to activate Developer Mode or to run Python as an administrator. In order to see activate developer mode, see this article: https://docs.microsoft.com/en-us/windows/apps/get-started/enable-your-device-for-development\n",
      "  warnings.warn(message)\n"
     ]
    },
    {
     "data": {
      "application/vnd.jupyter.widget-view+json": {
       "model_id": "cde3e67b8a14447db5c1e96c623f4162",
       "version_major": 2,
       "version_minor": 0
      },
      "text/plain": [
       "pytorch_model.bin:   0%|          | 0.00/268M [00:00<?, ?B/s]"
      ]
     },
     "metadata": {},
     "output_type": "display_data"
    },
    {
     "data": {
      "application/vnd.jupyter.widget-view+json": {
       "model_id": "0fcc4959502c45738dd492a29fb9f3ea",
       "version_major": 2,
       "version_minor": 0
      },
      "text/plain": [
       "tokenizer_config.json:   0%|          | 0.00/333 [00:00<?, ?B/s]"
      ]
     },
     "metadata": {},
     "output_type": "display_data"
    },
    {
     "data": {
      "application/vnd.jupyter.widget-view+json": {
       "model_id": "d9ebe00c8a7c4a569e7142601b6da3bd",
       "version_major": 2,
       "version_minor": 0
      },
      "text/plain": [
       "vocab.txt:   0%|          | 0.00/232k [00:00<?, ?B/s]"
      ]
     },
     "metadata": {},
     "output_type": "display_data"
    },
    {
     "data": {
      "application/vnd.jupyter.widget-view+json": {
       "model_id": "e3c1c5c53917477cba1d037f5dfb480d",
       "version_major": 2,
       "version_minor": 0
      },
      "text/plain": [
       "tokenizer.json:   0%|          | 0.00/466k [00:00<?, ?B/s]"
      ]
     },
     "metadata": {},
     "output_type": "display_data"
    },
    {
     "data": {
      "application/vnd.jupyter.widget-view+json": {
       "model_id": "e73fc002d4ff42c0a3b065f9bf858acb",
       "version_major": 2,
       "version_minor": 0
      },
      "text/plain": [
       "special_tokens_map.json:   0%|          | 0.00/112 [00:00<?, ?B/s]"
      ]
     },
     "metadata": {},
     "output_type": "display_data"
    },
    {
     "name": "stdout",
     "output_type": "stream",
     "text": [
      "모델 크기 (MB) - 255.88\n",
      "평균 레이턴시 (ms) - 27.70 +\\- 2.31\n",
      "테스트 세트 정확도 - 0.868\n"
     ]
    }
   ],
   "source": [
    "pipe = pipeline(\"text-classification\", model=distilled_ckpt)\n",
    "optim_type = \"Distillation\"\n",
    "pb = PerformanceBenchmark(pipe, clinc[\"test\"], optim_type=optim_type)\n",
    "perf_metrics.update(pb.run_benchmark())"
   ]
  },
  {
   "cell_type": "code",
   "execution_count": 73,
   "id": "72d28674",
   "metadata": {},
   "outputs": [
    {
     "data": {
      "image/png": "[encoded data removed]",
      "text/plain": [
       "<Figure size 640x480 with 1 Axes>"
      ]
     },
     "metadata": {},
     "output_type": "display_data"
    }
   ],
   "source": [
    "plot_metrics(perf_metrics, optim_type)"
   ]
  },
  {
   "cell_type": "markdown",
   "id": "9fedc519",
   "metadata": {},
   "source": [
    "모델 크기와 레이턴시는 기본적으로 DistilBERT에 비해 달라지지 않았지만, 정확도는 향상되고 티처의 성능도 뛰어난다.\n",
    "\n",
    "### 양자화로 모델 속도 높이기\n",
    "지식 정제를 사용해 티처의 정보를 작은 스튜던트 모델로 전송해 추론 실행 시, 계산 비용과 메모리 사용량 줄이는 방법  \n",
    "\n",
    "<br>\n",
    "양자화 방식 : 계산량을 줄이는 대신 가중치와 활성화 출력을 32비트 부동 소수점(FP32)이 아닌 8비트 정수(INT8) 같이 정밀도가 낮은 데이터 타입으로 변환해 계산 효율적으로 수행\n",
    "\n",
    "* 아핀 변환 : 고정 소수점 숫자를 역양자화해 부동 소수점으로 되돌려야 하는 매핑"
   ]
  },
  {
   "cell_type": "code",
   "execution_count": 74,
   "id": "6d800505",
   "metadata": {},
   "outputs": [
    {
     "data": {
      "image/png": "[encoded data removed]",
      "text/plain": [
       "<Figure size 640x480 with 1 Axes>"
      ]
     },
     "metadata": {},
     "output_type": "display_data"
    }
   ],
   "source": [
    "state_dict = pipe.model.state_dict()\n",
    "weights = state_dict[\"distilbert.transformer.layer.0.attention.out_lin.weight\"]\n",
    "plt.hist(weights.flatten().numpy(), bins=250, range=(-0.3,0.3), edgecolor=\"C0\")\n",
    "plt.show()"
   ]
  },
  {
   "cell_type": "code",
   "execution_count": 75,
   "id": "9fa8c93e",
   "metadata": {},
   "outputs": [],
   "source": [
    "zero_point = 0\n",
    "scale = (weights.max() - weights.min()) / (127 - (-128))"
   ]
  },
  {
   "cell_type": "code",
   "execution_count": 76,
   "id": "0c14beb2",
   "metadata": {},
   "outputs": [
    {
     "data": {
      "text/plain": [
       "tensor([[ -5,  -8,   0,  ...,  -6,  -4,   8],\n",
       "        [  8,   3,   1,  ...,  -4,   7,   0],\n",
       "        [ -9,  -6,   5,  ...,   1,   5,  -3],\n",
       "        ...,\n",
       "        [  6,   0,  12,  ...,   0,   6,  -1],\n",
       "        [  0,  -2, -12,  ...,  12,  -7, -13],\n",
       "        [-13,  -1, -10,  ...,   8,   2,  -2]], dtype=torch.int8)"
      ]
     },
     "execution_count": 76,
     "metadata": {},
     "output_type": "execute_result"
    }
   ],
   "source": [
    "(weights / scale + zero_point).clamp(-128, 127).round().char()"
   ]
  },
  {
   "cell_type": "code",
   "execution_count": 77,
   "id": "ec428d20",
   "metadata": {},
   "outputs": [
    {
     "data": {
      "text/plain": [
       "tensor([[ -5,  -8,   0,  ...,  -6,  -4,   8],\n",
       "        [  8,   3,   1,  ...,  -4,   7,   0],\n",
       "        [ -9,  -6,   5,  ...,   1,   5,  -3],\n",
       "        ...,\n",
       "        [  6,   0,  12,  ...,   0,   6,  -1],\n",
       "        [  0,  -2, -12,  ...,  12,  -7, -13],\n",
       "        [-13,  -1, -10,  ...,   8,   2,  -2]], dtype=torch.int8)"
      ]
     },
     "execution_count": 77,
     "metadata": {},
     "output_type": "execute_result"
    }
   ],
   "source": [
    "from torch import quantize_per_tensor\n",
    "\n",
    "dtype = torch.qint8\n",
    "quantized_weights = quantize_per_tensor(weights, scale, zero_point, dtype)\n",
    "quantized_weights.int_repr()"
   ]
  },
  {
   "cell_type": "code",
   "execution_count": 78,
   "id": "9ed943e2",
   "metadata": {},
   "outputs": [
    {
     "data": {
      "image/png": "[encoded data removed]",
      "text/plain": [
       "<Figure size 640x480 with 2 Axes>"
      ]
     },
     "metadata": {},
     "output_type": "display_data"
    }
   ],
   "source": [
    "# 트랜스포머 가중치에서 양자화 효과\n",
    "from mpl_toolkits.axes_grid1.inset_locator import zoomed_inset_axes,mark_inset\n",
    "\n",
    "# 히스토그램 그리기\n",
    "fig, ax = plt.subplots()\n",
    "ax.hist(quantized_weights.dequantize().flatten().numpy(),\n",
    "         bins=250, range=(-0.3,0.3), edgecolor=\"C0\");\n",
    "# 확대 그림 만들기\n",
    "axins = zoomed_inset_axes(ax, 5, loc='upper right')\n",
    "axins.hist(quantized_weights.dequantize().flatten().numpy(),\n",
    "         bins=250, range=(-0.3,0.3));\n",
    "x1, x2, y1, y2 = 0.05, 0.1, 500, 2500\n",
    "axins.set_xlim(x1, x2)\n",
    "axins.set_ylim(y1, y2)\n",
    "axins.axes.xaxis.set_visible(False)\n",
    "axins.axes.yaxis.set_visible(False)\n",
    "mark_inset(ax, axins, loc1=2, loc2=4, fc=\"none\", ec=\"0.5\")\n",
    "plt.show()"
   ]
  },
  {
   "cell_type": "code",
   "execution_count": 79,
   "id": "912726a0",
   "metadata": {},
   "outputs": [
    {
     "name": "stdout",
     "output_type": "stream",
     "text": [
      "3.8 ms ± 189 µs per loop (mean ± std. dev. of 7 runs, 100 loops each)\n"
     ]
    }
   ],
   "source": [
    "%%timeit\n",
    "weights @ weights"
   ]
  },
  {
   "cell_type": "code",
   "execution_count": 80,
   "id": "6de3e8e9",
   "metadata": {},
   "outputs": [],
   "source": [
    "from torch.nn.quantized import QFunctional\n",
    "\n",
    "q_fn = QFunctional()"
   ]
  },
  {
   "cell_type": "code",
   "execution_count": 81,
   "id": "8c908bee",
   "metadata": {},
   "outputs": [
    {
     "name": "stdout",
     "output_type": "stream",
     "text": [
      "201 µs ± 3.93 µs per loop (mean ± std. dev. of 7 runs, 1,000 loops each)\n"
     ]
    }
   ],
   "source": [
    "%%timeit\n",
    "q_fn.mul(quantized_weights, quantized_weights)"
   ]
  },
  {
   "cell_type": "code",
   "execution_count": 82,
   "id": "71f0d59a",
   "metadata": {},
   "outputs": [
    {
     "data": {
      "text/plain": [
       "3.999633833760527"
      ]
     },
     "execution_count": 82,
     "metadata": {},
     "output_type": "execute_result"
    }
   ],
   "source": [
    "# 가중치 텐서와 양자화된 텐서 저장크기 비교\n",
    "import sys\n",
    "\n",
    "sys.getsizeof(weights.untyped_storage()) / sys.getsizeof(quantized_weights.untyped_storage())"
   ]
  },
  {
   "cell_type": "markdown",
   "id": "41b32de5",
   "metadata": {},
   "source": [
    "보통 선형 층만 양자화한다.  \n",
    "양자화에서 주의할 점 - 모델에 있는 모든 연산에서 정밀도를 바꾸면 모델의 계산 그래프 각 지점에서 작은 변동 생김\n",
    "<br>\n",
    "\n",
    "[심층 신경망에서 사용하는 양자화 방법]\n",
    "- 동적 양자화\n",
    "    * 훈련 도중에 아무것도 바뀌지 않고 추론 과정에만 적응\n",
    "    * 모델 가중치가 추론 전에 INT8로 변환\n",
    "    * 가중치 외에 모델의 활성화도 양자화되는데, 이 양자화가 즉석에서 일어남\n",
    "    * 부동 소수점 포맷으로 활성화를 메모리에 쓰고 읽어 정수와 부동 소수점 간의 변환이 성능 병목이 되는 경우도 있음\n",
    "    \n",
    "- 정적 양자화\n",
    "    * 즉석에서 활성화를 양자화하지 않고 양자화 체계를 사전에 계산해 부동 소수점 변환을 피함\n",
    "    * 추론에 앞서 대표 샘플 데이터에서 활성화 패턴을 관찰해 수행한 후 이상적인 양자화 체계를 계산해 저장\n",
    "    * 훈련과 추론 과정에서 정밀도 차이로 모델 성능이 떨어짐\n",
    "    \n",
    "- 양자화를 고려한 훈련\n",
    "    * 가짜로 FP32 값을 양자화해 훈련 중에 양자화의 효과 시뮬레이션\n",
    "    * 훈련할 때 INT8 대신 FP32 반올림해 양자화 효과 흉내냄\n",
    "    * 정방향 패스와 역방향 패스에서 모두 적용되며 정적 양자화와 동적 양자화 사용해 모델 성능 향상시킴"
   ]
  },
  {
   "cell_type": "code",
   "execution_count": 83,
   "id": "2aafe52c",
   "metadata": {},
   "outputs": [
    {
     "name": "stderr",
     "output_type": "stream",
     "text": [
      "C:\\Users\\knuyh\\anaconda3\\Lib\\site-packages\\huggingface_hub\\file_download.py:1132: FutureWarning: `resume_download` is deprecated and will be removed in version 1.0.0. Downloads always resume when possible. If you want to force a new download, use `force_download=True`.\n",
      "  warnings.warn(\n"
     ]
    }
   ],
   "source": [
    "# 동적 양자화\n",
    "from torch.quantization import quantize_dynamic\n",
    "\n",
    "model_ckpt = \"transformersbook/distilbert-base-uncased-distilled-clinc\"\n",
    "tokenizer = AutoTokenizer.from_pretrained(model_ckpt)\n",
    "model = (AutoModelForSequenceClassification\n",
    "         .from_pretrained(model_ckpt).to(\"cpu\"))\n",
    "\n",
    "model_quantized = quantize_dynamic(model, {nn.Linear}, dtype=torch.qint8)"
   ]
  },
  {
   "cell_type": "markdown",
   "id": "ab18036f",
   "metadata": {},
   "source": [
    "모델 정확도에 미치는 영향 거의 없음 (양자화 특징)\n",
    "\n",
    "### 양자화된 모델의 벤치마크 수행하기"
   ]
  },
  {
   "cell_type": "code",
   "execution_count": 84,
   "id": "7b2765e9",
   "metadata": {},
   "outputs": [
    {
     "name": "stdout",
     "output_type": "stream",
     "text": [
      "모델 크기 (MB) - 132.39\n",
      "평균 레이턴시 (ms) - 52.44 +\\- 7.29\n",
      "테스트 세트 정확도 - 0.876\n"
     ]
    }
   ],
   "source": [
    "pipe = pipeline(\"text-classification\", model=model_quantized,\n",
    "                tokenizer=tokenizer)\n",
    "optim_type = \"Distillation + quantization\"\n",
    "pb = PerformanceBenchmark(pipe, clinc[\"test\"], optim_type=optim_type)\n",
    "perf_metrics.update(pb.run_benchmark())"
   ]
  },
  {
   "cell_type": "code",
   "execution_count": 85,
   "id": "4338f048",
   "metadata": {},
   "outputs": [
    {
     "data": {
      "image/png": "[encoded data removed]",
      "text/plain": [
       "<Figure size 640x480 with 1 Axes>"
      ]
     },
     "metadata": {},
     "output_type": "display_data"
    }
   ],
   "source": [
    "plot_metrics(perf_metrics, optim_type)"
   ]
  },
  {
   "cell_type": "markdown",
   "id": "dfffeb2f",
   "metadata": {},
   "source": [
    "양자화된 모델의 크기가 정제된 모델의 거의 절반이고 심지어 성능도 약간 향상됐다.\n",
    "\n",
    "### ONNX와 ONNX 런타임으로 추론 최적화하기\n",
    "* ONNX는 변경 불가능한 연산 규격을 그룹화하기 위해 연산자 집합 사용"
   ]
  },
  {
   "cell_type": "code",
   "execution_count": 86,
   "id": "9f128fc7",
   "metadata": {},
   "outputs": [],
   "source": [
    "import os\n",
    "from psutil import cpu_count\n",
    "\n",
    "os.environ[\"OMP_NUM_THREADS\"] = f\"{cpu_count()}\"\n",
    "os.environ[\"OMP_WAIT_POLICY\"] = \"ACTIVE\" # 대기 스레드 활성 상태로 지정(CPU프로세서 사이클 사용)"
   ]
  },
  {
   "cell_type": "code",
   "execution_count": 105,
   "id": "fdda512e",
   "metadata": {},
   "outputs": [
    {
     "name": "stdout",
     "output_type": "stream",
     "text": [
      "ONNX opset version set to: 12\n",
      "Loading pipeline (model: transformersbook/distilbert-base-uncased-distilled-clinc, tokenizer: DistilBertTokenizerFast(name_or_path='transformersbook/distilbert-base-uncased-distilled-clinc', vocab_size=30522, model_max_length=512, is_fast=True, padding_side='right', truncation_side='right', special_tokens={'unk_token': '[UNK]', 'sep_token': '[SEP]', 'pad_token': '[PAD]', 'cls_token': '[CLS]', 'mask_token': '[MASK]'}, clean_up_tokenization_spaces=True),  added_tokens_decoder={\n",
      "\t0: AddedToken(\"[PAD]\", rstrip=False, lstrip=False, single_word=False, normalized=False, special=True),\n",
      "\t100: AddedToken(\"[UNK]\", rstrip=False, lstrip=False, single_word=False, normalized=False, special=True),\n",
      "\t101: AddedToken(\"[CLS]\", rstrip=False, lstrip=False, single_word=False, normalized=False, special=True),\n",
      "\t102: AddedToken(\"[SEP]\", rstrip=False, lstrip=False, single_word=False, normalized=False, special=True),\n",
      "\t103: AddedToken(\"[MASK]\", rstrip=False, lstrip=False, single_word=False, normalized=False, special=True),\n",
      "})\n",
      "Using framework PyTorch: 2.1.0\n",
      "Found input input_ids with shape: {0: 'batch', 1: 'sequence'}\n",
      "Found input attention_mask with shape: {0: 'batch', 1: 'sequence'}\n",
      "Found output output_0 with shape: {0: 'batch'}\n",
      "Ensuring inputs are in correct order\n",
      "head_mask is not present in the generated input list.\n",
      "Generated inputs order: ['input_ids', 'attention_mask']\n"
     ]
    },
    {
     "ename": "AttributeError",
     "evalue": "module 'onnx' has no attribute 'load_model_from_string'",
     "output_type": "error",
     "traceback": [
      "\u001b[1;31m---------------------------------------------------------------------------\u001b[0m",
      "\u001b[1;31mAttributeError\u001b[0m                            Traceback (most recent call last)",
      "Cell \u001b[1;32mIn[105], line 6\u001b[0m\n\u001b[0;32m      4\u001b[0m model_ckpt \u001b[38;5;241m=\u001b[39m \u001b[38;5;124m\"\u001b[39m\u001b[38;5;124mtransformersbook/distilbert-base-uncased-distilled-clinc\u001b[39m\u001b[38;5;124m\"\u001b[39m\n\u001b[0;32m      5\u001b[0m onnx_model_path \u001b[38;5;241m=\u001b[39m \u001b[38;5;124m\"\u001b[39m\u001b[38;5;124monnx/model.onnx\u001b[39m\u001b[38;5;124m\"\u001b[39m\n\u001b[1;32m----> 6\u001b[0m convert(framework\u001b[38;5;241m=\u001b[39m\u001b[38;5;124m\"\u001b[39m\u001b[38;5;124mpt\u001b[39m\u001b[38;5;124m\"\u001b[39m, model\u001b[38;5;241m=\u001b[39mmodel_ckpt, tokenizer\u001b[38;5;241m=\u001b[39mtokenizer,\n\u001b[0;32m      7\u001b[0m         output\u001b[38;5;241m=\u001b[39mPath(onnx_model_path), opset\u001b[38;5;241m=\u001b[39m\u001b[38;5;241m12\u001b[39m, pipeline_name\u001b[38;5;241m=\u001b[39m\u001b[38;5;124m\"\u001b[39m\u001b[38;5;124mtext-classification\u001b[39m\u001b[38;5;124m\"\u001b[39m)\n",
      "File \u001b[1;32m~\\anaconda3\\Lib\\site-packages\\transformers\\convert_graph_to_onnx.py:379\u001b[0m, in \u001b[0;36mconvert\u001b[1;34m(framework, model, output, opset, tokenizer, use_external_format, pipeline_name, **model_kwargs)\u001b[0m\n\u001b[0;32m    377\u001b[0m \u001b[38;5;66;03m# Export the graph\u001b[39;00m\n\u001b[0;32m    378\u001b[0m \u001b[38;5;28;01mif\u001b[39;00m framework \u001b[38;5;241m==\u001b[39m \u001b[38;5;124m\"\u001b[39m\u001b[38;5;124mpt\u001b[39m\u001b[38;5;124m\"\u001b[39m:\n\u001b[1;32m--> 379\u001b[0m     convert_pytorch(nlp, opset, output, use_external_format)\n\u001b[0;32m    380\u001b[0m \u001b[38;5;28;01melse\u001b[39;00m:\n\u001b[0;32m    381\u001b[0m     convert_tensorflow(nlp, opset, output)\n",
      "File \u001b[1;32m~\\anaconda3\\Lib\\site-packages\\transformers\\convert_graph_to_onnx.py:282\u001b[0m, in \u001b[0;36mconvert_pytorch\u001b[1;34m(nlp, opset, output, use_external_format)\u001b[0m\n\u001b[0;32m    279\u001b[0m input_names, output_names, dynamic_axes, tokens \u001b[38;5;241m=\u001b[39m infer_shapes(nlp, \u001b[38;5;124m\"\u001b[39m\u001b[38;5;124mpt\u001b[39m\u001b[38;5;124m\"\u001b[39m)\n\u001b[0;32m    280\u001b[0m ordered_input_names, model_args \u001b[38;5;241m=\u001b[39m ensure_valid_input(nlp\u001b[38;5;241m.\u001b[39mmodel, tokens, input_names)\n\u001b[1;32m--> 282\u001b[0m export(\n\u001b[0;32m    283\u001b[0m     nlp\u001b[38;5;241m.\u001b[39mmodel,\n\u001b[0;32m    284\u001b[0m     model_args,\n\u001b[0;32m    285\u001b[0m     f\u001b[38;5;241m=\u001b[39moutput\u001b[38;5;241m.\u001b[39mas_posix(),\n\u001b[0;32m    286\u001b[0m     input_names\u001b[38;5;241m=\u001b[39mordered_input_names,\n\u001b[0;32m    287\u001b[0m     output_names\u001b[38;5;241m=\u001b[39moutput_names,\n\u001b[0;32m    288\u001b[0m     dynamic_axes\u001b[38;5;241m=\u001b[39mdynamic_axes,\n\u001b[0;32m    289\u001b[0m     do_constant_folding\u001b[38;5;241m=\u001b[39m\u001b[38;5;28;01mTrue\u001b[39;00m,\n\u001b[0;32m    290\u001b[0m     opset_version\u001b[38;5;241m=\u001b[39mopset,\n\u001b[0;32m    291\u001b[0m )\n",
      "File \u001b[1;32m~\\anaconda3\\Lib\\site-packages\\torch\\onnx\\utils.py:516\u001b[0m, in \u001b[0;36mexport\u001b[1;34m(model, args, f, export_params, verbose, training, input_names, output_names, operator_export_type, opset_version, do_constant_folding, dynamic_axes, keep_initializers_as_inputs, custom_opsets, export_modules_as_functions, autograd_inlining)\u001b[0m\n\u001b[0;32m    189\u001b[0m \u001b[38;5;129m@_beartype\u001b[39m\u001b[38;5;241m.\u001b[39mbeartype\n\u001b[0;32m    190\u001b[0m \u001b[38;5;28;01mdef\u001b[39;00m \u001b[38;5;21mexport\u001b[39m(\n\u001b[0;32m    191\u001b[0m     model: Union[torch\u001b[38;5;241m.\u001b[39mnn\u001b[38;5;241m.\u001b[39mModule, torch\u001b[38;5;241m.\u001b[39mjit\u001b[38;5;241m.\u001b[39mScriptModule, torch\u001b[38;5;241m.\u001b[39mjit\u001b[38;5;241m.\u001b[39mScriptFunction],\n\u001b[1;32m   (...)\u001b[0m\n\u001b[0;32m    208\u001b[0m     autograd_inlining: Optional[\u001b[38;5;28mbool\u001b[39m] \u001b[38;5;241m=\u001b[39m \u001b[38;5;28;01mTrue\u001b[39;00m,\n\u001b[0;32m    209\u001b[0m ) \u001b[38;5;241m-\u001b[39m\u001b[38;5;241m>\u001b[39m \u001b[38;5;28;01mNone\u001b[39;00m:\n\u001b[0;32m    210\u001b[0m \u001b[38;5;250m    \u001b[39m\u001b[38;5;124mr\u001b[39m\u001b[38;5;124;03m\"\"\"Exports a model into ONNX format.\u001b[39;00m\n\u001b[0;32m    211\u001b[0m \n\u001b[0;32m    212\u001b[0m \u001b[38;5;124;03m    If ``model`` is not a :class:`torch.jit.ScriptModule` nor a\u001b[39;00m\n\u001b[1;32m   (...)\u001b[0m\n\u001b[0;32m    513\u001b[0m \u001b[38;5;124;03m            All errors are subclasses of :class:`errors.OnnxExporterError`.\u001b[39;00m\n\u001b[0;32m    514\u001b[0m \u001b[38;5;124;03m    \"\"\"\u001b[39;00m\n\u001b[1;32m--> 516\u001b[0m     _export(\n\u001b[0;32m    517\u001b[0m         model,\n\u001b[0;32m    518\u001b[0m         args,\n\u001b[0;32m    519\u001b[0m         f,\n\u001b[0;32m    520\u001b[0m         export_params,\n\u001b[0;32m    521\u001b[0m         verbose,\n\u001b[0;32m    522\u001b[0m         training,\n\u001b[0;32m    523\u001b[0m         input_names,\n\u001b[0;32m    524\u001b[0m         output_names,\n\u001b[0;32m    525\u001b[0m         operator_export_type\u001b[38;5;241m=\u001b[39moperator_export_type,\n\u001b[0;32m    526\u001b[0m         opset_version\u001b[38;5;241m=\u001b[39mopset_version,\n\u001b[0;32m    527\u001b[0m         do_constant_folding\u001b[38;5;241m=\u001b[39mdo_constant_folding,\n\u001b[0;32m    528\u001b[0m         dynamic_axes\u001b[38;5;241m=\u001b[39mdynamic_axes,\n\u001b[0;32m    529\u001b[0m         keep_initializers_as_inputs\u001b[38;5;241m=\u001b[39mkeep_initializers_as_inputs,\n\u001b[0;32m    530\u001b[0m         custom_opsets\u001b[38;5;241m=\u001b[39mcustom_opsets,\n\u001b[0;32m    531\u001b[0m         export_modules_as_functions\u001b[38;5;241m=\u001b[39mexport_modules_as_functions,\n\u001b[0;32m    532\u001b[0m         autograd_inlining\u001b[38;5;241m=\u001b[39mautograd_inlining,\n\u001b[0;32m    533\u001b[0m     )\n",
      "File \u001b[1;32m~\\anaconda3\\Lib\\site-packages\\torch\\onnx\\utils.py:1670\u001b[0m, in \u001b[0;36m_export\u001b[1;34m(model, args, f, export_params, verbose, training, input_names, output_names, operator_export_type, export_type, opset_version, do_constant_folding, dynamic_axes, keep_initializers_as_inputs, fixed_batch_size, custom_opsets, add_node_names, onnx_shape_inference, export_modules_as_functions, autograd_inlining)\u001b[0m\n\u001b[0;32m   1651\u001b[0m     (\n\u001b[0;32m   1652\u001b[0m         proto,\n\u001b[0;32m   1653\u001b[0m         export_map,\n\u001b[1;32m   (...)\u001b[0m\n\u001b[0;32m   1667\u001b[0m         node_attr_to_name,\n\u001b[0;32m   1668\u001b[0m     )\n\u001b[0;32m   1669\u001b[0m \u001b[38;5;66;03m# insert function_proto into model_proto.\u001b[39;00m\n\u001b[1;32m-> 1670\u001b[0m proto \u001b[38;5;241m=\u001b[39m onnx_proto_utils\u001b[38;5;241m.\u001b[39m_add_onnxscript_fn(\n\u001b[0;32m   1671\u001b[0m     proto,\n\u001b[0;32m   1672\u001b[0m     custom_opsets,\n\u001b[0;32m   1673\u001b[0m )\n\u001b[0;32m   1674\u001b[0m \u001b[38;5;28;01mif\u001b[39;00m verbose:\n\u001b[0;32m   1675\u001b[0m     torch\u001b[38;5;241m.\u001b[39monnx\u001b[38;5;241m.\u001b[39mlog(\u001b[38;5;124m\"\u001b[39m\u001b[38;5;124mExported graph: \u001b[39m\u001b[38;5;124m\"\u001b[39m, graph)\n",
      "File \u001b[1;32m~\\anaconda3\\Lib\\site-packages\\torch\\onnx\\_internal\\onnx_proto_utils.py:230\u001b[0m, in \u001b[0;36m_add_onnxscript_fn\u001b[1;34m(model_bytes, custom_opsets)\u001b[0m\n\u001b[0;32m    223\u001b[0m     \u001b[38;5;28;01mraise\u001b[39;00m errors\u001b[38;5;241m.\u001b[39mOnnxExporterError(\u001b[38;5;124m\"\u001b[39m\u001b[38;5;124mModule onnx is not installed!\u001b[39m\u001b[38;5;124m\"\u001b[39m) \u001b[38;5;28;01mfrom\u001b[39;00m \u001b[38;5;21;01me\u001b[39;00m\n\u001b[0;32m    225\u001b[0m \u001b[38;5;66;03m# For > 2GB model, onnx.load_fromstring would fail. However, because\u001b[39;00m\n\u001b[0;32m    226\u001b[0m \u001b[38;5;66;03m# in _export_onnx, the tensors should be saved separately if the proto\u001b[39;00m\n\u001b[0;32m    227\u001b[0m \u001b[38;5;66;03m# size > 2GB, and if it for some reason did not, the model would fail on\u001b[39;00m\n\u001b[0;32m    228\u001b[0m \u001b[38;5;66;03m# serialization anyway in terms of the protobuf limitation. So we don't\u001b[39;00m\n\u001b[0;32m    229\u001b[0m \u001b[38;5;66;03m# need to worry about > 2GB model getting here.\u001b[39;00m\n\u001b[1;32m--> 230\u001b[0m model_proto \u001b[38;5;241m=\u001b[39m onnx\u001b[38;5;241m.\u001b[39mload_model_from_string(model_bytes)  \u001b[38;5;66;03m# type: ignore[attr-defined]\u001b[39;00m\n\u001b[0;32m    232\u001b[0m \u001b[38;5;66;03m# Iterate graph nodes to insert only the included custom\u001b[39;00m\n\u001b[0;32m    233\u001b[0m \u001b[38;5;66;03m# function_proto into model_proto\u001b[39;00m\n\u001b[0;32m    234\u001b[0m \u001b[38;5;66;03m# TODO(titaiwang): Currently, onnxscript doesn't support ONNXFunction\u001b[39;00m\n\u001b[0;32m    235\u001b[0m \u001b[38;5;66;03m# calling other ONNXFunction scenario, neither does it here\u001b[39;00m\n\u001b[0;32m    236\u001b[0m onnx_function_list \u001b[38;5;241m=\u001b[39m \u001b[38;5;28mlist\u001b[39m()  \u001b[38;5;66;03m# type: ignore[var-annotated]\u001b[39;00m\n",
      "\u001b[1;31mAttributeError\u001b[0m: module 'onnx' has no attribute 'load_model_from_string'"
     ]
    }
   ],
   "source": [
    "import onnx\n",
    "from transformers.convert_graph_to_onnx import convert\n",
    "\n",
    "model_ckpt = \"transformersbook/distilbert-base-uncased-distilled-clinc\"\n",
    "onnx_model_path = \"onnx/model.onnx\"\n",
    "convert(framework=\"pt\", model=model_ckpt, tokenizer=tokenizer,\n",
    "        output=Path(onnx_model_path), opset=12, pipeline_name=\"text-classification\")"
   ]
  },
  {
   "cell_type": "code",
   "execution_count": 111,
   "id": "3d9216fd",
   "metadata": {},
   "outputs": [],
   "source": [
    "from onnxruntime import (GraphOptimizationLevel, InferenceSession,\n",
    "                         SessionOptions)\n",
    "\n",
    "def create_model_for_provider(model_path, provider=\"CPUExecutionProvider\"):\n",
    "    options = SessionOptions()\n",
    "    options.intra_op_num_threads = 1\n",
    "    options.graph_optimization_level = GraphOptimizationLevel.ORT_ENABLE_ALL\n",
    "    session = InferenceSession(str(model_path), options, providers=[provider])\n",
    "    session.disable_fallback()\n",
    "    return session"
   ]
  },
  {
   "cell_type": "code",
   "execution_count": null,
   "id": "7917ec0b",
   "metadata": {},
   "outputs": [],
   "source": [
    "onnx_model = create_model_for_provider(onnx_model_path)"
   ]
  },
  {
   "cell_type": "code",
   "execution_count": null,
   "id": "0b462838",
   "metadata": {},
   "outputs": [],
   "source": [
    "inputs = clinc_enc[\"test\"][:1]\n",
    "del inputs[\"labels\"]\n",
    "logits_onnx = onnx_model.run(None, inputs)[0]\n",
    "logits_onnx.shape  # (1, 151)"
   ]
  },
  {
   "cell_type": "code",
   "execution_count": null,
   "id": "ecf746c3",
   "metadata": {},
   "outputs": [],
   "source": [
    "np.argmax(logits_onnx) # 예측  61"
   ]
  },
  {
   "cell_type": "code",
   "execution_count": null,
   "id": "c094dd20",
   "metadata": {},
   "outputs": [],
   "source": [
    "clinc_enc[\"test\"][0][\"labels\"] # 정답  61"
   ]
  },
  {
   "cell_type": "code",
   "execution_count": 113,
   "id": "05f3aea5",
   "metadata": {},
   "outputs": [],
   "source": [
    "from scipy.special import softmax\n",
    "\n",
    "class OnnxPipeline:\n",
    "    def __init__(self, model, tokenizer):\n",
    "        self.model = model\n",
    "        self.tokenizer = tokenizer\n",
    "\n",
    "    def __call__(self, query):\n",
    "        model_inputs = self.tokenizer(query, return_tensors=\"pt\")\n",
    "        inputs_onnx = {k: v.cpu().detach().numpy()\n",
    "                       for k, v in model_inputs.items()}\n",
    "        logits = self.model.run(None, inputs_onnx)[0][0, :]\n",
    "        probs = softmax(logits)\n",
    "        pred_idx = np.argmax(probs).item()\n",
    "        return [{\"label\": intents.int2str(pred_idx), \"score\": probs[pred_idx]}]"
   ]
  },
  {
   "cell_type": "code",
   "execution_count": null,
   "id": "78213247",
   "metadata": {},
   "outputs": [],
   "source": [
    "pipe = OnnxPipeline(onnx_model, tokenizer)\n",
    "pipe(query)\n",
    "# [{'label': 'car_rental', 'score': 0.57666945}]"
   ]
  },
  {
   "cell_type": "code",
   "execution_count": 114,
   "id": "43b847bc",
   "metadata": {},
   "outputs": [],
   "source": [
    "class OnnxPerformanceBenchmark(PerformanceBenchmark):\n",
    "    def __init__(self, *args, model_path, **kwargs):\n",
    "        super().__init__(*args, **kwargs)\n",
    "        self.model_path = model_path\n",
    "\n",
    "    def compute_size(self):\n",
    "        size_mb = Path(self.model_path).stat().st_size / (1024 * 1024)\n",
    "        print(f\"모델 크기 (MB) - {size_mb:.2f}\")\n",
    "        return {\"size_mb\": size_mb}"
   ]
  },
  {
   "cell_type": "code",
   "execution_count": null,
   "id": "37c865dd",
   "metadata": {},
   "outputs": [],
   "source": [
    "optim_type = \"Distillation + ORT\"\n",
    "pb = OnnxPerformanceBenchmark(pipe, clinc[\"test\"], optim_type,\n",
    "                              model_path=\"onnx/model.onnx\")\n",
    "perf_metrics.update(pb.run_benchmark())"
   ]
  },
  {
   "cell_type": "code",
   "execution_count": null,
   "id": "de490f2f",
   "metadata": {},
   "outputs": [],
   "source": [
    "plot_metrics(perf_metrics, optim_type)"
   ]
  },
  {
   "attachments": {
    "image.png": {
     "image/png": "[encoded data removed]"
    }
   },
   "cell_type": "markdown",
   "id": "02b78956",
   "metadata": {},
   "source": [
    "![image.png](attachment:image.png)\n",
    "\n",
    "레이턴시 향상됨\n",
    "\n",
    "ORT모델을 양자화하기 위해 세 가지 방법 제공  \n",
    "이 중 정제 모델에 동적 양자화 적용"
   ]
  },
  {
   "cell_type": "code",
   "execution_count": null,
   "id": "c50c64f3",
   "metadata": {},
   "outputs": [],
   "source": [
    "from onnxruntime.quantization import quantize_dynamic, QuantType\n",
    "\n",
    "model_input = \"onnx/model.onnx\"\n",
    "model_output = \"onnx/model.quant.onnx\"\n",
    "quantize_dynamic(model_input, model_output, weight_type=QuantType.QInt8)"
   ]
  },
  {
   "cell_type": "code",
   "execution_count": null,
   "id": "7f59ebb3",
   "metadata": {},
   "outputs": [],
   "source": [
    "onnx_quantized_model = create_model_for_provider(model_output)\n",
    "pipe = OnnxPipeline(onnx_quantized_model, tokenizer)\n",
    "optim_type = \"Distillation + ORT (quantized)\"\n",
    "pb = OnnxPerformanceBenchmark(pipe, clinc[\"test\"], optim_type,\n",
    "                              model_path=model_output)\n",
    "perf_metrics.update(pb.run_benchmark())"
   ]
  },
  {
   "cell_type": "code",
   "execution_count": null,
   "id": "01edbf68",
   "metadata": {},
   "outputs": [],
   "source": [
    "plot_metrics(perf_metrics, optim_type)"
   ]
  },
  {
   "attachments": {
    "image.png": {
     "image/png": "[encoded data removed]"
    }
   },
   "cell_type": "markdown",
   "id": "f0b89e57",
   "metadata": {},
   "source": [
    "![image.png](attachment:image.png)\n",
    "\n",
    "ORT 양자화는 일반 양자화로 얻은 모델(Distillation+quantization)에 비해 모델 크기와 레이턴시 30% 가량 줄임  \n",
    "ONNX는 임베딩 층도 양자화하기 때문\n",
    "\n",
    "### 가중치 가지치기로 희소한 모델 만들기\n",
    "양자화 같은 방법은 표현 정밀도를 낮춰 모델 크기를 줄인다.  \n",
    "* 가중치 가지치기 : 일부 가중치를 제거해 크기를 줄이는 전략\n",
    "    * 절댓값 가지치기 : 가중치 절댓값 크기에 따라 점수 계산\n",
    "        * 계산량이 많다.\n",
    "        * 두 개의 가중치 클러스터 만듦\n",
    "        * 각 가중치의 중요도가 현재 작업과 직접적으로 관련된 순수한 지도 학습을 위해 고안됐다는 문제\n",
    "        * 미세 튜닝 작업에서 중요한 가중치 삭제될 가능성\n",
    "    * 이동 가지치기 : 미세 튜닝하는 동안 점진적으로 가중치 제거해 모델을 점차 희소하게 만듦\n",
    "        * 미세 튜닝동안 가중치와 점수 모두 학습됨\n",
    "        * 완만한 분포 만듦"
   ]
  },
  {
   "cell_type": "code",
   "execution_count": 115,
   "id": "ad4fffad",
   "metadata": {},
   "outputs": [
    {
     "data": {
      "image/png": "[encoded data removed]",
      "text/plain": [
       "<Figure size 640x480 with 1 Axes>"
      ]
     },
     "metadata": {},
     "output_type": "display_data"
    }
   ],
   "source": [
    "# 절댓값 가지치기에 사용되는 세제곱 희소성 스케줄러\n",
    "def _sparsity(t, t_0=0, dt=1, s_i=0, s_f=0.9, N=100):\n",
    "    return s_f + (s_i - s_f) * (1 - (t - t_0) / (N * dt))**3\n",
    "\n",
    "steps = np.linspace(0,100,100)\n",
    "values = [_sparsity(t) for t in steps]\n",
    "\n",
    "fig, ax = plt.subplots()\n",
    "ax.plot(steps, values)\n",
    "ax.set_ylim(0,1)\n",
    "ax.set_xlim(0,100)\n",
    "ax.set_xlabel(\"Pruning step\")\n",
    "ax.set_ylabel(\"Sparsity\")\n",
    "plt.grid(linestyle=\"dashed\")\n",
    "plt.show()"
   ]
  },
  {
   "cell_type": "code",
   "execution_count": null,
   "id": "22e13211",
   "metadata": {},
   "outputs": [],
   "source": []
  }
 ],
 "metadata": {
  "kernelspec": {
   "display_name": "Python 3 (ipykernel)",
   "language": "python",
   "name": "python3"
  },
  "language_info": {
   "codemirror_mode": {
    "name": "ipython",
    "version": 3
   },
   "file_extension": ".py",
   "mimetype": "text/x-python",
   "name": "python",
   "nbconvert_exporter": "python",
   "pygments_lexer": "ipython3",
   "version": "3.11.4"
  }
 },
 "nbformat": 4,
 "nbformat_minor": 5
}
