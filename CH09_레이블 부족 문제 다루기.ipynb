{
 "cells": [
  {
   "cell_type": "markdown",
   "id": "056081e0",
   "metadata": {},
   "source": [
    "### 깃허브 이슈 태거 만들기\n",
    "이슈에 여러 개의 레이블을 할당할 수 있으므로 **다중 레이블 텍스트 분류** 문제\n",
    "\n",
    "* 데이터 준비하기"
   ]
  },
  {
   "cell_type": "code",
   "execution_count": 1,
   "id": "9dadd5ba",
   "metadata": {},
   "outputs": [],
   "source": [
    "import os\n",
    "os.environ['KMP_DUPLICATE_LIB_OK'] = 'True'"
   ]
  },
  {
   "cell_type": "code",
   "execution_count": 2,
   "id": "aeb6edb9",
   "metadata": {},
   "outputs": [
    {
     "name": "stderr",
     "output_type": "stream",
     "text": [
      "C:\\Users\\knuyh\\anaconda3\\Lib\\site-packages\\pandas\\core\\arrays\\masked.py:60: UserWarning: Pandas requires version '1.3.6' or newer of 'bottleneck' (version '1.3.5' currently installed).\n",
      "  from pandas.core import (\n"
     ]
    }
   ],
   "source": [
    "import time\n",
    "import math\n",
    "import requests\n",
    "from pathlib import Path\n",
    "import pandas as pd\n",
    "from tqdm.auto import tqdm\n",
    "\n",
    "def fetch_issues(owner=\"huggingface\", repo=\"transformers\", num_issues=10_000,\n",
    "                 rate_limit=5_000):\n",
    "    batch = []\n",
    "    all_issues = []\n",
    "    per_page = 100     # 페이지마다 반환되는 이슈 개수\n",
    "    num_pages = math.ceil(num_issues / per_page)\n",
    "    base_url = \"https://api.github.com/repos\"\n",
    "\n",
    "    for page in tqdm(range(num_pages)):\n",
    "        # 오픈 이슈와 클로즈 이슈를 모두 가져오기 위해 state=all로 쿼리합니다.\n",
    "        query = f\"issues?page={page}&per_page={per_page}&state=all\"\n",
    "        issues = requests.get(f\"{base_url}/{owner}/{repo}/{query}\")\n",
    "        batch.extend(issues.json())\n",
    "\n",
    "        if len(batch) > rate_limit and len(all_issues) < num_issues:\n",
    "            all_issues.extend(batch)\n",
    "            batch = []   # 다음 번 요청을 위해 비웁니다.\n",
    "            print(f\"깃허브 요청 한도에 도달했습니다. 한 시간 동안 중지합니다...\")\n",
    "            time.sleep(60 * 60 + 1)\n",
    "\n",
    "    all_issues.extend(batch)\n",
    "    df = pd.DataFrame.from_records(all_issues)\n",
    "    df.to_json(f\"github-issues-{repo}.jsonl\", orient=\"records\", lines=True)"
   ]
  },
  {
   "cell_type": "code",
   "execution_count": 7,
   "id": "72de622c",
   "metadata": {},
   "outputs": [
    {
     "name": "stdout",
     "output_type": "stream",
     "text": [
      "데이터프레임 크기: (9930, 26)\n"
     ]
    }
   ],
   "source": [
    "import pandas as pd\n",
    "\n",
    "dataset_url = \"https://git.io/nlp-with-transformers\"\n",
    "df_issues = pd.read_json(dataset_url, lines=True)\n",
    "print(f\"데이터프레임 크기: {df_issues.shape}\")"
   ]
  },
  {
   "cell_type": "code",
   "execution_count": 8,
   "id": "ccfaf503",
   "metadata": {},
   "outputs": [
    {
     "data": {
      "text/html": [
       "<div>\n",
       "<style scoped>\n",
       "    .dataframe tbody tr th:only-of-type {\n",
       "        vertical-align: middle;\n",
       "    }\n",
       "\n",
       "    .dataframe tbody tr th {\n",
       "        vertical-align: top;\n",
       "    }\n",
       "\n",
       "    .dataframe thead th {\n",
       "        text-align: right;\n",
       "    }\n",
       "</style>\n",
       "<table border=\"1\" class=\"dataframe\">\n",
       "  <thead>\n",
       "    <tr style=\"text-align: right;\">\n",
       "      <th></th>\n",
       "      <th>2</th>\n",
       "    </tr>\n",
       "  </thead>\n",
       "  <tbody>\n",
       "    <tr>\n",
       "      <th>url</th>\n",
       "      <td>https://api.github.com/repos/huggingface/trans...</td>\n",
       "    </tr>\n",
       "    <tr>\n",
       "      <th>id</th>\n",
       "      <td>849529761</td>\n",
       "    </tr>\n",
       "    <tr>\n",
       "      <th>title</th>\n",
       "      <td>[DeepSpeed] ZeRO stage 3 integration: getting ...</td>\n",
       "    </tr>\n",
       "    <tr>\n",
       "      <th>user</th>\n",
       "      <td>{'login': 'stas00', 'id': 10676103, 'node_id':...</td>\n",
       "    </tr>\n",
       "    <tr>\n",
       "      <th>labels</th>\n",
       "      <td>[{'id': 2659267025, 'node_id': 'MDU6TGFiZWwyNj...</td>\n",
       "    </tr>\n",
       "    <tr>\n",
       "      <th>state</th>\n",
       "      <td>open</td>\n",
       "    </tr>\n",
       "    <tr>\n",
       "      <th>created_at</th>\n",
       "      <td>2021-04-02 23:40:42</td>\n",
       "    </tr>\n",
       "    <tr>\n",
       "      <th>body</th>\n",
       "      <td>**[This is not yet alive, preparing for the re...</td>\n",
       "    </tr>\n",
       "  </tbody>\n",
       "</table>\n",
       "</div>"
      ],
      "text/plain": [
       "                                                            2\n",
       "url         https://api.github.com/repos/huggingface/trans...\n",
       "id                                                  849529761\n",
       "title       [DeepSpeed] ZeRO stage 3 integration: getting ...\n",
       "user        {'login': 'stas00', 'id': 10676103, 'node_id':...\n",
       "labels      [{'id': 2659267025, 'node_id': 'MDU6TGFiZWwyNj...\n",
       "state                                                    open\n",
       "created_at                                2021-04-02 23:40:42\n",
       "body        **[This is not yet alive, preparing for the re..."
      ]
     },
     "execution_count": 8,
     "metadata": {},
     "output_type": "execute_result"
    }
   ],
   "source": [
    "cols = [\"url\", \"id\", \"title\", \"user\", \"labels\", \"state\", \"created_at\", \"body\"]\n",
    "df_issues.loc[2, cols].to_frame()"
   ]
  },
  {
   "cell_type": "code",
   "execution_count": 9,
   "id": "e21b7a0b",
   "metadata": {},
   "outputs": [
    {
     "data": {
      "text/html": [
       "<div>\n",
       "<style scoped>\n",
       "    .dataframe tbody tr th:only-of-type {\n",
       "        vertical-align: middle;\n",
       "    }\n",
       "\n",
       "    .dataframe tbody tr th {\n",
       "        vertical-align: top;\n",
       "    }\n",
       "\n",
       "    .dataframe thead th {\n",
       "        text-align: right;\n",
       "    }\n",
       "</style>\n",
       "<table border=\"1\" class=\"dataframe\">\n",
       "  <thead>\n",
       "    <tr style=\"text-align: right;\">\n",
       "      <th></th>\n",
       "      <th>labels</th>\n",
       "    </tr>\n",
       "  </thead>\n",
       "  <tbody>\n",
       "    <tr>\n",
       "      <th>0</th>\n",
       "      <td>[]</td>\n",
       "    </tr>\n",
       "    <tr>\n",
       "      <th>1</th>\n",
       "      <td>[]</td>\n",
       "    </tr>\n",
       "    <tr>\n",
       "      <th>2</th>\n",
       "      <td>[DeepSpeed]</td>\n",
       "    </tr>\n",
       "    <tr>\n",
       "      <th>3</th>\n",
       "      <td>[]</td>\n",
       "    </tr>\n",
       "    <tr>\n",
       "      <th>4</th>\n",
       "      <td>[]</td>\n",
       "    </tr>\n",
       "  </tbody>\n",
       "</table>\n",
       "</div>"
      ],
      "text/plain": [
       "        labels\n",
       "0           []\n",
       "1           []\n",
       "2  [DeepSpeed]\n",
       "3           []\n",
       "4           []"
      ]
     },
     "execution_count": 9,
     "metadata": {},
     "output_type": "execute_result"
    }
   ],
   "source": [
    "df_issues[\"labels\"] = (df_issues[\"labels\"]\n",
    "                       .apply(lambda x: [meta[\"name\"] for meta in x]))\n",
    "df_issues[[\"labels\"]].head()\n",
    "# labels 열에 있는 각 행은 깃허브 레이블의 리스트"
   ]
  },
  {
   "cell_type": "code",
   "execution_count": 10,
   "id": "d096c787",
   "metadata": {},
   "outputs": [
    {
     "data": {
      "text/html": [
       "<div>\n",
       "<style scoped>\n",
       "    .dataframe tbody tr th:only-of-type {\n",
       "        vertical-align: middle;\n",
       "    }\n",
       "\n",
       "    .dataframe tbody tr th {\n",
       "        vertical-align: top;\n",
       "    }\n",
       "\n",
       "    .dataframe thead th {\n",
       "        text-align: right;\n",
       "    }\n",
       "</style>\n",
       "<table border=\"1\" class=\"dataframe\">\n",
       "  <thead>\n",
       "    <tr style=\"text-align: right;\">\n",
       "      <th>labels</th>\n",
       "      <th>0</th>\n",
       "      <th>1</th>\n",
       "      <th>2</th>\n",
       "      <th>3</th>\n",
       "      <th>4</th>\n",
       "      <th>5</th>\n",
       "    </tr>\n",
       "  </thead>\n",
       "  <tbody>\n",
       "    <tr>\n",
       "      <th>count</th>\n",
       "      <td>6440</td>\n",
       "      <td>3057</td>\n",
       "      <td>305</td>\n",
       "      <td>100</td>\n",
       "      <td>25</td>\n",
       "      <td>3</td>\n",
       "    </tr>\n",
       "  </tbody>\n",
       "</table>\n",
       "</div>"
      ],
      "text/plain": [
       "labels     0     1    2    3   4  5\n",
       "count   6440  3057  305  100  25  3"
      ]
     },
     "execution_count": 10,
     "metadata": {},
     "output_type": "execute_result"
    }
   ],
   "source": [
    "df_issues[\"labels\"].apply(lambda x : len(x)).value_counts().to_frame().T"
   ]
  },
  {
   "cell_type": "code",
   "execution_count": 11,
   "id": "5d80cda6",
   "metadata": {},
   "outputs": [
    {
     "name": "stdout",
     "output_type": "stream",
     "text": [
      "레이블 개수: 65\n"
     ]
    },
    {
     "data": {
      "text/html": [
       "<div>\n",
       "<style scoped>\n",
       "    .dataframe tbody tr th:only-of-type {\n",
       "        vertical-align: middle;\n",
       "    }\n",
       "\n",
       "    .dataframe tbody tr th {\n",
       "        vertical-align: top;\n",
       "    }\n",
       "\n",
       "    .dataframe thead th {\n",
       "        text-align: right;\n",
       "    }\n",
       "</style>\n",
       "<table border=\"1\" class=\"dataframe\">\n",
       "  <thead>\n",
       "    <tr style=\"text-align: right;\">\n",
       "      <th>labels</th>\n",
       "      <th>wontfix</th>\n",
       "      <th>model card</th>\n",
       "      <th>Core: Tokenization</th>\n",
       "      <th>New model</th>\n",
       "      <th>Core: Modeling</th>\n",
       "      <th>Help wanted</th>\n",
       "      <th>Good First Issue</th>\n",
       "      <th>Usage</th>\n",
       "    </tr>\n",
       "  </thead>\n",
       "  <tbody>\n",
       "    <tr>\n",
       "      <th>count</th>\n",
       "      <td>2284</td>\n",
       "      <td>649</td>\n",
       "      <td>106</td>\n",
       "      <td>98</td>\n",
       "      <td>64</td>\n",
       "      <td>52</td>\n",
       "      <td>50</td>\n",
       "      <td>46</td>\n",
       "    </tr>\n",
       "  </tbody>\n",
       "</table>\n",
       "</div>"
      ],
      "text/plain": [
       "labels  wontfix  model card  Core: Tokenization  New model  Core: Modeling  \\\n",
       "count      2284         649                 106         98              64   \n",
       "\n",
       "labels  Help wanted  Good First Issue  Usage  \n",
       "count            52                50     46  "
      ]
     },
     "execution_count": 11,
     "metadata": {},
     "output_type": "execute_result"
    }
   ],
   "source": [
    "df_counts = df_issues[\"labels\"].explode().value_counts()\n",
    "print(f\"레이블 개수: {len(df_counts)}\")\n",
    "# 상위 8개 레이블\n",
    "df_counts.to_frame().head(8).T"
   ]
  },
  {
   "cell_type": "code",
   "execution_count": 12,
   "id": "9bf61fc7",
   "metadata": {},
   "outputs": [],
   "source": [
    "# 클래스 불균형으로 맞춰줌\n",
    "label_map = {\"Core: Tokenization\": \"tokenization\",\n",
    "             \"New model\": \"new model\",\n",
    "             \"Core: Modeling\": \"model training\",\n",
    "             \"Usage\": \"usage\",\n",
    "             \"Core: Pipeline\": \"pipeline\",\n",
    "             \"TensorFlow\": \"tensorflow or tf\",\n",
    "             \"PyTorch\": \"pytorch\",\n",
    "             \"Examples\": \"examples\",\n",
    "             \"Documentation\": \"documentation\"}\n",
    "\n",
    "def filter_labels(x):\n",
    "    return [label_map[label] for label in x if label in label_map]\n",
    "\n",
    "df_issues[\"labels\"] = df_issues[\"labels\"].apply(filter_labels)\n",
    "all_labels = list(label_map.values())"
   ]
  },
  {
   "cell_type": "code",
   "execution_count": 13,
   "id": "b3e884c0",
   "metadata": {},
   "outputs": [
    {
     "data": {
      "text/html": [
       "<div>\n",
       "<style scoped>\n",
       "    .dataframe tbody tr th:only-of-type {\n",
       "        vertical-align: middle;\n",
       "    }\n",
       "\n",
       "    .dataframe tbody tr th {\n",
       "        vertical-align: top;\n",
       "    }\n",
       "\n",
       "    .dataframe thead th {\n",
       "        text-align: right;\n",
       "    }\n",
       "</style>\n",
       "<table border=\"1\" class=\"dataframe\">\n",
       "  <thead>\n",
       "    <tr style=\"text-align: right;\">\n",
       "      <th>labels</th>\n",
       "      <th>tokenization</th>\n",
       "      <th>new model</th>\n",
       "      <th>model training</th>\n",
       "      <th>usage</th>\n",
       "      <th>pipeline</th>\n",
       "      <th>tensorflow or tf</th>\n",
       "      <th>pytorch</th>\n",
       "      <th>documentation</th>\n",
       "      <th>examples</th>\n",
       "    </tr>\n",
       "  </thead>\n",
       "  <tbody>\n",
       "    <tr>\n",
       "      <th>count</th>\n",
       "      <td>106</td>\n",
       "      <td>98</td>\n",
       "      <td>64</td>\n",
       "      <td>46</td>\n",
       "      <td>42</td>\n",
       "      <td>41</td>\n",
       "      <td>37</td>\n",
       "      <td>28</td>\n",
       "      <td>24</td>\n",
       "    </tr>\n",
       "  </tbody>\n",
       "</table>\n",
       "</div>"
      ],
      "text/plain": [
       "labels  tokenization  new model  model training  usage  pipeline  \\\n",
       "count            106         98              64     46        42   \n",
       "\n",
       "labels  tensorflow or tf  pytorch  documentation  examples  \n",
       "count                 41       37             28        24  "
      ]
     },
     "execution_count": 13,
     "metadata": {},
     "output_type": "execute_result"
    }
   ],
   "source": [
    "df_counts = df_issues[\"labels\"].explode().value_counts()\n",
    "df_counts.to_frame().T"
   ]
  },
  {
   "cell_type": "code",
   "execution_count": 14,
   "id": "0d5d9161",
   "metadata": {},
   "outputs": [
    {
     "data": {
      "text/html": [
       "<div>\n",
       "<style scoped>\n",
       "    .dataframe tbody tr th:only-of-type {\n",
       "        vertical-align: middle;\n",
       "    }\n",
       "\n",
       "    .dataframe tbody tr th {\n",
       "        vertical-align: top;\n",
       "    }\n",
       "\n",
       "    .dataframe thead th {\n",
       "        text-align: right;\n",
       "    }\n",
       "</style>\n",
       "<table border=\"1\" class=\"dataframe\">\n",
       "  <thead>\n",
       "    <tr style=\"text-align: right;\">\n",
       "      <th></th>\n",
       "      <th>count</th>\n",
       "    </tr>\n",
       "    <tr>\n",
       "      <th>split</th>\n",
       "      <th></th>\n",
       "    </tr>\n",
       "  </thead>\n",
       "  <tbody>\n",
       "    <tr>\n",
       "      <th>unlabeled</th>\n",
       "      <td>9489</td>\n",
       "    </tr>\n",
       "    <tr>\n",
       "      <th>labeled</th>\n",
       "      <td>441</td>\n",
       "    </tr>\n",
       "  </tbody>\n",
       "</table>\n",
       "</div>"
      ],
      "text/plain": [
       "           count\n",
       "split           \n",
       "unlabeled   9489\n",
       "labeled      441"
      ]
     },
     "execution_count": 14,
     "metadata": {},
     "output_type": "execute_result"
    }
   ],
   "source": [
    "# 이슈에 레이블 유무\n",
    "df_issues[\"split\"] = \"unlabeled\"\n",
    "mask = df_issues[\"labels\"].apply(lambda x: len(x)) > 0\n",
    "df_issues.loc[mask, \"split\"] = \"labeled\"\n",
    "df_issues[\"split\"].value_counts().to_frame()"
   ]
  },
  {
   "cell_type": "code",
   "execution_count": 15,
   "id": "01277f6e",
   "metadata": {},
   "outputs": [
    {
     "name": "stdout",
     "output_type": "stream",
     "text": [
      "title: Add new CANINE model\n",
      "\n",
      "body: # 🌟 New model addition\r\n",
      "\r\n",
      "## Model description\r\n",
      "\r\n",
      "Google recently proposed a new **C**haracter **A**rchitecture with **N**o tokenization **I**n **N**eural **E**ncoders architecture (CANINE). Not only the title is exciting:\r\n",
      "\r\n",
      "> Pipelined NLP systems have largely been superseded by end-to-end neural modeling, yet nearly all commonly-used models still require an explicit tokenization step. While recent tokenization approaches based on data-derived subword lexicons are less brittle than manually en\n",
      "\n",
      "labels: ['new model']\n",
      "\n"
     ]
    }
   ],
   "source": [
    "for column in [\"title\", \"body\", \"labels\"]:\n",
    "    print(f\"{column}: {df_issues[column].iloc[26][:500]}\\n\")\n",
    "# 새로운 모델 구조 제안 : new model 태그"
   ]
  },
  {
   "cell_type": "code",
   "execution_count": 16,
   "id": "111fa792",
   "metadata": {},
   "outputs": [],
   "source": [
    "df_issues[\"text\"] = (df_issues\n",
    "                     .apply(lambda x: x[\"title\"] + \"\\n\\n\" + x[\"body\"], axis=1))"
   ]
  },
  {
   "cell_type": "code",
   "execution_count": 17,
   "id": "496b1835",
   "metadata": {},
   "outputs": [
    {
     "name": "stdout",
     "output_type": "stream",
     "text": [
      "삭제된 중복 이슈: 1.88%\n"
     ]
    }
   ],
   "source": [
    "len_before = len(df_issues)\n",
    "df_issues = df_issues.drop_duplicates(subset=\"text\")\n",
    "print(f\"삭제된 중복 이슈: {(len_before-len(df_issues))/len_before:.2%}\")"
   ]
  },
  {
   "cell_type": "code",
   "execution_count": 18,
   "id": "8cc00f4a",
   "metadata": {},
   "outputs": [
    {
     "data": {
      "image/png": "[encoded data removed]",
      "text/plain": [
       "<Figure size 640x480 with 1 Axes>"
      ]
     },
     "metadata": {},
     "output_type": "display_data"
    }
   ],
   "source": [
    "import numpy as np\n",
    "import matplotlib.pyplot as plt\n",
    "\n",
    "(df_issues[\"text\"].str.split().apply(len)\n",
    " .hist(bins=np.linspace(0, 500, 50), grid=False, edgecolor=\"C0\"))\n",
    "plt.title(\"Words per issue\")\n",
    "plt.xlabel(\"Number of words\")\n",
    "plt.ylabel(\"Number of issues\")\n",
    "plt.show()"
   ]
  },
  {
   "cell_type": "markdown",
   "id": "954f2d9d",
   "metadata": {},
   "source": [
    "대부분의 텍스트가 매우 짧지만, 500단어가 넘는 이슈도 있다. (에러 메시지나 코드를 함께 포스팅한 경우)  \n",
    "트랜스포머 모델의 문맥 크기는 512 개 토큰이나 그 이상이기에 일부 긴 이슈를 잘라내는 것이 전체 성능에 영향을 미칠 것 같지 않다.\n",
    "\n",
    "* 훈련 세트 만들기"
   ]
  },
  {
   "cell_type": "code",
   "execution_count": 19,
   "id": "8e7fb382",
   "metadata": {},
   "outputs": [
    {
     "data": {
      "text/plain": [
       "array([[0, 0, 0, 1, 0, 0, 0, 1, 0],\n",
       "       [0, 0, 0, 0, 0, 1, 0, 0, 0]])"
      ]
     },
     "execution_count": 19,
     "metadata": {},
     "output_type": "execute_result"
    }
   ],
   "source": [
    "from sklearn.preprocessing import MultiLabelBinarizer\n",
    "\n",
    "mlb = MultiLabelBinarizer()\n",
    "mlb.fit([all_labels])\n",
    "mlb.transform([[\"tokenization\", \"new model\"], [\"pytorch\"]])"
   ]
  },
  {
   "cell_type": "code",
   "execution_count": 20,
   "id": "6dbc14da",
   "metadata": {},
   "outputs": [],
   "source": [
    "from skmultilearn.model_selection import iterative_train_test_split\n",
    "\n",
    "def balanced_split(df, test_size=0.5):\n",
    "    ind = np.expand_dims(np.arange(len(df)), axis=1)\n",
    "    labels = mlb.transform(df[\"labels\"])\n",
    "    ind_train, _, ind_test, _ = iterative_train_test_split(ind, labels,\n",
    "                                                           test_size)\n",
    "    return df.iloc[ind_train[:, 0]], df.iloc[ind_test[:,0]]"
   ]
  },
  {
   "cell_type": "code",
   "execution_count": 21,
   "id": "f3ca2606",
   "metadata": {},
   "outputs": [],
   "source": [
    "from sklearn.model_selection import train_test_split\n",
    "\n",
    "df_clean = df_issues[[\"text\", \"labels\", \"split\"]].reset_index(drop=True).copy()\n",
    "df_unsup = df_clean.loc[df_clean[\"split\"] == \"unlabeled\", [\"text\", \"labels\"]]\n",
    "df_sup = df_clean.loc[df_clean[\"split\"] == \"labeled\", [\"text\", \"labels\"]]\n",
    "\n",
    "np.random.seed(0)\n",
    "df_train, df_tmp = balanced_split(df_sup, test_size=0.5)\n",
    "df_valid, df_test = balanced_split(df_tmp, test_size=0.5)"
   ]
  },
  {
   "cell_type": "code",
   "execution_count": 22,
   "id": "a4794148",
   "metadata": {},
   "outputs": [],
   "source": [
    "from datasets import Dataset, DatasetDict\n",
    "\n",
    "ds = DatasetDict({\n",
    "    \"train\": Dataset.from_pandas(df_train.reset_index(drop=True)),\n",
    "    \"valid\": Dataset.from_pandas(df_valid.reset_index(drop=True)),\n",
    "    \"test\": Dataset.from_pandas(df_test.reset_index(drop=True)),\n",
    "    \"unsup\": Dataset.from_pandas(df_unsup.reset_index(drop=True))})"
   ]
  },
  {
   "cell_type": "markdown",
   "id": "60185392",
   "metadata": {},
   "source": [
    "* 훈련 슬라이스 만들기  \n",
    "\n",
    "훈련셋은 단 220개 샘플로 매우 적음, 샘플 개수가 더 적은 훈련 데이터의 슬라이스로 만들어 샘플 개수에 대한 성능을 그래프로 그려 성능 확인"
   ]
  },
  {
   "cell_type": "code",
   "execution_count": 23,
   "id": "9c2e642c",
   "metadata": {},
   "outputs": [],
   "source": [
    "np.random.seed(0)\n",
    "all_indices = np.expand_dims(list(range(len(ds[\"train\"]))), axis=1)\n",
    "indices_pool = all_indices\n",
    "labels = mlb.transform(ds[\"train\"][\"labels\"])\n",
    "train_samples = [8, 16, 32, 64, 128]\n",
    "train_slices, last_k = [], 0\n",
    "\n",
    "for i, k in enumerate(train_samples):\n",
    "    # 다음 슬라이스 크기를 채우는데 필요한 샘플 분할\n",
    "    indices_pool, labels, new_slice, _ = iterative_train_test_split(\n",
    "        indices_pool, labels, (k-last_k)/len(labels))\n",
    "    last_k = k\n",
    "    if i==0: train_slices.append(new_slice)\n",
    "    else: train_slices.append(np.concatenate((train_slices[-1], new_slice)))\n",
    "\n",
    "\n",
    "train_slices.append(all_indices), train_samples.append(len(ds[\"train\"]))\n",
    "\n",
    "train_slices = [np.squeeze(train_slice) for train_slice in train_slices]"
   ]
  },
  {
   "cell_type": "code",
   "execution_count": 24,
   "id": "e4664ca8",
   "metadata": {},
   "outputs": [
    {
     "name": "stdout",
     "output_type": "stream",
     "text": [
      "목표 분할 크기:\n",
      "[8, 16, 32, 64, 128, 223]\n",
      "실제 분할 크기:\n",
      "[10, 19, 36, 68, 134, 223]\n"
     ]
    }
   ],
   "source": [
    "print(\"목표 분할 크기:\")\n",
    "print(train_samples)\n",
    "print(\"실제 분할 크기:\")\n",
    "print([len(x) for x in train_slices])"
   ]
  },
  {
   "cell_type": "markdown",
   "id": "367b7d75",
   "metadata": {},
   "source": [
    "### 나이브 베이즈 모델 만들기\n",
    "* 정규 표현식, 수동 규칙 또는 매우 간단한 모델을 기반으로 하는 기준 모델이 실제로 문제를 잘 해결한다. 트랜스포머 같은 모델은 제품 환경에 배포하고 유지 관리가 대체로 더 복잡하다.\n",
    "* 복잡한 모델을 탐색할 때 기준 모델이 간단한 검증 역할을 한다. BERT-large 모델을 훈련하고 검증셋에서 80% 정확도를 얻었다고 할때, 어려운 데이터셋이라 생각하고 끝낼지도 모른다. 하지만 로지스틱 회귀 같은 간단한 분류기가 95% 정확도 달성했다면, 모델에 버그가 있는지 의심하고 디버깅하게 된다.\n",
    "\n",
    "<br>\n",
    "\n",
    "* 텍스트 분류의 경우 좋은 기준점은 나이브 베이즈 분류기이다.\n",
    "    * 간단하고 훈련 속도가 빠르며 입력의 변동에 매우 안정적"
   ]
  },
  {
   "cell_type": "code",
   "execution_count": 25,
   "id": "3a35120d",
   "metadata": {
    "scrolled": true
   },
   "outputs": [
    {
     "data": {
      "application/vnd.jupyter.widget-view+json": {
       "model_id": "42d34efedbae4fd3a4c47220bea8274b",
       "version_major": 2,
       "version_minor": 0
      },
      "text/plain": [
       "Map:   0%|          | 0/223 [00:00<?, ? examples/s]"
      ]
     },
     "metadata": {},
     "output_type": "display_data"
    },
    {
     "data": {
      "application/vnd.jupyter.widget-view+json": {
       "model_id": "85d55863c5c14b5a8b22745f5bdfdd9a",
       "version_major": 2,
       "version_minor": 0
      },
      "text/plain": [
       "Map:   0%|          | 0/106 [00:00<?, ? examples/s]"
      ]
     },
     "metadata": {},
     "output_type": "display_data"
    },
    {
     "data": {
      "application/vnd.jupyter.widget-view+json": {
       "model_id": "a30af3807c1345c680f1ac5536fb51c9",
       "version_major": 2,
       "version_minor": 0
      },
      "text/plain": [
       "Map:   0%|          | 0/111 [00:00<?, ? examples/s]"
      ]
     },
     "metadata": {},
     "output_type": "display_data"
    },
    {
     "data": {
      "application/vnd.jupyter.widget-view+json": {
       "model_id": "f8f0be98ba82429bb758725ab791286b",
       "version_major": 2,
       "version_minor": 0
      },
      "text/plain": [
       "Map:   0%|          | 0/9303 [00:00<?, ? examples/s]"
      ]
     },
     "metadata": {},
     "output_type": "display_data"
    }
   ],
   "source": [
    "def prepare_labels(batch):\n",
    "    batch[\"label_ids\"] = mlb.transform(batch[\"labels\"])\n",
    "    return batch\n",
    "\n",
    "ds = ds.map(prepare_labels, batched=True)"
   ]
  },
  {
   "cell_type": "code",
   "execution_count": 26,
   "id": "e78b0e98",
   "metadata": {},
   "outputs": [],
   "source": [
    "from collections import defaultdict\n",
    "\n",
    "macro_scores, micro_scores = defaultdict(list), defaultdict(list)"
   ]
  },
  {
   "cell_type": "code",
   "execution_count": 27,
   "id": "bd79b8d0",
   "metadata": {},
   "outputs": [],
   "source": [
    "from sklearn.naive_bayes import MultinomialNB\n",
    "from sklearn.metrics import classification_report\n",
    "from skmultilearn.problem_transform import BinaryRelevance\n",
    "from sklearn.feature_extraction.text import CountVectorizer\n",
    "\n",
    "# 단어 순서 정보가 모두 없어짐 : BoW\n",
    "for train_slice in train_slices:\n",
    "    # 훈련 슬라이스와 테스트 데이터\n",
    "    ds_train_sample = ds[\"train\"].select(train_slice)\n",
    "    y_train = np.array(ds_train_sample[\"label_ids\"])\n",
    "    y_test = np.array(ds[\"test\"][\"label_ids\"])\n",
    "    # 간단한 CountVectorizer를 사용해 텍스트를 토큰 카운트로 인코딩\n",
    "    count_vect = CountVectorizer()\n",
    "    X_train_counts = count_vect.fit_transform(ds_train_sample[\"text\"])\n",
    "    X_test_counts = count_vect.transform(ds[\"test\"][\"text\"])\n",
    "    # 훈련\n",
    "    classifier = BinaryRelevance(classifier=MultinomialNB())\n",
    "    classifier.fit(X_train_counts, y_train)\n",
    "    # 예측 생성 및 평가\n",
    "    y_pred_test = classifier.predict(X_test_counts)\n",
    "    clf_report = classification_report(\n",
    "        y_test, y_pred_test, target_names=mlb.classes_, zero_division=0,\n",
    "        output_dict=True)\n",
    "    # 결과 저장\n",
    "    macro_scores[\"Naive Bayes\"].append(clf_report[\"macro avg\"][\"f1-score\"])\n",
    "    micro_scores[\"Naive Bayes\"].append(clf_report[\"micro avg\"][\"f1-score\"])"
   ]
  },
  {
   "cell_type": "code",
   "execution_count": 28,
   "id": "3286068d",
   "metadata": {},
   "outputs": [],
   "source": [
    "import matplotlib.pyplot as plt\n",
    "\n",
    "def plot_metrics(micro_scores, macro_scores, sample_sizes, current_model):\n",
    "    fig, (ax0, ax1) = plt.subplots(1, 2, figsize=(10, 4), sharey=True)\n",
    "\n",
    "    for run in micro_scores.keys():\n",
    "        if run == current_model:\n",
    "            ax0.plot(sample_sizes, micro_scores[run], label=run, linewidth=2)\n",
    "            ax1.plot(sample_sizes, macro_scores[run], label=run, linewidth=2)\n",
    "        else:\n",
    "            ax0.plot(sample_sizes, micro_scores[run], label=run,\n",
    "                     linestyle=\"dashed\")\n",
    "            ax1.plot(sample_sizes, macro_scores[run], label=run,\n",
    "                     linestyle=\"dashed\")\n",
    "\n",
    "    ax0.set_title(\"Micro F1 scores\")\n",
    "    ax1.set_title(\"Macro F1 scores\")\n",
    "    ax0.set_ylabel(\"Test set F1 score\")\n",
    "    ax0.legend(loc=\"lower right\")\n",
    "    for ax in [ax0, ax1]:\n",
    "        ax.set_xlabel(\"Number of training samples\")\n",
    "        ax.set_xscale(\"log\")\n",
    "        ax.set_xticks(sample_sizes)\n",
    "        ax.set_xticklabels(sample_sizes)\n",
    "        ax.minorticks_off()\n",
    "    plt.tight_layout()\n",
    "    plt.show()"
   ]
  },
  {
   "cell_type": "code",
   "execution_count": 31,
   "id": "5b2cbc95",
   "metadata": {},
   "outputs": [
    {
     "data": {
      "image/png": "[encoded data removed]",
      "text/plain": [
       "<Figure size 1000x400 with 2 Axes>"
      ]
     },
     "metadata": {},
     "output_type": "display_data"
    }
   ],
   "source": [
    "plot_metrics(micro_scores, macro_scores, train_samples, \"Naive Bayes\")"
   ]
  },
  {
   "cell_type": "markdown",
   "id": "de3c4b0c",
   "metadata": {},
   "source": [
    "훈련 샘플 개수의 증가에 따라 두 점수 모두 향상\n",
    "\n",
    "### 레이블이 없는 데이터 다루기\n",
    "* 레이블링된 데이터가 전혀 없을 때 : 제로샷 분류\n",
    "    * 작업별 말뭉치에서 추가로 미세 튜닝하지 않고 사전 훈련된 모델을 사용하는 것이 목표"
   ]
  },
  {
   "cell_type": "code",
   "execution_count": 28,
   "id": "ef46a1ce",
   "metadata": {},
   "outputs": [
    {
     "name": "stderr",
     "output_type": "stream",
     "text": [
      "C:\\Users\\knuyh\\anaconda3\\Lib\\site-packages\\huggingface_hub\\file_download.py:1132: FutureWarning: `resume_download` is deprecated and will be removed in version 1.0.0. Downloads always resume when possible. If you want to force a new download, use `force_download=True`.\n",
      "  warnings.warn(\n"
     ]
    },
    {
     "name": "stdout",
     "output_type": "stream",
     "text": [
      "WARNING:tensorflow:From C:\\Users\\knuyh\\anaconda3\\Lib\\site-packages\\tf_keras\\src\\losses.py:2976: The name tf.losses.sparse_softmax_cross_entropy is deprecated. Please use tf.compat.v1.losses.sparse_softmax_cross_entropy instead.\n",
      "\n"
     ]
    },
    {
     "name": "stderr",
     "output_type": "stream",
     "text": [
      "Some weights of the model checkpoint at bert-base-uncased were not used when initializing BertForMaskedLM: ['bert.pooler.dense.bias', 'bert.pooler.dense.weight', 'cls.seq_relationship.bias', 'cls.seq_relationship.weight']\n",
      "- This IS expected if you are initializing BertForMaskedLM from the checkpoint of a model trained on another task or with another architecture (e.g. initializing a BertForSequenceClassification model from a BertForPreTraining model).\n",
      "- This IS NOT expected if you are initializing BertForMaskedLM from the checkpoint of a model that you expect to be exactly identical (initializing a BertForSequenceClassification model from a BertForSequenceClassification model).\n"
     ]
    }
   ],
   "source": [
    "from transformers import pipeline\n",
    "\n",
    "pipe = pipeline(\"fill-mask\", model=\"bert-base-uncased\")"
   ]
  },
  {
   "cell_type": "code",
   "execution_count": 33,
   "id": "ae4e2fe3",
   "metadata": {},
   "outputs": [
    {
     "name": "stdout",
     "output_type": "stream",
     "text": [
      "토큰 animals:\t0.103%\n",
      "토큰 lions:\t0.066%\n",
      "토큰 birds:\t0.025%\n",
      "토큰 love:\t0.015%\n",
      "토큰 hunting:\t0.013%\n"
     ]
    }
   ],
   "source": [
    "movie_desc = \"The main characters of the movie madacascar \\\n",
    "are a lion, a zebra, a giraffe, and a hippo. \"\n",
    "prompt = \"The movie is about [MASK].\"\n",
    "\n",
    "output = pipe(movie_desc + prompt)\n",
    "for element in output:\n",
    "    print(f\"토큰 {element['token_str']}:\\t{element['score']:.3f}%\")\n",
    "    \n",
    "# fill-mask 파이프라인은 마스킹된 위치에 놓기에 가장 가능성이 높은 토큰 반환"
   ]
  },
  {
   "cell_type": "code",
   "execution_count": 34,
   "id": "dedff5e5",
   "metadata": {},
   "outputs": [
    {
     "name": "stdout",
     "output_type": "stream",
     "text": [
      "토큰 animals:\t0.103%\n",
      "토큰 cars:\t0.001%\n"
     ]
    }
   ],
   "source": [
    "# 가장 가능성이 높은 토큰을 얻는 대신 주어진 토큰에 대한 확률 출력\n",
    "output = pipe(movie_desc + prompt, targets=[\"animals\", \"cars\"])\n",
    "for element in output:\n",
    "    print(f\"토큰 {element['token_str']}:\\t{element['score']:.3f}%\")"
   ]
  },
  {
   "cell_type": "code",
   "execution_count": 35,
   "id": "d0fb6d29",
   "metadata": {},
   "outputs": [
    {
     "name": "stdout",
     "output_type": "stream",
     "text": [
      "토큰 cars:\t0.139%\n",
      "토큰 animals:\t0.006%\n"
     ]
    }
   ],
   "source": [
    "movie_desc = \"In the movie transformers aliens \\\n",
    "can morph into a wide range of vehicles.\"\n",
    "\n",
    "output = pipe(movie_desc + prompt, targets=[\"animals\", \"cars\"])\n",
    "for element in output:\n",
    "    print(f\"토큰 {element['token_str']}:\\t{element['score']:.3f}%\")    "
   ]
  },
  {
   "cell_type": "markdown",
   "id": "6adb6674",
   "metadata": {},
   "source": [
    "텍스트 함의 : 모델이 두 개의 텍스트 구절이 서로 연결되는지 모순되는지 판단  \n",
    "각 샘플은 전제(premise) / 가설(hypothesis) / 레이블 으로 구성  \n",
    "\n",
    "    * 레이블은 entailment / neutral / contradiction\n",
    "        * entailment : 전제 조건하에서 가설 텍스트가 참일 때 할당\n",
    "        * contradiction : 전제 조건하에서 가설 텍스트가 거짓이거나 부적합일 때 할당\n",
    "        * neutral : 두 경우에 해당하지 않을 때 할당"
   ]
  },
  {
   "cell_type": "code",
   "execution_count": 36,
   "id": "96b1e3ae",
   "metadata": {},
   "outputs": [
    {
     "name": "stderr",
     "output_type": "stream",
     "text": [
      "No model was supplied, defaulted to facebook/bart-large-mnli and revision c626438 (https://huggingface.co/facebook/bart-large-mnli).\n",
      "Using a pipeline without specifying a model name and revision in production is not recommended.\n",
      "C:\\Users\\knuyh\\anaconda3\\Lib\\site-packages\\huggingface_hub\\file_download.py:1132: FutureWarning: `resume_download` is deprecated and will be removed in version 1.0.0. Downloads always resume when possible. If you want to force a new download, use `force_download=True`.\n",
      "  warnings.warn(\n"
     ]
    },
    {
     "data": {
      "application/vnd.jupyter.widget-view+json": {
       "model_id": "b7925147f91c4af7aed5515a11c58539",
       "version_major": 2,
       "version_minor": 0
      },
      "text/plain": [
       "config.json:   0%|          | 0.00/1.15k [00:00<?, ?B/s]"
      ]
     },
     "metadata": {},
     "output_type": "display_data"
    },
    {
     "name": "stderr",
     "output_type": "stream",
     "text": [
      "C:\\Users\\knuyh\\anaconda3\\Lib\\site-packages\\huggingface_hub\\file_download.py:157: UserWarning: `huggingface_hub` cache-system uses symlinks by default to efficiently store duplicated files but your machine does not support them in C:\\Users\\knuyh\\.cache\\huggingface\\hub\\models--facebook--bart-large-mnli. Caching files will still work but in a degraded version that might require more space on your disk. This warning can be disabled by setting the `HF_HUB_DISABLE_SYMLINKS_WARNING` environment variable. For more details, see https://huggingface.co/docs/huggingface_hub/how-to-cache#limitations.\n",
      "To support symlinks on Windows, you either need to activate Developer Mode or to run Python as an administrator. In order to see activate developer mode, see this article: https://docs.microsoft.com/en-us/windows/apps/get-started/enable-your-device-for-development\n",
      "  warnings.warn(message)\n"
     ]
    },
    {
     "data": {
      "application/vnd.jupyter.widget-view+json": {
       "model_id": "313d60ed7e104b0188515037568ee4a1",
       "version_major": 2,
       "version_minor": 0
      },
      "text/plain": [
       "model.safetensors:   0%|          | 0.00/1.63G [00:00<?, ?B/s]"
      ]
     },
     "metadata": {},
     "output_type": "display_data"
    },
    {
     "data": {
      "application/vnd.jupyter.widget-view+json": {
       "model_id": "87537d2ba33949e6ad03660808e6b748",
       "version_major": 2,
       "version_minor": 0
      },
      "text/plain": [
       "tokenizer_config.json:   0%|          | 0.00/26.0 [00:00<?, ?B/s]"
      ]
     },
     "metadata": {},
     "output_type": "display_data"
    },
    {
     "data": {
      "application/vnd.jupyter.widget-view+json": {
       "model_id": "19856e47eb2a4a2c9c6772e570ce3cc1",
       "version_major": 2,
       "version_minor": 0
      },
      "text/plain": [
       "vocab.json:   0%|          | 0.00/899k [00:00<?, ?B/s]"
      ]
     },
     "metadata": {},
     "output_type": "display_data"
    },
    {
     "data": {
      "application/vnd.jupyter.widget-view+json": {
       "model_id": "c2ac81090620457790ed8d20dcf180df",
       "version_major": 2,
       "version_minor": 0
      },
      "text/plain": [
       "merges.txt:   0%|          | 0.00/456k [00:00<?, ?B/s]"
      ]
     },
     "metadata": {},
     "output_type": "display_data"
    },
    {
     "data": {
      "application/vnd.jupyter.widget-view+json": {
       "model_id": "cd2d988c5e2847feba537f1b4e50aed0",
       "version_major": 2,
       "version_minor": 0
      },
      "text/plain": [
       "tokenizer.json:   0%|          | 0.00/1.36M [00:00<?, ?B/s]"
      ]
     },
     "metadata": {},
     "output_type": "display_data"
    }
   ],
   "source": [
    "# 제로샷 분류를 위한 MNLI 모델\n",
    "from transformers import pipeline\n",
    "\n",
    "pipe = pipeline('zero-shot-classification')"
   ]
  },
  {
   "cell_type": "code",
   "execution_count": 37,
   "id": "ced15310",
   "metadata": {},
   "outputs": [
    {
     "name": "stdout",
     "output_type": "stream",
     "text": [
      "레이블: ['new model']\n",
      "Add new CANINE model\n",
      "\n",
      "# 🌟 New model addition\n",
      "\n",
      "## Model description\n",
      "\n",
      "Google recently proposed a new **C**haracter **A**rchitecture with **N**o tokenization **I**n **N**eural **E**ncoders architecture (CANINE). Not only the title is exciting:\n",
      "\n",
      "> Pipelined NLP systems have largely been superseded by end-to-end neural modeling, yet nearly all commonly-used models still require an explicit tokeni\n",
      "\n",
      "예측:\n",
      "new model, 0.98\n",
      "tensorflow or tf, 0.37\n",
      "examples, 0.34\n",
      "usage, 0.30\n",
      "pytorch, 0.25\n",
      "documentation, 0.25\n",
      "model training, 0.24\n",
      "tokenization, 0.17\n",
      "pipeline, 0.16\n"
     ]
    }
   ],
   "source": [
    "sample = ds[\"train\"][0]\n",
    "print(f\"레이블: {sample['labels']}\")\n",
    "output = pipe(sample[\"text\"], all_labels, multi_label=True) # 단일 레이블 분류를 위한 최댓값이 아닌 모든 점수 반환(multi_label=T)\n",
    "print(output[\"sequence\"][:400])\n",
    "print(\"\\n예측:\")\n",
    "\n",
    "for label, score in zip(output[\"labels\"], output[\"scores\"]):\n",
    "    print(f\"{label}, {score:.2f}\")"
   ]
  },
  {
   "cell_type": "code",
   "execution_count": 38,
   "id": "fa9e7716",
   "metadata": {},
   "outputs": [
    {
     "data": {
      "application/vnd.jupyter.widget-view+json": {
       "model_id": "eeff7ceef0cf4c948307a9c8fe07bb42",
       "version_major": 2,
       "version_minor": 0
      },
      "text/plain": [
       "Map:   0%|          | 0/106 [00:00<?, ? examples/s]"
      ]
     },
     "metadata": {},
     "output_type": "display_data"
    }
   ],
   "source": [
    "def zero_shot_pipeline(example):\n",
    "    output = pipe(example[\"text\"], all_labels, multi_label=True)\n",
    "    example[\"predicted_labels\"] = output[\"labels\"]\n",
    "    example[\"scores\"] = output[\"scores\"]\n",
    "    return example\n",
    "\n",
    "ds_zero_shot = ds[\"valid\"].map(zero_shot_pipeline)"
   ]
  },
  {
   "cell_type": "markdown",
   "id": "3994f494",
   "metadata": {},
   "source": [
    "샘플마다 어떤 레이블 할당할지  \n",
    "선택지 1 ) 임계값 정의하고 이 임계값 초과한 모든 레이블 선택  \n",
    "선택지 2 ) 점수가 높은 순으로 상위 k개 레이블 선택"
   ]
  },
  {
   "cell_type": "code",
   "execution_count": 39,
   "id": "662ea5db",
   "metadata": {},
   "outputs": [],
   "source": [
    "def get_preds(example, threshold=None, topk=None):\n",
    "    preds = []\n",
    "    if threshold:\n",
    "        for label, score in zip(example[\"predicted_labels\"], example[\"scores\"]):\n",
    "            if score >= threshold:\n",
    "                preds.append(label)\n",
    "    elif topk:\n",
    "        for i in range(topk):\n",
    "            preds.append(example[\"predicted_labels\"][i])\n",
    "    else:\n",
    "        raise ValueError(\"`threshold` 또는 `topk`로 지정해야 합니다.\")\n",
    "    return {\"pred_label_ids\": list(np.squeeze(mlb.transform([preds])))}"
   ]
  },
  {
   "cell_type": "code",
   "execution_count": 41,
   "id": "64c2adc9",
   "metadata": {},
   "outputs": [],
   "source": [
    "def get_clf_report(ds):\n",
    "    y_true = np.array(ds[\"label_ids\"])\n",
    "    y_pred = np.array(ds[\"pred_label_ids\"])\n",
    "    return classification_report(\n",
    "        y_true, y_pred, target_names=mlb.classes_, zero_division=0,\n",
    "        output_dict=True)"
   ]
  },
  {
   "cell_type": "code",
   "execution_count": 42,
   "id": "42d13e20",
   "metadata": {},
   "outputs": [
    {
     "data": {
      "application/vnd.jupyter.widget-view+json": {
       "model_id": "557ee9806051447988aa7c06247026f9",
       "version_major": 2,
       "version_minor": 0
      },
      "text/plain": [
       "Map:   0%|          | 0/106 [00:00<?, ? examples/s]"
      ]
     },
     "metadata": {},
     "output_type": "display_data"
    },
    {
     "data": {
      "application/vnd.jupyter.widget-view+json": {
       "model_id": "88725f28054948bfaaa1825a5a1175cf",
       "version_major": 2,
       "version_minor": 0
      },
      "text/plain": [
       "Map:   0%|          | 0/106 [00:00<?, ? examples/s]"
      ]
     },
     "metadata": {},
     "output_type": "display_data"
    },
    {
     "data": {
      "application/vnd.jupyter.widget-view+json": {
       "model_id": "477224d3b0694632832b3bf7efb1da2c",
       "version_major": 2,
       "version_minor": 0
      },
      "text/plain": [
       "Map:   0%|          | 0/106 [00:00<?, ? examples/s]"
      ]
     },
     "metadata": {},
     "output_type": "display_data"
    },
    {
     "data": {
      "application/vnd.jupyter.widget-view+json": {
       "model_id": "9d967b5e2a0245d5a921c3aa7553dc28",
       "version_major": 2,
       "version_minor": 0
      },
      "text/plain": [
       "Map:   0%|          | 0/106 [00:00<?, ? examples/s]"
      ]
     },
     "metadata": {},
     "output_type": "display_data"
    }
   ],
   "source": [
    "macros, micros = [], []\n",
    "topks = [1, 2, 3, 4]\n",
    "for topk in topks:\n",
    "    ds_zero_shot = ds_zero_shot.map(get_preds, batched=False,\n",
    "                                    fn_kwargs={'topk': topk})\n",
    "    clf_report = get_clf_report(ds_zero_shot)\n",
    "    micros.append(clf_report['micro avg']['f1-score'])\n",
    "    macros.append(clf_report['macro avg']['f1-score'])"
   ]
  },
  {
   "cell_type": "code",
   "execution_count": 43,
   "id": "e949b86d",
   "metadata": {},
   "outputs": [
    {
     "data": {
      "image/png": "[encoded data removed]",
      "text/plain": [
       "<Figure size 640x480 with 1 Axes>"
      ]
     },
     "metadata": {},
     "output_type": "display_data"
    }
   ],
   "source": [
    "plt.plot(topks, micros, label = 'Micro F1')\n",
    "plt.plot(topks, macros, label = 'Macro F1')\n",
    "plt.xlabel('Top-k')\n",
    "plt.ylabel('F1-score')\n",
    "plt.legend(loc='best')\n",
    "plt.show()"
   ]
  },
  {
   "cell_type": "markdown",
   "id": "df8c3d04",
   "metadata": {},
   "source": [
    "샘플당 점수가 가장 높은 레이블을 선택하는 방식이 최상의 결과를 냈다."
   ]
  },
  {
   "cell_type": "code",
   "execution_count": 44,
   "id": "f7ee9c8a",
   "metadata": {},
   "outputs": [
    {
     "data": {
      "application/vnd.jupyter.widget-view+json": {
       "model_id": "f9071a8eeee54e129dd5149c215530a7",
       "version_major": 2,
       "version_minor": 0
      },
      "text/plain": [
       "Map:   0%|          | 0/106 [00:00<?, ? examples/s]"
      ]
     },
     "metadata": {},
     "output_type": "display_data"
    },
    {
     "data": {
      "application/vnd.jupyter.widget-view+json": {
       "model_id": "2652e6b355fc4602b583dbb26d1da5a5",
       "version_major": 2,
       "version_minor": 0
      },
      "text/plain": [
       "Map:   0%|          | 0/106 [00:00<?, ? examples/s]"
      ]
     },
     "metadata": {},
     "output_type": "display_data"
    },
    {
     "data": {
      "application/vnd.jupyter.widget-view+json": {
       "model_id": "ea551842e83d49af84cfbcb22883c45e",
       "version_major": 2,
       "version_minor": 0
      },
      "text/plain": [
       "Map:   0%|          | 0/106 [00:00<?, ? examples/s]"
      ]
     },
     "metadata": {},
     "output_type": "display_data"
    },
    {
     "data": {
      "application/vnd.jupyter.widget-view+json": {
       "model_id": "68a9de556d634c33bb5bb3a05f6c5951",
       "version_major": 2,
       "version_minor": 0
      },
      "text/plain": [
       "Map:   0%|          | 0/106 [00:00<?, ? examples/s]"
      ]
     },
     "metadata": {},
     "output_type": "display_data"
    },
    {
     "data": {
      "application/vnd.jupyter.widget-view+json": {
       "model_id": "06afd0a2d69745648f2f4cd8fa6bdb7b",
       "version_major": 2,
       "version_minor": 0
      },
      "text/plain": [
       "Map:   0%|          | 0/106 [00:00<?, ? examples/s]"
      ]
     },
     "metadata": {},
     "output_type": "display_data"
    },
    {
     "data": {
      "application/vnd.jupyter.widget-view+json": {
       "model_id": "34fd47f6b62a438da9b1760aa225de35",
       "version_major": 2,
       "version_minor": 0
      },
      "text/plain": [
       "Map:   0%|          | 0/106 [00:00<?, ? examples/s]"
      ]
     },
     "metadata": {},
     "output_type": "display_data"
    },
    {
     "data": {
      "application/vnd.jupyter.widget-view+json": {
       "model_id": "6565bf57b3ad47b9bc85dbcc6709fa13",
       "version_major": 2,
       "version_minor": 0
      },
      "text/plain": [
       "Map:   0%|          | 0/106 [00:00<?, ? examples/s]"
      ]
     },
     "metadata": {},
     "output_type": "display_data"
    },
    {
     "data": {
      "application/vnd.jupyter.widget-view+json": {
       "model_id": "cfb3e5158af84120a788fdb33688ced2",
       "version_major": 2,
       "version_minor": 0
      },
      "text/plain": [
       "Map:   0%|          | 0/106 [00:00<?, ? examples/s]"
      ]
     },
     "metadata": {},
     "output_type": "display_data"
    },
    {
     "data": {
      "application/vnd.jupyter.widget-view+json": {
       "model_id": "54ebe39936044401ac5f87b7b5ab7e70",
       "version_major": 2,
       "version_minor": 0
      },
      "text/plain": [
       "Map:   0%|          | 0/106 [00:00<?, ? examples/s]"
      ]
     },
     "metadata": {},
     "output_type": "display_data"
    },
    {
     "data": {
      "application/vnd.jupyter.widget-view+json": {
       "model_id": "b738eb4c64374718aa0b58225563d9da",
       "version_major": 2,
       "version_minor": 0
      },
      "text/plain": [
       "Map:   0%|          | 0/106 [00:00<?, ? examples/s]"
      ]
     },
     "metadata": {},
     "output_type": "display_data"
    },
    {
     "data": {
      "application/vnd.jupyter.widget-view+json": {
       "model_id": "aa0fe0026c074ccea6bdcf933dc08b48",
       "version_major": 2,
       "version_minor": 0
      },
      "text/plain": [
       "Map:   0%|          | 0/106 [00:00<?, ? examples/s]"
      ]
     },
     "metadata": {},
     "output_type": "display_data"
    },
    {
     "data": {
      "application/vnd.jupyter.widget-view+json": {
       "model_id": "7c23ba7f65694259b98a43e009eca85f",
       "version_major": 2,
       "version_minor": 0
      },
      "text/plain": [
       "Map:   0%|          | 0/106 [00:00<?, ? examples/s]"
      ]
     },
     "metadata": {},
     "output_type": "display_data"
    },
    {
     "data": {
      "application/vnd.jupyter.widget-view+json": {
       "model_id": "c6eba274ae744d028a57efc8c9b01757",
       "version_major": 2,
       "version_minor": 0
      },
      "text/plain": [
       "Map:   0%|          | 0/106 [00:00<?, ? examples/s]"
      ]
     },
     "metadata": {},
     "output_type": "display_data"
    },
    {
     "data": {
      "application/vnd.jupyter.widget-view+json": {
       "model_id": "6c9875f4e2f04da7b3cefaf848ffa40d",
       "version_major": 2,
       "version_minor": 0
      },
      "text/plain": [
       "Map:   0%|          | 0/106 [00:00<?, ? examples/s]"
      ]
     },
     "metadata": {},
     "output_type": "display_data"
    },
    {
     "data": {
      "application/vnd.jupyter.widget-view+json": {
       "model_id": "919fa1ab3e214f8fbd8dd64ebb041a22",
       "version_major": 2,
       "version_minor": 0
      },
      "text/plain": [
       "Map:   0%|          | 0/106 [00:00<?, ? examples/s]"
      ]
     },
     "metadata": {},
     "output_type": "display_data"
    },
    {
     "data": {
      "application/vnd.jupyter.widget-view+json": {
       "model_id": "6090a4875c7a417bb5d3037e9ae61df9",
       "version_major": 2,
       "version_minor": 0
      },
      "text/plain": [
       "Map:   0%|          | 0/106 [00:00<?, ? examples/s]"
      ]
     },
     "metadata": {},
     "output_type": "display_data"
    },
    {
     "data": {
      "application/vnd.jupyter.widget-view+json": {
       "model_id": "f6c9fce8277941e9b459c244852a6b98",
       "version_major": 2,
       "version_minor": 0
      },
      "text/plain": [
       "Map:   0%|          | 0/106 [00:00<?, ? examples/s]"
      ]
     },
     "metadata": {},
     "output_type": "display_data"
    },
    {
     "data": {
      "application/vnd.jupyter.widget-view+json": {
       "model_id": "239f364fe9ce430fb092da1ed63cbccd",
       "version_major": 2,
       "version_minor": 0
      },
      "text/plain": [
       "Map:   0%|          | 0/106 [00:00<?, ? examples/s]"
      ]
     },
     "metadata": {},
     "output_type": "display_data"
    },
    {
     "data": {
      "application/vnd.jupyter.widget-view+json": {
       "model_id": "353f650c144a417c8317d9d260400421",
       "version_major": 2,
       "version_minor": 0
      },
      "text/plain": [
       "Map:   0%|          | 0/106 [00:00<?, ? examples/s]"
      ]
     },
     "metadata": {},
     "output_type": "display_data"
    },
    {
     "data": {
      "application/vnd.jupyter.widget-view+json": {
       "model_id": "b1900fbdc7204de4ac6f7c7aeec59831",
       "version_major": 2,
       "version_minor": 0
      },
      "text/plain": [
       "Map:   0%|          | 0/106 [00:00<?, ? examples/s]"
      ]
     },
     "metadata": {},
     "output_type": "display_data"
    },
    {
     "data": {
      "application/vnd.jupyter.widget-view+json": {
       "model_id": "771347ad2622479c9068fb96a0164110",
       "version_major": 2,
       "version_minor": 0
      },
      "text/plain": [
       "Map:   0%|          | 0/106 [00:00<?, ? examples/s]"
      ]
     },
     "metadata": {},
     "output_type": "display_data"
    },
    {
     "data": {
      "application/vnd.jupyter.widget-view+json": {
       "model_id": "300adf159dbe447ebdc6fc589a94b263",
       "version_major": 2,
       "version_minor": 0
      },
      "text/plain": [
       "Map:   0%|          | 0/106 [00:00<?, ? examples/s]"
      ]
     },
     "metadata": {},
     "output_type": "display_data"
    },
    {
     "data": {
      "application/vnd.jupyter.widget-view+json": {
       "model_id": "4c42b4ad760f4568aff63b3de5be5347",
       "version_major": 2,
       "version_minor": 0
      },
      "text/plain": [
       "Map:   0%|          | 0/106 [00:00<?, ? examples/s]"
      ]
     },
     "metadata": {},
     "output_type": "display_data"
    },
    {
     "data": {
      "application/vnd.jupyter.widget-view+json": {
       "model_id": "d4c1649349a74f9c9b925999cdf66190",
       "version_major": 2,
       "version_minor": 0
      },
      "text/plain": [
       "Map:   0%|          | 0/106 [00:00<?, ? examples/s]"
      ]
     },
     "metadata": {},
     "output_type": "display_data"
    },
    {
     "data": {
      "application/vnd.jupyter.widget-view+json": {
       "model_id": "6692206d77904471a26bee8aa93c6cee",
       "version_major": 2,
       "version_minor": 0
      },
      "text/plain": [
       "Map:   0%|          | 0/106 [00:00<?, ? examples/s]"
      ]
     },
     "metadata": {},
     "output_type": "display_data"
    },
    {
     "data": {
      "application/vnd.jupyter.widget-view+json": {
       "model_id": "81bba13843ac4082bbd1dd08f914085f",
       "version_major": 2,
       "version_minor": 0
      },
      "text/plain": [
       "Map:   0%|          | 0/106 [00:00<?, ? examples/s]"
      ]
     },
     "metadata": {},
     "output_type": "display_data"
    },
    {
     "data": {
      "application/vnd.jupyter.widget-view+json": {
       "model_id": "1c1230f5739b4d1e8c86aa2db958849b",
       "version_major": 2,
       "version_minor": 0
      },
      "text/plain": [
       "Map:   0%|          | 0/106 [00:00<?, ? examples/s]"
      ]
     },
     "metadata": {},
     "output_type": "display_data"
    },
    {
     "data": {
      "application/vnd.jupyter.widget-view+json": {
       "model_id": "091f89d503ba44938340236ea7783b3d",
       "version_major": 2,
       "version_minor": 0
      },
      "text/plain": [
       "Map:   0%|          | 0/106 [00:00<?, ? examples/s]"
      ]
     },
     "metadata": {},
     "output_type": "display_data"
    },
    {
     "data": {
      "application/vnd.jupyter.widget-view+json": {
       "model_id": "427abc26585246169f2f09a8c3de9ef0",
       "version_major": 2,
       "version_minor": 0
      },
      "text/plain": [
       "Map:   0%|          | 0/106 [00:00<?, ? examples/s]"
      ]
     },
     "metadata": {},
     "output_type": "display_data"
    },
    {
     "data": {
      "application/vnd.jupyter.widget-view+json": {
       "model_id": "34c2ca2fd3d94420bbdb4cf01d37ff1e",
       "version_major": 2,
       "version_minor": 0
      },
      "text/plain": [
       "Map:   0%|          | 0/106 [00:00<?, ? examples/s]"
      ]
     },
     "metadata": {},
     "output_type": "display_data"
    },
    {
     "data": {
      "application/vnd.jupyter.widget-view+json": {
       "model_id": "9f84b57437b84266bd2d8a126b1a7894",
       "version_major": 2,
       "version_minor": 0
      },
      "text/plain": [
       "Map:   0%|          | 0/106 [00:00<?, ? examples/s]"
      ]
     },
     "metadata": {},
     "output_type": "display_data"
    },
    {
     "data": {
      "application/vnd.jupyter.widget-view+json": {
       "model_id": "aab99da1c2f54b56a855a4b5a3babb3a",
       "version_major": 2,
       "version_minor": 0
      },
      "text/plain": [
       "Map:   0%|          | 0/106 [00:00<?, ? examples/s]"
      ]
     },
     "metadata": {},
     "output_type": "display_data"
    },
    {
     "data": {
      "application/vnd.jupyter.widget-view+json": {
       "model_id": "c45f7188636943cd8df01ee9b3e25307",
       "version_major": 2,
       "version_minor": 0
      },
      "text/plain": [
       "Map:   0%|          | 0/106 [00:00<?, ? examples/s]"
      ]
     },
     "metadata": {},
     "output_type": "display_data"
    },
    {
     "data": {
      "application/vnd.jupyter.widget-view+json": {
       "model_id": "b644c5d8347f43cc949d0330fdf8653c",
       "version_major": 2,
       "version_minor": 0
      },
      "text/plain": [
       "Map:   0%|          | 0/106 [00:00<?, ? examples/s]"
      ]
     },
     "metadata": {},
     "output_type": "display_data"
    },
    {
     "data": {
      "application/vnd.jupyter.widget-view+json": {
       "model_id": "0080c3b5da1e4611a43f4be8a3f561f6",
       "version_major": 2,
       "version_minor": 0
      },
      "text/plain": [
       "Map:   0%|          | 0/106 [00:00<?, ? examples/s]"
      ]
     },
     "metadata": {},
     "output_type": "display_data"
    },
    {
     "data": {
      "application/vnd.jupyter.widget-view+json": {
       "model_id": "54b688b5e69643e387471c32773bd23e",
       "version_major": 2,
       "version_minor": 0
      },
      "text/plain": [
       "Map:   0%|          | 0/106 [00:00<?, ? examples/s]"
      ]
     },
     "metadata": {},
     "output_type": "display_data"
    },
    {
     "data": {
      "application/vnd.jupyter.widget-view+json": {
       "model_id": "8d5a8cb557da4831a36bf5d7f7d8bfd4",
       "version_major": 2,
       "version_minor": 0
      },
      "text/plain": [
       "Map:   0%|          | 0/106 [00:00<?, ? examples/s]"
      ]
     },
     "metadata": {},
     "output_type": "display_data"
    },
    {
     "data": {
      "application/vnd.jupyter.widget-view+json": {
       "model_id": "5b4374828ccf41a89e0f6634898c31cd",
       "version_major": 2,
       "version_minor": 0
      },
      "text/plain": [
       "Map:   0%|          | 0/106 [00:00<?, ? examples/s]"
      ]
     },
     "metadata": {},
     "output_type": "display_data"
    },
    {
     "data": {
      "application/vnd.jupyter.widget-view+json": {
       "model_id": "628a53fbc7de4d218a7c2bc5336e5d27",
       "version_major": 2,
       "version_minor": 0
      },
      "text/plain": [
       "Map:   0%|          | 0/106 [00:00<?, ? examples/s]"
      ]
     },
     "metadata": {},
     "output_type": "display_data"
    },
    {
     "data": {
      "application/vnd.jupyter.widget-view+json": {
       "model_id": "0f56fcebb0a54523a2760872dd2ce702",
       "version_major": 2,
       "version_minor": 0
      },
      "text/plain": [
       "Map:   0%|          | 0/106 [00:00<?, ? examples/s]"
      ]
     },
     "metadata": {},
     "output_type": "display_data"
    },
    {
     "data": {
      "application/vnd.jupyter.widget-view+json": {
       "model_id": "f3180a1e20ff4eee88909c8e7517efaf",
       "version_major": 2,
       "version_minor": 0
      },
      "text/plain": [
       "Map:   0%|          | 0/106 [00:00<?, ? examples/s]"
      ]
     },
     "metadata": {},
     "output_type": "display_data"
    },
    {
     "data": {
      "application/vnd.jupyter.widget-view+json": {
       "model_id": "83e4cec4032b4a4798922f3200273c46",
       "version_major": 2,
       "version_minor": 0
      },
      "text/plain": [
       "Map:   0%|          | 0/106 [00:00<?, ? examples/s]"
      ]
     },
     "metadata": {},
     "output_type": "display_data"
    },
    {
     "data": {
      "application/vnd.jupyter.widget-view+json": {
       "model_id": "51b3993aa98d42abb9559890200d2d73",
       "version_major": 2,
       "version_minor": 0
      },
      "text/plain": [
       "Map:   0%|          | 0/106 [00:00<?, ? examples/s]"
      ]
     },
     "metadata": {},
     "output_type": "display_data"
    },
    {
     "data": {
      "application/vnd.jupyter.widget-view+json": {
       "model_id": "62f2db7ddc1b4dec978c7a3e3bf311cd",
       "version_major": 2,
       "version_minor": 0
      },
      "text/plain": [
       "Map:   0%|          | 0/106 [00:00<?, ? examples/s]"
      ]
     },
     "metadata": {},
     "output_type": "display_data"
    },
    {
     "data": {
      "application/vnd.jupyter.widget-view+json": {
       "model_id": "71106a016a444ca7a5a174c5e12a24e8",
       "version_major": 2,
       "version_minor": 0
      },
      "text/plain": [
       "Map:   0%|          | 0/106 [00:00<?, ? examples/s]"
      ]
     },
     "metadata": {},
     "output_type": "display_data"
    },
    {
     "data": {
      "application/vnd.jupyter.widget-view+json": {
       "model_id": "ac43fce1f03c4bb0ae163b84ad0e6be4",
       "version_major": 2,
       "version_minor": 0
      },
      "text/plain": [
       "Map:   0%|          | 0/106 [00:00<?, ? examples/s]"
      ]
     },
     "metadata": {},
     "output_type": "display_data"
    },
    {
     "data": {
      "application/vnd.jupyter.widget-view+json": {
       "model_id": "73637b5b55e0442db1f72e0b35f7a7c0",
       "version_major": 2,
       "version_minor": 0
      },
      "text/plain": [
       "Map:   0%|          | 0/106 [00:00<?, ? examples/s]"
      ]
     },
     "metadata": {},
     "output_type": "display_data"
    },
    {
     "data": {
      "application/vnd.jupyter.widget-view+json": {
       "model_id": "348eb86f6f844c4bb363833c2f6eb088",
       "version_major": 2,
       "version_minor": 0
      },
      "text/plain": [
       "Map:   0%|          | 0/106 [00:00<?, ? examples/s]"
      ]
     },
     "metadata": {},
     "output_type": "display_data"
    },
    {
     "data": {
      "application/vnd.jupyter.widget-view+json": {
       "model_id": "24cb935783174ceea5cc535a636e3ef9",
       "version_major": 2,
       "version_minor": 0
      },
      "text/plain": [
       "Map:   0%|          | 0/106 [00:00<?, ? examples/s]"
      ]
     },
     "metadata": {},
     "output_type": "display_data"
    },
    {
     "data": {
      "application/vnd.jupyter.widget-view+json": {
       "model_id": "3cea744d52244d4eb0c11d491c01978c",
       "version_major": 2,
       "version_minor": 0
      },
      "text/plain": [
       "Map:   0%|          | 0/106 [00:00<?, ? examples/s]"
      ]
     },
     "metadata": {},
     "output_type": "display_data"
    },
    {
     "data": {
      "application/vnd.jupyter.widget-view+json": {
       "model_id": "9c5fda1c946b4d4da6aed40fbee8cf41",
       "version_major": 2,
       "version_minor": 0
      },
      "text/plain": [
       "Map:   0%|          | 0/106 [00:00<?, ? examples/s]"
      ]
     },
     "metadata": {},
     "output_type": "display_data"
    },
    {
     "data": {
      "application/vnd.jupyter.widget-view+json": {
       "model_id": "b1d3e43d75e64ac2917c78c1bd8ae1c6",
       "version_major": 2,
       "version_minor": 0
      },
      "text/plain": [
       "Map:   0%|          | 0/106 [00:00<?, ? examples/s]"
      ]
     },
     "metadata": {},
     "output_type": "display_data"
    },
    {
     "data": {
      "application/vnd.jupyter.widget-view+json": {
       "model_id": "a719d4f81d1c4503a431d7d05d41d49d",
       "version_major": 2,
       "version_minor": 0
      },
      "text/plain": [
       "Map:   0%|          | 0/106 [00:00<?, ? examples/s]"
      ]
     },
     "metadata": {},
     "output_type": "display_data"
    },
    {
     "data": {
      "application/vnd.jupyter.widget-view+json": {
       "model_id": "89840d02dbee4a008f19f755d500753f",
       "version_major": 2,
       "version_minor": 0
      },
      "text/plain": [
       "Map:   0%|          | 0/106 [00:00<?, ? examples/s]"
      ]
     },
     "metadata": {},
     "output_type": "display_data"
    },
    {
     "data": {
      "application/vnd.jupyter.widget-view+json": {
       "model_id": "b92b0e936b5547db958b7bebda58baf5",
       "version_major": 2,
       "version_minor": 0
      },
      "text/plain": [
       "Map:   0%|          | 0/106 [00:00<?, ? examples/s]"
      ]
     },
     "metadata": {},
     "output_type": "display_data"
    },
    {
     "data": {
      "application/vnd.jupyter.widget-view+json": {
       "model_id": "52d0ab5e40d842fcb2cdea2b6df8596d",
       "version_major": 2,
       "version_minor": 0
      },
      "text/plain": [
       "Map:   0%|          | 0/106 [00:00<?, ? examples/s]"
      ]
     },
     "metadata": {},
     "output_type": "display_data"
    },
    {
     "data": {
      "application/vnd.jupyter.widget-view+json": {
       "model_id": "9fc9ab6e377748009b33e547da6ee69f",
       "version_major": 2,
       "version_minor": 0
      },
      "text/plain": [
       "Map:   0%|          | 0/106 [00:00<?, ? examples/s]"
      ]
     },
     "metadata": {},
     "output_type": "display_data"
    },
    {
     "data": {
      "application/vnd.jupyter.widget-view+json": {
       "model_id": "fcd2223c876c4a8baefa6b9cd76111bc",
       "version_major": 2,
       "version_minor": 0
      },
      "text/plain": [
       "Map:   0%|          | 0/106 [00:00<?, ? examples/s]"
      ]
     },
     "metadata": {},
     "output_type": "display_data"
    },
    {
     "data": {
      "application/vnd.jupyter.widget-view+json": {
       "model_id": "11132c5a47cb40898b771d7dfc5f2e6f",
       "version_major": 2,
       "version_minor": 0
      },
      "text/plain": [
       "Map:   0%|          | 0/106 [00:00<?, ? examples/s]"
      ]
     },
     "metadata": {},
     "output_type": "display_data"
    },
    {
     "data": {
      "application/vnd.jupyter.widget-view+json": {
       "model_id": "81ce25ce72264150a0b202919618c371",
       "version_major": 2,
       "version_minor": 0
      },
      "text/plain": [
       "Map:   0%|          | 0/106 [00:00<?, ? examples/s]"
      ]
     },
     "metadata": {},
     "output_type": "display_data"
    },
    {
     "data": {
      "application/vnd.jupyter.widget-view+json": {
       "model_id": "8e8072d17eb14ccd8d368459b35bcba3",
       "version_major": 2,
       "version_minor": 0
      },
      "text/plain": [
       "Map:   0%|          | 0/106 [00:00<?, ? examples/s]"
      ]
     },
     "metadata": {},
     "output_type": "display_data"
    },
    {
     "data": {
      "application/vnd.jupyter.widget-view+json": {
       "model_id": "95a587c22b604711b20543d544f59616",
       "version_major": 2,
       "version_minor": 0
      },
      "text/plain": [
       "Map:   0%|          | 0/106 [00:00<?, ? examples/s]"
      ]
     },
     "metadata": {},
     "output_type": "display_data"
    },
    {
     "data": {
      "application/vnd.jupyter.widget-view+json": {
       "model_id": "dcb6844f40cb48c7bb015677272d5c36",
       "version_major": 2,
       "version_minor": 0
      },
      "text/plain": [
       "Map:   0%|          | 0/106 [00:00<?, ? examples/s]"
      ]
     },
     "metadata": {},
     "output_type": "display_data"
    },
    {
     "data": {
      "application/vnd.jupyter.widget-view+json": {
       "model_id": "9912e7aef2d84e1094b21e79fb9b9b2a",
       "version_major": 2,
       "version_minor": 0
      },
      "text/plain": [
       "Map:   0%|          | 0/106 [00:00<?, ? examples/s]"
      ]
     },
     "metadata": {},
     "output_type": "display_data"
    },
    {
     "data": {
      "application/vnd.jupyter.widget-view+json": {
       "model_id": "4ecd15ba658f4e3c90b5ec632e39e544",
       "version_major": 2,
       "version_minor": 0
      },
      "text/plain": [
       "Map:   0%|          | 0/106 [00:00<?, ? examples/s]"
      ]
     },
     "metadata": {},
     "output_type": "display_data"
    },
    {
     "data": {
      "application/vnd.jupyter.widget-view+json": {
       "model_id": "f9fc736dfe7342a6b453d7f966743235",
       "version_major": 2,
       "version_minor": 0
      },
      "text/plain": [
       "Map:   0%|          | 0/106 [00:00<?, ? examples/s]"
      ]
     },
     "metadata": {},
     "output_type": "display_data"
    },
    {
     "data": {
      "application/vnd.jupyter.widget-view+json": {
       "model_id": "746cf88fc5d64c34a89fe6eda5897dd1",
       "version_major": 2,
       "version_minor": 0
      },
      "text/plain": [
       "Map:   0%|          | 0/106 [00:00<?, ? examples/s]"
      ]
     },
     "metadata": {},
     "output_type": "display_data"
    },
    {
     "data": {
      "application/vnd.jupyter.widget-view+json": {
       "model_id": "c231163d5d9f4ac4b3cb04658b0747b2",
       "version_major": 2,
       "version_minor": 0
      },
      "text/plain": [
       "Map:   0%|          | 0/106 [00:00<?, ? examples/s]"
      ]
     },
     "metadata": {},
     "output_type": "display_data"
    },
    {
     "data": {
      "application/vnd.jupyter.widget-view+json": {
       "model_id": "a06b36bb9aec49919db254b1735048a3",
       "version_major": 2,
       "version_minor": 0
      },
      "text/plain": [
       "Map:   0%|          | 0/106 [00:00<?, ? examples/s]"
      ]
     },
     "metadata": {},
     "output_type": "display_data"
    },
    {
     "data": {
      "application/vnd.jupyter.widget-view+json": {
       "model_id": "abbe79115a784ebb8fc292f7b85fc922",
       "version_major": 2,
       "version_minor": 0
      },
      "text/plain": [
       "Map:   0%|          | 0/106 [00:00<?, ? examples/s]"
      ]
     },
     "metadata": {},
     "output_type": "display_data"
    },
    {
     "data": {
      "application/vnd.jupyter.widget-view+json": {
       "model_id": "de662651fb424b57a35a78ebe25cf44b",
       "version_major": 2,
       "version_minor": 0
      },
      "text/plain": [
       "Map:   0%|          | 0/106 [00:00<?, ? examples/s]"
      ]
     },
     "metadata": {},
     "output_type": "display_data"
    },
    {
     "data": {
      "application/vnd.jupyter.widget-view+json": {
       "model_id": "515cdc071e684e3dbc7a75e69353a313",
       "version_major": 2,
       "version_minor": 0
      },
      "text/plain": [
       "Map:   0%|          | 0/106 [00:00<?, ? examples/s]"
      ]
     },
     "metadata": {},
     "output_type": "display_data"
    },
    {
     "data": {
      "application/vnd.jupyter.widget-view+json": {
       "model_id": "eec9aecf2feb4154b028092209b207e9",
       "version_major": 2,
       "version_minor": 0
      },
      "text/plain": [
       "Map:   0%|          | 0/106 [00:00<?, ? examples/s]"
      ]
     },
     "metadata": {},
     "output_type": "display_data"
    },
    {
     "data": {
      "application/vnd.jupyter.widget-view+json": {
       "model_id": "20b6a2929fb4434a985bf7c0c5ea91ce",
       "version_major": 2,
       "version_minor": 0
      },
      "text/plain": [
       "Map:   0%|          | 0/106 [00:00<?, ? examples/s]"
      ]
     },
     "metadata": {},
     "output_type": "display_data"
    },
    {
     "data": {
      "application/vnd.jupyter.widget-view+json": {
       "model_id": "66a01c4dbc7f45e78a9737a7538758ab",
       "version_major": 2,
       "version_minor": 0
      },
      "text/plain": [
       "Map:   0%|          | 0/106 [00:00<?, ? examples/s]"
      ]
     },
     "metadata": {},
     "output_type": "display_data"
    },
    {
     "data": {
      "application/vnd.jupyter.widget-view+json": {
       "model_id": "f83f1caf2c304af39743f5964c36b793",
       "version_major": 2,
       "version_minor": 0
      },
      "text/plain": [
       "Map:   0%|          | 0/106 [00:00<?, ? examples/s]"
      ]
     },
     "metadata": {},
     "output_type": "display_data"
    },
    {
     "data": {
      "application/vnd.jupyter.widget-view+json": {
       "model_id": "4d1caacf04b04da6b630b700e8d785a9",
       "version_major": 2,
       "version_minor": 0
      },
      "text/plain": [
       "Map:   0%|          | 0/106 [00:00<?, ? examples/s]"
      ]
     },
     "metadata": {},
     "output_type": "display_data"
    },
    {
     "data": {
      "application/vnd.jupyter.widget-view+json": {
       "model_id": "90b474a1e40b474ab200f79121282280",
       "version_major": 2,
       "version_minor": 0
      },
      "text/plain": [
       "Map:   0%|          | 0/106 [00:00<?, ? examples/s]"
      ]
     },
     "metadata": {},
     "output_type": "display_data"
    },
    {
     "data": {
      "application/vnd.jupyter.widget-view+json": {
       "model_id": "0c7ce24cd41c46cd8cb25e1c38fdd8e9",
       "version_major": 2,
       "version_minor": 0
      },
      "text/plain": [
       "Map:   0%|          | 0/106 [00:00<?, ? examples/s]"
      ]
     },
     "metadata": {},
     "output_type": "display_data"
    },
    {
     "data": {
      "application/vnd.jupyter.widget-view+json": {
       "model_id": "fc5d6758b8a74c49873f3f4474152de2",
       "version_major": 2,
       "version_minor": 0
      },
      "text/plain": [
       "Map:   0%|          | 0/106 [00:00<?, ? examples/s]"
      ]
     },
     "metadata": {},
     "output_type": "display_data"
    },
    {
     "data": {
      "application/vnd.jupyter.widget-view+json": {
       "model_id": "3b9608271d61440fb58dabdb8e96a39c",
       "version_major": 2,
       "version_minor": 0
      },
      "text/plain": [
       "Map:   0%|          | 0/106 [00:00<?, ? examples/s]"
      ]
     },
     "metadata": {},
     "output_type": "display_data"
    },
    {
     "data": {
      "application/vnd.jupyter.widget-view+json": {
       "model_id": "933a7934b29641c7b883594dc649172f",
       "version_major": 2,
       "version_minor": 0
      },
      "text/plain": [
       "Map:   0%|          | 0/106 [00:00<?, ? examples/s]"
      ]
     },
     "metadata": {},
     "output_type": "display_data"
    },
    {
     "data": {
      "application/vnd.jupyter.widget-view+json": {
       "model_id": "11581ed750a148a3b804b3553a095bb0",
       "version_major": 2,
       "version_minor": 0
      },
      "text/plain": [
       "Map:   0%|          | 0/106 [00:00<?, ? examples/s]"
      ]
     },
     "metadata": {},
     "output_type": "display_data"
    },
    {
     "data": {
      "application/vnd.jupyter.widget-view+json": {
       "model_id": "62d06ba4eac74b45904fa06ad140cb3c",
       "version_major": 2,
       "version_minor": 0
      },
      "text/plain": [
       "Map:   0%|          | 0/106 [00:00<?, ? examples/s]"
      ]
     },
     "metadata": {},
     "output_type": "display_data"
    },
    {
     "data": {
      "application/vnd.jupyter.widget-view+json": {
       "model_id": "3d37ed8c658b41aa933526f5e36a4cc4",
       "version_major": 2,
       "version_minor": 0
      },
      "text/plain": [
       "Map:   0%|          | 0/106 [00:00<?, ? examples/s]"
      ]
     },
     "metadata": {},
     "output_type": "display_data"
    },
    {
     "data": {
      "application/vnd.jupyter.widget-view+json": {
       "model_id": "c9cfe4b9503347df9edc716de7e35000",
       "version_major": 2,
       "version_minor": 0
      },
      "text/plain": [
       "Map:   0%|          | 0/106 [00:00<?, ? examples/s]"
      ]
     },
     "metadata": {},
     "output_type": "display_data"
    },
    {
     "data": {
      "application/vnd.jupyter.widget-view+json": {
       "model_id": "c4978e126fbd4495a7b27579fec96098",
       "version_major": 2,
       "version_minor": 0
      },
      "text/plain": [
       "Map:   0%|          | 0/106 [00:00<?, ? examples/s]"
      ]
     },
     "metadata": {},
     "output_type": "display_data"
    },
    {
     "data": {
      "application/vnd.jupyter.widget-view+json": {
       "model_id": "d6c77acd0a014169906b0c7336e176cf",
       "version_major": 2,
       "version_minor": 0
      },
      "text/plain": [
       "Map:   0%|          | 0/106 [00:00<?, ? examples/s]"
      ]
     },
     "metadata": {},
     "output_type": "display_data"
    },
    {
     "data": {
      "application/vnd.jupyter.widget-view+json": {
       "model_id": "82ff7df0b7d64e6ebb16894f2dde9044",
       "version_major": 2,
       "version_minor": 0
      },
      "text/plain": [
       "Map:   0%|          | 0/106 [00:00<?, ? examples/s]"
      ]
     },
     "metadata": {},
     "output_type": "display_data"
    },
    {
     "data": {
      "application/vnd.jupyter.widget-view+json": {
       "model_id": "9791599053d24244a2430ff4462c7079",
       "version_major": 2,
       "version_minor": 0
      },
      "text/plain": [
       "Map:   0%|          | 0/106 [00:00<?, ? examples/s]"
      ]
     },
     "metadata": {},
     "output_type": "display_data"
    },
    {
     "data": {
      "application/vnd.jupyter.widget-view+json": {
       "model_id": "89700777b0994fb48c22d258a4fba9da",
       "version_major": 2,
       "version_minor": 0
      },
      "text/plain": [
       "Map:   0%|          | 0/106 [00:00<?, ? examples/s]"
      ]
     },
     "metadata": {},
     "output_type": "display_data"
    },
    {
     "data": {
      "application/vnd.jupyter.widget-view+json": {
       "model_id": "462aec731a3b4312bfaeedce6f863b68",
       "version_major": 2,
       "version_minor": 0
      },
      "text/plain": [
       "Map:   0%|          | 0/106 [00:00<?, ? examples/s]"
      ]
     },
     "metadata": {},
     "output_type": "display_data"
    },
    {
     "data": {
      "application/vnd.jupyter.widget-view+json": {
       "model_id": "65b400cde72e4477a2a58d2b40a6ffe5",
       "version_major": 2,
       "version_minor": 0
      },
      "text/plain": [
       "Map:   0%|          | 0/106 [00:00<?, ? examples/s]"
      ]
     },
     "metadata": {},
     "output_type": "display_data"
    },
    {
     "data": {
      "application/vnd.jupyter.widget-view+json": {
       "model_id": "c732702cdb6445239ecfe80ec34764f5",
       "version_major": 2,
       "version_minor": 0
      },
      "text/plain": [
       "Map:   0%|          | 0/106 [00:00<?, ? examples/s]"
      ]
     },
     "metadata": {},
     "output_type": "display_data"
    },
    {
     "data": {
      "application/vnd.jupyter.widget-view+json": {
       "model_id": "082bfd00c44a4971b445dfa54836ed16",
       "version_major": 2,
       "version_minor": 0
      },
      "text/plain": [
       "Map:   0%|          | 0/106 [00:00<?, ? examples/s]"
      ]
     },
     "metadata": {},
     "output_type": "display_data"
    },
    {
     "data": {
      "application/vnd.jupyter.widget-view+json": {
       "model_id": "c5e31c6769eb4dc89208175a61bdbc4b",
       "version_major": 2,
       "version_minor": 0
      },
      "text/plain": [
       "Map:   0%|          | 0/106 [00:00<?, ? examples/s]"
      ]
     },
     "metadata": {},
     "output_type": "display_data"
    },
    {
     "data": {
      "application/vnd.jupyter.widget-view+json": {
       "model_id": "deaa3b8e80944ef8875c3f664c1c95f2",
       "version_major": 2,
       "version_minor": 0
      },
      "text/plain": [
       "Map:   0%|          | 0/106 [00:00<?, ? examples/s]"
      ]
     },
     "metadata": {},
     "output_type": "display_data"
    },
    {
     "data": {
      "application/vnd.jupyter.widget-view+json": {
       "model_id": "8eceff42a3b44220b0f1f84a1bbfba4f",
       "version_major": 2,
       "version_minor": 0
      },
      "text/plain": [
       "Map:   0%|          | 0/106 [00:00<?, ? examples/s]"
      ]
     },
     "metadata": {},
     "output_type": "display_data"
    },
    {
     "data": {
      "application/vnd.jupyter.widget-view+json": {
       "model_id": "f5c9326b19b6400c8d21b7d2a77788c4",
       "version_major": 2,
       "version_minor": 0
      },
      "text/plain": [
       "Map:   0%|          | 0/106 [00:00<?, ? examples/s]"
      ]
     },
     "metadata": {},
     "output_type": "display_data"
    },
    {
     "data": {
      "application/vnd.jupyter.widget-view+json": {
       "model_id": "a5663da868d1459e91b3084335911849",
       "version_major": 2,
       "version_minor": 0
      },
      "text/plain": [
       "Map:   0%|          | 0/106 [00:00<?, ? examples/s]"
      ]
     },
     "metadata": {},
     "output_type": "display_data"
    }
   ],
   "source": [
    "# 샘플당 하나 이상의 레이블 예측할 수 있으므로 임계값 방식과 비교\n",
    "macros, micros = [], []\n",
    "thresholds = np.linspace(0.01, 1, 100)\n",
    "for threshold in thresholds :\n",
    "    ds_zero_shot = ds_zero_shot.map(get_preds, fn_kwargs={'threshold':threshold})\n",
    "    clf_report = get_clf_report(ds_zero_shot)\n",
    "    micros.append(clf_report['micro avg']['f1-score'])\n",
    "    macros.append(clf_report['macro avg']['f1-score'])"
   ]
  },
  {
   "cell_type": "code",
   "execution_count": 45,
   "id": "b569bd38",
   "metadata": {},
   "outputs": [
    {
     "data": {
      "image/png": "[encoded data removed]",
      "text/plain": [
       "<Figure size 640x480 with 1 Axes>"
      ]
     },
     "metadata": {},
     "output_type": "display_data"
    }
   ],
   "source": [
    "plt.plot(thresholds, micros, label = 'Micro F1')\n",
    "plt.plot(thresholds, macros, label = 'Macro F1')\n",
    "plt.xlabel('Threshold')\n",
    "plt.ylabel('F1-score')\n",
    "plt.legend(loc='best')\n",
    "plt.show()"
   ]
  },
  {
   "cell_type": "code",
   "execution_count": 46,
   "id": "e06e0b42",
   "metadata": {},
   "outputs": [
    {
     "name": "stdout",
     "output_type": "stream",
     "text": [
      "최상의 임곗값 (마이크로):0.75, F1-score 0.46.\n",
      "최상의 임곗값 (매크로):0.72, F1-score 0.42.\n"
     ]
    }
   ],
   "source": [
    "best_t, best_micro = thresholds[np.argmax(micros)], np.max(micros)\n",
    "print(f'최상의 임곗값 (마이크로):{best_t}, F1-score {best_micro:.2f}.')\n",
    "best_t, best_macro = thresholds[np.argmax(macros)], np.max(macros)\n",
    "print(f'최상의 임곗값 (매크로):{best_t}, F1-score {best_macro:.2f}.')"
   ]
  },
  {
   "cell_type": "markdown",
   "id": "8bb427ab",
   "metadata": {},
   "source": [
    "탑-1 결과보다 나쁘지만, 그래프에 정밀도/재현율의 트레이드오프가 확실하게 나타난다.  \n",
    "임계값을 매우 낮게 설정하면 예측이 매우 많아져 정밀도가 낮아진다.   \n",
    "임계값을 매우 높게 하면 예측하기 어려워져 재현율이 낮아진다."
   ]
  },
  {
   "cell_type": "code",
   "execution_count": 47,
   "id": "7986c86b",
   "metadata": {},
   "outputs": [
    {
     "data": {
      "application/vnd.jupyter.widget-view+json": {
       "model_id": "8f212f77731845a38b6a0a4e829e4623",
       "version_major": 2,
       "version_minor": 0
      },
      "text/plain": [
       "Map:   0%|          | 0/111 [00:00<?, ? examples/s]"
      ]
     },
     "metadata": {},
     "output_type": "display_data"
    },
    {
     "data": {
      "application/vnd.jupyter.widget-view+json": {
       "model_id": "6e91010765d84335ad5d4239c3680d6d",
       "version_major": 2,
       "version_minor": 0
      },
      "text/plain": [
       "Map:   0%|          | 0/111 [00:00<?, ? examples/s]"
      ]
     },
     "metadata": {},
     "output_type": "display_data"
    },
    {
     "data": {
      "image/png": "[encoded data removed]",
      "text/plain": [
       "<Figure size 1000x400 with 2 Axes>"
      ]
     },
     "metadata": {},
     "output_type": "display_data"
    }
   ],
   "source": [
    "# 탑-1 사용해 테스트셋에서 제로샷 분류와 나이브 베이즈 비교\n",
    "ds_zero_shot = ds['test'].map(zero_shot_pipeline)\n",
    "ds_zero_shot = ds_zero_shot.map(get_preds, fn_kwargs={'topk':1})\n",
    "clf_report = get_clf_report(ds_zero_shot)\n",
    "\n",
    "for train_slice in train_slices :\n",
    "    macro_scores['Zero Shot'].append(clf_report['macro avg']['f1-score'])\n",
    "    micro_scores['Zero Shot'].append(clf_report['micro avg']['f1-score'])\n",
    "    \n",
    "plot_metrics(micro_scores, macro_scores, train_samples, 'Zero Shot')"
   ]
  },
  {
   "cell_type": "markdown",
   "id": "35a379a8",
   "metadata": {},
   "source": [
    "- 레이블링된 샘플이 50개보다 적다면 제로샷 파이프라인이 기준 모델의 성능을 쉽게 추월함\n",
    "- 샘플이 50개 이상이더라도 마이크로와 매크로 F1-score 모두 고려하면, 제로샷 파이프라인이 더 낫다. 마이크로 F1-score 결과를 보면, 기준 모델이 빈도가 높은 클래스에서 잘 동작하지만, 제로샷 파이프라인은 학습할 샘플이 피요하지 않기에 기준 모델보다 뛰어나다.\n",
    "\n",
    "\n",
    "### 레이블링된 데이터가 적은 경우\n",
    "* 데이터 증식\n",
    "    * 역 번역 : 원본 언어로 된 텍스트를 기계 번역 사용해 하나 이상의 타깃 언어로 번역한 후 원본 언어로 다시 번역\n",
    "        * 데이터가 많은 언어 또는 도메인 특화된 언어가 매우 많지 않은 말뭉치에서 잘 동작함\n",
    "    * 토큰 섞기 : 훈련셋의 한 텍스트에서 동의어 교체, 단어 추가, 교환, 삭제 같은 간단한 변환을 임의로 선택해 수행"
   ]
  },
  {
   "cell_type": "code",
   "execution_count": 50,
   "id": "1dd67876",
   "metadata": {},
   "outputs": [
    {
     "name": "stderr",
     "output_type": "stream",
     "text": [
      "C:\\Users\\knuyh\\anaconda3\\Lib\\site-packages\\huggingface_hub\\file_download.py:1132: FutureWarning: `resume_download` is deprecated and will be removed in version 1.0.0. Downloads always resume when possible. If you want to force a new download, use `force_download=True`.\n",
      "  warnings.warn(\n"
     ]
    },
    {
     "name": "stdout",
     "output_type": "stream",
     "text": [
      "원본텍스트 : Transformers are the most popular toys\n",
      "증식된 텍스트 : ['transformers get the most interesting toys']\n"
     ]
    }
   ],
   "source": [
    "# 동의어 교체\n",
    "from transformers import set_seed\n",
    "import nlpaug.augmenter.word as naw\n",
    "\n",
    "set_seed(3)\n",
    "aug = naw.ContextualWordEmbsAug(model_path = 'distilbert-base-uncased', action='substitute')\n",
    "text = 'Transformers are the most popular toys'\n",
    "print(f\"원본텍스트 : {text}\")\n",
    "print(f\"증식된 텍스트 : {aug.augment(text)}\")"
   ]
  },
  {
   "cell_type": "code",
   "execution_count": 51,
   "id": "bd58233a",
   "metadata": {},
   "outputs": [],
   "source": [
    "def augment_text(batch, transformations_per_example=1):\n",
    "    text_aug, label_ids = [], []\n",
    "    for text, labels in zip(batch[\"text\"], batch[\"label_ids\"]):\n",
    "        text_aug += [text]\n",
    "        label_ids += [labels]\n",
    "        for _ in range(transformations_per_example):\n",
    "            text_aug += aug.augment(text)\n",
    "            label_ids += [labels]\n",
    "    return {\"text\": text_aug, \"label_ids\": label_ids}"
   ]
  },
  {
   "cell_type": "code",
   "execution_count": 52,
   "id": "d573179c",
   "metadata": {},
   "outputs": [
    {
     "data": {
      "application/vnd.jupyter.widget-view+json": {
       "model_id": "0cecd65bb07c4b64bb9467265946e41e",
       "version_major": 2,
       "version_minor": 0
      },
      "text/plain": [
       "Map:   0%|          | 0/10 [00:00<?, ? examples/s]"
      ]
     },
     "metadata": {},
     "output_type": "display_data"
    },
    {
     "data": {
      "application/vnd.jupyter.widget-view+json": {
       "model_id": "eaa45ebfed384e4d8b6a5dfe02f3bfe0",
       "version_major": 2,
       "version_minor": 0
      },
      "text/plain": [
       "Map:   0%|          | 0/19 [00:00<?, ? examples/s]"
      ]
     },
     "metadata": {},
     "output_type": "display_data"
    },
    {
     "data": {
      "application/vnd.jupyter.widget-view+json": {
       "model_id": "d5980574b7494891909ad27be68f0ea3",
       "version_major": 2,
       "version_minor": 0
      },
      "text/plain": [
       "Map:   0%|          | 0/36 [00:00<?, ? examples/s]"
      ]
     },
     "metadata": {},
     "output_type": "display_data"
    },
    {
     "data": {
      "application/vnd.jupyter.widget-view+json": {
       "model_id": "9caad80bfee24363961741aab68e7a13",
       "version_major": 2,
       "version_minor": 0
      },
      "text/plain": [
       "Map:   0%|          | 0/68 [00:00<?, ? examples/s]"
      ]
     },
     "metadata": {},
     "output_type": "display_data"
    },
    {
     "data": {
      "application/vnd.jupyter.widget-view+json": {
       "model_id": "47f71a0b9a15448eaadcd65480cec9e3",
       "version_major": 2,
       "version_minor": 0
      },
      "text/plain": [
       "Map:   0%|          | 0/134 [00:00<?, ? examples/s]"
      ]
     },
     "metadata": {},
     "output_type": "display_data"
    },
    {
     "data": {
      "application/vnd.jupyter.widget-view+json": {
       "model_id": "ac048c493e964206b0349ad29d94bb46",
       "version_major": 2,
       "version_minor": 0
      },
      "text/plain": [
       "Map:   0%|          | 0/223 [00:00<?, ? examples/s]"
      ]
     },
     "metadata": {},
     "output_type": "display_data"
    }
   ],
   "source": [
    "for train_slice in train_slices:\n",
    "    ds_train_sample = ds[\"train\"].select(train_slice)\n",
    "    \n",
    "    # 증식 결과를 펼쳐 레이블에 정렬\n",
    "    ds_train_aug = (ds_train_sample.map(\n",
    "        augment_text, batched=True, remove_columns=ds_train_sample.column_names)\n",
    "                    .shuffle(seed=42))\n",
    "    y_train = np.array(ds_train_aug[\"label_ids\"])\n",
    "    y_test = np.array(ds[\"test\"][\"label_ids\"])\n",
    "    \n",
    "    # 간단한 CountVectorizer를 사용해 텍스트를 토큰 카운트로 인코딩\n",
    "    count_vect = CountVectorizer()\n",
    "    X_train_counts = count_vect.fit_transform(ds_train_aug[\"text\"])\n",
    "    X_test_counts = count_vect.transform(ds[\"test\"][\"text\"])\n",
    "\n",
    "    classifier = BinaryRelevance(classifier=MultinomialNB())\n",
    "    classifier.fit(X_train_counts, y_train)\n",
    "\n",
    "    y_pred_test = classifier.predict(X_test_counts)\n",
    "    clf_report = classification_report(\n",
    "        y_test, y_pred_test, target_names=mlb.classes_, zero_division=0,\n",
    "        output_dict=True)\n",
    "\n",
    "    macro_scores[\"Naive Bayes + Aug\"].append(clf_report[\"macro avg\"][\"f1-score\"])\n",
    "    micro_scores[\"Naive Bayes + Aug\"].append(clf_report[\"micro avg\"][\"f1-score\"])"
   ]
  },
  {
   "cell_type": "code",
   "execution_count": 53,
   "id": "a9866c02",
   "metadata": {},
   "outputs": [
    {
     "data": {
      "image/png": "[encoded data removed]",
      "text/plain": [
       "<Figure size 1000x400 with 2 Axes>"
      ]
     },
     "metadata": {},
     "output_type": "display_data"
    }
   ],
   "source": [
    "plot_metrics(micro_scores, macro_scores, train_samples, \"Naive Bayes + Aug\")"
   ]
  },
  {
   "cell_type": "markdown",
   "id": "23f95b56",
   "metadata": {},
   "source": [
    "데이터 증식으로 나이브 베이즈 분류기의 점수 상승\n",
    "\n",
    "* 임베딩을 룩업 테이블로 사용하기\n",
    "    * 언어 모델을 사용해 레이블링된 전체 텍스트 임베딩\n",
    "    * 저장된 임베딩에 최근접 이웃 검색 수행\n",
    "    * 최근접 이웃의 레이블을 수집해 예측 만듦\n",
    "\n",
    "새로운 텍스트 분류할 때 이를 임베딩한 후 최근접 이웃의 레이블 기반으로 새로운 텍스트의 레이블 부여 - 레이블링된 데이터 포인트를 활용하기 위해 모델 미세 튜닝할 필요 X"
   ]
  },
  {
   "cell_type": "code",
   "execution_count": 4,
   "id": "b712fd54",
   "metadata": {},
   "outputs": [
    {
     "name": "stderr",
     "output_type": "stream",
     "text": [
      "C:\\Users\\knuyh\\anaconda3\\Lib\\site-packages\\huggingface_hub\\file_download.py:1132: FutureWarning: `resume_download` is deprecated and will be removed in version 1.0.0. Downloads always resume when possible. If you want to force a new download, use `force_download=True`.\n",
      "  warnings.warn(\n",
      "C:\\Users\\knuyh\\anaconda3\\Lib\\site-packages\\torch\\_utils.py:831: UserWarning: TypedStorage is deprecated. It will be removed in the future and UntypedStorage will be the only storage class. This should only matter to you if you are using storages directly.  To access UntypedStorage directly, use tensor.untyped_storage() instead of tensor.storage()\n",
      "  return self.fget.__get__(instance, owner)()\n"
     ]
    }
   ],
   "source": [
    "import torch\n",
    "from transformers import AutoTokenizer, AutoModel\n",
    "\n",
    "model_ckpt = \"miguelvictor/python-gpt2-medium\"\n",
    "tokenizer = AutoTokenizer.from_pretrained(model_ckpt)\n",
    "model = AutoModel.from_pretrained(model_ckpt)\n",
    "\n",
    "def mean_pooling(model_output, attention_mask):\n",
    "    # 토큰 임베딩 추출하기\n",
    "    token_embeddings = model_output[0]\n",
    "    # 어텐션 마스크 계산하기\n",
    "    input_mask_expanded = (attention_mask\n",
    "                           .unsqueeze(-1)\n",
    "                           .expand(token_embeddings.size())\n",
    "                           .float())\n",
    "    # 임베딩을 더하지만 마스킹된 토큰은 무시\n",
    "    sum_embeddings = torch.sum(token_embeddings * input_mask_expanded, 1)\n",
    "    sum_mask = torch.clamp(input_mask_expanded.sum(1), min=1e-9)\n",
    "    # 하나의 벡터로 평균 반환\n",
    "    return sum_embeddings / sum_mask\n",
    "\n",
    "def embed_text(examples):\n",
    "    inputs = tokenizer(examples[\"text\"], padding=True, truncation=True,\n",
    "                       max_length=128, return_tensors=\"pt\")\n",
    "    with torch.no_grad():\n",
    "        model_output = model(**inputs)\n",
    "    pooled_embeds = mean_pooling(model_output, inputs[\"attention_mask\"])\n",
    "    return {\"embedding\": pooled_embeds.cpu().numpy()}"
   ]
  },
  {
   "cell_type": "code",
   "execution_count": 56,
   "id": "8cac4dac",
   "metadata": {},
   "outputs": [
    {
     "data": {
      "application/vnd.jupyter.widget-view+json": {
       "model_id": "a618b9a185e94dd19f9cdb828c8d6f99",
       "version_major": 2,
       "version_minor": 0
      },
      "text/plain": [
       "Map:   0%|          | 0/223 [00:00<?, ? examples/s]"
      ]
     },
     "metadata": {},
     "output_type": "display_data"
    },
    {
     "data": {
      "application/vnd.jupyter.widget-view+json": {
       "model_id": "63f59c48f8414c9dba08d18f1a9ad283",
       "version_major": 2,
       "version_minor": 0
      },
      "text/plain": [
       "Map:   0%|          | 0/106 [00:00<?, ? examples/s]"
      ]
     },
     "metadata": {},
     "output_type": "display_data"
    },
    {
     "data": {
      "application/vnd.jupyter.widget-view+json": {
       "model_id": "680198eb6a044f56bbcef6ca3c1ddcf6",
       "version_major": 2,
       "version_minor": 0
      },
      "text/plain": [
       "Map:   0%|          | 0/111 [00:00<?, ? examples/s]"
      ]
     },
     "metadata": {},
     "output_type": "display_data"
    }
   ],
   "source": [
    "# GPT는 패딩 토큰이 없으므로 배치형식으로 임베딩을 구현하려면 패딩 토큰 추가해야\n",
    "# EOS 토큰 재사용\n",
    "tokenizer.pad_token = tokenizer.eos_token\n",
    "embs_train = ds[\"train\"].map(embed_text, batched=True, batch_size=16)\n",
    "embs_valid = ds[\"valid\"].map(embed_text, batched=True, batch_size=16)\n",
    "embs_test = ds[\"test\"].map(embed_text, batched=True, batch_size=16)"
   ]
  },
  {
   "cell_type": "code",
   "execution_count": 57,
   "id": "993268be",
   "metadata": {},
   "outputs": [
    {
     "data": {
      "application/vnd.jupyter.widget-view+json": {
       "model_id": "bbff535b4b8f41378126125b97e7e398",
       "version_major": 2,
       "version_minor": 0
      },
      "text/plain": [
       "  0%|          | 0/1 [00:00<?, ?it/s]"
      ]
     },
     "metadata": {},
     "output_type": "display_data"
    },
    {
     "data": {
      "text/plain": [
       "Dataset({\n",
       "    features: ['text', 'labels', 'label_ids', 'embedding'],\n",
       "    num_rows: 223\n",
       "})"
      ]
     },
     "execution_count": 57,
     "metadata": {},
     "output_type": "execute_result"
    }
   ],
   "source": [
    "embs_train.add_faiss_index(\"embedding\")"
   ]
  },
  {
   "cell_type": "code",
   "execution_count": 58,
   "id": "3ef95dbf",
   "metadata": {},
   "outputs": [
    {
     "name": "stdout",
     "output_type": "stream",
     "text": [
      "쿼리 레이블: ['new model']\n",
      "쿼리 텍스트:\n",
      "Implementing efficient self attention in T5\n",
      "\n",
      "# 🌟 New model addition\n",
      "My teammates and I (including @ice-americano) would like to use efficient self attention methods such as Linformer, Performer and [...]\n",
      "\n",
      "==================================================\n",
      "추출된 문서:\n",
      "==================================================\n",
      "텍스트:\n",
      "Implement DeLighT: Very Deep and Light-weight Transformers\n",
      "\n",
      "# 🌟 New model addition\n",
      "## Model description\r\n",
      "DeLight, that delivers similar or better performance than transformer-based models with sign [...]\n",
      "점수: 32.11\n",
      "레이블: ['new model']\n",
      "==================================================\n",
      "텍스트:\n",
      "Add support for DeBERTa\n",
      "\n",
      "# 🌟 New model addition\n",
      "## Model description\n",
      "DeBERTa (Decoding-enhanced BERT with disentangled attention) is a new model architecture:\n",
      ">  In this paper we propose a ne [...]\n",
      "점수: 32.78\n",
      "레이블: ['new model']\n",
      "==================================================\n",
      "텍스트:\n",
      "Add new CANINE model\n",
      "\n",
      "# 🌟 New model addition\n",
      "## Model description\n",
      "Google recently proposed a new **C**haracter **A**rchitecture with **N**o tokenization **I**n **N**eural **E**ncoders architectu [...]\n",
      "점수: 33.22\n",
      "레이블: ['new model']\n"
     ]
    }
   ],
   "source": [
    "i, k = 0, 3     # 첫 번째 쿼리와 3개의 최근접 이웃 선택\n",
    "rn, nl = \"\\r\\n\\r\\n\", \"\\n\"   # 간결한 출력을 위해 텍스트에서 줄바꿈 문자 삭제\n",
    "\n",
    "query =  np.array(embs_valid[i][\"embedding\"], dtype=np.float32)\n",
    "scores, samples = embs_train.get_nearest_examples(\"embedding\", query, k=k)\n",
    "\n",
    "print(f\"쿼리 레이블: {embs_valid[i]['labels']}\")\n",
    "print(f\"쿼리 텍스트:\\n{embs_valid[i]['text'][:200].replace(rn, nl)} [...]\\n\")\n",
    "print(\"=\"*50)\n",
    "print(f\"추출된 문서:\")\n",
    "for score, label, text in zip(scores, samples[\"labels\"], samples[\"text\"]):\n",
    "    print(\"=\"*50)\n",
    "    print(f\"텍스트:\\n{text[:200].replace(rn, nl)} [...]\")\n",
    "    print(f\"점수: {score:.2f}\")\n",
    "    print(f\"레이블: {label}\")"
   ]
  },
  {
   "cell_type": "code",
   "execution_count": 59,
   "id": "621a40cc",
   "metadata": {},
   "outputs": [],
   "source": [
    "# 검증셋에 있는 각 샘플엣 반복하지 않고 쿼리 배치 받음\n",
    "def get_sample_preds(sample, m):\n",
    "    return (np.sum(sample[\"label_ids\"], axis=0) >= m).astype(int)\n",
    "\n",
    "def find_best_k_m(ds_train, valid_queries, valid_labels, max_k=17):\n",
    "    max_k = min(len(ds_train), max_k)\n",
    "    perf_micro = np.zeros((max_k, max_k))\n",
    "    perf_macro = np.zeros((max_k, max_k))\n",
    "    for k in range(1, max_k):\n",
    "        for m in range(1, k + 1):\n",
    "            _, samples = ds_train.get_nearest_examples_batch(\"embedding\",\n",
    "                                                             valid_queries, k=k)\n",
    "            y_pred = np.array([get_sample_preds(s, m) for s in samples])\n",
    "            clf_report = classification_report(valid_labels, y_pred,\n",
    "                target_names=mlb.classes_, zero_division=0, output_dict=True)\n",
    "            perf_micro[k, m] = clf_report[\"micro avg\"][\"f1-score\"]\n",
    "            perf_macro[k, m] = clf_report[\"macro avg\"][\"f1-score\"]\n",
    "    return perf_micro, perf_macro"
   ]
  },
  {
   "cell_type": "code",
   "execution_count": 60,
   "id": "72c21f5b",
   "metadata": {},
   "outputs": [],
   "source": [
    "valid_labels = np.array(embs_valid[\"label_ids\"])\n",
    "valid_queries = np.array(embs_valid[\"embedding\"], dtype=np.float32)\n",
    "perf_micro, perf_macro = find_best_k_m(embs_train, valid_queries, valid_labels)"
   ]
  },
  {
   "cell_type": "code",
   "execution_count": 61,
   "id": "806d4a6b",
   "metadata": {},
   "outputs": [
    {
     "data": {
      "image/png": "[encoded data removed]",
      "text/plain": [
       "<Figure size 1000x350 with 2 Axes>"
      ]
     },
     "metadata": {},
     "output_type": "display_data"
    }
   ],
   "source": [
    "fig, (ax0, ax1) = plt.subplots(1, 2, figsize=(10, 3.5), sharey=True)\n",
    "ax0.imshow(perf_micro)\n",
    "ax1.imshow(perf_macro)\n",
    "\n",
    "ax0.set_title(\"micro scores\")\n",
    "ax0.set_ylabel(\"k\")\n",
    "ax1.set_title(\"macro scores\")\n",
    "for ax in [ax0, ax1]:\n",
    "    ax.set_xlim([0.5, 17 - 0.5])\n",
    "    ax.set_ylim([17 - 0.5, 0.5])\n",
    "    ax.set_xlabel(\"m\")\n",
    "plt.show()"
   ]
  },
  {
   "cell_type": "markdown",
   "id": "5d1b40ec",
   "metadata": {},
   "source": [
    "m/k = 1/3의 비율로 선택할 때 성능이 가장 좋다."
   ]
  },
  {
   "cell_type": "code",
   "execution_count": 62,
   "id": "9509701c",
   "metadata": {},
   "outputs": [
    {
     "name": "stdout",
     "output_type": "stream",
     "text": [
      "최상의 k: 3, 최상의 m: 2\n"
     ]
    }
   ],
   "source": [
    "k, m = np.unravel_index(perf_micro.argmax(), perf_micro.shape)\n",
    "print(f\"최상의 k: {k}, 최상의 m: {m}\")"
   ]
  },
  {
   "cell_type": "markdown",
   "id": "eec4c797",
   "metadata": {},
   "source": [
    "15개 최근접 이웃을 검색하고 최소한 5회 등장한 레이블을 할당할 때 최상의 성능 달성"
   ]
  },
  {
   "cell_type": "code",
   "execution_count": 63,
   "id": "e9b24d85",
   "metadata": {},
   "outputs": [
    {
     "data": {
      "application/vnd.jupyter.widget-view+json": {
       "model_id": "ac8ddd78d7544ee28240be4ed79e3732",
       "version_major": 2,
       "version_minor": 0
      },
      "text/plain": [
       "  0%|          | 0/1 [00:00<?, ?it/s]"
      ]
     },
     "metadata": {},
     "output_type": "display_data"
    },
    {
     "data": {
      "application/vnd.jupyter.widget-view+json": {
       "model_id": "501d6a43fd394019960f15d330c6ef2b",
       "version_major": 2,
       "version_minor": 0
      },
      "text/plain": [
       "  0%|          | 0/1 [00:00<?, ?it/s]"
      ]
     },
     "metadata": {},
     "output_type": "display_data"
    },
    {
     "data": {
      "application/vnd.jupyter.widget-view+json": {
       "model_id": "4e11c8055900471fac4af7618d0f8702",
       "version_major": 2,
       "version_minor": 0
      },
      "text/plain": [
       "  0%|          | 0/1 [00:00<?, ?it/s]"
      ]
     },
     "metadata": {},
     "output_type": "display_data"
    },
    {
     "data": {
      "application/vnd.jupyter.widget-view+json": {
       "model_id": "5951097926764b65b5f8ecc435170919",
       "version_major": 2,
       "version_minor": 0
      },
      "text/plain": [
       "  0%|          | 0/1 [00:00<?, ?it/s]"
      ]
     },
     "metadata": {},
     "output_type": "display_data"
    },
    {
     "data": {
      "application/vnd.jupyter.widget-view+json": {
       "model_id": "5c13d0c403b54b48af239d19f668502a",
       "version_major": 2,
       "version_minor": 0
      },
      "text/plain": [
       "  0%|          | 0/1 [00:00<?, ?it/s]"
      ]
     },
     "metadata": {},
     "output_type": "display_data"
    },
    {
     "data": {
      "application/vnd.jupyter.widget-view+json": {
       "model_id": "f34a67b31cf64edcad43e85378e1f5c0",
       "version_major": 2,
       "version_minor": 0
      },
      "text/plain": [
       "  0%|          | 0/1 [00:00<?, ?it/s]"
      ]
     },
     "metadata": {},
     "output_type": "display_data"
    }
   ],
   "source": [
    "# FAISS 인덱스는 데이터셋처럼 슬라이싱 하지 못하므로 인덱스 삭제\n",
    "embs_train.drop_index(\"embedding\")\n",
    "test_labels = np.array(embs_test[\"label_ids\"])\n",
    "test_queries = np.array(embs_test[\"embedding\"], dtype=np.float32)\n",
    "\n",
    "for train_slice in train_slices:\n",
    "    # 훈련 슬라이스로부터 FAISS 인덱스 생성\n",
    "    embs_train_tmp = embs_train.select(train_slice)\n",
    "    embs_train_tmp.add_faiss_index(\"embedding\")\n",
    "    # 검증 세트로 최상의 k, m 값 구함\n",
    "    perf_micro, _ = find_best_k_m(embs_train_tmp, valid_queries, valid_labels)\n",
    "    k, m = np.unravel_index(perf_micro.argmax(), perf_micro.shape)\n",
    "    # 테스트 세트에서 예측 생성\n",
    "    _, samples = embs_train_tmp.get_nearest_examples_batch(\"embedding\",\n",
    "                                                           test_queries,\n",
    "                                                           k=int(k))\n",
    "    y_pred = np.array([get_sample_preds(s, m) for s in samples])\n",
    "\n",
    "    clf_report = classification_report(test_labels, y_pred,\n",
    "        target_names=mlb.classes_, zero_division=0, output_dict=True,)\n",
    "    macro_scores[\"Embedding\"].append(clf_report[\"macro avg\"][\"f1-score\"])\n",
    "    micro_scores[\"Embedding\"].append(clf_report[\"micro avg\"][\"f1-score\"])"
   ]
  },
  {
   "cell_type": "code",
   "execution_count": 64,
   "id": "62644155",
   "metadata": {},
   "outputs": [
    {
     "data": {
      "image/png": "[encoded data removed]",
      "text/plain": [
       "<Figure size 1000x400 with 2 Axes>"
      ]
     },
     "metadata": {},
     "output_type": "display_data"
    }
   ],
   "source": [
    "plot_metrics(micro_scores, macro_scores, train_samples, \"Embedding\")"
   ]
  },
  {
   "cell_type": "markdown",
   "id": "a8552781",
   "metadata": {},
   "source": [
    "임베딩 룩업은 학습 가능한 파라미터 k와 m을 가지며 마이크로 점수에서 이전 방법들에 비해 경쟁력이 있으나, 매크로 점수에서는 나쁜 성능 보임\n",
    "\n",
    "\n",
    "* 기본 트랜스포머 미세 튜닝하기"
   ]
  },
  {
   "cell_type": "code",
   "execution_count": 29,
   "id": "fb236615",
   "metadata": {},
   "outputs": [
    {
     "name": "stderr",
     "output_type": "stream",
     "text": [
      "C:\\Users\\knuyh\\anaconda3\\Lib\\site-packages\\huggingface_hub\\file_download.py:1132: FutureWarning: `resume_download` is deprecated and will be removed in version 1.0.0. Downloads always resume when possible. If you want to force a new download, use `force_download=True`.\n",
      "  warnings.warn(\n"
     ]
    },
    {
     "data": {
      "application/vnd.jupyter.widget-view+json": {
       "model_id": "58b3833f04144667b5428a845688a300",
       "version_major": 2,
       "version_minor": 0
      },
      "text/plain": [
       "Map:   0%|          | 0/223 [00:00<?, ? examples/s]"
      ]
     },
     "metadata": {},
     "output_type": "display_data"
    },
    {
     "data": {
      "application/vnd.jupyter.widget-view+json": {
       "model_id": "0a3b7d8b40f74deab614053871fadeb2",
       "version_major": 2,
       "version_minor": 0
      },
      "text/plain": [
       "Map:   0%|          | 0/106 [00:00<?, ? examples/s]"
      ]
     },
     "metadata": {},
     "output_type": "display_data"
    },
    {
     "data": {
      "application/vnd.jupyter.widget-view+json": {
       "model_id": "3e5878f9e4a04c16a69556b5f0771005",
       "version_major": 2,
       "version_minor": 0
      },
      "text/plain": [
       "Map:   0%|          | 0/111 [00:00<?, ? examples/s]"
      ]
     },
     "metadata": {},
     "output_type": "display_data"
    },
    {
     "data": {
      "application/vnd.jupyter.widget-view+json": {
       "model_id": "a5b7565d2625425b9783523ad8326a44",
       "version_major": 2,
       "version_minor": 0
      },
      "text/plain": [
       "Map:   0%|          | 0/9303 [00:00<?, ? examples/s]"
      ]
     },
     "metadata": {},
     "output_type": "display_data"
    }
   ],
   "source": [
    "import torch\n",
    "from transformers import (AutoTokenizer, AutoConfig,\n",
    "                          AutoModelForSequenceClassification)\n",
    "\n",
    "model_ckpt = \"bert-base-uncased\"\n",
    "tokenizer = AutoTokenizer.from_pretrained(model_ckpt)\n",
    "\n",
    "def tokenize(batch):\n",
    "    return tokenizer(batch[\"text\"], truncation=True, max_length=128)\n",
    "ds_enc = ds.map(tokenize, batched=True)\n",
    "ds_enc = ds_enc.remove_columns(['labels', 'text'])"
   ]
  },
  {
   "cell_type": "code",
   "execution_count": 66,
   "id": "6f55fdd7",
   "metadata": {},
   "outputs": [
    {
     "data": {
      "application/vnd.jupyter.widget-view+json": {
       "model_id": "460558da0f064c8181cb324c79114572",
       "version_major": 2,
       "version_minor": 0
      },
      "text/plain": [
       "Map:   0%|          | 0/223 [00:00<?, ? examples/s]"
      ]
     },
     "metadata": {},
     "output_type": "display_data"
    },
    {
     "data": {
      "application/vnd.jupyter.widget-view+json": {
       "model_id": "96fe4570ec9c402194d2daa8930af367",
       "version_major": 2,
       "version_minor": 0
      },
      "text/plain": [
       "Map:   0%|          | 0/106 [00:00<?, ? examples/s]"
      ]
     },
     "metadata": {},
     "output_type": "display_data"
    },
    {
     "data": {
      "application/vnd.jupyter.widget-view+json": {
       "model_id": "58c7b0354aa2459988aa598cf8ecd4c3",
       "version_major": 2,
       "version_minor": 0
      },
      "text/plain": [
       "Map:   0%|          | 0/111 [00:00<?, ? examples/s]"
      ]
     },
     "metadata": {},
     "output_type": "display_data"
    },
    {
     "data": {
      "application/vnd.jupyter.widget-view+json": {
       "model_id": "20ce9c4831104eef8512abc335f4dc67",
       "version_major": 2,
       "version_minor": 0
      },
      "text/plain": [
       "Map:   0%|          | 0/9303 [00:00<?, ? examples/s]"
      ]
     },
     "metadata": {},
     "output_type": "display_data"
    }
   ],
   "source": [
    "ds_enc.set_format(\"torch\")\n",
    "# 다중 레이블 손실 함수는 이산적인 레이블 대신 클래스 확률도 사용할 수 있기에 실수 타입의 레이블 기대\n",
    "ds_enc = ds_enc.map(lambda x: {\"label_ids_f\": x[\"label_ids\"].to(torch.float)},\n",
    "                    remove_columns=[\"label_ids\"])\n",
    "ds_enc = ds_enc.rename_column(\"label_ids_f\", \"label_ids\")"
   ]
  },
  {
   "cell_type": "code",
   "execution_count": 34,
   "id": "c2bd6a33",
   "metadata": {},
   "outputs": [],
   "source": [
    "from transformers import Trainer, TrainingArguments\n",
    "\n",
    "training_args_fine_tune = TrainingArguments(\n",
    "    output_dir=\"C:/Users/knuyh/Desktop\", num_train_epochs=10, learning_rate=3e-5,\n",
    "    lr_scheduler_type='constant', per_device_train_batch_size=4,\n",
    "    per_device_eval_batch_size=32, weight_decay=0.0,\n",
    "    evaluation_strategy=\"epoch\", save_strategy=\"epoch\",logging_strategy=\"epoch\",\n",
    "    load_best_model_at_end=True, metric_for_best_model='micro f1',\n",
    "    # 크기가 작아 과대적합 가능성있기에 load_best_model_at_end=T 설정해 마이크로 F1점수 기반으로 최선의 모델 선택\n",
    "    save_total_limit=1, log_level='error')"
   ]
  },
  {
   "cell_type": "code",
   "execution_count": 39,
   "id": "9c13d307",
   "metadata": {},
   "outputs": [],
   "source": [
    "from scipy.special import expit as sigmoid\n",
    "\n",
    "def compute_metrics(pred):\n",
    "    y_true = pred.label_ids\n",
    "    y_pred = sigmoid(pred.predictions)\n",
    "    y_pred = (y_pred>0.5).astype(float)\n",
    "\n",
    "    clf_dict = classification_report(y_true, y_pred, target_names=all_labels,\n",
    "                                     zero_division=0, output_dict=True)\n",
    "    return {\"micro f1\": clf_dict[\"micro avg\"][\"f1-score\"],\n",
    "            \"macro f1\": clf_dict[\"macro avg\"][\"f1-score\"]}"
   ]
  },
  {
   "cell_type": "code",
   "execution_count": 79,
   "id": "680c4ef3",
   "metadata": {},
   "outputs": [],
   "source": [
    "config = AutoConfig.from_pretrained(model_ckpt)\n",
    "config.num_labels = len(all_labels)\n",
    "config.problem_type = \"multi_label_classification\""
   ]
  },
  {
   "cell_type": "code",
   "execution_count": 81,
   "id": "da2e6b4b",
   "metadata": {},
   "outputs": [
    {
     "name": "stderr",
     "output_type": "stream",
     "text": [
      "Some weights of BertForSequenceClassification were not initialized from the model checkpoint at bert-base-uncased and are newly initialized: ['classifier.bias', 'classifier.weight']\n",
      "You should probably TRAIN this model on a down-stream task to be able to use it for predictions and inference.\n",
      "C:\\Users\\knuyh\\anaconda3\\Lib\\site-packages\\accelerate\\accelerator.py:451: FutureWarning: Passing the following arguments to `Accelerator` is deprecated and will be removed in version 1.0 of Accelerate: dict_keys(['dispatch_batches', 'split_batches', 'even_batches', 'use_seedable_sampler']). Please pass an `accelerate.DataLoaderConfiguration` instead: \n",
      "dataloader_config = DataLoaderConfiguration(dispatch_batches=None, split_batches=False, even_batches=True, use_seedable_sampler=True)\n",
      "  warnings.warn(\n"
     ]
    },
    {
     "name": "stdout",
     "output_type": "stream",
     "text": [
      "{'loss': 0.6969, 'grad_norm': 2.955594778060913, 'learning_rate': 3e-05, 'epoch': 1.0}\n",
      "{'eval_loss': 0.6365318894386292, 'eval_micro f1': 0.09032258064516129, 'eval_macro f1': 0.04868032037843358, 'eval_runtime': 34.3965, 'eval_samples_per_second': 3.082, 'eval_steps_per_second': 0.116, 'epoch': 1.0}\n",
      "{'loss': 0.6042, 'grad_norm': 2.7399063110351562, 'learning_rate': 3e-05, 'epoch': 2.0}\n",
      "{'eval_loss': 0.5899571180343628, 'eval_micro f1': 0.00980392156862745, 'eval_macro f1': 0.006006006006006006, 'eval_runtime': 36.4547, 'eval_samples_per_second': 2.908, 'eval_steps_per_second': 0.11, 'epoch': 2.0}\n",
      "{'loss': 0.5342, 'grad_norm': 1.967198371887207, 'learning_rate': 3e-05, 'epoch': 3.0}\n",
      "{'eval_loss': 0.5278964638710022, 'eval_micro f1': 0.015037593984962405, 'eval_macro f1': 0.020202020202020204, 'eval_runtime': 35.1188, 'eval_samples_per_second': 3.018, 'eval_steps_per_second': 0.114, 'epoch': 3.0}\n",
      "{'loss': 0.4916, 'grad_norm': 2.0630383491516113, 'learning_rate': 3e-05, 'epoch': 4.0}\n",
      "{'eval_loss': 0.484445720911026, 'eval_micro f1': 0.0, 'eval_macro f1': 0.0, 'eval_runtime': 36.3376, 'eval_samples_per_second': 2.917, 'eval_steps_per_second': 0.11, 'epoch': 4.0}\n",
      "{'loss': 0.446, 'grad_norm': 1.7550982236862183, 'learning_rate': 3e-05, 'epoch': 5.0}\n",
      "{'eval_loss': 0.45238757133483887, 'eval_micro f1': 0.0, 'eval_macro f1': 0.0, 'eval_runtime': 36.1227, 'eval_samples_per_second': 2.934, 'eval_steps_per_second': 0.111, 'epoch': 5.0}\n",
      "{'loss': 0.4131, 'grad_norm': 1.6844723224639893, 'learning_rate': 3e-05, 'epoch': 6.0}\n",
      "{'eval_loss': 0.42507117986679077, 'eval_micro f1': 0.0, 'eval_macro f1': 0.0, 'eval_runtime': 36.8512, 'eval_samples_per_second': 2.876, 'eval_steps_per_second': 0.109, 'epoch': 6.0}\n",
      "{'loss': 0.3826, 'grad_norm': 1.757987380027771, 'learning_rate': 3e-05, 'epoch': 7.0}\n",
      "{'eval_loss': 0.4139702320098877, 'eval_micro f1': 0.0, 'eval_macro f1': 0.0, 'eval_runtime': 35.698, 'eval_samples_per_second': 2.969, 'eval_steps_per_second': 0.112, 'epoch': 7.0}\n",
      "{'loss': 0.3595, 'grad_norm': 1.4951581954956055, 'learning_rate': 3e-05, 'epoch': 8.0}\n",
      "{'eval_loss': 0.4000503122806549, 'eval_micro f1': 0.01652892561983471, 'eval_macro f1': 0.022222222222222223, 'eval_runtime': 36.4694, 'eval_samples_per_second': 2.907, 'eval_steps_per_second': 0.11, 'epoch': 8.0}\n",
      "{'loss': 0.3522, 'grad_norm': 1.4520729780197144, 'learning_rate': 3e-05, 'epoch': 9.0}\n",
      "{'eval_loss': 0.38879093527793884, 'eval_micro f1': 0.0, 'eval_macro f1': 0.0, 'eval_runtime': 37.1178, 'eval_samples_per_second': 2.856, 'eval_steps_per_second': 0.108, 'epoch': 9.0}\n",
      "{'loss': 0.3349, 'grad_norm': 1.9225105047225952, 'learning_rate': 3e-05, 'epoch': 10.0}\n",
      "{'eval_loss': 0.38062071800231934, 'eval_micro f1': 0.0, 'eval_macro f1': 0.0, 'eval_runtime': 32.9369, 'eval_samples_per_second': 3.218, 'eval_steps_per_second': 0.121, 'epoch': 10.0}\n",
      "{'loss': 0.3176, 'grad_norm': 1.3519896268844604, 'learning_rate': 3e-05, 'epoch': 11.0}\n",
      "{'eval_loss': 0.3739840090274811, 'eval_micro f1': 0.0, 'eval_macro f1': 0.0, 'eval_runtime': 26.6817, 'eval_samples_per_second': 3.973, 'eval_steps_per_second': 0.15, 'epoch': 11.0}\n",
      "{'loss': 0.3048, 'grad_norm': 1.6703697443008423, 'learning_rate': 3e-05, 'epoch': 12.0}\n",
      "{'eval_loss': 0.37006136775016785, 'eval_micro f1': 0.0, 'eval_macro f1': 0.0, 'eval_runtime': 26.5898, 'eval_samples_per_second': 3.986, 'eval_steps_per_second': 0.15, 'epoch': 12.0}\n",
      "{'loss': 0.2943, 'grad_norm': 1.4476593732833862, 'learning_rate': 3e-05, 'epoch': 13.0}\n",
      "{'eval_loss': 0.3683314919471741, 'eval_micro f1': 0.0, 'eval_macro f1': 0.0, 'eval_runtime': 30.6458, 'eval_samples_per_second': 3.459, 'eval_steps_per_second': 0.131, 'epoch': 13.0}\n",
      "{'loss': 0.285, 'grad_norm': 1.4378302097320557, 'learning_rate': 3e-05, 'epoch': 14.0}\n",
      "{'eval_loss': 0.36437901854515076, 'eval_micro f1': 0.0, 'eval_macro f1': 0.0, 'eval_runtime': 27.1305, 'eval_samples_per_second': 3.907, 'eval_steps_per_second': 0.147, 'epoch': 14.0}\n",
      "{'loss': 0.2748, 'grad_norm': 1.3213093280792236, 'learning_rate': 3e-05, 'epoch': 15.0}\n",
      "{'eval_loss': 0.36062222719192505, 'eval_micro f1': 0.0, 'eval_macro f1': 0.0, 'eval_runtime': 32.1002, 'eval_samples_per_second': 3.302, 'eval_steps_per_second': 0.125, 'epoch': 15.0}\n",
      "{'loss': 0.2616, 'grad_norm': 1.2157896757125854, 'learning_rate': 3e-05, 'epoch': 16.0}\n",
      "{'eval_loss': 0.35936838388442993, 'eval_micro f1': 0.0, 'eval_macro f1': 0.0, 'eval_runtime': 26.8542, 'eval_samples_per_second': 3.947, 'eval_steps_per_second': 0.149, 'epoch': 16.0}\n",
      "{'loss': 0.262, 'grad_norm': 1.2603822946548462, 'learning_rate': 3e-05, 'epoch': 17.0}\n",
      "{'eval_loss': 0.3568217158317566, 'eval_micro f1': 0.0, 'eval_macro f1': 0.0, 'eval_runtime': 32.0549, 'eval_samples_per_second': 3.307, 'eval_steps_per_second': 0.125, 'epoch': 17.0}\n",
      "{'loss': 0.2468, 'grad_norm': 1.2544100284576416, 'learning_rate': 3e-05, 'epoch': 18.0}\n",
      "{'eval_loss': 0.3579837381839752, 'eval_micro f1': 0.0, 'eval_macro f1': 0.0, 'eval_runtime': 29.6408, 'eval_samples_per_second': 3.576, 'eval_steps_per_second': 0.135, 'epoch': 18.0}\n",
      "{'loss': 0.2478, 'grad_norm': 1.5723490715026855, 'learning_rate': 3e-05, 'epoch': 19.0}\n",
      "{'eval_loss': 0.3572695851325989, 'eval_micro f1': 0.0, 'eval_macro f1': 0.0, 'eval_runtime': 28.993, 'eval_samples_per_second': 3.656, 'eval_steps_per_second': 0.138, 'epoch': 19.0}\n",
      "{'loss': 0.2347, 'grad_norm': 1.4360357522964478, 'learning_rate': 3e-05, 'epoch': 20.0}\n",
      "{'eval_loss': 0.3586884140968323, 'eval_micro f1': 0.0, 'eval_macro f1': 0.0, 'eval_runtime': 38.0603, 'eval_samples_per_second': 2.785, 'eval_steps_per_second': 0.105, 'epoch': 20.0}\n",
      "{'train_runtime': 964.3506, 'train_samples_per_second': 0.207, 'train_steps_per_second': 0.062, 'train_loss': 0.36723100741704306, 'epoch': 20.0}\n"
     ]
    },
    {
     "name": "stderr",
     "output_type": "stream",
     "text": [
      "Some weights of BertForSequenceClassification were not initialized from the model checkpoint at bert-base-uncased and are newly initialized: ['classifier.bias', 'classifier.weight']\n",
      "You should probably TRAIN this model on a down-stream task to be able to use it for predictions and inference.\n",
      "C:\\Users\\knuyh\\anaconda3\\Lib\\site-packages\\accelerate\\accelerator.py:451: FutureWarning: Passing the following arguments to `Accelerator` is deprecated and will be removed in version 1.0 of Accelerate: dict_keys(['dispatch_batches', 'split_batches', 'even_batches', 'use_seedable_sampler']). Please pass an `accelerate.DataLoaderConfiguration` instead: \n",
      "dataloader_config = DataLoaderConfiguration(dispatch_batches=None, split_batches=False, even_batches=True, use_seedable_sampler=True)\n",
      "  warnings.warn(\n"
     ]
    },
    {
     "name": "stdout",
     "output_type": "stream",
     "text": [
      "{'loss': 0.6068, 'grad_norm': 2.13637113571167, 'learning_rate': 3e-05, 'epoch': 1.0}\n",
      "{'eval_loss': 0.53438800573349, 'eval_micro f1': 0.0, 'eval_macro f1': 0.0, 'eval_runtime': 36.9253, 'eval_samples_per_second': 2.871, 'eval_steps_per_second': 0.108, 'epoch': 1.0}\n",
      "{'loss': 0.5008, 'grad_norm': 2.1708035469055176, 'learning_rate': 3e-05, 'epoch': 2.0}\n",
      "{'eval_loss': 0.48149192333221436, 'eval_micro f1': 0.0, 'eval_macro f1': 0.0, 'eval_runtime': 28.3507, 'eval_samples_per_second': 3.739, 'eval_steps_per_second': 0.141, 'epoch': 2.0}\n",
      "{'loss': 0.4479, 'grad_norm': 2.3027141094207764, 'learning_rate': 3e-05, 'epoch': 3.0}\n",
      "{'eval_loss': 0.4435657560825348, 'eval_micro f1': 0.0, 'eval_macro f1': 0.0, 'eval_runtime': 35.3469, 'eval_samples_per_second': 2.999, 'eval_steps_per_second': 0.113, 'epoch': 3.0}\n",
      "{'loss': 0.4239, 'grad_norm': 1.9193183183670044, 'learning_rate': 3e-05, 'epoch': 4.0}\n",
      "{'eval_loss': 0.4211205840110779, 'eval_micro f1': 0.0, 'eval_macro f1': 0.0, 'eval_runtime': 29.5156, 'eval_samples_per_second': 3.591, 'eval_steps_per_second': 0.136, 'epoch': 4.0}\n",
      "{'loss': 0.3889, 'grad_norm': 1.6028590202331543, 'learning_rate': 3e-05, 'epoch': 5.0}\n",
      "{'eval_loss': 0.3998905122280121, 'eval_micro f1': 0.0, 'eval_macro f1': 0.0, 'eval_runtime': 34.6659, 'eval_samples_per_second': 3.058, 'eval_steps_per_second': 0.115, 'epoch': 5.0}\n",
      "{'loss': 0.3716, 'grad_norm': 1.3010151386260986, 'learning_rate': 3e-05, 'epoch': 6.0}\n",
      "{'eval_loss': 0.38785186409950256, 'eval_micro f1': 0.0, 'eval_macro f1': 0.0, 'eval_runtime': 30.1903, 'eval_samples_per_second': 3.511, 'eval_steps_per_second': 0.132, 'epoch': 6.0}\n",
      "{'loss': 0.3543, 'grad_norm': 1.2835220098495483, 'learning_rate': 3e-05, 'epoch': 7.0}\n",
      "{'eval_loss': 0.37694764137268066, 'eval_micro f1': 0.0, 'eval_macro f1': 0.0, 'eval_runtime': 33.0656, 'eval_samples_per_second': 3.206, 'eval_steps_per_second': 0.121, 'epoch': 7.0}\n",
      "{'loss': 0.339, 'grad_norm': 1.5919047594070435, 'learning_rate': 3e-05, 'epoch': 8.0}\n",
      "{'eval_loss': 0.37249183654785156, 'eval_micro f1': 0.0, 'eval_macro f1': 0.0, 'eval_runtime': 30.3265, 'eval_samples_per_second': 3.495, 'eval_steps_per_second': 0.132, 'epoch': 8.0}\n",
      "{'loss': 0.3272, 'grad_norm': 1.40608811378479, 'learning_rate': 3e-05, 'epoch': 9.0}\n",
      "{'eval_loss': 0.36624661087989807, 'eval_micro f1': 0.0, 'eval_macro f1': 0.0, 'eval_runtime': 31.6, 'eval_samples_per_second': 3.354, 'eval_steps_per_second': 0.127, 'epoch': 9.0}\n",
      "{'loss': 0.3053, 'grad_norm': 1.706542730331421, 'learning_rate': 3e-05, 'epoch': 10.0}\n",
      "{'eval_loss': 0.3624877333641052, 'eval_micro f1': 0.0, 'eval_macro f1': 0.0, 'eval_runtime': 32.0019, 'eval_samples_per_second': 3.312, 'eval_steps_per_second': 0.125, 'epoch': 10.0}\n",
      "{'loss': 0.2882, 'grad_norm': 1.547668695449829, 'learning_rate': 3e-05, 'epoch': 11.0}\n",
      "{'eval_loss': 0.3610754609107971, 'eval_micro f1': 0.0, 'eval_macro f1': 0.0, 'eval_runtime': 30.3733, 'eval_samples_per_second': 3.49, 'eval_steps_per_second': 0.132, 'epoch': 11.0}\n",
      "{'loss': 0.2806, 'grad_norm': 1.288138747215271, 'learning_rate': 3e-05, 'epoch': 12.0}\n",
      "{'eval_loss': 0.3585197627544403, 'eval_micro f1': 0.0, 'eval_macro f1': 0.0, 'eval_runtime': 34.013, 'eval_samples_per_second': 3.116, 'eval_steps_per_second': 0.118, 'epoch': 12.0}\n",
      "{'loss': 0.2644, 'grad_norm': 1.0339306592941284, 'learning_rate': 3e-05, 'epoch': 13.0}\n",
      "{'eval_loss': 0.35539165139198303, 'eval_micro f1': 0.0, 'eval_macro f1': 0.0, 'eval_runtime': 30.0044, 'eval_samples_per_second': 3.533, 'eval_steps_per_second': 0.133, 'epoch': 13.0}\n",
      "{'loss': 0.2499, 'grad_norm': 1.2665235996246338, 'learning_rate': 3e-05, 'epoch': 14.0}\n",
      "{'eval_loss': 0.3585803210735321, 'eval_micro f1': 0.0, 'eval_macro f1': 0.0, 'eval_runtime': 32.6243, 'eval_samples_per_second': 3.249, 'eval_steps_per_second': 0.123, 'epoch': 14.0}\n",
      "{'loss': 0.2341, 'grad_norm': 1.0253479480743408, 'learning_rate': 3e-05, 'epoch': 15.0}\n",
      "{'eval_loss': 0.35688453912734985, 'eval_micro f1': 0.032520325203252036, 'eval_macro f1': 0.030158730158730163, 'eval_runtime': 31.3776, 'eval_samples_per_second': 3.378, 'eval_steps_per_second': 0.127, 'epoch': 15.0}\n",
      "{'loss': 0.2255, 'grad_norm': 1.0130802392959595, 'learning_rate': 3e-05, 'epoch': 16.0}\n",
      "{'eval_loss': 0.35783207416534424, 'eval_micro f1': 0.032520325203252036, 'eval_macro f1': 0.030158730158730163, 'eval_runtime': 30.9233, 'eval_samples_per_second': 3.428, 'eval_steps_per_second': 0.129, 'epoch': 16.0}\n",
      "{'loss': 0.2132, 'grad_norm': 1.059455156326294, 'learning_rate': 3e-05, 'epoch': 17.0}\n",
      "{'eval_loss': 0.3570532202720642, 'eval_micro f1': 0.06299212598425197, 'eval_macro f1': 0.02693602693602694, 'eval_runtime': 34.2951, 'eval_samples_per_second': 3.091, 'eval_steps_per_second': 0.117, 'epoch': 17.0}\n",
      "{'loss': 0.1948, 'grad_norm': 1.0382415056228638, 'learning_rate': 3e-05, 'epoch': 18.0}\n",
      "{'eval_loss': 0.3556627929210663, 'eval_micro f1': 0.032520325203252036, 'eval_macro f1': 0.04242424242424243, 'eval_runtime': 30.0273, 'eval_samples_per_second': 3.53, 'eval_steps_per_second': 0.133, 'epoch': 18.0}\n",
      "{'loss': 0.1834, 'grad_norm': 0.912986695766449, 'learning_rate': 3e-05, 'epoch': 19.0}\n",
      "{'eval_loss': 0.35699528455734253, 'eval_micro f1': 0.07751937984496124, 'eval_macro f1': 0.031746031746031744, 'eval_runtime': 45.981, 'eval_samples_per_second': 2.305, 'eval_steps_per_second': 0.087, 'epoch': 19.0}\n",
      "{'loss': 0.1814, 'grad_norm': 0.8484681844711304, 'learning_rate': 3e-05, 'epoch': 20.0}\n",
      "{'eval_loss': 0.35605114698410034, 'eval_micro f1': 0.1044776119402985, 'eval_macro f1': 0.0844410491469315, 'eval_runtime': 27.9816, 'eval_samples_per_second': 3.788, 'eval_steps_per_second': 0.143, 'epoch': 20.0}\n",
      "{'train_runtime': 1157.2712, 'train_samples_per_second': 0.328, 'train_steps_per_second': 0.086, 'train_loss': 0.31905465364456176, 'epoch': 20.0}\n"
     ]
    },
    {
     "name": "stderr",
     "output_type": "stream",
     "text": [
      "Some weights of BertForSequenceClassification were not initialized from the model checkpoint at bert-base-uncased and are newly initialized: ['classifier.bias', 'classifier.weight']\n",
      "You should probably TRAIN this model on a down-stream task to be able to use it for predictions and inference.\n",
      "C:\\Users\\knuyh\\anaconda3\\Lib\\site-packages\\accelerate\\accelerator.py:451: FutureWarning: Passing the following arguments to `Accelerator` is deprecated and will be removed in version 1.0 of Accelerate: dict_keys(['dispatch_batches', 'split_batches', 'even_batches', 'use_seedable_sampler']). Please pass an `accelerate.DataLoaderConfiguration` instead: \n",
      "dataloader_config = DataLoaderConfiguration(dispatch_batches=None, split_batches=False, even_batches=True, use_seedable_sampler=True)\n",
      "  warnings.warn(\n"
     ]
    },
    {
     "name": "stdout",
     "output_type": "stream",
     "text": [
      "{'loss': 0.6318, 'grad_norm': 3.0653915405273438, 'learning_rate': 3e-05, 'epoch': 1.0}\n",
      "{'eval_loss': 0.5698016285896301, 'eval_micro f1': 0.08856088560885608, 'eval_macro f1': 0.030362177401865104, 'eval_runtime': 27.2407, 'eval_samples_per_second': 3.891, 'eval_steps_per_second': 0.147, 'epoch': 1.0}\n",
      "{'loss': 0.5063, 'grad_norm': 2.0990960597991943, 'learning_rate': 3e-05, 'epoch': 2.0}\n",
      "{'eval_loss': 0.46627846360206604, 'eval_micro f1': 0.0, 'eval_macro f1': 0.0, 'eval_runtime': 36.0871, 'eval_samples_per_second': 2.937, 'eval_steps_per_second': 0.111, 'epoch': 2.0}\n",
      "{'loss': 0.4284, 'grad_norm': 1.805504322052002, 'learning_rate': 3e-05, 'epoch': 3.0}\n",
      "{'eval_loss': 0.40700235962867737, 'eval_micro f1': 0.0, 'eval_macro f1': 0.0, 'eval_runtime': 29.4764, 'eval_samples_per_second': 3.596, 'eval_steps_per_second': 0.136, 'epoch': 3.0}\n",
      "{'loss': 0.3738, 'grad_norm': 1.7160688638687134, 'learning_rate': 3e-05, 'epoch': 4.0}\n",
      "{'eval_loss': 0.3877612352371216, 'eval_micro f1': 0.0, 'eval_macro f1': 0.0, 'eval_runtime': 30.0153, 'eval_samples_per_second': 3.532, 'eval_steps_per_second': 0.133, 'epoch': 4.0}\n",
      "{'loss': 0.3562, 'grad_norm': 1.4001965522766113, 'learning_rate': 3e-05, 'epoch': 5.0}\n",
      "{'eval_loss': 0.3691585063934326, 'eval_micro f1': 0.0, 'eval_macro f1': 0.0, 'eval_runtime': 36.0482, 'eval_samples_per_second': 2.941, 'eval_steps_per_second': 0.111, 'epoch': 5.0}\n",
      "{'loss': 0.3341, 'grad_norm': 1.4851804971694946, 'learning_rate': 3e-05, 'epoch': 6.0}\n",
      "{'eval_loss': 0.3639262616634369, 'eval_micro f1': 0.0, 'eval_macro f1': 0.0, 'eval_runtime': 28.3602, 'eval_samples_per_second': 3.738, 'eval_steps_per_second': 0.141, 'epoch': 6.0}\n",
      "{'loss': 0.3289, 'grad_norm': 1.6547602415084839, 'learning_rate': 3e-05, 'epoch': 7.0}\n",
      "{'eval_loss': 0.36129218339920044, 'eval_micro f1': 0.0, 'eval_macro f1': 0.0, 'eval_runtime': 31.2419, 'eval_samples_per_second': 3.393, 'eval_steps_per_second': 0.128, 'epoch': 7.0}\n",
      "{'loss': 0.3108, 'grad_norm': 1.2996653318405151, 'learning_rate': 3e-05, 'epoch': 8.0}\n",
      "{'eval_loss': 0.35344916582107544, 'eval_micro f1': 0.0, 'eval_macro f1': 0.0, 'eval_runtime': 38.1866, 'eval_samples_per_second': 2.776, 'eval_steps_per_second': 0.105, 'epoch': 8.0}\n",
      "{'loss': 0.3007, 'grad_norm': 1.3007112741470337, 'learning_rate': 3e-05, 'epoch': 9.0}\n",
      "{'eval_loss': 0.3552102744579315, 'eval_micro f1': 0.0, 'eval_macro f1': 0.0, 'eval_runtime': 31.4533, 'eval_samples_per_second': 3.37, 'eval_steps_per_second': 0.127, 'epoch': 9.0}\n",
      "{'loss': 0.2872, 'grad_norm': 1.4574207067489624, 'learning_rate': 3e-05, 'epoch': 10.0}\n",
      "{'eval_loss': 0.3448500633239746, 'eval_micro f1': 0.07936507936507936, 'eval_macro f1': 0.037037037037037035, 'eval_runtime': 28.5324, 'eval_samples_per_second': 3.715, 'eval_steps_per_second': 0.14, 'epoch': 10.0}\n",
      "{'loss': 0.2759, 'grad_norm': 1.342292070388794, 'learning_rate': 3e-05, 'epoch': 11.0}\n",
      "{'eval_loss': 0.3448355793952942, 'eval_micro f1': 0.0, 'eval_macro f1': 0.0, 'eval_runtime': 38.5603, 'eval_samples_per_second': 2.749, 'eval_steps_per_second': 0.104, 'epoch': 11.0}\n",
      "{'loss': 0.2543, 'grad_norm': 1.0771163702011108, 'learning_rate': 3e-05, 'epoch': 12.0}\n",
      "{'eval_loss': 0.3413991630077362, 'eval_micro f1': 0.048, 'eval_macro f1': 0.022988505747126436, 'eval_runtime': 40.6379, 'eval_samples_per_second': 2.608, 'eval_steps_per_second': 0.098, 'epoch': 12.0}\n",
      "{'loss': 0.2444, 'grad_norm': 0.8109018802642822, 'learning_rate': 3e-05, 'epoch': 13.0}\n",
      "{'eval_loss': 0.3361949324607849, 'eval_micro f1': 0.13533834586466165, 'eval_macro f1': 0.0625, 'eval_runtime': 32.7016, 'eval_samples_per_second': 3.241, 'eval_steps_per_second': 0.122, 'epoch': 13.0}\n",
      "{'loss': 0.2207, 'grad_norm': 1.0587087869644165, 'learning_rate': 3e-05, 'epoch': 14.0}\n",
      "{'eval_loss': 0.3428594172000885, 'eval_micro f1': 0.19607843137254902, 'eval_macro f1': 0.07142857142857142, 'eval_runtime': 30.6286, 'eval_samples_per_second': 3.461, 'eval_steps_per_second': 0.131, 'epoch': 14.0}\n",
      "{'loss': 0.2045, 'grad_norm': 0.9403385519981384, 'learning_rate': 3e-05, 'epoch': 15.0}\n",
      "{'eval_loss': 0.3372042775154114, 'eval_micro f1': 0.17518248175182483, 'eval_macro f1': 0.07788433594885208, 'eval_runtime': 35.5932, 'eval_samples_per_second': 2.978, 'eval_steps_per_second': 0.112, 'epoch': 15.0}\n",
      "{'loss': 0.1919, 'grad_norm': 0.9796484112739563, 'learning_rate': 3e-05, 'epoch': 16.0}\n",
      "{'eval_loss': 0.3395831882953644, 'eval_micro f1': 0.21052631578947367, 'eval_macro f1': 0.08315863032844166, 'eval_runtime': 38.4607, 'eval_samples_per_second': 2.756, 'eval_steps_per_second': 0.104, 'epoch': 16.0}\n",
      "{'loss': 0.1754, 'grad_norm': 1.0240854024887085, 'learning_rate': 3e-05, 'epoch': 17.0}\n",
      "{'eval_loss': 0.33260026574134827, 'eval_micro f1': 0.2328767123287671, 'eval_macro f1': 0.09598765432098766, 'eval_runtime': 30.9189, 'eval_samples_per_second': 3.428, 'eval_steps_per_second': 0.129, 'epoch': 17.0}\n",
      "{'loss': 0.1654, 'grad_norm': 0.7010847926139832, 'learning_rate': 3e-05, 'epoch': 18.0}\n",
      "{'eval_loss': 0.33096975088119507, 'eval_micro f1': 0.2585034013605442, 'eval_macro f1': 0.1063973063973064, 'eval_runtime': 30.0884, 'eval_samples_per_second': 3.523, 'eval_steps_per_second': 0.133, 'epoch': 18.0}\n",
      "{'loss': 0.1452, 'grad_norm': 0.6535043120384216, 'learning_rate': 3e-05, 'epoch': 19.0}\n",
      "{'eval_loss': 0.333452433347702, 'eval_micro f1': 0.23841059602649006, 'eval_macro f1': 0.09702466845323988, 'eval_runtime': 34.215, 'eval_samples_per_second': 3.098, 'eval_steps_per_second': 0.117, 'epoch': 19.0}\n",
      "{'loss': 0.1384, 'grad_norm': 0.655491292476654, 'learning_rate': 3e-05, 'epoch': 20.0}\n",
      "{'eval_loss': 0.33050137758255005, 'eval_micro f1': 0.2550335570469799, 'eval_macro f1': 0.13857509173077195, 'eval_runtime': 39.6278, 'eval_samples_per_second': 2.675, 'eval_steps_per_second': 0.101, 'epoch': 20.0}\n",
      "{'train_runtime': 1595.7534, 'train_samples_per_second': 0.451, 'train_steps_per_second': 0.113, 'train_loss': 0.29371596574783326, 'epoch': 20.0}\n"
     ]
    },
    {
     "name": "stderr",
     "output_type": "stream",
     "text": [
      "Some weights of BertForSequenceClassification were not initialized from the model checkpoint at bert-base-uncased and are newly initialized: ['classifier.bias', 'classifier.weight']\n",
      "You should probably TRAIN this model on a down-stream task to be able to use it for predictions and inference.\n",
      "C:\\Users\\knuyh\\anaconda3\\Lib\\site-packages\\accelerate\\accelerator.py:451: FutureWarning: Passing the following arguments to `Accelerator` is deprecated and will be removed in version 1.0 of Accelerate: dict_keys(['dispatch_batches', 'split_batches', 'even_batches', 'use_seedable_sampler']). Please pass an `accelerate.DataLoaderConfiguration` instead: \n",
      "dataloader_config = DataLoaderConfiguration(dispatch_batches=None, split_batches=False, even_batches=True, use_seedable_sampler=True)\n",
      "  warnings.warn(\n"
     ]
    },
    {
     "name": "stdout",
     "output_type": "stream",
     "text": [
      "{'loss': 0.5655, 'grad_norm': 1.6792171001434326, 'learning_rate': 3e-05, 'epoch': 1.0}\n",
      "{'eval_loss': 0.4598151743412018, 'eval_micro f1': 0.0, 'eval_macro f1': 0.0, 'eval_runtime': 29.5764, 'eval_samples_per_second': 3.584, 'eval_steps_per_second': 0.135, 'epoch': 1.0}\n",
      "{'loss': 0.4127, 'grad_norm': 1.0719095468521118, 'learning_rate': 3e-05, 'epoch': 2.0}\n",
      "{'eval_loss': 0.391986608505249, 'eval_micro f1': 0.0, 'eval_macro f1': 0.0, 'eval_runtime': 28.8875, 'eval_samples_per_second': 3.669, 'eval_steps_per_second': 0.138, 'epoch': 2.0}\n",
      "{'loss': 0.3595, 'grad_norm': 1.2292033433914185, 'learning_rate': 3e-05, 'epoch': 3.0}\n",
      "{'eval_loss': 0.3701026141643524, 'eval_micro f1': 0.0, 'eval_macro f1': 0.0, 'eval_runtime': 27.0054, 'eval_samples_per_second': 3.925, 'eval_steps_per_second': 0.148, 'epoch': 3.0}\n",
      "{'loss': 0.3412, 'grad_norm': 1.4169788360595703, 'learning_rate': 3e-05, 'epoch': 4.0}\n",
      "{'eval_loss': 0.3585350215435028, 'eval_micro f1': 0.0, 'eval_macro f1': 0.0, 'eval_runtime': 27.1818, 'eval_samples_per_second': 3.9, 'eval_steps_per_second': 0.147, 'epoch': 4.0}\n",
      "{'loss': 0.3203, 'grad_norm': 1.2993825674057007, 'learning_rate': 3e-05, 'epoch': 5.0}\n",
      "{'eval_loss': 0.3513147532939911, 'eval_micro f1': 0.0, 'eval_macro f1': 0.0, 'eval_runtime': 27.6188, 'eval_samples_per_second': 3.838, 'eval_steps_per_second': 0.145, 'epoch': 5.0}\n",
      "{'loss': 0.2979, 'grad_norm': 1.556328535079956, 'learning_rate': 3e-05, 'epoch': 6.0}\n",
      "{'eval_loss': 0.3401409387588501, 'eval_micro f1': 0.01639344262295082, 'eval_macro f1': 0.008547008547008548, 'eval_runtime': 30.5611, 'eval_samples_per_second': 3.468, 'eval_steps_per_second': 0.131, 'epoch': 6.0}\n",
      "{'loss': 0.2838, 'grad_norm': 1.2335269451141357, 'learning_rate': 3e-05, 'epoch': 7.0}\n",
      "{'eval_loss': 0.3306770622730255, 'eval_micro f1': 0.03225806451612903, 'eval_macro f1': 0.015873015873015872, 'eval_runtime': 30.4426, 'eval_samples_per_second': 3.482, 'eval_steps_per_second': 0.131, 'epoch': 7.0}\n",
      "{'loss': 0.2558, 'grad_norm': 1.0762392282485962, 'learning_rate': 3e-05, 'epoch': 8.0}\n",
      "{'eval_loss': 0.31570398807525635, 'eval_micro f1': 0.19117647058823528, 'eval_macro f1': 0.09760795278036657, 'eval_runtime': 29.1711, 'eval_samples_per_second': 3.634, 'eval_steps_per_second': 0.137, 'epoch': 8.0}\n",
      "{'loss': 0.2384, 'grad_norm': 1.5917093753814697, 'learning_rate': 3e-05, 'epoch': 9.0}\n",
      "{'eval_loss': 0.3204288184642792, 'eval_micro f1': 0.24113475177304963, 'eval_macro f1': 0.10411810411810413, 'eval_runtime': 29.6348, 'eval_samples_per_second': 3.577, 'eval_steps_per_second': 0.135, 'epoch': 9.0}\n",
      "{'loss': 0.2136, 'grad_norm': 1.2567757368087769, 'learning_rate': 3e-05, 'epoch': 10.0}\n",
      "{'eval_loss': 0.3055064082145691, 'eval_micro f1': 0.3150684931506849, 'eval_macro f1': 0.13270355375618534, 'eval_runtime': 29.8903, 'eval_samples_per_second': 3.546, 'eval_steps_per_second': 0.134, 'epoch': 10.0}\n",
      "{'loss': 0.1952, 'grad_norm': 1.034024715423584, 'learning_rate': 3e-05, 'epoch': 11.0}\n",
      "{'eval_loss': 0.3049377501010895, 'eval_micro f1': 0.2896551724137931, 'eval_macro f1': 0.14604914392148435, 'eval_runtime': 30.9783, 'eval_samples_per_second': 3.422, 'eval_steps_per_second': 0.129, 'epoch': 11.0}\n",
      "{'loss': 0.1711, 'grad_norm': 0.959837019443512, 'learning_rate': 3e-05, 'epoch': 12.0}\n",
      "{'eval_loss': 0.29670819640159607, 'eval_micro f1': 0.38961038961038963, 'eval_macro f1': 0.19175377468060395, 'eval_runtime': 31.047, 'eval_samples_per_second': 3.414, 'eval_steps_per_second': 0.129, 'epoch': 12.0}\n",
      "{'loss': 0.1542, 'grad_norm': 0.8578298091888428, 'learning_rate': 3e-05, 'epoch': 13.0}\n",
      "{'eval_loss': 0.2989303469657898, 'eval_micro f1': 0.42168674698795183, 'eval_macro f1': 0.23312797000740262, 'eval_runtime': 31.8624, 'eval_samples_per_second': 3.327, 'eval_steps_per_second': 0.126, 'epoch': 13.0}\n",
      "{'loss': 0.1389, 'grad_norm': 1.0507639646530151, 'learning_rate': 3e-05, 'epoch': 14.0}\n",
      "{'eval_loss': 0.3011472821235657, 'eval_micro f1': 0.3803680981595092, 'eval_macro f1': 0.2162664639796142, 'eval_runtime': 32.2345, 'eval_samples_per_second': 3.288, 'eval_steps_per_second': 0.124, 'epoch': 14.0}\n",
      "{'loss': 0.1226, 'grad_norm': 0.8069034814834595, 'learning_rate': 3e-05, 'epoch': 15.0}\n",
      "{'eval_loss': 0.2902464270591736, 'eval_micro f1': 0.43529411764705883, 'eval_macro f1': 0.2911721806458648, 'eval_runtime': 32.4861, 'eval_samples_per_second': 3.263, 'eval_steps_per_second': 0.123, 'epoch': 15.0}\n",
      "{'loss': 0.1091, 'grad_norm': 1.057713270187378, 'learning_rate': 3e-05, 'epoch': 16.0}\n",
      "{'eval_loss': 0.28089943528175354, 'eval_micro f1': 0.4827586206896552, 'eval_macro f1': 0.3363359173019622, 'eval_runtime': 31.4146, 'eval_samples_per_second': 3.374, 'eval_steps_per_second': 0.127, 'epoch': 16.0}\n",
      "{'loss': 0.0973, 'grad_norm': 1.0740848779678345, 'learning_rate': 3e-05, 'epoch': 17.0}\n",
      "{'eval_loss': 0.2819560766220093, 'eval_micro f1': 0.5028571428571429, 'eval_macro f1': 0.3361239341631499, 'eval_runtime': 31.5282, 'eval_samples_per_second': 3.362, 'eval_steps_per_second': 0.127, 'epoch': 17.0}\n",
      "{'loss': 0.0878, 'grad_norm': 0.38467299938201904, 'learning_rate': 3e-05, 'epoch': 18.0}\n",
      "{'eval_loss': 0.2868832051753998, 'eval_micro f1': 0.48, 'eval_macro f1': 0.33081919585984626, 'eval_runtime': 31.3901, 'eval_samples_per_second': 3.377, 'eval_steps_per_second': 0.127, 'epoch': 18.0}\n",
      "{'loss': 0.0796, 'grad_norm': 0.433163046836853, 'learning_rate': 3e-05, 'epoch': 19.0}\n",
      "{'eval_loss': 0.28499841690063477, 'eval_micro f1': 0.5, 'eval_macro f1': 0.35116283188975683, 'eval_runtime': 31.4396, 'eval_samples_per_second': 3.372, 'eval_steps_per_second': 0.127, 'epoch': 19.0}\n",
      "{'loss': 0.0702, 'grad_norm': 0.41412314772605896, 'learning_rate': 3e-05, 'epoch': 20.0}\n",
      "{'eval_loss': 0.29211097955703735, 'eval_micro f1': 0.4835164835164835, 'eval_macro f1': 0.35612184648416534, 'eval_runtime': 33.1171, 'eval_samples_per_second': 3.201, 'eval_steps_per_second': 0.121, 'epoch': 20.0}\n",
      "{'train_runtime': 2328.6012, 'train_samples_per_second': 0.584, 'train_steps_per_second': 0.146, 'train_loss': 0.22573041880831998, 'epoch': 20.0}\n"
     ]
    },
    {
     "name": "stderr",
     "output_type": "stream",
     "text": [
      "Some weights of BertForSequenceClassification were not initialized from the model checkpoint at bert-base-uncased and are newly initialized: ['classifier.bias', 'classifier.weight']\n",
      "You should probably TRAIN this model on a down-stream task to be able to use it for predictions and inference.\n",
      "C:\\Users\\knuyh\\anaconda3\\Lib\\site-packages\\accelerate\\accelerator.py:451: FutureWarning: Passing the following arguments to `Accelerator` is deprecated and will be removed in version 1.0 of Accelerate: dict_keys(['dispatch_batches', 'split_batches', 'even_batches', 'use_seedable_sampler']). Please pass an `accelerate.DataLoaderConfiguration` instead: \n",
      "dataloader_config = DataLoaderConfiguration(dispatch_batches=None, split_batches=False, even_batches=True, use_seedable_sampler=True)\n",
      "  warnings.warn(\n"
     ]
    },
    {
     "name": "stdout",
     "output_type": "stream",
     "text": [
      "{'loss': 0.487, 'grad_norm': 1.6240442991256714, 'learning_rate': 3e-05, 'epoch': 1.0}\n",
      "{'eval_loss': 0.3882984220981598, 'eval_micro f1': 0.0, 'eval_macro f1': 0.0, 'eval_runtime': 32.0448, 'eval_samples_per_second': 3.308, 'eval_steps_per_second': 0.125, 'epoch': 1.0}\n",
      "{'loss': 0.3538, 'grad_norm': 1.31842839717865, 'learning_rate': 3e-05, 'epoch': 2.0}\n",
      "{'eval_loss': 0.35235723853111267, 'eval_micro f1': 0.0, 'eval_macro f1': 0.0, 'eval_runtime': 27.9717, 'eval_samples_per_second': 3.79, 'eval_steps_per_second': 0.143, 'epoch': 2.0}\n",
      "{'loss': 0.3404, 'grad_norm': 1.812044382095337, 'learning_rate': 3e-05, 'epoch': 3.0}\n",
      "{'eval_loss': 0.3501034080982208, 'eval_micro f1': 0.125, 'eval_macro f1': 0.05555555555555555, 'eval_runtime': 36.4344, 'eval_samples_per_second': 2.909, 'eval_steps_per_second': 0.11, 'epoch': 3.0}\n",
      "{'loss': 0.3254, 'grad_norm': 1.5201959609985352, 'learning_rate': 3e-05, 'epoch': 4.0}\n",
      "{'eval_loss': 0.3288854956626892, 'eval_micro f1': 0.03278688524590164, 'eval_macro f1': 0.017094017094017096, 'eval_runtime': 31.622, 'eval_samples_per_second': 3.352, 'eval_steps_per_second': 0.126, 'epoch': 4.0}\n",
      "{'loss': 0.2918, 'grad_norm': 1.8513799905776978, 'learning_rate': 3e-05, 'epoch': 5.0}\n",
      "{'eval_loss': 0.3085308372974396, 'eval_micro f1': 0.24817518248175183, 'eval_macro f1': 0.10409356725146199, 'eval_runtime': 27.8248, 'eval_samples_per_second': 3.81, 'eval_steps_per_second': 0.144, 'epoch': 5.0}\n",
      "{'loss': 0.2612, 'grad_norm': 1.2635935544967651, 'learning_rate': 3e-05, 'epoch': 6.0}\n",
      "{'eval_loss': 0.2889961302280426, 'eval_micro f1': 0.3194444444444444, 'eval_macro f1': 0.13774120759414876, 'eval_runtime': 35.4728, 'eval_samples_per_second': 2.988, 'eval_steps_per_second': 0.113, 'epoch': 6.0}\n",
      "{'loss': 0.2237, 'grad_norm': 1.0035749673843384, 'learning_rate': 3e-05, 'epoch': 7.0}\n",
      "{'eval_loss': 0.2680058777332306, 'eval_micro f1': 0.46540880503144655, 'eval_macro f1': 0.20234385195625507, 'eval_runtime': 36.0516, 'eval_samples_per_second': 2.94, 'eval_steps_per_second': 0.111, 'epoch': 7.0}\n",
      "{'loss': 0.191, 'grad_norm': 1.9413522481918335, 'learning_rate': 3e-05, 'epoch': 8.0}\n",
      "{'eval_loss': 0.2606714367866516, 'eval_micro f1': 0.44871794871794873, 'eval_macro f1': 0.18990197284770927, 'eval_runtime': 32.6986, 'eval_samples_per_second': 3.242, 'eval_steps_per_second': 0.122, 'epoch': 8.0}\n",
      "{'loss': 0.1645, 'grad_norm': 1.539334774017334, 'learning_rate': 3e-05, 'epoch': 9.0}\n",
      "{'eval_loss': 0.24673992395401, 'eval_micro f1': 0.4691358024691358, 'eval_macro f1': 0.260036505780771, 'eval_runtime': 28.2088, 'eval_samples_per_second': 3.758, 'eval_steps_per_second': 0.142, 'epoch': 9.0}\n",
      "{'loss': 0.1297, 'grad_norm': 0.4694453179836273, 'learning_rate': 3e-05, 'epoch': 10.0}\n",
      "{'eval_loss': 0.23950417339801788, 'eval_micro f1': 0.5232558139534884, 'eval_macro f1': 0.29760097275625225, 'eval_runtime': 32.1618, 'eval_samples_per_second': 3.296, 'eval_steps_per_second': 0.124, 'epoch': 10.0}\n",
      "{'loss': 0.108, 'grad_norm': 0.3993665277957916, 'learning_rate': 3e-05, 'epoch': 11.0}\n",
      "{'eval_loss': 0.23284313082695007, 'eval_micro f1': 0.5317919075144508, 'eval_macro f1': 0.3361548351196384, 'eval_runtime': 30.51, 'eval_samples_per_second': 3.474, 'eval_steps_per_second': 0.131, 'epoch': 11.0}\n",
      "{'loss': 0.0887, 'grad_norm': 0.5974959135055542, 'learning_rate': 3e-05, 'epoch': 12.0}\n",
      "{'eval_loss': 0.22571440041065216, 'eval_micro f1': 0.5792349726775956, 'eval_macro f1': 0.4171743447105766, 'eval_runtime': 28.3737, 'eval_samples_per_second': 3.736, 'eval_steps_per_second': 0.141, 'epoch': 12.0}\n",
      "{'loss': 0.0713, 'grad_norm': 0.40505561232566833, 'learning_rate': 3e-05, 'epoch': 13.0}\n",
      "{'eval_loss': 0.22091957926750183, 'eval_micro f1': 0.5578947368421052, 'eval_macro f1': 0.4284945769908176, 'eval_runtime': 34.7627, 'eval_samples_per_second': 3.049, 'eval_steps_per_second': 0.115, 'epoch': 13.0}\n",
      "{'loss': 0.0594, 'grad_norm': 0.2866542339324951, 'learning_rate': 3e-05, 'epoch': 14.0}\n",
      "{'eval_loss': 0.23407809436321259, 'eval_micro f1': 0.5966850828729282, 'eval_macro f1': 0.42263010898987025, 'eval_runtime': 28.9641, 'eval_samples_per_second': 3.66, 'eval_steps_per_second': 0.138, 'epoch': 14.0}\n",
      "{'loss': 0.0518, 'grad_norm': 0.13984715938568115, 'learning_rate': 3e-05, 'epoch': 15.0}\n",
      "{'eval_loss': 0.23525668680667877, 'eval_micro f1': 0.5806451612903226, 'eval_macro f1': 0.4172673078348694, 'eval_runtime': 32.8695, 'eval_samples_per_second': 3.225, 'eval_steps_per_second': 0.122, 'epoch': 15.0}\n",
      "{'loss': 0.0461, 'grad_norm': 0.13274097442626953, 'learning_rate': 3e-05, 'epoch': 16.0}\n",
      "{'eval_loss': 0.2308325171470642, 'eval_micro f1': 0.5925925925925926, 'eval_macro f1': 0.4404697525282467, 'eval_runtime': 28.0723, 'eval_samples_per_second': 3.776, 'eval_steps_per_second': 0.142, 'epoch': 16.0}\n",
      "{'loss': 0.041, 'grad_norm': 0.3241333067417145, 'learning_rate': 3e-05, 'epoch': 17.0}\n",
      "{'eval_loss': 0.2362138032913208, 'eval_micro f1': 0.5863874345549738, 'eval_macro f1': 0.4413446202919887, 'eval_runtime': 29.1336, 'eval_samples_per_second': 3.638, 'eval_steps_per_second': 0.137, 'epoch': 17.0}\n",
      "{'loss': 0.0371, 'grad_norm': 0.28887325525283813, 'learning_rate': 3e-05, 'epoch': 18.0}\n",
      "{'eval_loss': 0.2385208159685135, 'eval_micro f1': 0.5882352941176471, 'eval_macro f1': 0.43929097409489565, 'eval_runtime': 34.4172, 'eval_samples_per_second': 3.08, 'eval_steps_per_second': 0.116, 'epoch': 18.0}\n",
      "{'loss': 0.0343, 'grad_norm': 0.33090028166770935, 'learning_rate': 3e-05, 'epoch': 19.0}\n",
      "{'eval_loss': 0.24177739024162292, 'eval_micro f1': 0.6060606060606061, 'eval_macro f1': 0.4646170013930439, 'eval_runtime': 27.528, 'eval_samples_per_second': 3.851, 'eval_steps_per_second': 0.145, 'epoch': 19.0}\n",
      "{'loss': 0.0325, 'grad_norm': 0.20049414038658142, 'learning_rate': 3e-05, 'epoch': 20.0}\n",
      "{'eval_loss': 0.24033744633197784, 'eval_micro f1': 0.6060606060606061, 'eval_macro f1': 0.45852186744310663, 'eval_runtime': 30.3933, 'eval_samples_per_second': 3.488, 'eval_steps_per_second': 0.132, 'epoch': 20.0}\n",
      "{'train_runtime': 3791.7302, 'train_samples_per_second': 0.707, 'train_steps_per_second': 0.179, 'train_loss': 0.16692947166807512, 'epoch': 20.0}\n"
     ]
    },
    {
     "name": "stderr",
     "output_type": "stream",
     "text": [
      "Some weights of BertForSequenceClassification were not initialized from the model checkpoint at bert-base-uncased and are newly initialized: ['classifier.bias', 'classifier.weight']\n",
      "You should probably TRAIN this model on a down-stream task to be able to use it for predictions and inference.\n",
      "C:\\Users\\knuyh\\anaconda3\\Lib\\site-packages\\accelerate\\accelerator.py:451: FutureWarning: Passing the following arguments to `Accelerator` is deprecated and will be removed in version 1.0 of Accelerate: dict_keys(['dispatch_batches', 'split_batches', 'even_batches', 'use_seedable_sampler']). Please pass an `accelerate.DataLoaderConfiguration` instead: \n",
      "dataloader_config = DataLoaderConfiguration(dispatch_batches=None, split_batches=False, even_batches=True, use_seedable_sampler=True)\n",
      "  warnings.warn(\n"
     ]
    },
    {
     "name": "stdout",
     "output_type": "stream",
     "text": [
      "{'loss': 0.4477, 'grad_norm': 1.2185636758804321, 'learning_rate': 3e-05, 'epoch': 1.0}\n",
      "{'eval_loss': 0.36314353346824646, 'eval_micro f1': 0.0, 'eval_macro f1': 0.0, 'eval_runtime': 33.2076, 'eval_samples_per_second': 3.192, 'eval_steps_per_second': 0.12, 'epoch': 1.0}\n",
      "{'loss': 0.3451, 'grad_norm': 1.2196104526519775, 'learning_rate': 3e-05, 'epoch': 2.0}\n",
      "{'eval_loss': 0.3358784317970276, 'eval_micro f1': 0.28169014084507044, 'eval_macro f1': 0.0966183574879227, 'eval_runtime': 29.4653, 'eval_samples_per_second': 3.597, 'eval_steps_per_second': 0.136, 'epoch': 2.0}\n",
      "{'loss': 0.3039, 'grad_norm': 1.121067762374878, 'learning_rate': 3e-05, 'epoch': 3.0}\n",
      "{'eval_loss': 0.30534952878952026, 'eval_micro f1': 0.3246753246753247, 'eval_macro f1': 0.10659551176792556, 'eval_runtime': 36.2322, 'eval_samples_per_second': 2.926, 'eval_steps_per_second': 0.11, 'epoch': 3.0}\n",
      "{'loss': 0.256, 'grad_norm': 1.7838715314865112, 'learning_rate': 3e-05, 'epoch': 4.0}\n",
      "{'eval_loss': 0.2562275528907776, 'eval_micro f1': 0.5207100591715976, 'eval_macro f1': 0.2397208803005904, 'eval_runtime': 28.8087, 'eval_samples_per_second': 3.679, 'eval_steps_per_second': 0.139, 'epoch': 4.0}\n",
      "{'loss': 0.2139, 'grad_norm': 1.6489108800888062, 'learning_rate': 3e-05, 'epoch': 5.0}\n",
      "{'eval_loss': 0.25019314885139465, 'eval_micro f1': 0.5638297872340425, 'eval_macro f1': 0.2886369487660451, 'eval_runtime': 36.2053, 'eval_samples_per_second': 2.928, 'eval_steps_per_second': 0.11, 'epoch': 5.0}\n",
      "{'loss': 0.1766, 'grad_norm': 2.0812108516693115, 'learning_rate': 3e-05, 'epoch': 6.0}\n",
      "{'eval_loss': 0.2326216995716095, 'eval_micro f1': 0.6077348066298343, 'eval_macro f1': 0.33170823885109596, 'eval_runtime': 28.3592, 'eval_samples_per_second': 3.738, 'eval_steps_per_second': 0.141, 'epoch': 6.0}\n",
      "{'loss': 0.1411, 'grad_norm': 1.6219717264175415, 'learning_rate': 3e-05, 'epoch': 7.0}\n",
      "{'eval_loss': 0.23001131415367126, 'eval_micro f1': 0.5824175824175825, 'eval_macro f1': 0.3365513498846832, 'eval_runtime': 31.0445, 'eval_samples_per_second': 3.414, 'eval_steps_per_second': 0.129, 'epoch': 7.0}\n",
      "{'loss': 0.1147, 'grad_norm': 0.7758690118789673, 'learning_rate': 3e-05, 'epoch': 8.0}\n",
      "{'eval_loss': 0.21566030383110046, 'eval_micro f1': 0.6192893401015228, 'eval_macro f1': 0.4180775122745314, 'eval_runtime': 31.0909, 'eval_samples_per_second': 3.409, 'eval_steps_per_second': 0.129, 'epoch': 8.0}\n",
      "{'loss': 0.0944, 'grad_norm': 1.1560497283935547, 'learning_rate': 3e-05, 'epoch': 9.0}\n",
      "{'eval_loss': 0.1979924887418747, 'eval_micro f1': 0.6770833333333334, 'eval_macro f1': 0.5276282493673797, 'eval_runtime': 28.6066, 'eval_samples_per_second': 3.705, 'eval_steps_per_second': 0.14, 'epoch': 9.0}\n",
      "{'loss': 0.0744, 'grad_norm': 0.7818857431411743, 'learning_rate': 3e-05, 'epoch': 10.0}\n",
      "{'eval_loss': 0.2049536108970642, 'eval_micro f1': 0.696969696969697, 'eval_macro f1': 0.5844326681496331, 'eval_runtime': 35.0756, 'eval_samples_per_second': 3.022, 'eval_steps_per_second': 0.114, 'epoch': 10.0}\n",
      "{'loss': 0.0575, 'grad_norm': 1.0311458110809326, 'learning_rate': 3e-05, 'epoch': 11.0}\n",
      "{'eval_loss': 0.20256802439689636, 'eval_micro f1': 0.7, 'eval_macro f1': 0.6009493872979313, 'eval_runtime': 28.0287, 'eval_samples_per_second': 3.782, 'eval_steps_per_second': 0.143, 'epoch': 11.0}\n",
      "{'loss': 0.0469, 'grad_norm': 1.534568190574646, 'learning_rate': 3e-05, 'epoch': 12.0}\n",
      "{'eval_loss': 0.19611135125160217, 'eval_micro f1': 0.7024390243902439, 'eval_macro f1': 0.620683376650074, 'eval_runtime': 31.4983, 'eval_samples_per_second': 3.365, 'eval_steps_per_second': 0.127, 'epoch': 12.0}\n",
      "{'loss': 0.0397, 'grad_norm': 0.5741966962814331, 'learning_rate': 3e-05, 'epoch': 13.0}\n",
      "{'eval_loss': 0.19177043437957764, 'eval_micro f1': 0.7164179104477612, 'eval_macro f1': 0.6077833915003565, 'eval_runtime': 30.5812, 'eval_samples_per_second': 3.466, 'eval_steps_per_second': 0.131, 'epoch': 13.0}\n",
      "{'loss': 0.033, 'grad_norm': 0.20521052181720734, 'learning_rate': 3e-05, 'epoch': 14.0}\n",
      "{'eval_loss': 0.19951361417770386, 'eval_micro f1': 0.6926829268292682, 'eval_macro f1': 0.5890154129284564, 'eval_runtime': 31.9208, 'eval_samples_per_second': 3.321, 'eval_steps_per_second': 0.125, 'epoch': 14.0}\n",
      "{'loss': 0.0301, 'grad_norm': 0.10208966583013535, 'learning_rate': 3e-05, 'epoch': 15.0}\n",
      "{'eval_loss': 0.2038974016904831, 'eval_micro f1': 0.693069306930693, 'eval_macro f1': 0.5966403702438161, 'eval_runtime': 30.2586, 'eval_samples_per_second': 3.503, 'eval_steps_per_second': 0.132, 'epoch': 15.0}\n",
      "{'loss': 0.0254, 'grad_norm': 0.1949215978384018, 'learning_rate': 3e-05, 'epoch': 16.0}\n",
      "{'eval_loss': 0.20819595456123352, 'eval_micro f1': 0.6990291262135923, 'eval_macro f1': 0.5934334050276079, 'eval_runtime': 32.0718, 'eval_samples_per_second': 3.305, 'eval_steps_per_second': 0.125, 'epoch': 16.0}\n",
      "{'loss': 0.0232, 'grad_norm': 0.14706021547317505, 'learning_rate': 3e-05, 'epoch': 17.0}\n",
      "{'eval_loss': 0.21334894001483917, 'eval_micro f1': 0.7219512195121951, 'eval_macro f1': 0.6380885349547948, 'eval_runtime': 26.8871, 'eval_samples_per_second': 3.942, 'eval_steps_per_second': 0.149, 'epoch': 17.0}\n",
      "{'loss': 0.0202, 'grad_norm': 0.09056232124567032, 'learning_rate': 3e-05, 'epoch': 18.0}\n",
      "{'eval_loss': 0.20852559804916382, 'eval_micro f1': 0.7087378640776699, 'eval_macro f1': 0.6246183720608272, 'eval_runtime': 33.7872, 'eval_samples_per_second': 3.137, 'eval_steps_per_second': 0.118, 'epoch': 18.0}\n",
      "{'loss': 0.0179, 'grad_norm': 0.13114222884178162, 'learning_rate': 3e-05, 'epoch': 19.0}\n",
      "{'eval_loss': 0.21544544398784637, 'eval_micro f1': 0.7156862745098039, 'eval_macro f1': 0.6241022759564959, 'eval_runtime': 29.5999, 'eval_samples_per_second': 3.581, 'eval_steps_per_second': 0.135, 'epoch': 19.0}\n",
      "{'loss': 0.0163, 'grad_norm': 0.0710061714053154, 'learning_rate': 3e-05, 'epoch': 20.0}\n",
      "{'eval_loss': 0.21799294650554657, 'eval_micro f1': 0.7115384615384616, 'eval_macro f1': 0.6297052146245474, 'eval_runtime': 30.9972, 'eval_samples_per_second': 3.42, 'eval_steps_per_second': 0.129, 'epoch': 20.0}\n",
      "{'train_runtime': 5749.6617, 'train_samples_per_second': 0.776, 'train_steps_per_second': 0.195, 'train_loss': 0.12389725106103079, 'epoch': 20.0}\n"
     ]
    }
   ],
   "source": [
    "for train_slice in train_slices:\n",
    "    model = AutoModelForSequenceClassification.from_pretrained(model_ckpt,\n",
    "                                                               config=config)\n",
    "    trainer = Trainer(\n",
    "        model=model, tokenizer=tokenizer,\n",
    "        args=training_args_fine_tune,\n",
    "        compute_metrics=compute_metrics,\n",
    "        train_dataset=ds_enc[\"train\"].select(train_slice),\n",
    "        eval_dataset=ds_enc[\"valid\"],)\n",
    "\n",
    "    trainer.train()\n",
    "    pred = trainer.predict(ds_enc[\"test\"])\n",
    "    metrics = compute_metrics(pred)\n",
    "    macro_scores[\"Fine-tune (vanilla)\"].append(metrics[\"macro f1\"])\n",
    "    micro_scores[\"Fine-tune (vanilla)\"].append(metrics[\"micro f1\"])"
   ]
  },
  {
   "cell_type": "code",
   "execution_count": 83,
   "id": "1502857d",
   "metadata": {},
   "outputs": [
    {
     "data": {
      "image/png": "[encoded data removed]",
      "text/plain": [
       "<Figure size 1000x400 with 2 Axes>"
      ]
     },
     "metadata": {},
     "output_type": "display_data"
    }
   ],
   "source": [
    "plot_metrics(micro_scores, macro_scores, train_samples, \"Fine-tune (vanilla)\")"
   ]
  },
  {
   "cell_type": "markdown",
   "id": "42896023",
   "metadata": {},
   "source": [
    "BERT 모델 간단하게 미세 튜닝해 64개 샘플에서 경쟁력 있는 모델 얻음  \n",
    "또 미세 튜닝 전에는 약간 불규칙한 행동 보이지만, 모델을 훈련한 작은 샘플의 레이블이 일부 불균형하기 때문\n",
    "\n",
    "* 프롬프트를 사용한 인-컨텍스트 학습과 퓨-샷 학습  \n",
    "   * 훈련데이터가 전혀 필요하지 않은 장점\n",
    "   * 레이블링된 데이터를 활용할 수 없는 단점\n",
    "   * 그 절충안으로 **인-컨텍스트 학습** 또는 **퓨샷 학습** 활용  \n",
    "   \n",
    "프롬프트 사용하고 모델의 토큰 예측을 파싱하여 작업에 특화된 헤드를 추가하고 모델 파라미터를 작업에 맞게 튜닝하는 전통적인 방식과 다름"
   ]
  },
  {
   "cell_type": "code",
   "execution_count": 5,
   "id": "9a829637",
   "metadata": {},
   "outputs": [],
   "source": [
    "# 모델이 단어 merci 예측하도록 유도 (영어 -> 프랑스어로 번역)\n",
    "prompt = \"\"\"\\\n",
    "Translate English to French:\n",
    "thanks =>\n",
    "\"\"\""
   ]
  },
  {
   "cell_type": "markdown",
   "id": "897cc57a",
   "metadata": {},
   "source": [
    "### 레이블링되지 않은 데이터 활용하기\n",
    "* 도메인 적응(: 밑바닥부터 재훈련하는 대신 도메인의 데이터에서 계속 훈련)은 마스킹된 단어를 예측하는 고전적인 언어 모델의 목표를 사용하여 레이블링된 데이터가 필요하지 않다.\n",
    "    * 그 후 적응된 모델을 분류기로 로드하고 미세 튜닝하여 레이블링되지 않은 데이터 활용\n",
    "    * 레이블링된 데이터에 비해 레이블링되지 않은 데이터가 풍부한 경우가 많다.\n",
    "    * 적응된 모델은 재사용된다.\n",
    "    \n",
    "<br>\n",
    "\n",
    "* 언어 모델 미세 튜닝하기\n",
    "    * 마스크드 언어 모델링으로 사전훈련된 BERT 모델을 레이블링이 없는 데이터셋에서 미세 튜닝\n",
    "    * 데이터를 **토큰화**하는 추가 단계와 특별한 **데이터 콜레이터**\n",
    "    \n",
    "        * 토큰화 : 텍스트에 있는 일반적인 토큰 외에 분류와 다음 문장 예측에 사용할 [CLS]와 [SEP] 같은 특수 토큰도 시퀀스에 추가, 마스크드 언어 모델링에서는 이런 토큰도 예측하도록 모델을 훈련하지 않아 손실을 계산할 때 특수 토큰 마스킹함\n",
    "        \n",
    "        * 데이터 콜레이터 : 데이터셋과 모델 호출 사이를 연결하는 함수로, 배치는 데이터셋에서 샘플링되고 데이터 콜레이터는 배치에 있는 원소를 모델에 주입하기 위해 준비"
   ]
  },
  {
   "cell_type": "code",
   "execution_count": 30,
   "id": "3fe983db",
   "metadata": {},
   "outputs": [
    {
     "data": {
      "application/vnd.jupyter.widget-view+json": {
       "model_id": "ad5b76f86cc8420da289192c3de0e1ca",
       "version_major": 2,
       "version_minor": 0
      },
      "text/plain": [
       "Map:   0%|          | 0/223 [00:00<?, ? examples/s]"
      ]
     },
     "metadata": {},
     "output_type": "display_data"
    },
    {
     "data": {
      "application/vnd.jupyter.widget-view+json": {
       "model_id": "4361391193324a41b6863a46837746f0",
       "version_major": 2,
       "version_minor": 0
      },
      "text/plain": [
       "Map:   0%|          | 0/106 [00:00<?, ? examples/s]"
      ]
     },
     "metadata": {},
     "output_type": "display_data"
    },
    {
     "data": {
      "application/vnd.jupyter.widget-view+json": {
       "model_id": "8f899017e48842d5aafa5b5ebb6f6a95",
       "version_major": 2,
       "version_minor": 0
      },
      "text/plain": [
       "Map:   0%|          | 0/111 [00:00<?, ? examples/s]"
      ]
     },
     "metadata": {},
     "output_type": "display_data"
    },
    {
     "data": {
      "application/vnd.jupyter.widget-view+json": {
       "model_id": "cb2e050cc3404b3e9083fa2df1304442",
       "version_major": 2,
       "version_minor": 0
      },
      "text/plain": [
       "Map:   0%|          | 0/9303 [00:00<?, ? examples/s]"
      ]
     },
     "metadata": {},
     "output_type": "display_data"
    }
   ],
   "source": [
    "def tokenize(batch):\n",
    "    return tokenizer(batch[\"text\"], truncation=True,\n",
    "                     max_length=128, return_special_tokens_mask=True) # 토큰화할 때 마스크 얻음\n",
    "\n",
    "ds_mlm = ds.map(tokenize, batched=True)\n",
    "ds_mlm = ds_mlm.remove_columns([\"labels\", \"text\", \"label_ids\"])"
   ]
  },
  {
   "cell_type": "code",
   "execution_count": 31,
   "id": "612a4825",
   "metadata": {},
   "outputs": [],
   "source": [
    "from transformers import DataCollatorForLanguageModeling, set_seed\n",
    "\n",
    "data_collator = DataCollatorForLanguageModeling(tokenizer=tokenizer,\n",
    "                                                mlm_probability=0.15) # 모델의 토크나이저와 마스킹할 토큰 비율"
   ]
  },
  {
   "cell_type": "code",
   "execution_count": 32,
   "id": "a0d4ecc5",
   "metadata": {},
   "outputs": [],
   "source": [
    "set_seed(3)\n",
    "data_collator.return_tensors = \"np\"\n",
    "inputs = tokenizer(\"Transformers are awesome!\", return_tensors=\"np\")\n",
    "original_input_ids = inputs[\"input_ids\"][0]\n",
    "outputs = data_collator([{\"input_ids\": inputs[\"input_ids\"][0]}])\n",
    "masked_input_ids = outputs[\"input_ids\"][0]\n",
    "\n",
    "pd.DataFrame({\n",
    "    \"Original tokens\": tokenizer.convert_ids_to_tokens(original_input_ids),\n",
    "    \"Masked tokens\": tokenizer.convert_ids_to_tokens(masked_input_ids),\n",
    "    \"Original input_ids\": original_input_ids,\n",
    "    \"Masked input_ids\": masked_input_ids,\n",
    "    \"Labels\": outputs[\"labels\"][0]}).T\n",
    "\n",
    "data_collator.return_tensors = \"pt\""
   ]
  },
  {
   "cell_type": "markdown",
   "id": "9ac659d1",
   "metadata": {},
   "source": [
    "느낌표에 해당하는 토큰이 마스킹 토큰으로 변경  \n",
    "데이터 콜레이터가 레이블 배열 반환 ;   \n",
    "원본 토큰 = -100(손실 계산 시 무시됨), 마스킹된 토큰 = 토큰 ID"
   ]
  },
  {
   "cell_type": "code",
   "execution_count": 35,
   "id": "609c45ef",
   "metadata": {},
   "outputs": [
    {
     "name": "stderr",
     "output_type": "stream",
     "text": [
      "C:\\Users\\knuyh\\anaconda3\\Lib\\site-packages\\huggingface_hub\\file_download.py:1132: FutureWarning: `resume_download` is deprecated and will be removed in version 1.0.0. Downloads always resume when possible. If you want to force a new download, use `force_download=True`.\n",
      "  warnings.warn(\n",
      "Some weights of the model checkpoint at bert-base-uncased were not used when initializing BertForMaskedLM: ['bert.pooler.dense.bias', 'bert.pooler.dense.weight', 'cls.seq_relationship.bias', 'cls.seq_relationship.weight']\n",
      "- This IS expected if you are initializing BertForMaskedLM from the checkpoint of a model trained on another task or with another architecture (e.g. initializing a BertForSequenceClassification model from a BertForPreTraining model).\n",
      "- This IS NOT expected if you are initializing BertForMaskedLM from the checkpoint of a model that you expect to be exactly identical (initializing a BertForSequenceClassification model from a BertForSequenceClassification model).\n",
      "C:\\Users\\knuyh\\anaconda3\\Lib\\site-packages\\accelerate\\accelerator.py:451: FutureWarning: Passing the following arguments to `Accelerator` is deprecated and will be removed in version 1.0 of Accelerate: dict_keys(['dispatch_batches', 'split_batches', 'even_batches', 'use_seedable_sampler']). Please pass an `accelerate.DataLoaderConfiguration` instead: \n",
      "dataloader_config = DataLoaderConfiguration(dispatch_batches=None, split_batches=False, even_batches=True, use_seedable_sampler=True)\n",
      "  warnings.warn(\n"
     ]
    },
    {
     "data": {
      "text/html": [
       "\n",
       "    <div>\n",
       "      \n",
       "      <progress value='291' max='291' style='width:300px; height:20px; vertical-align: middle;'></progress>\n",
       "      [291/291 18:33:13, Epoch 1/1]\n",
       "    </div>\n",
       "    <table border=\"1\" class=\"dataframe\">\n",
       "  <thead>\n",
       " <tr style=\"text-align: left;\">\n",
       "      <th>Epoch</th>\n",
       "      <th>Training Loss</th>\n",
       "      <th>Validation Loss</th>\n",
       "    </tr>\n",
       "  </thead>\n",
       "  <tbody>\n",
       "    <tr>\n",
       "      <td>1</td>\n",
       "      <td>2.160800</td>\n",
       "      <td>1.659455</td>\n",
       "    </tr>\n",
       "  </tbody>\n",
       "</table><p>"
      ],
      "text/plain": [
       "<IPython.core.display.HTML object>"
      ]
     },
     "metadata": {},
     "output_type": "display_data"
    },
    {
     "data": {
      "text/plain": [
       "TrainOutput(global_step=291, training_loss=2.160768489247745, metrics={'train_runtime': 66831.9916, 'train_samples_per_second': 0.139, 'train_steps_per_second': 0.004, 'total_flos': 612148593369600.0, 'train_loss': 2.160768489247745, 'epoch': 1.0})"
      ]
     },
     "execution_count": 35,
     "metadata": {},
     "output_type": "execute_result"
    }
   ],
   "source": [
    "from transformers import AutoModelForMaskedLM\n",
    "\n",
    "training_args = TrainingArguments(\n",
    "    output_dir = f\"{model_ckpt}-issues-128\", per_device_train_batch_size=32,\n",
    "    logging_strategy=\"epoch\", evaluation_strategy=\"epoch\", save_strategy=\"no\",\n",
    "    num_train_epochs=1, push_to_hub=True, log_level=\"error\", report_to=\"none\") # epoch=20\n",
    "\n",
    "\n",
    "trainer = Trainer(\n",
    "        model=AutoModelForMaskedLM.from_pretrained(\"bert-base-uncased\"),\n",
    "        tokenizer=tokenizer, args=training_args, data_collator=data_collator,\n",
    "        train_dataset=ds_mlm[\"unsup\"], eval_dataset=ds_mlm[\"train\"])\n",
    "\n",
    "trainer.train()"
   ]
  },
  {
   "cell_type": "code",
   "execution_count": null,
   "id": "8c3f5560",
   "metadata": {},
   "outputs": [],
   "source": [
    "df_log = pd.DataFrame(trainer.state.log_history)\n",
    "\n",
    "(df_log.dropna(subset=[\"eval_loss\"]).reset_index()[\"eval_loss\"] .plot(label=\"Validation\"))\n",
    "df_log.dropna(subset=[\"loss\"]).reset_index()[\"loss\"].plot(label=\"Train\")\n",
    "# 훈련과 검증 손실이 다른 간격으로 기록되기에 누락된 값 존재 -> 삭제\n",
    "\n",
    "plt.xlabel(\"Epochs\")\n",
    "plt.ylabel(\"Loss\")\n",
    "plt.legend(loc=\"upper right\")\n",
    "plt.show()"
   ]
  },
  {
   "attachments": {
    "image.png": {
     "image/png": "[encoded data removed]"
    }
   },
   "cell_type": "markdown",
   "id": "a55b9289",
   "metadata": {},
   "source": [
    "![image.png](attachment:image.png)\n",
    "\n",
    "훈련, 검증 손실 모두 상당히 줄어들음\n",
    "\n",
    "* 분류기 미세 튜닝하기"
   ]
  },
  {
   "cell_type": "code",
   "execution_count": null,
   "id": "bc5c92da",
   "metadata": {},
   "outputs": [],
   "source": [
    "model_ckpt = f'{model_ckpt}-issues-128' # bert-base-uncased\n",
    "\n",
    "config = AutoConfig.from_pretrained(model_ckpt)\n",
    "config.num_labels = len(all_labels)\n",
    "config.problem_type = \"multi_label_classification\"\n",
    "\n",
    "for train_slice in train_slices:\n",
    "    model = AutoModelForSequenceClassification.from_pretrained(model_ckpt,\n",
    "                                                               config=config)\n",
    "    trainer = Trainer(\n",
    "        model=model,\n",
    "        tokenizer=tokenizer,\n",
    "        args=training_args_fine_tune,\n",
    "        compute_metrics=compute_metrics,\n",
    "        train_dataset=ds_enc[\"train\"].select(train_slice),\n",
    "        eval_dataset=ds_enc[\"valid\"],\n",
    "    )\n",
    "\n",
    "    trainer.train()\n",
    "    pred = trainer.predict(ds_enc['test'])\n",
    "    metrics = compute_metrics(pred)\n",
    "    # DA : 도메인 적응\n",
    "    macro_scores['Fine-tune (DA)'].append(metrics['macro f1'])\n",
    "    micro_scores['Fine-tune (DA)'].append(metrics['micro f1'])"
   ]
  },
  {
   "cell_type": "code",
   "execution_count": null,
   "id": "0a5425e3",
   "metadata": {},
   "outputs": [],
   "source": [
    "plot_metrics(micro_scores, macro_scores, train_samples, \"Fine-tune (DA)\")"
   ]
  },
  {
   "attachments": {
    "image.png": {
     "image/png": "[encoded data removed]"
    }
   },
   "cell_type": "markdown",
   "id": "1a115d2d",
   "metadata": {},
   "source": [
    "![image.png](attachment:image.png)\n",
    "\n",
    "데이터가 부족한 도메인에서 유리하다. 레이블링된 데이터가 더 많은 상황에서는 향상되기도 한다.  \n",
    "\n",
    "도메인 적응이 레이블링되지 않은 데이터와 약간의 노력을 통해 모델 성능을 조금 향상시킬 수 있다. 레이블링되지 않은 데이터가 많고, 레이블링된 데이터가 적을수록 이 방법이 미치는 영향은 더 커진다."
   ]
  },
  {
   "cell_type": "markdown",
   "id": "af2f60dc",
   "metadata": {},
   "source": [
    "* 고급 방법\n",
    "    * 비지도 데이터 증식(UDA)\n",
    "        * 레이블링되지 않은 샘플과 살짝 왜곡된 샘플에 대해 모델의 예측이 일정해야 한다.\n",
    "        * 왜곡은 토큰 교체나 역 번역 같은 표준적인 데이터 증식 전략으로 만든다.\n",
    "        * 그 후 원본 예측과 왜곡된 샘플의 예측 사이에 KL 발산을 최소화하도록 일관성이 강제로 부여된다.\n",
    "        * 레이블링되지 않은 샘플에 대한 항으로 크로스 엔트로피 손실을 보강해 일관성에 대한 요구사항 통합\n",
    "        * 표준적인 지도 학습 방식으로 레이블링된 데이터에서 모델 훈련하지만, 레이블링되지 않은 데이터에서 일관된 예측을 만들도록 모델 제한\n",
    "        * 데이터 증식 파이프라인이 필요하다는 단점\n",
    "        * 레이블링되지 않은 샘플과 증식 샘플에 대해 예측을 만들기 위해 여러 번 정방향 패스를 실행해야 하므로 훈련 오래걸림\n",
    "        \n",
    "     * 불확실성 인지 자기 훈련(UST)\n",
    "         * 레이블링되지 않은 데이터 활용\n",
    "         * 레이블링된 데이터에서 티처 모델을 훈련하고 이 모델을 사용해 레이블링되지 않은 데이터에서 의사 레이블 만든다는 개념에 기초\n",
    "         * 스튜던트 모델은 의사 레이블 데이터에서 훈련되고, 훈련 후 다음 반복에서 티처가 됨\n",
    "         * 의사 레이블 생성 : 모델 예측의 불확실성 측정하기 위해 동일한 입력을 드롭아웃이 적용된 모델에 여러 번 주입"
   ]
  },
  {
   "attachments": {
    "image.png": {
     "image/png": "[encoded data removed]"
    }
   },
   "cell_type": "markdown",
   "id": "43283c03",
   "metadata": {},
   "source": [
    "![image.png](attachment:image.png)"
   ]
  },
  {
   "cell_type": "code",
   "execution_count": null,
   "id": "0df0b011",
   "metadata": {},
   "outputs": [],
   "source": []
  }
 ],
 "metadata": {
  "kernelspec": {
   "display_name": "Python 3 (ipykernel)",
   "language": "python",
   "name": "python3"
  },
  "language_info": {
   "codemirror_mode": {
    "name": "ipython",
    "version": 3
   },
   "file_extension": ".py",
   "mimetype": "text/x-python",
   "name": "python",
   "nbconvert_exporter": "python",
   "pygments_lexer": "ipython3",
   "version": "3.11.4"
  }
 },
 "nbformat": 4,
 "nbformat_minor": 5
}
