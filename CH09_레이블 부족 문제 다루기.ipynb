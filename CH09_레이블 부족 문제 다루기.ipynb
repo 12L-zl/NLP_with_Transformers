{
 "cells": [
  {
   "cell_type": "markdown",
   "id": "2e47c0d1",
   "metadata": {},
   "source": [
    "### 깃허브 이슈 태거 만들기\n",
    "이슈에 여러 개의 레이블을 할당할 수 있으므로 **다중 레이블 텍스트 분류** 문제\n",
    "\n",
    "* 데이터 준비하기"
   ]
  },
  {
   "cell_type": "code",
   "execution_count": 1,
   "id": "3b8a15c8",
   "metadata": {},
   "outputs": [
    {
     "name": "stderr",
     "output_type": "stream",
     "text": [
      "C:\\Users\\knuyh\\anaconda3\\Lib\\site-packages\\pandas\\core\\arrays\\masked.py:60: UserWarning: Pandas requires version '1.3.6' or newer of 'bottleneck' (version '1.3.5' currently installed).\n",
      "  from pandas.core import (\n"
     ]
    }
   ],
   "source": [
    "import time\n",
    "import math\n",
    "import requests\n",
    "from pathlib import Path\n",
    "import pandas as pd\n",
    "from tqdm.auto import tqdm\n",
    "\n",
    "def fetch_issues(owner=\"huggingface\", repo=\"transformers\", num_issues=10_000,\n",
    "                 rate_limit=5_000):\n",
    "    batch = []\n",
    "    all_issues = []\n",
    "    per_page = 100     # 페이지마다 반환되는 이슈 개수\n",
    "    num_pages = math.ceil(num_issues / per_page)\n",
    "    base_url = \"https://api.github.com/repos\"\n",
    "\n",
    "    for page in tqdm(range(num_pages)):\n",
    "        # 오픈 이슈와 클로즈 이슈를 모두 가져오기 위해 state=all로 쿼리합니다.\n",
    "        query = f\"issues?page={page}&per_page={per_page}&state=all\"\n",
    "        issues = requests.get(f\"{base_url}/{owner}/{repo}/{query}\")\n",
    "        batch.extend(issues.json())\n",
    "\n",
    "        if len(batch) > rate_limit and len(all_issues) < num_issues:\n",
    "            all_issues.extend(batch)\n",
    "            batch = []   # 다음 번 요청을 위해 비웁니다.\n",
    "            print(f\"깃허브 요청 한도에 도달했습니다. 한 시간 동안 중지합니다...\")\n",
    "            time.sleep(60 * 60 + 1)\n",
    "\n",
    "    all_issues.extend(batch)\n",
    "    df = pd.DataFrame.from_records(all_issues)\n",
    "    df.to_json(f\"github-issues-{repo}.jsonl\", orient=\"records\", lines=True)"
   ]
  },
  {
   "cell_type": "code",
   "execution_count": 3,
   "id": "29d86b17",
   "metadata": {},
   "outputs": [
    {
     "name": "stdout",
     "output_type": "stream",
     "text": [
      "데이터프레임 크기: (9930, 26)\n"
     ]
    }
   ],
   "source": [
    "import pandas as pd\n",
    "\n",
    "dataset_url = \"https://git.io/nlp-with-transformers\"\n",
    "df_issues = pd.read_json(dataset_url, lines=True)\n",
    "print(f\"데이터프레임 크기: {df_issues.shape}\")"
   ]
  },
  {
   "cell_type": "code",
   "execution_count": 4,
   "id": "6eaac459",
   "metadata": {},
   "outputs": [
    {
     "data": {
      "text/html": [
       "<div>\n",
       "<style scoped>\n",
       "    .dataframe tbody tr th:only-of-type {\n",
       "        vertical-align: middle;\n",
       "    }\n",
       "\n",
       "    .dataframe tbody tr th {\n",
       "        vertical-align: top;\n",
       "    }\n",
       "\n",
       "    .dataframe thead th {\n",
       "        text-align: right;\n",
       "    }\n",
       "</style>\n",
       "<table border=\"1\" class=\"dataframe\">\n",
       "  <thead>\n",
       "    <tr style=\"text-align: right;\">\n",
       "      <th></th>\n",
       "      <th>2</th>\n",
       "    </tr>\n",
       "  </thead>\n",
       "  <tbody>\n",
       "    <tr>\n",
       "      <th>url</th>\n",
       "      <td>https://api.github.com/repos/huggingface/trans...</td>\n",
       "    </tr>\n",
       "    <tr>\n",
       "      <th>id</th>\n",
       "      <td>849529761</td>\n",
       "    </tr>\n",
       "    <tr>\n",
       "      <th>title</th>\n",
       "      <td>[DeepSpeed] ZeRO stage 3 integration: getting ...</td>\n",
       "    </tr>\n",
       "    <tr>\n",
       "      <th>user</th>\n",
       "      <td>{'login': 'stas00', 'id': 10676103, 'node_id':...</td>\n",
       "    </tr>\n",
       "    <tr>\n",
       "      <th>labels</th>\n",
       "      <td>[{'id': 2659267025, 'node_id': 'MDU6TGFiZWwyNj...</td>\n",
       "    </tr>\n",
       "    <tr>\n",
       "      <th>state</th>\n",
       "      <td>open</td>\n",
       "    </tr>\n",
       "    <tr>\n",
       "      <th>created_at</th>\n",
       "      <td>2021-04-02 23:40:42</td>\n",
       "    </tr>\n",
       "    <tr>\n",
       "      <th>body</th>\n",
       "      <td>**[This is not yet alive, preparing for the re...</td>\n",
       "    </tr>\n",
       "  </tbody>\n",
       "</table>\n",
       "</div>"
      ],
      "text/plain": [
       "                                                            2\n",
       "url         https://api.github.com/repos/huggingface/trans...\n",
       "id                                                  849529761\n",
       "title       [DeepSpeed] ZeRO stage 3 integration: getting ...\n",
       "user        {'login': 'stas00', 'id': 10676103, 'node_id':...\n",
       "labels      [{'id': 2659267025, 'node_id': 'MDU6TGFiZWwyNj...\n",
       "state                                                    open\n",
       "created_at                                2021-04-02 23:40:42\n",
       "body        **[This is not yet alive, preparing for the re..."
      ]
     },
     "execution_count": 4,
     "metadata": {},
     "output_type": "execute_result"
    }
   ],
   "source": [
    "cols = [\"url\", \"id\", \"title\", \"user\", \"labels\", \"state\", \"created_at\", \"body\"]\n",
    "df_issues.loc[2, cols].to_frame()"
   ]
  },
  {
   "cell_type": "code",
   "execution_count": 5,
   "id": "f23548ed",
   "metadata": {},
   "outputs": [
    {
     "data": {
      "text/html": [
       "<div>\n",
       "<style scoped>\n",
       "    .dataframe tbody tr th:only-of-type {\n",
       "        vertical-align: middle;\n",
       "    }\n",
       "\n",
       "    .dataframe tbody tr th {\n",
       "        vertical-align: top;\n",
       "    }\n",
       "\n",
       "    .dataframe thead th {\n",
       "        text-align: right;\n",
       "    }\n",
       "</style>\n",
       "<table border=\"1\" class=\"dataframe\">\n",
       "  <thead>\n",
       "    <tr style=\"text-align: right;\">\n",
       "      <th></th>\n",
       "      <th>labels</th>\n",
       "    </tr>\n",
       "  </thead>\n",
       "  <tbody>\n",
       "    <tr>\n",
       "      <th>0</th>\n",
       "      <td>[]</td>\n",
       "    </tr>\n",
       "    <tr>\n",
       "      <th>1</th>\n",
       "      <td>[]</td>\n",
       "    </tr>\n",
       "    <tr>\n",
       "      <th>2</th>\n",
       "      <td>[DeepSpeed]</td>\n",
       "    </tr>\n",
       "    <tr>\n",
       "      <th>3</th>\n",
       "      <td>[]</td>\n",
       "    </tr>\n",
       "    <tr>\n",
       "      <th>4</th>\n",
       "      <td>[]</td>\n",
       "    </tr>\n",
       "  </tbody>\n",
       "</table>\n",
       "</div>"
      ],
      "text/plain": [
       "        labels\n",
       "0           []\n",
       "1           []\n",
       "2  [DeepSpeed]\n",
       "3           []\n",
       "4           []"
      ]
     },
     "execution_count": 5,
     "metadata": {},
     "output_type": "execute_result"
    }
   ],
   "source": [
    "df_issues[\"labels\"] = (df_issues[\"labels\"]\n",
    "                       .apply(lambda x: [meta[\"name\"] for meta in x]))\n",
    "df_issues[[\"labels\"]].head()\n",
    "# labels 열에 있는 각 행은 깃허브 레이블의 리스트"
   ]
  },
  {
   "cell_type": "code",
   "execution_count": 6,
   "id": "f35bf565",
   "metadata": {},
   "outputs": [
    {
     "data": {
      "text/html": [
       "<div>\n",
       "<style scoped>\n",
       "    .dataframe tbody tr th:only-of-type {\n",
       "        vertical-align: middle;\n",
       "    }\n",
       "\n",
       "    .dataframe tbody tr th {\n",
       "        vertical-align: top;\n",
       "    }\n",
       "\n",
       "    .dataframe thead th {\n",
       "        text-align: right;\n",
       "    }\n",
       "</style>\n",
       "<table border=\"1\" class=\"dataframe\">\n",
       "  <thead>\n",
       "    <tr style=\"text-align: right;\">\n",
       "      <th>labels</th>\n",
       "      <th>0</th>\n",
       "      <th>1</th>\n",
       "      <th>2</th>\n",
       "      <th>3</th>\n",
       "      <th>4</th>\n",
       "      <th>5</th>\n",
       "    </tr>\n",
       "  </thead>\n",
       "  <tbody>\n",
       "    <tr>\n",
       "      <th>count</th>\n",
       "      <td>6440</td>\n",
       "      <td>3057</td>\n",
       "      <td>305</td>\n",
       "      <td>100</td>\n",
       "      <td>25</td>\n",
       "      <td>3</td>\n",
       "    </tr>\n",
       "  </tbody>\n",
       "</table>\n",
       "</div>"
      ],
      "text/plain": [
       "labels     0     1    2    3   4  5\n",
       "count   6440  3057  305  100  25  3"
      ]
     },
     "execution_count": 6,
     "metadata": {},
     "output_type": "execute_result"
    }
   ],
   "source": [
    "df_issues[\"labels\"].apply(lambda x : len(x)).value_counts().to_frame().T"
   ]
  },
  {
   "cell_type": "code",
   "execution_count": 7,
   "id": "29fa9c75",
   "metadata": {},
   "outputs": [
    {
     "name": "stdout",
     "output_type": "stream",
     "text": [
      "레이블 개수: 65\n"
     ]
    },
    {
     "data": {
      "text/html": [
       "<div>\n",
       "<style scoped>\n",
       "    .dataframe tbody tr th:only-of-type {\n",
       "        vertical-align: middle;\n",
       "    }\n",
       "\n",
       "    .dataframe tbody tr th {\n",
       "        vertical-align: top;\n",
       "    }\n",
       "\n",
       "    .dataframe thead th {\n",
       "        text-align: right;\n",
       "    }\n",
       "</style>\n",
       "<table border=\"1\" class=\"dataframe\">\n",
       "  <thead>\n",
       "    <tr style=\"text-align: right;\">\n",
       "      <th>labels</th>\n",
       "      <th>wontfix</th>\n",
       "      <th>model card</th>\n",
       "      <th>Core: Tokenization</th>\n",
       "      <th>New model</th>\n",
       "      <th>Core: Modeling</th>\n",
       "      <th>Help wanted</th>\n",
       "      <th>Good First Issue</th>\n",
       "      <th>Usage</th>\n",
       "    </tr>\n",
       "  </thead>\n",
       "  <tbody>\n",
       "    <tr>\n",
       "      <th>count</th>\n",
       "      <td>2284</td>\n",
       "      <td>649</td>\n",
       "      <td>106</td>\n",
       "      <td>98</td>\n",
       "      <td>64</td>\n",
       "      <td>52</td>\n",
       "      <td>50</td>\n",
       "      <td>46</td>\n",
       "    </tr>\n",
       "  </tbody>\n",
       "</table>\n",
       "</div>"
      ],
      "text/plain": [
       "labels  wontfix  model card  Core: Tokenization  New model  Core: Modeling  \\\n",
       "count      2284         649                 106         98              64   \n",
       "\n",
       "labels  Help wanted  Good First Issue  Usage  \n",
       "count            52                50     46  "
      ]
     },
     "execution_count": 7,
     "metadata": {},
     "output_type": "execute_result"
    }
   ],
   "source": [
    "df_counts = df_issues[\"labels\"].explode().value_counts()\n",
    "print(f\"레이블 개수: {len(df_counts)}\")\n",
    "# 상위 8개 레이블\n",
    "df_counts.to_frame().head(8).T"
   ]
  },
  {
   "cell_type": "code",
   "execution_count": 8,
   "id": "6b85716f",
   "metadata": {},
   "outputs": [],
   "source": [
    "# 클래스 불균형으로 맞춰줌\n",
    "label_map = {\"Core: Tokenization\": \"tokenization\",\n",
    "             \"New model\": \"new model\",\n",
    "             \"Core: Modeling\": \"model training\",\n",
    "             \"Usage\": \"usage\",\n",
    "             \"Core: Pipeline\": \"pipeline\",\n",
    "             \"TensorFlow\": \"tensorflow or tf\",\n",
    "             \"PyTorch\": \"pytorch\",\n",
    "             \"Examples\": \"examples\",\n",
    "             \"Documentation\": \"documentation\"}\n",
    "\n",
    "def filter_labels(x):\n",
    "    return [label_map[label] for label in x if label in label_map]\n",
    "\n",
    "df_issues[\"labels\"] = df_issues[\"labels\"].apply(filter_labels)\n",
    "all_labels = list(label_map.values())"
   ]
  },
  {
   "cell_type": "code",
   "execution_count": 9,
   "id": "bfbdc9d7",
   "metadata": {},
   "outputs": [
    {
     "data": {
      "text/html": [
       "<div>\n",
       "<style scoped>\n",
       "    .dataframe tbody tr th:only-of-type {\n",
       "        vertical-align: middle;\n",
       "    }\n",
       "\n",
       "    .dataframe tbody tr th {\n",
       "        vertical-align: top;\n",
       "    }\n",
       "\n",
       "    .dataframe thead th {\n",
       "        text-align: right;\n",
       "    }\n",
       "</style>\n",
       "<table border=\"1\" class=\"dataframe\">\n",
       "  <thead>\n",
       "    <tr style=\"text-align: right;\">\n",
       "      <th>labels</th>\n",
       "      <th>tokenization</th>\n",
       "      <th>new model</th>\n",
       "      <th>model training</th>\n",
       "      <th>usage</th>\n",
       "      <th>pipeline</th>\n",
       "      <th>tensorflow or tf</th>\n",
       "      <th>pytorch</th>\n",
       "      <th>documentation</th>\n",
       "      <th>examples</th>\n",
       "    </tr>\n",
       "  </thead>\n",
       "  <tbody>\n",
       "    <tr>\n",
       "      <th>count</th>\n",
       "      <td>106</td>\n",
       "      <td>98</td>\n",
       "      <td>64</td>\n",
       "      <td>46</td>\n",
       "      <td>42</td>\n",
       "      <td>41</td>\n",
       "      <td>37</td>\n",
       "      <td>28</td>\n",
       "      <td>24</td>\n",
       "    </tr>\n",
       "  </tbody>\n",
       "</table>\n",
       "</div>"
      ],
      "text/plain": [
       "labels  tokenization  new model  model training  usage  pipeline  \\\n",
       "count            106         98              64     46        42   \n",
       "\n",
       "labels  tensorflow or tf  pytorch  documentation  examples  \n",
       "count                 41       37             28        24  "
      ]
     },
     "execution_count": 9,
     "metadata": {},
     "output_type": "execute_result"
    }
   ],
   "source": [
    "df_counts = df_issues[\"labels\"].explode().value_counts()\n",
    "df_counts.to_frame().T"
   ]
  },
  {
   "cell_type": "code",
   "execution_count": 10,
   "id": "00c7e837",
   "metadata": {},
   "outputs": [
    {
     "data": {
      "text/html": [
       "<div>\n",
       "<style scoped>\n",
       "    .dataframe tbody tr th:only-of-type {\n",
       "        vertical-align: middle;\n",
       "    }\n",
       "\n",
       "    .dataframe tbody tr th {\n",
       "        vertical-align: top;\n",
       "    }\n",
       "\n",
       "    .dataframe thead th {\n",
       "        text-align: right;\n",
       "    }\n",
       "</style>\n",
       "<table border=\"1\" class=\"dataframe\">\n",
       "  <thead>\n",
       "    <tr style=\"text-align: right;\">\n",
       "      <th></th>\n",
       "      <th>count</th>\n",
       "    </tr>\n",
       "    <tr>\n",
       "      <th>split</th>\n",
       "      <th></th>\n",
       "    </tr>\n",
       "  </thead>\n",
       "  <tbody>\n",
       "    <tr>\n",
       "      <th>unlabeled</th>\n",
       "      <td>9489</td>\n",
       "    </tr>\n",
       "    <tr>\n",
       "      <th>labeled</th>\n",
       "      <td>441</td>\n",
       "    </tr>\n",
       "  </tbody>\n",
       "</table>\n",
       "</div>"
      ],
      "text/plain": [
       "           count\n",
       "split           \n",
       "unlabeled   9489\n",
       "labeled      441"
      ]
     },
     "execution_count": 10,
     "metadata": {},
     "output_type": "execute_result"
    }
   ],
   "source": [
    "# 이슈에 레이블 유무\n",
    "df_issues[\"split\"] = \"unlabeled\"\n",
    "mask = df_issues[\"labels\"].apply(lambda x: len(x)) > 0\n",
    "df_issues.loc[mask, \"split\"] = \"labeled\"\n",
    "df_issues[\"split\"].value_counts().to_frame()"
   ]
  },
  {
   "cell_type": "code",
   "execution_count": 11,
   "id": "15179dba",
   "metadata": {},
   "outputs": [
    {
     "name": "stdout",
     "output_type": "stream",
     "text": [
      "title: Add new CANINE model\n",
      "\n",
      "body: # 🌟 New model addition\r\n",
      "\r\n",
      "## Model description\r\n",
      "\r\n",
      "Google recently proposed a new **C**haracter **A**rchitecture with **N**o tokenization **I**n **N**eural **E**ncoders architecture (CANINE). Not only the title is exciting:\r\n",
      "\r\n",
      "> Pipelined NLP systems have largely been superseded by end-to-end neural modeling, yet nearly all commonly-used models still require an explicit tokenization step. While recent tokenization approaches based on data-derived subword lexicons are less brittle than manually en\n",
      "\n",
      "labels: ['new model']\n",
      "\n"
     ]
    }
   ],
   "source": [
    "for column in [\"title\", \"body\", \"labels\"]:\n",
    "    print(f\"{column}: {df_issues[column].iloc[26][:500]}\\n\")\n",
    "# 새로운 모델 구조 제안 : new model 태그"
   ]
  },
  {
   "cell_type": "code",
   "execution_count": 12,
   "id": "c7774fc0",
   "metadata": {},
   "outputs": [],
   "source": [
    "df_issues[\"text\"] = (df_issues\n",
    "                     .apply(lambda x: x[\"title\"] + \"\\n\\n\" + x[\"body\"], axis=1))"
   ]
  },
  {
   "cell_type": "code",
   "execution_count": 13,
   "id": "79cf5c38",
   "metadata": {},
   "outputs": [
    {
     "name": "stdout",
     "output_type": "stream",
     "text": [
      "삭제된 중복 이슈: 1.88%\n"
     ]
    }
   ],
   "source": [
    "len_before = len(df_issues)\n",
    "df_issues = df_issues.drop_duplicates(subset=\"text\")\n",
    "print(f\"삭제된 중복 이슈: {(len_before-len(df_issues))/len_before:.2%}\")"
   ]
  },
  {
   "cell_type": "code",
   "execution_count": 14,
   "id": "de39fb47",
   "metadata": {},
   "outputs": [
    {
     "data": {
      "image/png": "[encoded data removed]",
      "text/plain": [
       "<Figure size 640x480 with 1 Axes>"
      ]
     },
     "metadata": {},
     "output_type": "display_data"
    }
   ],
   "source": [
    "import numpy as np\n",
    "import matplotlib.pyplot as plt\n",
    "\n",
    "(df_issues[\"text\"].str.split().apply(len)\n",
    " .hist(bins=np.linspace(0, 500, 50), grid=False, edgecolor=\"C0\"))\n",
    "plt.title(\"Words per issue\")\n",
    "plt.xlabel(\"Number of words\")\n",
    "plt.ylabel(\"Number of issues\")\n",
    "plt.show()"
   ]
  },
  {
   "cell_type": "markdown",
   "id": "62f84cc9",
   "metadata": {},
   "source": [
    "대부분의 텍스트가 매우 짧지만, 500단어가 넘는 이슈도 있다. (에러 메시지나 코드를 함께 포스팅한 경우)  \n",
    "트랜스포머 모델의 문맥 크기는 512 개 토큰이나 그 이상이기에 일부 긴 이슈를 잘라내는 것이 전체 성능에 영향을 미칠 것 같지 않다.\n",
    "\n",
    "* 훈련 세트 만들기"
   ]
  },
  {
   "cell_type": "code",
   "execution_count": 15,
   "id": "94a998af",
   "metadata": {},
   "outputs": [
    {
     "data": {
      "text/plain": [
       "array([[0, 0, 0, 1, 0, 0, 0, 1, 0],\n",
       "       [0, 0, 0, 0, 0, 1, 0, 0, 0]])"
      ]
     },
     "execution_count": 15,
     "metadata": {},
     "output_type": "execute_result"
    }
   ],
   "source": [
    "from sklearn.preprocessing import MultiLabelBinarizer\n",
    "\n",
    "mlb = MultiLabelBinarizer()\n",
    "mlb.fit([all_labels])\n",
    "mlb.transform([[\"tokenization\", \"new model\"], [\"pytorch\"]])"
   ]
  },
  {
   "cell_type": "code",
   "execution_count": 20,
   "id": "c46c9f5c",
   "metadata": {},
   "outputs": [],
   "source": [
    "from skmultilearn.model_selection import iterative_train_test_split\n",
    "\n",
    "def balanced_split(df, test_size=0.5):\n",
    "    ind = np.expand_dims(np.arange(len(df)), axis=1)\n",
    "    labels = mlb.transform(df[\"labels\"])\n",
    "    ind_train, _, ind_test, _ = iterative_train_test_split(ind, labels,\n",
    "                                                           test_size)\n",
    "    return df.iloc[ind_train[:, 0]], df.iloc[ind_test[:,0]]"
   ]
  },
  {
   "cell_type": "code",
   "execution_count": 21,
   "id": "fde91242",
   "metadata": {},
   "outputs": [],
   "source": [
    "from sklearn.model_selection import train_test_split\n",
    "\n",
    "df_clean = df_issues[[\"text\", \"labels\", \"split\"]].reset_index(drop=True).copy()\n",
    "df_unsup = df_clean.loc[df_clean[\"split\"] == \"unlabeled\", [\"text\", \"labels\"]]\n",
    "df_sup = df_clean.loc[df_clean[\"split\"] == \"labeled\", [\"text\", \"labels\"]]\n",
    "\n",
    "np.random.seed(0)\n",
    "df_train, df_tmp = balanced_split(df_sup, test_size=0.5)\n",
    "df_valid, df_test = balanced_split(df_tmp, test_size=0.5)"
   ]
  },
  {
   "cell_type": "code",
   "execution_count": 22,
   "id": "e68c49f1",
   "metadata": {},
   "outputs": [],
   "source": [
    "from datasets import Dataset, DatasetDict\n",
    "\n",
    "ds = DatasetDict({\n",
    "    \"train\": Dataset.from_pandas(df_train.reset_index(drop=True)),\n",
    "    \"valid\": Dataset.from_pandas(df_valid.reset_index(drop=True)),\n",
    "    \"test\": Dataset.from_pandas(df_test.reset_index(drop=True)),\n",
    "    \"unsup\": Dataset.from_pandas(df_unsup.reset_index(drop=True))})"
   ]
  },
  {
   "cell_type": "markdown",
   "id": "f22172e9",
   "metadata": {},
   "source": [
    "* 훈련 슬라이스 만들기  \n",
    "\n",
    "훈련셋은 단 220개 샘플로 매우 적음, 샘플 개수가 더 적은 훈련 데이터의 슬라이스로 만들어 샘플 개수에 대한 성능을 그래프로 그려 성능 확인"
   ]
  },
  {
   "cell_type": "code",
   "execution_count": 25,
   "id": "54e518fa",
   "metadata": {},
   "outputs": [],
   "source": [
    "np.random.seed(0)\n",
    "all_indices = np.expand_dims(list(range(len(ds[\"train\"]))), axis=1)\n",
    "indices_pool = all_indices\n",
    "labels = mlb.transform(ds[\"train\"][\"labels\"])\n",
    "train_samples = [8, 16, 32, 64, 128]\n",
    "train_slices, last_k = [], 0\n",
    "\n",
    "for i, k in enumerate(train_samples):\n",
    "    # 다음 슬라이스 크기를 채우는데 필요한 샘플 분할\n",
    "    indices_pool, labels, new_slice, _ = iterative_train_test_split(\n",
    "        indices_pool, labels, (k-last_k)/len(labels))\n",
    "    last_k = k\n",
    "    if i==0: train_slices.append(new_slice)\n",
    "    else: train_slices.append(np.concatenate((train_slices[-1], new_slice)))\n",
    "\n",
    "\n",
    "train_slices.append(all_indices), train_samples.append(len(ds[\"train\"]))\n",
    "\n",
    "train_slices = [np.squeeze(train_slice) for train_slice in train_slices]"
   ]
  },
  {
   "cell_type": "code",
   "execution_count": 26,
   "id": "91cab235",
   "metadata": {},
   "outputs": [
    {
     "name": "stdout",
     "output_type": "stream",
     "text": [
      "목표 분할 크기:\n",
      "[8, 16, 32, 64, 128, 223]\n",
      "실제 분할 크기:\n",
      "[10, 19, 36, 68, 134, 223]\n"
     ]
    }
   ],
   "source": [
    "print(\"목표 분할 크기:\")\n",
    "print(train_samples)\n",
    "print(\"실제 분할 크기:\")\n",
    "print([len(x) for x in train_slices])"
   ]
  },
  {
   "cell_type": "markdown",
   "id": "9bcb4e08",
   "metadata": {},
   "source": [
    "### 나이브 베이즈 모델 만들기\n",
    "* 정규 표현식, 수동 규칙 또는 매우 간단한 모델을 기반으로 하는 기준 모델이 실제로 문제를 잘 해결한다. 트랜스포머 같은 모델은 제품 환경에 배포하고 유지 관리가 대체로 더 복잡하다.\n",
    "* 복잡한 모델을 탐색할 때 기준 모델이 간단한 검증 역할을 한다. BERT-large 모델을 훈련하고 검증셋에서 80% 정확도를 얻었다고 할때, 어려운 데이터셋이라 생각하고 끝낼지도 모른다. 하지만 로지스틱 회귀 같은 간단한 분류기가 95% 정확도 달성했다면, 모델에 버그가 있는지 의심하고 디버깅하게 된다.\n",
    "\n",
    "<br>\n",
    "\n",
    "* 텍스트 분류의 경우 좋은 기준점은 나이브 베이즈 분류기이다.\n",
    "    * 간단하고 훈련 속도가 빠르며 입력의 변동에 매우 안정적"
   ]
  },
  {
   "cell_type": "code",
   "execution_count": 27,
   "id": "73e5979f",
   "metadata": {
    "scrolled": true
   },
   "outputs": [
    {
     "data": {
      "application/vnd.jupyter.widget-view+json": {
       "model_id": "ebb0e533e9764f4b82f10aa48952e213",
       "version_major": 2,
       "version_minor": 0
      },
      "text/plain": [
       "Map:   0%|          | 0/223 [00:00<?, ? examples/s]"
      ]
     },
     "metadata": {},
     "output_type": "display_data"
    },
    {
     "data": {
      "application/vnd.jupyter.widget-view+json": {
       "model_id": "5afd9d471f7b485e8d0124ce0179d38e",
       "version_major": 2,
       "version_minor": 0
      },
      "text/plain": [
       "Map:   0%|          | 0/106 [00:00<?, ? examples/s]"
      ]
     },
     "metadata": {},
     "output_type": "display_data"
    },
    {
     "data": {
      "application/vnd.jupyter.widget-view+json": {
       "model_id": "9a75594c3015448cbdab256e6fcc3c64",
       "version_major": 2,
       "version_minor": 0
      },
      "text/plain": [
       "Map:   0%|          | 0/111 [00:00<?, ? examples/s]"
      ]
     },
     "metadata": {},
     "output_type": "display_data"
    },
    {
     "data": {
      "application/vnd.jupyter.widget-view+json": {
       "model_id": "c8b6e3e05fc149e09050440d67919979",
       "version_major": 2,
       "version_minor": 0
      },
      "text/plain": [
       "Map:   0%|          | 0/9303 [00:00<?, ? examples/s]"
      ]
     },
     "metadata": {},
     "output_type": "display_data"
    }
   ],
   "source": [
    "def prepare_labels(batch):\n",
    "    batch[\"label_ids\"] = mlb.transform(batch[\"labels\"])\n",
    "    return batch\n",
    "\n",
    "ds = ds.map(prepare_labels, batched=True)"
   ]
  },
  {
   "cell_type": "code",
   "execution_count": 28,
   "id": "37001bdd",
   "metadata": {},
   "outputs": [],
   "source": [
    "from collections import defaultdict\n",
    "\n",
    "macro_scores, micro_scores = defaultdict(list), defaultdict(list)"
   ]
  },
  {
   "cell_type": "code",
   "execution_count": 29,
   "id": "d16934cc",
   "metadata": {},
   "outputs": [],
   "source": [
    "from sklearn.naive_bayes import MultinomialNB\n",
    "from sklearn.metrics import classification_report\n",
    "from skmultilearn.problem_transform import BinaryRelevance\n",
    "from sklearn.feature_extraction.text import CountVectorizer\n",
    "\n",
    "# 단어 순서 정보가 모두 없어짐 : BoW\n",
    "for train_slice in train_slices:\n",
    "    # 훈련 슬라이스와 테스트 데이터\n",
    "    ds_train_sample = ds[\"train\"].select(train_slice)\n",
    "    y_train = np.array(ds_train_sample[\"label_ids\"])\n",
    "    y_test = np.array(ds[\"test\"][\"label_ids\"])\n",
    "    # 간단한 CountVectorizer를 사용해 텍스트를 토큰 카운트로 인코딩\n",
    "    count_vect = CountVectorizer()\n",
    "    X_train_counts = count_vect.fit_transform(ds_train_sample[\"text\"])\n",
    "    X_test_counts = count_vect.transform(ds[\"test\"][\"text\"])\n",
    "    # 훈련\n",
    "    classifier = BinaryRelevance(classifier=MultinomialNB())\n",
    "    classifier.fit(X_train_counts, y_train)\n",
    "    # 예측 생성 및 평가\n",
    "    y_pred_test = classifier.predict(X_test_counts)\n",
    "    clf_report = classification_report(\n",
    "        y_test, y_pred_test, target_names=mlb.classes_, zero_division=0,\n",
    "        output_dict=True)\n",
    "    # 결과 저장\n",
    "    macro_scores[\"Naive Bayes\"].append(clf_report[\"macro avg\"][\"f1-score\"])\n",
    "    micro_scores[\"Naive Bayes\"].append(clf_report[\"micro avg\"][\"f1-score\"])"
   ]
  },
  {
   "cell_type": "code",
   "execution_count": 30,
   "id": "2b54fb07",
   "metadata": {},
   "outputs": [],
   "source": [
    "import matplotlib.pyplot as plt\n",
    "\n",
    "def plot_metrics(micro_scores, macro_scores, sample_sizes, current_model):\n",
    "    fig, (ax0, ax1) = plt.subplots(1, 2, figsize=(10, 4), sharey=True)\n",
    "\n",
    "    for run in micro_scores.keys():\n",
    "        if run == current_model:\n",
    "            ax0.plot(sample_sizes, micro_scores[run], label=run, linewidth=2)\n",
    "            ax1.plot(sample_sizes, macro_scores[run], label=run, linewidth=2)\n",
    "        else:\n",
    "            ax0.plot(sample_sizes, micro_scores[run], label=run,\n",
    "                     linestyle=\"dashed\")\n",
    "            ax1.plot(sample_sizes, macro_scores[run], label=run,\n",
    "                     linestyle=\"dashed\")\n",
    "\n",
    "    ax0.set_title(\"Micro F1 scores\")\n",
    "    ax1.set_title(\"Macro F1 scores\")\n",
    "    ax0.set_ylabel(\"Test set F1 score\")\n",
    "    ax0.legend(loc=\"lower right\")\n",
    "    for ax in [ax0, ax1]:\n",
    "        ax.set_xlabel(\"Number of training samples\")\n",
    "        ax.set_xscale(\"log\")\n",
    "        ax.set_xticks(sample_sizes)\n",
    "        ax.set_xticklabels(sample_sizes)\n",
    "        ax.minorticks_off()\n",
    "    plt.tight_layout()\n",
    "    plt.show()"
   ]
  },
  {
   "cell_type": "code",
   "execution_count": 31,
   "id": "a928a359",
   "metadata": {},
   "outputs": [
    {
     "data": {
      "image/png": "[encoded data removed]",
      "text/plain": [
       "<Figure size 1000x400 with 2 Axes>"
      ]
     },
     "metadata": {},
     "output_type": "display_data"
    }
   ],
   "source": [
    "plot_metrics(micro_scores, macro_scores, train_samples, \"Naive Bayes\")"
   ]
  },
  {
   "cell_type": "markdown",
   "id": "b7ea4cb9",
   "metadata": {},
   "source": [
    "훈련 샘플 개수의 증가에 따라 두 점수 모두 향상\n",
    "\n",
    "### 레이블이 없는 데이터 다루기\n",
    "* 레이블링된 데이터가 전혀 없을 때 : 제로샷 분류\n",
    "    * 작업별 말뭉치에서 추가로 미세 튜닝하지 않고 사전 훈련된 모델을 사용하는 것이 목표"
   ]
  },
  {
   "cell_type": "code",
   "execution_count": 32,
   "id": "d20e32fa",
   "metadata": {},
   "outputs": [
    {
     "name": "stderr",
     "output_type": "stream",
     "text": [
      "C:\\Users\\knuyh\\anaconda3\\Lib\\site-packages\\huggingface_hub\\file_download.py:1132: FutureWarning: `resume_download` is deprecated and will be removed in version 1.0.0. Downloads always resume when possible. If you want to force a new download, use `force_download=True`.\n",
      "  warnings.warn(\n"
     ]
    },
    {
     "data": {
      "application/vnd.jupyter.widget-view+json": {
       "model_id": "56874bf55e4a4bbc991c3347c7c5504a",
       "version_major": 2,
       "version_minor": 0
      },
      "text/plain": [
       "config.json:   0%|          | 0.00/570 [00:00<?, ?B/s]"
      ]
     },
     "metadata": {},
     "output_type": "display_data"
    },
    {
     "name": "stderr",
     "output_type": "stream",
     "text": [
      "C:\\Users\\knuyh\\anaconda3\\Lib\\site-packages\\huggingface_hub\\file_download.py:157: UserWarning: `huggingface_hub` cache-system uses symlinks by default to efficiently store duplicated files but your machine does not support them in C:\\Users\\knuyh\\.cache\\huggingface\\hub\\models--bert-base-uncased. Caching files will still work but in a degraded version that might require more space on your disk. This warning can be disabled by setting the `HF_HUB_DISABLE_SYMLINKS_WARNING` environment variable. For more details, see https://huggingface.co/docs/huggingface_hub/how-to-cache#limitations.\n",
      "To support symlinks on Windows, you either need to activate Developer Mode or to run Python as an administrator. In order to see activate developer mode, see this article: https://docs.microsoft.com/en-us/windows/apps/get-started/enable-your-device-for-development\n",
      "  warnings.warn(message)\n"
     ]
    },
    {
     "name": "stdout",
     "output_type": "stream",
     "text": [
      "WARNING:tensorflow:From C:\\Users\\knuyh\\anaconda3\\Lib\\site-packages\\tf_keras\\src\\losses.py:2976: The name tf.losses.sparse_softmax_cross_entropy is deprecated. Please use tf.compat.v1.losses.sparse_softmax_cross_entropy instead.\n",
      "\n"
     ]
    },
    {
     "data": {
      "application/vnd.jupyter.widget-view+json": {
       "model_id": "0c81aa83e700470aa4c80534cdeb6997",
       "version_major": 2,
       "version_minor": 0
      },
      "text/plain": [
       "model.safetensors:   0%|          | 0.00/440M [00:00<?, ?B/s]"
      ]
     },
     "metadata": {},
     "output_type": "display_data"
    },
    {
     "name": "stderr",
     "output_type": "stream",
     "text": [
      "Some weights of the model checkpoint at bert-base-uncased were not used when initializing BertForMaskedLM: ['bert.pooler.dense.bias', 'bert.pooler.dense.weight', 'cls.seq_relationship.bias', 'cls.seq_relationship.weight']\n",
      "- This IS expected if you are initializing BertForMaskedLM from the checkpoint of a model trained on another task or with another architecture (e.g. initializing a BertForSequenceClassification model from a BertForPreTraining model).\n",
      "- This IS NOT expected if you are initializing BertForMaskedLM from the checkpoint of a model that you expect to be exactly identical (initializing a BertForSequenceClassification model from a BertForSequenceClassification model).\n"
     ]
    },
    {
     "data": {
      "application/vnd.jupyter.widget-view+json": {
       "model_id": "2733d99177c444eabe448dc0232e43c9",
       "version_major": 2,
       "version_minor": 0
      },
      "text/plain": [
       "tokenizer_config.json:   0%|          | 0.00/48.0 [00:00<?, ?B/s]"
      ]
     },
     "metadata": {},
     "output_type": "display_data"
    },
    {
     "data": {
      "application/vnd.jupyter.widget-view+json": {
       "model_id": "159fcbfba8994f299e320a3e87de2a60",
       "version_major": 2,
       "version_minor": 0
      },
      "text/plain": [
       "vocab.txt:   0%|          | 0.00/232k [00:00<?, ?B/s]"
      ]
     },
     "metadata": {},
     "output_type": "display_data"
    },
    {
     "data": {
      "application/vnd.jupyter.widget-view+json": {
       "model_id": "ecab7e74296845d2b32ad01006075087",
       "version_major": 2,
       "version_minor": 0
      },
      "text/plain": [
       "tokenizer.json:   0%|          | 0.00/466k [00:00<?, ?B/s]"
      ]
     },
     "metadata": {},
     "output_type": "display_data"
    }
   ],
   "source": [
    "from transformers import pipeline\n",
    "\n",
    "pipe = pipeline(\"fill-mask\", model=\"bert-base-uncased\")"
   ]
  },
  {
   "cell_type": "code",
   "execution_count": 33,
   "id": "f3f7f184",
   "metadata": {},
   "outputs": [
    {
     "name": "stdout",
     "output_type": "stream",
     "text": [
      "토큰 animals:\t0.103%\n",
      "토큰 lions:\t0.066%\n",
      "토큰 birds:\t0.025%\n",
      "토큰 love:\t0.015%\n",
      "토큰 hunting:\t0.013%\n"
     ]
    }
   ],
   "source": [
    "movie_desc = \"The main characters of the movie madacascar \\\n",
    "are a lion, a zebra, a giraffe, and a hippo. \"\n",
    "prompt = \"The movie is about [MASK].\"\n",
    "\n",
    "output = pipe(movie_desc + prompt)\n",
    "for element in output:\n",
    "    print(f\"토큰 {element['token_str']}:\\t{element['score']:.3f}%\")\n",
    "    \n",
    "# fill-mask 파이프라인은 마스킹된 위치에 놓기에 가장 가능성이 높은 토큰 반환"
   ]
  },
  {
   "cell_type": "code",
   "execution_count": 34,
   "id": "da7abd47",
   "metadata": {},
   "outputs": [
    {
     "name": "stdout",
     "output_type": "stream",
     "text": [
      "토큰 animals:\t0.103%\n",
      "토큰 cars:\t0.001%\n"
     ]
    }
   ],
   "source": [
    "# 가장 가능성이 높은 토큰을 얻는 대신 주어진 토큰에 대한 확률 출력\n",
    "output = pipe(movie_desc + prompt, targets=[\"animals\", \"cars\"])\n",
    "for element in output:\n",
    "    print(f\"토큰 {element['token_str']}:\\t{element['score']:.3f}%\")"
   ]
  },
  {
   "cell_type": "code",
   "execution_count": 35,
   "id": "7e5920b0",
   "metadata": {},
   "outputs": [
    {
     "name": "stdout",
     "output_type": "stream",
     "text": [
      "토큰 cars:\t0.139%\n",
      "토큰 animals:\t0.006%\n"
     ]
    }
   ],
   "source": [
    "movie_desc = \"In the movie transformers aliens \\\n",
    "can morph into a wide range of vehicles.\"\n",
    "\n",
    "output = pipe(movie_desc + prompt, targets=[\"animals\", \"cars\"])\n",
    "for element in output:\n",
    "    print(f\"토큰 {element['token_str']}:\\t{element['score']:.3f}%\")    "
   ]
  },
  {
   "cell_type": "markdown",
   "id": "82a22624",
   "metadata": {},
   "source": [
    "텍스트 함의 : 모델이 두 개의 텍스트 구절이 서로 연결되는지 모순되는지 판단  \n",
    "각 샘플은 전제(premise) / 가설(hypothesis) / 레이블 으로 구성  \n",
    "\n",
    "    * 레이블은 entailment / neutral / contradiction\n",
    "        * entailment : 전제 조건하에서 가설 텍스트가 참일 때 할당\n",
    "        * contradiction : 전제 조건하에서 가설 텍스트가 거짓이거나 부적합일 때 할당\n",
    "        * neutral : 두 경우에 해당하지 않을 때 할당"
   ]
  },
  {
   "cell_type": "code",
   "execution_count": 36,
   "id": "04219fef",
   "metadata": {},
   "outputs": [
    {
     "name": "stderr",
     "output_type": "stream",
     "text": [
      "No model was supplied, defaulted to facebook/bart-large-mnli and revision c626438 (https://huggingface.co/facebook/bart-large-mnli).\n",
      "Using a pipeline without specifying a model name and revision in production is not recommended.\n",
      "C:\\Users\\knuyh\\anaconda3\\Lib\\site-packages\\huggingface_hub\\file_download.py:1132: FutureWarning: `resume_download` is deprecated and will be removed in version 1.0.0. Downloads always resume when possible. If you want to force a new download, use `force_download=True`.\n",
      "  warnings.warn(\n"
     ]
    },
    {
     "data": {
      "application/vnd.jupyter.widget-view+json": {
       "model_id": "b7925147f91c4af7aed5515a11c58539",
       "version_major": 2,
       "version_minor": 0
      },
      "text/plain": [
       "config.json:   0%|          | 0.00/1.15k [00:00<?, ?B/s]"
      ]
     },
     "metadata": {},
     "output_type": "display_data"
    },
    {
     "name": "stderr",
     "output_type": "stream",
     "text": [
      "C:\\Users\\knuyh\\anaconda3\\Lib\\site-packages\\huggingface_hub\\file_download.py:157: UserWarning: `huggingface_hub` cache-system uses symlinks by default to efficiently store duplicated files but your machine does not support them in C:\\Users\\knuyh\\.cache\\huggingface\\hub\\models--facebook--bart-large-mnli. Caching files will still work but in a degraded version that might require more space on your disk. This warning can be disabled by setting the `HF_HUB_DISABLE_SYMLINKS_WARNING` environment variable. For more details, see https://huggingface.co/docs/huggingface_hub/how-to-cache#limitations.\n",
      "To support symlinks on Windows, you either need to activate Developer Mode or to run Python as an administrator. In order to see activate developer mode, see this article: https://docs.microsoft.com/en-us/windows/apps/get-started/enable-your-device-for-development\n",
      "  warnings.warn(message)\n"
     ]
    },
    {
     "data": {
      "application/vnd.jupyter.widget-view+json": {
       "model_id": "313d60ed7e104b0188515037568ee4a1",
       "version_major": 2,
       "version_minor": 0
      },
      "text/plain": [
       "model.safetensors:   0%|          | 0.00/1.63G [00:00<?, ?B/s]"
      ]
     },
     "metadata": {},
     "output_type": "display_data"
    },
    {
     "data": {
      "application/vnd.jupyter.widget-view+json": {
       "model_id": "87537d2ba33949e6ad03660808e6b748",
       "version_major": 2,
       "version_minor": 0
      },
      "text/plain": [
       "tokenizer_config.json:   0%|          | 0.00/26.0 [00:00<?, ?B/s]"
      ]
     },
     "metadata": {},
     "output_type": "display_data"
    },
    {
     "data": {
      "application/vnd.jupyter.widget-view+json": {
       "model_id": "19856e47eb2a4a2c9c6772e570ce3cc1",
       "version_major": 2,
       "version_minor": 0
      },
      "text/plain": [
       "vocab.json:   0%|          | 0.00/899k [00:00<?, ?B/s]"
      ]
     },
     "metadata": {},
     "output_type": "display_data"
    },
    {
     "data": {
      "application/vnd.jupyter.widget-view+json": {
       "model_id": "c2ac81090620457790ed8d20dcf180df",
       "version_major": 2,
       "version_minor": 0
      },
      "text/plain": [
       "merges.txt:   0%|          | 0.00/456k [00:00<?, ?B/s]"
      ]
     },
     "metadata": {},
     "output_type": "display_data"
    },
    {
     "data": {
      "application/vnd.jupyter.widget-view+json": {
       "model_id": "cd2d988c5e2847feba537f1b4e50aed0",
       "version_major": 2,
       "version_minor": 0
      },
      "text/plain": [
       "tokenizer.json:   0%|          | 0.00/1.36M [00:00<?, ?B/s]"
      ]
     },
     "metadata": {},
     "output_type": "display_data"
    }
   ],
   "source": [
    "# 제로샷 분류를 위한 MNLI 모델\n",
    "from transformers import pipeline\n",
    "\n",
    "pipe = pipeline('zero-shot-classification')"
   ]
  },
  {
   "cell_type": "code",
   "execution_count": 37,
   "id": "99414b39",
   "metadata": {},
   "outputs": [
    {
     "name": "stdout",
     "output_type": "stream",
     "text": [
      "레이블: ['new model']\n",
      "Add new CANINE model\n",
      "\n",
      "# 🌟 New model addition\n",
      "\n",
      "## Model description\n",
      "\n",
      "Google recently proposed a new **C**haracter **A**rchitecture with **N**o tokenization **I**n **N**eural **E**ncoders architecture (CANINE). Not only the title is exciting:\n",
      "\n",
      "> Pipelined NLP systems have largely been superseded by end-to-end neural modeling, yet nearly all commonly-used models still require an explicit tokeni\n",
      "\n",
      "예측:\n",
      "new model, 0.98\n",
      "tensorflow or tf, 0.37\n",
      "examples, 0.34\n",
      "usage, 0.30\n",
      "pytorch, 0.25\n",
      "documentation, 0.25\n",
      "model training, 0.24\n",
      "tokenization, 0.17\n",
      "pipeline, 0.16\n"
     ]
    }
   ],
   "source": [
    "sample = ds[\"train\"][0]\n",
    "print(f\"레이블: {sample['labels']}\")\n",
    "output = pipe(sample[\"text\"], all_labels, multi_label=True) # 단일 레이블 분류를 위한 최댓값이 아닌 모든 점수 반환(multi_label=T)\n",
    "print(output[\"sequence\"][:400])\n",
    "print(\"\\n예측:\")\n",
    "\n",
    "for label, score in zip(output[\"labels\"], output[\"scores\"]):\n",
    "    print(f\"{label}, {score:.2f}\")"
   ]
  },
  {
   "cell_type": "code",
   "execution_count": 38,
   "id": "6ad7b445",
   "metadata": {},
   "outputs": [
    {
     "data": {
      "application/vnd.jupyter.widget-view+json": {
       "model_id": "eeff7ceef0cf4c948307a9c8fe07bb42",
       "version_major": 2,
       "version_minor": 0
      },
      "text/plain": [
       "Map:   0%|          | 0/106 [00:00<?, ? examples/s]"
      ]
     },
     "metadata": {},
     "output_type": "display_data"
    }
   ],
   "source": [
    "def zero_shot_pipeline(example):\n",
    "    output = pipe(example[\"text\"], all_labels, multi_label=True)\n",
    "    example[\"predicted_labels\"] = output[\"labels\"]\n",
    "    example[\"scores\"] = output[\"scores\"]\n",
    "    return example\n",
    "\n",
    "ds_zero_shot = ds[\"valid\"].map(zero_shot_pipeline)"
   ]
  },
  {
   "cell_type": "markdown",
   "id": "ab824be1",
   "metadata": {},
   "source": [
    "샘플마다 어떤 레이블 할당할지  \n",
    "선택지 1 ) 임계값 정의하고 이 임계값 초과한 모든 레이블 선택  \n",
    "선택지 2 ) 점수가 높은 순으로 상위 k개 레이블 선택"
   ]
  },
  {
   "cell_type": "code",
   "execution_count": 39,
   "id": "7ccd7c75",
   "metadata": {},
   "outputs": [],
   "source": [
    "def get_preds(example, threshold=None, topk=None):\n",
    "    preds = []\n",
    "    if threshold:\n",
    "        for label, score in zip(example[\"predicted_labels\"], example[\"scores\"]):\n",
    "            if score >= threshold:\n",
    "                preds.append(label)\n",
    "    elif topk:\n",
    "        for i in range(topk):\n",
    "            preds.append(example[\"predicted_labels\"][i])\n",
    "    else:\n",
    "        raise ValueError(\"`threshold` 또는 `topk`로 지정해야 합니다.\")\n",
    "    return {\"pred_label_ids\": list(np.squeeze(mlb.transform([preds])))}"
   ]
  },
  {
   "cell_type": "code",
   "execution_count": 41,
   "id": "6bb67473",
   "metadata": {},
   "outputs": [],
   "source": [
    "def get_clf_report(ds):\n",
    "    y_true = np.array(ds[\"label_ids\"])\n",
    "    y_pred = np.array(ds[\"pred_label_ids\"])\n",
    "    return classification_report(\n",
    "        y_true, y_pred, target_names=mlb.classes_, zero_division=0,\n",
    "        output_dict=True)"
   ]
  },
  {
   "cell_type": "code",
   "execution_count": 42,
   "id": "fd6bc12f",
   "metadata": {},
   "outputs": [
    {
     "data": {
      "application/vnd.jupyter.widget-view+json": {
       "model_id": "557ee9806051447988aa7c06247026f9",
       "version_major": 2,
       "version_minor": 0
      },
      "text/plain": [
       "Map:   0%|          | 0/106 [00:00<?, ? examples/s]"
      ]
     },
     "metadata": {},
     "output_type": "display_data"
    },
    {
     "data": {
      "application/vnd.jupyter.widget-view+json": {
       "model_id": "88725f28054948bfaaa1825a5a1175cf",
       "version_major": 2,
       "version_minor": 0
      },
      "text/plain": [
       "Map:   0%|          | 0/106 [00:00<?, ? examples/s]"
      ]
     },
     "metadata": {},
     "output_type": "display_data"
    },
    {
     "data": {
      "application/vnd.jupyter.widget-view+json": {
       "model_id": "477224d3b0694632832b3bf7efb1da2c",
       "version_major": 2,
       "version_minor": 0
      },
      "text/plain": [
       "Map:   0%|          | 0/106 [00:00<?, ? examples/s]"
      ]
     },
     "metadata": {},
     "output_type": "display_data"
    },
    {
     "data": {
      "application/vnd.jupyter.widget-view+json": {
       "model_id": "9d967b5e2a0245d5a921c3aa7553dc28",
       "version_major": 2,
       "version_minor": 0
      },
      "text/plain": [
       "Map:   0%|          | 0/106 [00:00<?, ? examples/s]"
      ]
     },
     "metadata": {},
     "output_type": "display_data"
    }
   ],
   "source": [
    "macros, micros = [], []\n",
    "topks = [1, 2, 3, 4]\n",
    "for topk in topks:\n",
    "    ds_zero_shot = ds_zero_shot.map(get_preds, batched=False,\n",
    "                                    fn_kwargs={'topk': topk})\n",
    "    clf_report = get_clf_report(ds_zero_shot)\n",
    "    micros.append(clf_report['micro avg']['f1-score'])\n",
    "    macros.append(clf_report['macro avg']['f1-score'])"
   ]
  },
  {
   "cell_type": "code",
   "execution_count": 43,
   "id": "d3dab549",
   "metadata": {},
   "outputs": [
    {
     "data": {
      "image/png": "[encoded data removed]",
      "text/plain": [
       "<Figure size 640x480 with 1 Axes>"
      ]
     },
     "metadata": {},
     "output_type": "display_data"
    }
   ],
   "source": [
    "plt.plot(topks, micros, label = 'Micro F1')\n",
    "plt.plot(topks, macros, label = 'Macro F1')\n",
    "plt.xlabel('Top-k')\n",
    "plt.ylabel('F1-score')\n",
    "plt.legend(loc='best')\n",
    "plt.show()"
   ]
  },
  {
   "cell_type": "markdown",
   "id": "422cd9b6",
   "metadata": {},
   "source": [
    "샘플당 점수가 가장 높은 레이블을 선택하는 방식이 최상의 결과를 냈다."
   ]
  },
  {
   "cell_type": "code",
   "execution_count": 44,
   "id": "f53a8872",
   "metadata": {},
   "outputs": [
    {
     "data": {
      "application/vnd.jupyter.widget-view+json": {
       "model_id": "f9071a8eeee54e129dd5149c215530a7",
       "version_major": 2,
       "version_minor": 0
      },
      "text/plain": [
       "Map:   0%|          | 0/106 [00:00<?, ? examples/s]"
      ]
     },
     "metadata": {},
     "output_type": "display_data"
    },
    {
     "data": {
      "application/vnd.jupyter.widget-view+json": {
       "model_id": "2652e6b355fc4602b583dbb26d1da5a5",
       "version_major": 2,
       "version_minor": 0
      },
      "text/plain": [
       "Map:   0%|          | 0/106 [00:00<?, ? examples/s]"
      ]
     },
     "metadata": {},
     "output_type": "display_data"
    },
    {
     "data": {
      "application/vnd.jupyter.widget-view+json": {
       "model_id": "ea551842e83d49af84cfbcb22883c45e",
       "version_major": 2,
       "version_minor": 0
      },
      "text/plain": [
       "Map:   0%|          | 0/106 [00:00<?, ? examples/s]"
      ]
     },
     "metadata": {},
     "output_type": "display_data"
    },
    {
     "data": {
      "application/vnd.jupyter.widget-view+json": {
       "model_id": "68a9de556d634c33bb5bb3a05f6c5951",
       "version_major": 2,
       "version_minor": 0
      },
      "text/plain": [
       "Map:   0%|          | 0/106 [00:00<?, ? examples/s]"
      ]
     },
     "metadata": {},
     "output_type": "display_data"
    },
    {
     "data": {
      "application/vnd.jupyter.widget-view+json": {
       "model_id": "06afd0a2d69745648f2f4cd8fa6bdb7b",
       "version_major": 2,
       "version_minor": 0
      },
      "text/plain": [
       "Map:   0%|          | 0/106 [00:00<?, ? examples/s]"
      ]
     },
     "metadata": {},
     "output_type": "display_data"
    },
    {
     "data": {
      "application/vnd.jupyter.widget-view+json": {
       "model_id": "34fd47f6b62a438da9b1760aa225de35",
       "version_major": 2,
       "version_minor": 0
      },
      "text/plain": [
       "Map:   0%|          | 0/106 [00:00<?, ? examples/s]"
      ]
     },
     "metadata": {},
     "output_type": "display_data"
    },
    {
     "data": {
      "application/vnd.jupyter.widget-view+json": {
       "model_id": "6565bf57b3ad47b9bc85dbcc6709fa13",
       "version_major": 2,
       "version_minor": 0
      },
      "text/plain": [
       "Map:   0%|          | 0/106 [00:00<?, ? examples/s]"
      ]
     },
     "metadata": {},
     "output_type": "display_data"
    },
    {
     "data": {
      "application/vnd.jupyter.widget-view+json": {
       "model_id": "cfb3e5158af84120a788fdb33688ced2",
       "version_major": 2,
       "version_minor": 0
      },
      "text/plain": [
       "Map:   0%|          | 0/106 [00:00<?, ? examples/s]"
      ]
     },
     "metadata": {},
     "output_type": "display_data"
    },
    {
     "data": {
      "application/vnd.jupyter.widget-view+json": {
       "model_id": "54ebe39936044401ac5f87b7b5ab7e70",
       "version_major": 2,
       "version_minor": 0
      },
      "text/plain": [
       "Map:   0%|          | 0/106 [00:00<?, ? examples/s]"
      ]
     },
     "metadata": {},
     "output_type": "display_data"
    },
    {
     "data": {
      "application/vnd.jupyter.widget-view+json": {
       "model_id": "b738eb4c64374718aa0b58225563d9da",
       "version_major": 2,
       "version_minor": 0
      },
      "text/plain": [
       "Map:   0%|          | 0/106 [00:00<?, ? examples/s]"
      ]
     },
     "metadata": {},
     "output_type": "display_data"
    },
    {
     "data": {
      "application/vnd.jupyter.widget-view+json": {
       "model_id": "aa0fe0026c074ccea6bdcf933dc08b48",
       "version_major": 2,
       "version_minor": 0
      },
      "text/plain": [
       "Map:   0%|          | 0/106 [00:00<?, ? examples/s]"
      ]
     },
     "metadata": {},
     "output_type": "display_data"
    },
    {
     "data": {
      "application/vnd.jupyter.widget-view+json": {
       "model_id": "7c23ba7f65694259b98a43e009eca85f",
       "version_major": 2,
       "version_minor": 0
      },
      "text/plain": [
       "Map:   0%|          | 0/106 [00:00<?, ? examples/s]"
      ]
     },
     "metadata": {},
     "output_type": "display_data"
    },
    {
     "data": {
      "application/vnd.jupyter.widget-view+json": {
       "model_id": "c6eba274ae744d028a57efc8c9b01757",
       "version_major": 2,
       "version_minor": 0
      },
      "text/plain": [
       "Map:   0%|          | 0/106 [00:00<?, ? examples/s]"
      ]
     },
     "metadata": {},
     "output_type": "display_data"
    },
    {
     "data": {
      "application/vnd.jupyter.widget-view+json": {
       "model_id": "6c9875f4e2f04da7b3cefaf848ffa40d",
       "version_major": 2,
       "version_minor": 0
      },
      "text/plain": [
       "Map:   0%|          | 0/106 [00:00<?, ? examples/s]"
      ]
     },
     "metadata": {},
     "output_type": "display_data"
    },
    {
     "data": {
      "application/vnd.jupyter.widget-view+json": {
       "model_id": "919fa1ab3e214f8fbd8dd64ebb041a22",
       "version_major": 2,
       "version_minor": 0
      },
      "text/plain": [
       "Map:   0%|          | 0/106 [00:00<?, ? examples/s]"
      ]
     },
     "metadata": {},
     "output_type": "display_data"
    },
    {
     "data": {
      "application/vnd.jupyter.widget-view+json": {
       "model_id": "6090a4875c7a417bb5d3037e9ae61df9",
       "version_major": 2,
       "version_minor": 0
      },
      "text/plain": [
       "Map:   0%|          | 0/106 [00:00<?, ? examples/s]"
      ]
     },
     "metadata": {},
     "output_type": "display_data"
    },
    {
     "data": {
      "application/vnd.jupyter.widget-view+json": {
       "model_id": "f6c9fce8277941e9b459c244852a6b98",
       "version_major": 2,
       "version_minor": 0
      },
      "text/plain": [
       "Map:   0%|          | 0/106 [00:00<?, ? examples/s]"
      ]
     },
     "metadata": {},
     "output_type": "display_data"
    },
    {
     "data": {
      "application/vnd.jupyter.widget-view+json": {
       "model_id": "239f364fe9ce430fb092da1ed63cbccd",
       "version_major": 2,
       "version_minor": 0
      },
      "text/plain": [
       "Map:   0%|          | 0/106 [00:00<?, ? examples/s]"
      ]
     },
     "metadata": {},
     "output_type": "display_data"
    },
    {
     "data": {
      "application/vnd.jupyter.widget-view+json": {
       "model_id": "353f650c144a417c8317d9d260400421",
       "version_major": 2,
       "version_minor": 0
      },
      "text/plain": [
       "Map:   0%|          | 0/106 [00:00<?, ? examples/s]"
      ]
     },
     "metadata": {},
     "output_type": "display_data"
    },
    {
     "data": {
      "application/vnd.jupyter.widget-view+json": {
       "model_id": "b1900fbdc7204de4ac6f7c7aeec59831",
       "version_major": 2,
       "version_minor": 0
      },
      "text/plain": [
       "Map:   0%|          | 0/106 [00:00<?, ? examples/s]"
      ]
     },
     "metadata": {},
     "output_type": "display_data"
    },
    {
     "data": {
      "application/vnd.jupyter.widget-view+json": {
       "model_id": "771347ad2622479c9068fb96a0164110",
       "version_major": 2,
       "version_minor": 0
      },
      "text/plain": [
       "Map:   0%|          | 0/106 [00:00<?, ? examples/s]"
      ]
     },
     "metadata": {},
     "output_type": "display_data"
    },
    {
     "data": {
      "application/vnd.jupyter.widget-view+json": {
       "model_id": "300adf159dbe447ebdc6fc589a94b263",
       "version_major": 2,
       "version_minor": 0
      },
      "text/plain": [
       "Map:   0%|          | 0/106 [00:00<?, ? examples/s]"
      ]
     },
     "metadata": {},
     "output_type": "display_data"
    },
    {
     "data": {
      "application/vnd.jupyter.widget-view+json": {
       "model_id": "4c42b4ad760f4568aff63b3de5be5347",
       "version_major": 2,
       "version_minor": 0
      },
      "text/plain": [
       "Map:   0%|          | 0/106 [00:00<?, ? examples/s]"
      ]
     },
     "metadata": {},
     "output_type": "display_data"
    },
    {
     "data": {
      "application/vnd.jupyter.widget-view+json": {
       "model_id": "d4c1649349a74f9c9b925999cdf66190",
       "version_major": 2,
       "version_minor": 0
      },
      "text/plain": [
       "Map:   0%|          | 0/106 [00:00<?, ? examples/s]"
      ]
     },
     "metadata": {},
     "output_type": "display_data"
    },
    {
     "data": {
      "application/vnd.jupyter.widget-view+json": {
       "model_id": "6692206d77904471a26bee8aa93c6cee",
       "version_major": 2,
       "version_minor": 0
      },
      "text/plain": [
       "Map:   0%|          | 0/106 [00:00<?, ? examples/s]"
      ]
     },
     "metadata": {},
     "output_type": "display_data"
    },
    {
     "data": {
      "application/vnd.jupyter.widget-view+json": {
       "model_id": "81bba13843ac4082bbd1dd08f914085f",
       "version_major": 2,
       "version_minor": 0
      },
      "text/plain": [
       "Map:   0%|          | 0/106 [00:00<?, ? examples/s]"
      ]
     },
     "metadata": {},
     "output_type": "display_data"
    },
    {
     "data": {
      "application/vnd.jupyter.widget-view+json": {
       "model_id": "1c1230f5739b4d1e8c86aa2db958849b",
       "version_major": 2,
       "version_minor": 0
      },
      "text/plain": [
       "Map:   0%|          | 0/106 [00:00<?, ? examples/s]"
      ]
     },
     "metadata": {},
     "output_type": "display_data"
    },
    {
     "data": {
      "application/vnd.jupyter.widget-view+json": {
       "model_id": "091f89d503ba44938340236ea7783b3d",
       "version_major": 2,
       "version_minor": 0
      },
      "text/plain": [
       "Map:   0%|          | 0/106 [00:00<?, ? examples/s]"
      ]
     },
     "metadata": {},
     "output_type": "display_data"
    },
    {
     "data": {
      "application/vnd.jupyter.widget-view+json": {
       "model_id": "427abc26585246169f2f09a8c3de9ef0",
       "version_major": 2,
       "version_minor": 0
      },
      "text/plain": [
       "Map:   0%|          | 0/106 [00:00<?, ? examples/s]"
      ]
     },
     "metadata": {},
     "output_type": "display_data"
    },
    {
     "data": {
      "application/vnd.jupyter.widget-view+json": {
       "model_id": "34c2ca2fd3d94420bbdb4cf01d37ff1e",
       "version_major": 2,
       "version_minor": 0
      },
      "text/plain": [
       "Map:   0%|          | 0/106 [00:00<?, ? examples/s]"
      ]
     },
     "metadata": {},
     "output_type": "display_data"
    },
    {
     "data": {
      "application/vnd.jupyter.widget-view+json": {
       "model_id": "9f84b57437b84266bd2d8a126b1a7894",
       "version_major": 2,
       "version_minor": 0
      },
      "text/plain": [
       "Map:   0%|          | 0/106 [00:00<?, ? examples/s]"
      ]
     },
     "metadata": {},
     "output_type": "display_data"
    },
    {
     "data": {
      "application/vnd.jupyter.widget-view+json": {
       "model_id": "aab99da1c2f54b56a855a4b5a3babb3a",
       "version_major": 2,
       "version_minor": 0
      },
      "text/plain": [
       "Map:   0%|          | 0/106 [00:00<?, ? examples/s]"
      ]
     },
     "metadata": {},
     "output_type": "display_data"
    },
    {
     "data": {
      "application/vnd.jupyter.widget-view+json": {
       "model_id": "c45f7188636943cd8df01ee9b3e25307",
       "version_major": 2,
       "version_minor": 0
      },
      "text/plain": [
       "Map:   0%|          | 0/106 [00:00<?, ? examples/s]"
      ]
     },
     "metadata": {},
     "output_type": "display_data"
    },
    {
     "data": {
      "application/vnd.jupyter.widget-view+json": {
       "model_id": "b644c5d8347f43cc949d0330fdf8653c",
       "version_major": 2,
       "version_minor": 0
      },
      "text/plain": [
       "Map:   0%|          | 0/106 [00:00<?, ? examples/s]"
      ]
     },
     "metadata": {},
     "output_type": "display_data"
    },
    {
     "data": {
      "application/vnd.jupyter.widget-view+json": {
       "model_id": "0080c3b5da1e4611a43f4be8a3f561f6",
       "version_major": 2,
       "version_minor": 0
      },
      "text/plain": [
       "Map:   0%|          | 0/106 [00:00<?, ? examples/s]"
      ]
     },
     "metadata": {},
     "output_type": "display_data"
    },
    {
     "data": {
      "application/vnd.jupyter.widget-view+json": {
       "model_id": "54b688b5e69643e387471c32773bd23e",
       "version_major": 2,
       "version_minor": 0
      },
      "text/plain": [
       "Map:   0%|          | 0/106 [00:00<?, ? examples/s]"
      ]
     },
     "metadata": {},
     "output_type": "display_data"
    },
    {
     "data": {
      "application/vnd.jupyter.widget-view+json": {
       "model_id": "8d5a8cb557da4831a36bf5d7f7d8bfd4",
       "version_major": 2,
       "version_minor": 0
      },
      "text/plain": [
       "Map:   0%|          | 0/106 [00:00<?, ? examples/s]"
      ]
     },
     "metadata": {},
     "output_type": "display_data"
    },
    {
     "data": {
      "application/vnd.jupyter.widget-view+json": {
       "model_id": "5b4374828ccf41a89e0f6634898c31cd",
       "version_major": 2,
       "version_minor": 0
      },
      "text/plain": [
       "Map:   0%|          | 0/106 [00:00<?, ? examples/s]"
      ]
     },
     "metadata": {},
     "output_type": "display_data"
    },
    {
     "data": {
      "application/vnd.jupyter.widget-view+json": {
       "model_id": "628a53fbc7de4d218a7c2bc5336e5d27",
       "version_major": 2,
       "version_minor": 0
      },
      "text/plain": [
       "Map:   0%|          | 0/106 [00:00<?, ? examples/s]"
      ]
     },
     "metadata": {},
     "output_type": "display_data"
    },
    {
     "data": {
      "application/vnd.jupyter.widget-view+json": {
       "model_id": "0f56fcebb0a54523a2760872dd2ce702",
       "version_major": 2,
       "version_minor": 0
      },
      "text/plain": [
       "Map:   0%|          | 0/106 [00:00<?, ? examples/s]"
      ]
     },
     "metadata": {},
     "output_type": "display_data"
    },
    {
     "data": {
      "application/vnd.jupyter.widget-view+json": {
       "model_id": "f3180a1e20ff4eee88909c8e7517efaf",
       "version_major": 2,
       "version_minor": 0
      },
      "text/plain": [
       "Map:   0%|          | 0/106 [00:00<?, ? examples/s]"
      ]
     },
     "metadata": {},
     "output_type": "display_data"
    },
    {
     "data": {
      "application/vnd.jupyter.widget-view+json": {
       "model_id": "83e4cec4032b4a4798922f3200273c46",
       "version_major": 2,
       "version_minor": 0
      },
      "text/plain": [
       "Map:   0%|          | 0/106 [00:00<?, ? examples/s]"
      ]
     },
     "metadata": {},
     "output_type": "display_data"
    },
    {
     "data": {
      "application/vnd.jupyter.widget-view+json": {
       "model_id": "51b3993aa98d42abb9559890200d2d73",
       "version_major": 2,
       "version_minor": 0
      },
      "text/plain": [
       "Map:   0%|          | 0/106 [00:00<?, ? examples/s]"
      ]
     },
     "metadata": {},
     "output_type": "display_data"
    },
    {
     "data": {
      "application/vnd.jupyter.widget-view+json": {
       "model_id": "62f2db7ddc1b4dec978c7a3e3bf311cd",
       "version_major": 2,
       "version_minor": 0
      },
      "text/plain": [
       "Map:   0%|          | 0/106 [00:00<?, ? examples/s]"
      ]
     },
     "metadata": {},
     "output_type": "display_data"
    },
    {
     "data": {
      "application/vnd.jupyter.widget-view+json": {
       "model_id": "71106a016a444ca7a5a174c5e12a24e8",
       "version_major": 2,
       "version_minor": 0
      },
      "text/plain": [
       "Map:   0%|          | 0/106 [00:00<?, ? examples/s]"
      ]
     },
     "metadata": {},
     "output_type": "display_data"
    },
    {
     "data": {
      "application/vnd.jupyter.widget-view+json": {
       "model_id": "ac43fce1f03c4bb0ae163b84ad0e6be4",
       "version_major": 2,
       "version_minor": 0
      },
      "text/plain": [
       "Map:   0%|          | 0/106 [00:00<?, ? examples/s]"
      ]
     },
     "metadata": {},
     "output_type": "display_data"
    },
    {
     "data": {
      "application/vnd.jupyter.widget-view+json": {
       "model_id": "73637b5b55e0442db1f72e0b35f7a7c0",
       "version_major": 2,
       "version_minor": 0
      },
      "text/plain": [
       "Map:   0%|          | 0/106 [00:00<?, ? examples/s]"
      ]
     },
     "metadata": {},
     "output_type": "display_data"
    },
    {
     "data": {
      "application/vnd.jupyter.widget-view+json": {
       "model_id": "348eb86f6f844c4bb363833c2f6eb088",
       "version_major": 2,
       "version_minor": 0
      },
      "text/plain": [
       "Map:   0%|          | 0/106 [00:00<?, ? examples/s]"
      ]
     },
     "metadata": {},
     "output_type": "display_data"
    },
    {
     "data": {
      "application/vnd.jupyter.widget-view+json": {
       "model_id": "24cb935783174ceea5cc535a636e3ef9",
       "version_major": 2,
       "version_minor": 0
      },
      "text/plain": [
       "Map:   0%|          | 0/106 [00:00<?, ? examples/s]"
      ]
     },
     "metadata": {},
     "output_type": "display_data"
    },
    {
     "data": {
      "application/vnd.jupyter.widget-view+json": {
       "model_id": "3cea744d52244d4eb0c11d491c01978c",
       "version_major": 2,
       "version_minor": 0
      },
      "text/plain": [
       "Map:   0%|          | 0/106 [00:00<?, ? examples/s]"
      ]
     },
     "metadata": {},
     "output_type": "display_data"
    },
    {
     "data": {
      "application/vnd.jupyter.widget-view+json": {
       "model_id": "9c5fda1c946b4d4da6aed40fbee8cf41",
       "version_major": 2,
       "version_minor": 0
      },
      "text/plain": [
       "Map:   0%|          | 0/106 [00:00<?, ? examples/s]"
      ]
     },
     "metadata": {},
     "output_type": "display_data"
    },
    {
     "data": {
      "application/vnd.jupyter.widget-view+json": {
       "model_id": "b1d3e43d75e64ac2917c78c1bd8ae1c6",
       "version_major": 2,
       "version_minor": 0
      },
      "text/plain": [
       "Map:   0%|          | 0/106 [00:00<?, ? examples/s]"
      ]
     },
     "metadata": {},
     "output_type": "display_data"
    },
    {
     "data": {
      "application/vnd.jupyter.widget-view+json": {
       "model_id": "a719d4f81d1c4503a431d7d05d41d49d",
       "version_major": 2,
       "version_minor": 0
      },
      "text/plain": [
       "Map:   0%|          | 0/106 [00:00<?, ? examples/s]"
      ]
     },
     "metadata": {},
     "output_type": "display_data"
    },
    {
     "data": {
      "application/vnd.jupyter.widget-view+json": {
       "model_id": "89840d02dbee4a008f19f755d500753f",
       "version_major": 2,
       "version_minor": 0
      },
      "text/plain": [
       "Map:   0%|          | 0/106 [00:00<?, ? examples/s]"
      ]
     },
     "metadata": {},
     "output_type": "display_data"
    },
    {
     "data": {
      "application/vnd.jupyter.widget-view+json": {
       "model_id": "b92b0e936b5547db958b7bebda58baf5",
       "version_major": 2,
       "version_minor": 0
      },
      "text/plain": [
       "Map:   0%|          | 0/106 [00:00<?, ? examples/s]"
      ]
     },
     "metadata": {},
     "output_type": "display_data"
    },
    {
     "data": {
      "application/vnd.jupyter.widget-view+json": {
       "model_id": "52d0ab5e40d842fcb2cdea2b6df8596d",
       "version_major": 2,
       "version_minor": 0
      },
      "text/plain": [
       "Map:   0%|          | 0/106 [00:00<?, ? examples/s]"
      ]
     },
     "metadata": {},
     "output_type": "display_data"
    },
    {
     "data": {
      "application/vnd.jupyter.widget-view+json": {
       "model_id": "9fc9ab6e377748009b33e547da6ee69f",
       "version_major": 2,
       "version_minor": 0
      },
      "text/plain": [
       "Map:   0%|          | 0/106 [00:00<?, ? examples/s]"
      ]
     },
     "metadata": {},
     "output_type": "display_data"
    },
    {
     "data": {
      "application/vnd.jupyter.widget-view+json": {
       "model_id": "fcd2223c876c4a8baefa6b9cd76111bc",
       "version_major": 2,
       "version_minor": 0
      },
      "text/plain": [
       "Map:   0%|          | 0/106 [00:00<?, ? examples/s]"
      ]
     },
     "metadata": {},
     "output_type": "display_data"
    },
    {
     "data": {
      "application/vnd.jupyter.widget-view+json": {
       "model_id": "11132c5a47cb40898b771d7dfc5f2e6f",
       "version_major": 2,
       "version_minor": 0
      },
      "text/plain": [
       "Map:   0%|          | 0/106 [00:00<?, ? examples/s]"
      ]
     },
     "metadata": {},
     "output_type": "display_data"
    },
    {
     "data": {
      "application/vnd.jupyter.widget-view+json": {
       "model_id": "81ce25ce72264150a0b202919618c371",
       "version_major": 2,
       "version_minor": 0
      },
      "text/plain": [
       "Map:   0%|          | 0/106 [00:00<?, ? examples/s]"
      ]
     },
     "metadata": {},
     "output_type": "display_data"
    },
    {
     "data": {
      "application/vnd.jupyter.widget-view+json": {
       "model_id": "8e8072d17eb14ccd8d368459b35bcba3",
       "version_major": 2,
       "version_minor": 0
      },
      "text/plain": [
       "Map:   0%|          | 0/106 [00:00<?, ? examples/s]"
      ]
     },
     "metadata": {},
     "output_type": "display_data"
    },
    {
     "data": {
      "application/vnd.jupyter.widget-view+json": {
       "model_id": "95a587c22b604711b20543d544f59616",
       "version_major": 2,
       "version_minor": 0
      },
      "text/plain": [
       "Map:   0%|          | 0/106 [00:00<?, ? examples/s]"
      ]
     },
     "metadata": {},
     "output_type": "display_data"
    },
    {
     "data": {
      "application/vnd.jupyter.widget-view+json": {
       "model_id": "dcb6844f40cb48c7bb015677272d5c36",
       "version_major": 2,
       "version_minor": 0
      },
      "text/plain": [
       "Map:   0%|          | 0/106 [00:00<?, ? examples/s]"
      ]
     },
     "metadata": {},
     "output_type": "display_data"
    },
    {
     "data": {
      "application/vnd.jupyter.widget-view+json": {
       "model_id": "9912e7aef2d84e1094b21e79fb9b9b2a",
       "version_major": 2,
       "version_minor": 0
      },
      "text/plain": [
       "Map:   0%|          | 0/106 [00:00<?, ? examples/s]"
      ]
     },
     "metadata": {},
     "output_type": "display_data"
    },
    {
     "data": {
      "application/vnd.jupyter.widget-view+json": {
       "model_id": "4ecd15ba658f4e3c90b5ec632e39e544",
       "version_major": 2,
       "version_minor": 0
      },
      "text/plain": [
       "Map:   0%|          | 0/106 [00:00<?, ? examples/s]"
      ]
     },
     "metadata": {},
     "output_type": "display_data"
    },
    {
     "data": {
      "application/vnd.jupyter.widget-view+json": {
       "model_id": "f9fc736dfe7342a6b453d7f966743235",
       "version_major": 2,
       "version_minor": 0
      },
      "text/plain": [
       "Map:   0%|          | 0/106 [00:00<?, ? examples/s]"
      ]
     },
     "metadata": {},
     "output_type": "display_data"
    },
    {
     "data": {
      "application/vnd.jupyter.widget-view+json": {
       "model_id": "746cf88fc5d64c34a89fe6eda5897dd1",
       "version_major": 2,
       "version_minor": 0
      },
      "text/plain": [
       "Map:   0%|          | 0/106 [00:00<?, ? examples/s]"
      ]
     },
     "metadata": {},
     "output_type": "display_data"
    },
    {
     "data": {
      "application/vnd.jupyter.widget-view+json": {
       "model_id": "c231163d5d9f4ac4b3cb04658b0747b2",
       "version_major": 2,
       "version_minor": 0
      },
      "text/plain": [
       "Map:   0%|          | 0/106 [00:00<?, ? examples/s]"
      ]
     },
     "metadata": {},
     "output_type": "display_data"
    },
    {
     "data": {
      "application/vnd.jupyter.widget-view+json": {
       "model_id": "a06b36bb9aec49919db254b1735048a3",
       "version_major": 2,
       "version_minor": 0
      },
      "text/plain": [
       "Map:   0%|          | 0/106 [00:00<?, ? examples/s]"
      ]
     },
     "metadata": {},
     "output_type": "display_data"
    },
    {
     "data": {
      "application/vnd.jupyter.widget-view+json": {
       "model_id": "abbe79115a784ebb8fc292f7b85fc922",
       "version_major": 2,
       "version_minor": 0
      },
      "text/plain": [
       "Map:   0%|          | 0/106 [00:00<?, ? examples/s]"
      ]
     },
     "metadata": {},
     "output_type": "display_data"
    },
    {
     "data": {
      "application/vnd.jupyter.widget-view+json": {
       "model_id": "de662651fb424b57a35a78ebe25cf44b",
       "version_major": 2,
       "version_minor": 0
      },
      "text/plain": [
       "Map:   0%|          | 0/106 [00:00<?, ? examples/s]"
      ]
     },
     "metadata": {},
     "output_type": "display_data"
    },
    {
     "data": {
      "application/vnd.jupyter.widget-view+json": {
       "model_id": "515cdc071e684e3dbc7a75e69353a313",
       "version_major": 2,
       "version_minor": 0
      },
      "text/plain": [
       "Map:   0%|          | 0/106 [00:00<?, ? examples/s]"
      ]
     },
     "metadata": {},
     "output_type": "display_data"
    },
    {
     "data": {
      "application/vnd.jupyter.widget-view+json": {
       "model_id": "eec9aecf2feb4154b028092209b207e9",
       "version_major": 2,
       "version_minor": 0
      },
      "text/plain": [
       "Map:   0%|          | 0/106 [00:00<?, ? examples/s]"
      ]
     },
     "metadata": {},
     "output_type": "display_data"
    },
    {
     "data": {
      "application/vnd.jupyter.widget-view+json": {
       "model_id": "20b6a2929fb4434a985bf7c0c5ea91ce",
       "version_major": 2,
       "version_minor": 0
      },
      "text/plain": [
       "Map:   0%|          | 0/106 [00:00<?, ? examples/s]"
      ]
     },
     "metadata": {},
     "output_type": "display_data"
    },
    {
     "data": {
      "application/vnd.jupyter.widget-view+json": {
       "model_id": "66a01c4dbc7f45e78a9737a7538758ab",
       "version_major": 2,
       "version_minor": 0
      },
      "text/plain": [
       "Map:   0%|          | 0/106 [00:00<?, ? examples/s]"
      ]
     },
     "metadata": {},
     "output_type": "display_data"
    },
    {
     "data": {
      "application/vnd.jupyter.widget-view+json": {
       "model_id": "f83f1caf2c304af39743f5964c36b793",
       "version_major": 2,
       "version_minor": 0
      },
      "text/plain": [
       "Map:   0%|          | 0/106 [00:00<?, ? examples/s]"
      ]
     },
     "metadata": {},
     "output_type": "display_data"
    },
    {
     "data": {
      "application/vnd.jupyter.widget-view+json": {
       "model_id": "4d1caacf04b04da6b630b700e8d785a9",
       "version_major": 2,
       "version_minor": 0
      },
      "text/plain": [
       "Map:   0%|          | 0/106 [00:00<?, ? examples/s]"
      ]
     },
     "metadata": {},
     "output_type": "display_data"
    },
    {
     "data": {
      "application/vnd.jupyter.widget-view+json": {
       "model_id": "90b474a1e40b474ab200f79121282280",
       "version_major": 2,
       "version_minor": 0
      },
      "text/plain": [
       "Map:   0%|          | 0/106 [00:00<?, ? examples/s]"
      ]
     },
     "metadata": {},
     "output_type": "display_data"
    },
    {
     "data": {
      "application/vnd.jupyter.widget-view+json": {
       "model_id": "0c7ce24cd41c46cd8cb25e1c38fdd8e9",
       "version_major": 2,
       "version_minor": 0
      },
      "text/plain": [
       "Map:   0%|          | 0/106 [00:00<?, ? examples/s]"
      ]
     },
     "metadata": {},
     "output_type": "display_data"
    },
    {
     "data": {
      "application/vnd.jupyter.widget-view+json": {
       "model_id": "fc5d6758b8a74c49873f3f4474152de2",
       "version_major": 2,
       "version_minor": 0
      },
      "text/plain": [
       "Map:   0%|          | 0/106 [00:00<?, ? examples/s]"
      ]
     },
     "metadata": {},
     "output_type": "display_data"
    },
    {
     "data": {
      "application/vnd.jupyter.widget-view+json": {
       "model_id": "3b9608271d61440fb58dabdb8e96a39c",
       "version_major": 2,
       "version_minor": 0
      },
      "text/plain": [
       "Map:   0%|          | 0/106 [00:00<?, ? examples/s]"
      ]
     },
     "metadata": {},
     "output_type": "display_data"
    },
    {
     "data": {
      "application/vnd.jupyter.widget-view+json": {
       "model_id": "933a7934b29641c7b883594dc649172f",
       "version_major": 2,
       "version_minor": 0
      },
      "text/plain": [
       "Map:   0%|          | 0/106 [00:00<?, ? examples/s]"
      ]
     },
     "metadata": {},
     "output_type": "display_data"
    },
    {
     "data": {
      "application/vnd.jupyter.widget-view+json": {
       "model_id": "11581ed750a148a3b804b3553a095bb0",
       "version_major": 2,
       "version_minor": 0
      },
      "text/plain": [
       "Map:   0%|          | 0/106 [00:00<?, ? examples/s]"
      ]
     },
     "metadata": {},
     "output_type": "display_data"
    },
    {
     "data": {
      "application/vnd.jupyter.widget-view+json": {
       "model_id": "62d06ba4eac74b45904fa06ad140cb3c",
       "version_major": 2,
       "version_minor": 0
      },
      "text/plain": [
       "Map:   0%|          | 0/106 [00:00<?, ? examples/s]"
      ]
     },
     "metadata": {},
     "output_type": "display_data"
    },
    {
     "data": {
      "application/vnd.jupyter.widget-view+json": {
       "model_id": "3d37ed8c658b41aa933526f5e36a4cc4",
       "version_major": 2,
       "version_minor": 0
      },
      "text/plain": [
       "Map:   0%|          | 0/106 [00:00<?, ? examples/s]"
      ]
     },
     "metadata": {},
     "output_type": "display_data"
    },
    {
     "data": {
      "application/vnd.jupyter.widget-view+json": {
       "model_id": "c9cfe4b9503347df9edc716de7e35000",
       "version_major": 2,
       "version_minor": 0
      },
      "text/plain": [
       "Map:   0%|          | 0/106 [00:00<?, ? examples/s]"
      ]
     },
     "metadata": {},
     "output_type": "display_data"
    },
    {
     "data": {
      "application/vnd.jupyter.widget-view+json": {
       "model_id": "c4978e126fbd4495a7b27579fec96098",
       "version_major": 2,
       "version_minor": 0
      },
      "text/plain": [
       "Map:   0%|          | 0/106 [00:00<?, ? examples/s]"
      ]
     },
     "metadata": {},
     "output_type": "display_data"
    },
    {
     "data": {
      "application/vnd.jupyter.widget-view+json": {
       "model_id": "d6c77acd0a014169906b0c7336e176cf",
       "version_major": 2,
       "version_minor": 0
      },
      "text/plain": [
       "Map:   0%|          | 0/106 [00:00<?, ? examples/s]"
      ]
     },
     "metadata": {},
     "output_type": "display_data"
    },
    {
     "data": {
      "application/vnd.jupyter.widget-view+json": {
       "model_id": "82ff7df0b7d64e6ebb16894f2dde9044",
       "version_major": 2,
       "version_minor": 0
      },
      "text/plain": [
       "Map:   0%|          | 0/106 [00:00<?, ? examples/s]"
      ]
     },
     "metadata": {},
     "output_type": "display_data"
    },
    {
     "data": {
      "application/vnd.jupyter.widget-view+json": {
       "model_id": "9791599053d24244a2430ff4462c7079",
       "version_major": 2,
       "version_minor": 0
      },
      "text/plain": [
       "Map:   0%|          | 0/106 [00:00<?, ? examples/s]"
      ]
     },
     "metadata": {},
     "output_type": "display_data"
    },
    {
     "data": {
      "application/vnd.jupyter.widget-view+json": {
       "model_id": "89700777b0994fb48c22d258a4fba9da",
       "version_major": 2,
       "version_minor": 0
      },
      "text/plain": [
       "Map:   0%|          | 0/106 [00:00<?, ? examples/s]"
      ]
     },
     "metadata": {},
     "output_type": "display_data"
    },
    {
     "data": {
      "application/vnd.jupyter.widget-view+json": {
       "model_id": "462aec731a3b4312bfaeedce6f863b68",
       "version_major": 2,
       "version_minor": 0
      },
      "text/plain": [
       "Map:   0%|          | 0/106 [00:00<?, ? examples/s]"
      ]
     },
     "metadata": {},
     "output_type": "display_data"
    },
    {
     "data": {
      "application/vnd.jupyter.widget-view+json": {
       "model_id": "65b400cde72e4477a2a58d2b40a6ffe5",
       "version_major": 2,
       "version_minor": 0
      },
      "text/plain": [
       "Map:   0%|          | 0/106 [00:00<?, ? examples/s]"
      ]
     },
     "metadata": {},
     "output_type": "display_data"
    },
    {
     "data": {
      "application/vnd.jupyter.widget-view+json": {
       "model_id": "c732702cdb6445239ecfe80ec34764f5",
       "version_major": 2,
       "version_minor": 0
      },
      "text/plain": [
       "Map:   0%|          | 0/106 [00:00<?, ? examples/s]"
      ]
     },
     "metadata": {},
     "output_type": "display_data"
    },
    {
     "data": {
      "application/vnd.jupyter.widget-view+json": {
       "model_id": "082bfd00c44a4971b445dfa54836ed16",
       "version_major": 2,
       "version_minor": 0
      },
      "text/plain": [
       "Map:   0%|          | 0/106 [00:00<?, ? examples/s]"
      ]
     },
     "metadata": {},
     "output_type": "display_data"
    },
    {
     "data": {
      "application/vnd.jupyter.widget-view+json": {
       "model_id": "c5e31c6769eb4dc89208175a61bdbc4b",
       "version_major": 2,
       "version_minor": 0
      },
      "text/plain": [
       "Map:   0%|          | 0/106 [00:00<?, ? examples/s]"
      ]
     },
     "metadata": {},
     "output_type": "display_data"
    },
    {
     "data": {
      "application/vnd.jupyter.widget-view+json": {
       "model_id": "deaa3b8e80944ef8875c3f664c1c95f2",
       "version_major": 2,
       "version_minor": 0
      },
      "text/plain": [
       "Map:   0%|          | 0/106 [00:00<?, ? examples/s]"
      ]
     },
     "metadata": {},
     "output_type": "display_data"
    },
    {
     "data": {
      "application/vnd.jupyter.widget-view+json": {
       "model_id": "8eceff42a3b44220b0f1f84a1bbfba4f",
       "version_major": 2,
       "version_minor": 0
      },
      "text/plain": [
       "Map:   0%|          | 0/106 [00:00<?, ? examples/s]"
      ]
     },
     "metadata": {},
     "output_type": "display_data"
    },
    {
     "data": {
      "application/vnd.jupyter.widget-view+json": {
       "model_id": "f5c9326b19b6400c8d21b7d2a77788c4",
       "version_major": 2,
       "version_minor": 0
      },
      "text/plain": [
       "Map:   0%|          | 0/106 [00:00<?, ? examples/s]"
      ]
     },
     "metadata": {},
     "output_type": "display_data"
    },
    {
     "data": {
      "application/vnd.jupyter.widget-view+json": {
       "model_id": "a5663da868d1459e91b3084335911849",
       "version_major": 2,
       "version_minor": 0
      },
      "text/plain": [
       "Map:   0%|          | 0/106 [00:00<?, ? examples/s]"
      ]
     },
     "metadata": {},
     "output_type": "display_data"
    }
   ],
   "source": [
    "# 샘플당 하나 이상의 레이블 예측할 수 있으므로 임계값 방식과 비교\n",
    "macros, micros = [], []\n",
    "thresholds = np.linspace(0.01, 1, 100)\n",
    "for threshold in thresholds :\n",
    "    ds_zero_shot = ds_zero_shot.map(get_preds, fn_kwargs={'threshold':threshold})\n",
    "    clf_report = get_clf_report(ds_zero_shot)\n",
    "    micros.append(clf_report['micro avg']['f1-score'])\n",
    "    macros.append(clf_report['macro avg']['f1-score'])"
   ]
  },
  {
   "cell_type": "code",
   "execution_count": 45,
   "id": "1106f2bf",
   "metadata": {},
   "outputs": [
    {
     "data": {
      "image/png": "[encoded data removed]",
      "text/plain": [
       "<Figure size 640x480 with 1 Axes>"
      ]
     },
     "metadata": {},
     "output_type": "display_data"
    }
   ],
   "source": [
    "plt.plot(thresholds, micros, label = 'Micro F1')\n",
    "plt.plot(thresholds, macros, label = 'Macro F1')\n",
    "plt.xlabel('Threshold')\n",
    "plt.ylabel('F1-score')\n",
    "plt.legend(loc='best')\n",
    "plt.show()"
   ]
  },
  {
   "cell_type": "code",
   "execution_count": 46,
   "id": "0a66a213",
   "metadata": {},
   "outputs": [
    {
     "name": "stdout",
     "output_type": "stream",
     "text": [
      "최상의 임곗값 (마이크로):0.75, F1-score 0.46.\n",
      "최상의 임곗값 (매크로):0.72, F1-score 0.42.\n"
     ]
    }
   ],
   "source": [
    "best_t, best_micro = thresholds[np.argmax(micros)], np.max(micros)\n",
    "print(f'최상의 임곗값 (마이크로):{best_t}, F1-score {best_micro:.2f}.')\n",
    "best_t, best_macro = thresholds[np.argmax(macros)], np.max(macros)\n",
    "print(f'최상의 임곗값 (매크로):{best_t}, F1-score {best_macro:.2f}.')"
   ]
  },
  {
   "cell_type": "markdown",
   "id": "411af9e3",
   "metadata": {},
   "source": [
    "탑-1 결과보다 나쁘지만, 그래프에 정밀도/재현율의 트레이드오프가 확실하게 나타난다.  \n",
    "임계값을 매우 낮게 설정하면 예측이 매우 많아져 정밀도가 낮아진다.   \n",
    "임계값을 매우 높게 하면 예측하기 어려워져 재현율이 낮아진다."
   ]
  },
  {
   "cell_type": "code",
   "execution_count": 47,
   "id": "669b618a",
   "metadata": {},
   "outputs": [
    {
     "data": {
      "application/vnd.jupyter.widget-view+json": {
       "model_id": "8f212f77731845a38b6a0a4e829e4623",
       "version_major": 2,
       "version_minor": 0
      },
      "text/plain": [
       "Map:   0%|          | 0/111 [00:00<?, ? examples/s]"
      ]
     },
     "metadata": {},
     "output_type": "display_data"
    },
    {
     "data": {
      "application/vnd.jupyter.widget-view+json": {
       "model_id": "6e91010765d84335ad5d4239c3680d6d",
       "version_major": 2,
       "version_minor": 0
      },
      "text/plain": [
       "Map:   0%|          | 0/111 [00:00<?, ? examples/s]"
      ]
     },
     "metadata": {},
     "output_type": "display_data"
    },
    {
     "data": {
      "image/png": "[encoded data removed]",
      "text/plain": [
       "<Figure size 1000x400 with 2 Axes>"
      ]
     },
     "metadata": {},
     "output_type": "display_data"
    }
   ],
   "source": [
    "# 탑-1 사용해 테스트셋에서 제로샷 분류와 나이브 베이즈 비교\n",
    "ds_zero_shot = ds['test'].map(zero_shot_pipeline)\n",
    "ds_zero_shot = ds_zero_shot.map(get_preds, fn_kwargs={'topk':1})\n",
    "clf_report = get_clf_report(ds_zero_shot)\n",
    "\n",
    "for train_slice in train_slices :\n",
    "    macro_scores['Zero Shot'].append(clf_report['macro avg']['f1-score'])\n",
    "    micro_scores['Zero Shot'].append(clf_report['micro avg']['f1-score'])\n",
    "    \n",
    "plot_metrics(micro_scores, macro_scores, train_samples, 'Zero Shot')"
   ]
  },
  {
   "cell_type": "markdown",
   "id": "15992e6b",
   "metadata": {},
   "source": [
    "- 레이블링된 샘플이 50개보다 적다면 제로샷 파이프라인이 기준 모델의 성능을 쉽게 추월함\n",
    "- 샘플이 50개 이상이더라도 마이크로와 매크로 F1-score 모두 고려하면, 제로샷 파이프라인이 더 낫다. 마이크로 F1-score 결과를 보면, 기준 모델이 빈도가 높은 클래스에서 잘 동작하지만, 제로샷 파이프라인은 학습할 샘플이 피요하지 않기에 기준 모델보다 뛰어나다.\n",
    "\n",
    "\n",
    "### 레이블링된 데이터가 적은 경우\n",
    "* 데이터 증식\n",
    "    * 역 번역 : 원본 언어로 된 텍스트를 기계 번역 사용해 하나 이상의 타깃 언어로 번역한 후 원본 언어로 다시 번역\n",
    "        * 데이터가 많은 언어 또는 도메인 특화된 언어가 매우 많지 않은 말뭉치에서 잘 동작함\n",
    "    * 토큰 섞기 : 훈련셋의 한 텍스트에서 동의어 교체, 단어 추가, 교환, 삭제 같은 간단한 변환을 임의로 선택해 수행"
   ]
  },
  {
   "cell_type": "code",
   "execution_count": 50,
   "id": "b318f884",
   "metadata": {},
   "outputs": [
    {
     "name": "stderr",
     "output_type": "stream",
     "text": [
      "C:\\Users\\knuyh\\anaconda3\\Lib\\site-packages\\huggingface_hub\\file_download.py:1132: FutureWarning: `resume_download` is deprecated and will be removed in version 1.0.0. Downloads always resume when possible. If you want to force a new download, use `force_download=True`.\n",
      "  warnings.warn(\n"
     ]
    },
    {
     "name": "stdout",
     "output_type": "stream",
     "text": [
      "원본텍스트 : Transformers are the most popular toys\n",
      "증식된 텍스트 : ['transformers get the most interesting toys']\n"
     ]
    }
   ],
   "source": [
    "# 동의어 교체\n",
    "from transformers import set_seed\n",
    "import nlpaug.augmenter.word as naw\n",
    "\n",
    "set_seed(3)\n",
    "aug = naw.ContextualWordEmbsAug(model_path = 'distilbert-base-uncased', action='substitute')\n",
    "text = 'Transformers are the most popular toys'\n",
    "print(f\"원본텍스트 : {text}\")\n",
    "print(f\"증식된 텍스트 : {aug.augment(text)}\")"
   ]
  },
  {
   "cell_type": "code",
   "execution_count": 51,
   "id": "c8ba6aba",
   "metadata": {},
   "outputs": [],
   "source": [
    "def augment_text(batch, transformations_per_example=1):\n",
    "    text_aug, label_ids = [], []\n",
    "    for text, labels in zip(batch[\"text\"], batch[\"label_ids\"]):\n",
    "        text_aug += [text]\n",
    "        label_ids += [labels]\n",
    "        for _ in range(transformations_per_example):\n",
    "            text_aug += aug.augment(text)\n",
    "            label_ids += [labels]\n",
    "    return {\"text\": text_aug, \"label_ids\": label_ids}"
   ]
  },
  {
   "cell_type": "code",
   "execution_count": null,
   "id": "3b6f930c",
   "metadata": {},
   "outputs": [
    {
     "data": {
      "application/vnd.jupyter.widget-view+json": {
       "model_id": "0cecd65bb07c4b64bb9467265946e41e",
       "version_major": 2,
       "version_minor": 0
      },
      "text/plain": [
       "Map:   0%|          | 0/10 [00:00<?, ? examples/s]"
      ]
     },
     "metadata": {},
     "output_type": "display_data"
    },
    {
     "data": {
      "application/vnd.jupyter.widget-view+json": {
       "model_id": "eaa45ebfed384e4d8b6a5dfe02f3bfe0",
       "version_major": 2,
       "version_minor": 0
      },
      "text/plain": [
       "Map:   0%|          | 0/19 [00:00<?, ? examples/s]"
      ]
     },
     "metadata": {},
     "output_type": "display_data"
    },
    {
     "data": {
      "application/vnd.jupyter.widget-view+json": {
       "model_id": "d5980574b7494891909ad27be68f0ea3",
       "version_major": 2,
       "version_minor": 0
      },
      "text/plain": [
       "Map:   0%|          | 0/36 [00:00<?, ? examples/s]"
      ]
     },
     "metadata": {},
     "output_type": "display_data"
    },
    {
     "data": {
      "application/vnd.jupyter.widget-view+json": {
       "model_id": "9caad80bfee24363961741aab68e7a13",
       "version_major": 2,
       "version_minor": 0
      },
      "text/plain": [
       "Map:   0%|          | 0/68 [00:00<?, ? examples/s]"
      ]
     },
     "metadata": {},
     "output_type": "display_data"
    },
    {
     "data": {
      "application/vnd.jupyter.widget-view+json": {
       "model_id": "47f71a0b9a15448eaadcd65480cec9e3",
       "version_major": 2,
       "version_minor": 0
      },
      "text/plain": [
       "Map:   0%|          | 0/134 [00:00<?, ? examples/s]"
      ]
     },
     "metadata": {},
     "output_type": "display_data"
    },
    {
     "data": {
      "application/vnd.jupyter.widget-view+json": {
       "model_id": "ac048c493e964206b0349ad29d94bb46",
       "version_major": 2,
       "version_minor": 0
      },
      "text/plain": [
       "Map:   0%|          | 0/223 [00:00<?, ? examples/s]"
      ]
     },
     "metadata": {},
     "output_type": "display_data"
    }
   ],
   "source": [
    "for train_slice in train_slices:\n",
    "    ds_train_sample = ds[\"train\"].select(train_slice)\n",
    "    \n",
    "    # 증식 결과를 펼쳐 레이블에 정렬\n",
    "    ds_train_aug = (ds_train_sample.map(\n",
    "        augment_text, batched=True, remove_columns=ds_train_sample.column_names)\n",
    "                    .shuffle(seed=42))\n",
    "    y_train = np.array(ds_train_aug[\"label_ids\"])\n",
    "    y_test = np.array(ds[\"test\"][\"label_ids\"])\n",
    "    \n",
    "    # 간단한 CountVectorizer를 사용해 텍스트를 토큰 카운트로 인코딩\n",
    "    count_vect = CountVectorizer()\n",
    "    X_train_counts = count_vect.fit_transform(ds_train_aug[\"text\"])\n",
    "    X_test_counts = count_vect.transform(ds[\"test\"][\"text\"])\n",
    "\n",
    "    classifier = BinaryRelevance(classifier=MultinomialNB())\n",
    "    classifier.fit(X_train_counts, y_train)\n",
    "\n",
    "    y_pred_test = classifier.predict(X_test_counts)\n",
    "    clf_report = classification_report(\n",
    "        y_test, y_pred_test, target_names=mlb.classes_, zero_division=0,\n",
    "        output_dict=True)\n",
    "\n",
    "    macro_scores[\"Naive Bayes + Aug\"].append(clf_report[\"macro avg\"][\"f1-score\"])\n",
    "    micro_scores[\"Naive Bayes + Aug\"].append(clf_report[\"micro avg\"][\"f1-score\"])"
   ]
  },
  {
   "cell_type": "code",
   "execution_count": null,
   "id": "bf7a48c9",
   "metadata": {},
   "outputs": [],
   "source": [
    "plot_metrics(micro_scores, macro_scores, train_samples, \"Naive Bayes + Aug\")"
   ]
  },
  {
   "cell_type": "markdown",
   "id": "3c90b267",
   "metadata": {},
   "source": [
    "데이터 증식으로 나이브 베이즈 분류기의 점수 상승\n",
    "\n",
    "* 임베딩을 룩업 테이블로 사용하기\n",
    "    * 언어 모델을 사용해 레이블링된 전체 텍스트 임베딩\n",
    "    * 저장된 임베딩에 최근접 이웃 검색 수행\n",
    "    * 최근접 이웃의 레이블을 수집해 예측 만듦\n",
    "\n",
    "새로운 텍스트 분류할 때 이를 임베딩한 후 최근접 이웃의 레이블 기반으로 새로운 텍스트의 레이블 부여 - 레이블링된 데이터 포인트를 활용하기 위해 모델 미세 튜닝할 필요 X"
   ]
  },
  {
   "cell_type": "code",
   "execution_count": null,
   "id": "fc1efd9a",
   "metadata": {},
   "outputs": [],
   "source": [
    "import torch\n",
    "from transformers import AutoTokenizer, AutoModel\n",
    "\n",
    "model_ckpt = \"miguelvictor/python-gpt2-medium\"\n",
    "tokenizer = AutoTokenizer.from_pretrained(model_ckpt)\n",
    "model = AutoModel.from_pretrained(model_ckpt)\n",
    "\n",
    "def mean_pooling(model_output, attention_mask):\n",
    "    # 토큰 임베딩 추출하기\n",
    "    token_embeddings = model_output[0]\n",
    "    # 어텐션 마스크 계산하기\n",
    "    input_mask_expanded = (attention_mask\n",
    "                           .unsqueeze(-1)\n",
    "                           .expand(token_embeddings.size())\n",
    "                           .float())\n",
    "    # 임베딩을 더하지만 마스킹된 토큰은 무시\n",
    "    sum_embeddings = torch.sum(token_embeddings * input_mask_expanded, 1)\n",
    "    sum_mask = torch.clamp(input_mask_expanded.sum(1), min=1e-9)\n",
    "    # 하나의 벡터로 평균 반환\n",
    "    return sum_embeddings / sum_mask\n",
    "\n",
    "def embed_text(examples):\n",
    "    inputs = tokenizer(examples[\"text\"], padding=True, truncation=True,\n",
    "                       max_length=128, return_tensors=\"pt\")\n",
    "    with torch.no_grad():\n",
    "        model_output = model(**inputs)\n",
    "    pooled_embeds = mean_pooling(model_output, inputs[\"attention_mask\"])\n",
    "    return {\"embedding\": pooled_embeds.cpu().numpy()}"
   ]
  },
  {
   "cell_type": "code",
   "execution_count": null,
   "id": "944ad33f",
   "metadata": {},
   "outputs": [],
   "source": [
    "# GPT는 패딩 토큰이 없으므로 배치형식으로 임베딩을 구현하려면 패딩 토큰 추가해야\n",
    "# EOS 토큰 재사용\n",
    "tokenizer.pad_token = tokenizer.eos_token\n",
    "embs_train = ds[\"train\"].map(embed_text, batched=True, batch_size=16)\n",
    "embs_valid = ds[\"valid\"].map(embed_text, batched=True, batch_size=16)\n",
    "embs_test = ds[\"test\"].map(embed_text, batched=True, batch_size=16)"
   ]
  },
  {
   "cell_type": "code",
   "execution_count": null,
   "id": "c12651f9",
   "metadata": {},
   "outputs": [],
   "source": [
    "embs_train.add_faiss_index(\"embedding\")"
   ]
  },
  {
   "cell_type": "code",
   "execution_count": null,
   "id": "2020361e",
   "metadata": {},
   "outputs": [],
   "source": [
    "i, k = 0, 3     # 첫 번째 쿼리와 3개의 최근접 이웃 선택\n",
    "rn, nl = \"\\r\\n\\r\\n\", \"\\n\"   # 간결한 출력을 위해 텍스트에서 줄바꿈 문자 삭제\n",
    "\n",
    "query =  np.array(embs_valid[i][\"embedding\"], dtype=np.float32)\n",
    "scores, samples = embs_train.get_nearest_examples(\"embedding\", query, k=k)\n",
    "\n",
    "print(f\"쿼리 레이블: {embs_valid[i]['labels']}\")\n",
    "print(f\"쿼리 텍스트:\\n{embs_valid[i]['text'][:200].replace(rn, nl)} [...]\\n\")\n",
    "print(\"=\"*50)\n",
    "print(f\"추출된 문서:\")\n",
    "for score, label, text in zip(scores, samples[\"labels\"], samples[\"text\"]):\n",
    "    print(\"=\"*50)\n",
    "    print(f\"텍스트:\\n{text[:200].replace(rn, nl)} [...]\")\n",
    "    print(f\"점수: {score:.2f}\")\n",
    "    print(f\"레이블: {label}\")"
   ]
  },
  {
   "cell_type": "code",
   "execution_count": null,
   "id": "19fbbe54",
   "metadata": {},
   "outputs": [],
   "source": [
    "# 검증셋에 있는 각 샘플엣 반복하지 않고 쿼리 배치 받음\n",
    "def get_sample_preds(sample, m):\n",
    "    return (np.sum(sample[\"label_ids\"], axis=0) >= m).astype(int)\n",
    "\n",
    "def find_best_k_m(ds_train, valid_queries, valid_labels, max_k=17):\n",
    "    max_k = min(len(ds_train), max_k)\n",
    "    perf_micro = np.zeros((max_k, max_k))\n",
    "    perf_macro = np.zeros((max_k, max_k))\n",
    "    for k in range(1, max_k):\n",
    "        for m in range(1, k + 1):\n",
    "            _, samples = ds_train.get_nearest_examples_batch(\"embedding\",\n",
    "                                                             valid_queries, k=k)\n",
    "            y_pred = np.array([get_sample_preds(s, m) for s in samples])\n",
    "            clf_report = classification_report(valid_labels, y_pred,\n",
    "                target_names=mlb.classes_, zero_division=0, output_dict=True)\n",
    "            perf_micro[k, m] = clf_report[\"micro avg\"][\"f1-score\"]\n",
    "            perf_macro[k, m] = clf_report[\"macro avg\"][\"f1-score\"]\n",
    "    return perf_micro, perf_macro"
   ]
  },
  {
   "cell_type": "code",
   "execution_count": null,
   "id": "1b6a49b9",
   "metadata": {},
   "outputs": [],
   "source": [
    "valid_labels = np.array(embs_valid[\"label_ids\"])\n",
    "valid_queries = np.array(embs_valid[\"embedding\"], dtype=np.float32)\n",
    "perf_micro, perf_macro = find_best_k_m(embs_train, valid_queries, valid_labels)"
   ]
  },
  {
   "cell_type": "code",
   "execution_count": null,
   "id": "70f622ce",
   "metadata": {},
   "outputs": [],
   "source": [
    "fig, (ax0, ax1) = plt.subplots(1, 2, figsize=(10, 3.5), sharey=True)\n",
    "ax0.imshow(perf_micro)\n",
    "ax1.imshow(perf_macro)\n",
    "\n",
    "ax0.set_title(\"micro scores\")\n",
    "ax0.set_ylabel(\"k\")\n",
    "ax1.set_title(\"macro scores\")\n",
    "for ax in [ax0, ax1]:\n",
    "    ax.set_xlim([0.5, 17 - 0.5])\n",
    "    ax.set_ylim([17 - 0.5, 0.5])\n",
    "    ax.set_xlabel(\"m\")\n",
    "plt.show()"
   ]
  },
  {
   "cell_type": "code",
   "execution_count": null,
   "id": "ff7805f2",
   "metadata": {},
   "outputs": [],
   "source": []
  },
  {
   "cell_type": "code",
   "execution_count": null,
   "id": "30af7a0e",
   "metadata": {},
   "outputs": [],
   "source": []
  },
  {
   "cell_type": "code",
   "execution_count": null,
   "id": "25c077f3",
   "metadata": {},
   "outputs": [],
   "source": []
  }
 ],
 "metadata": {
  "kernelspec": {
   "display_name": "Python 3 (ipykernel)",
   "language": "python",
   "name": "python3"
  },
  "language_info": {
   "codemirror_mode": {
    "name": "ipython",
    "version": 3
   },
   "file_extension": ".py",
   "mimetype": "text/x-python",
   "name": "python",
   "nbconvert_exporter": "python",
   "pygments_lexer": "ipython3",
   "version": "3.11.4"
  }
 },
 "nbformat": 4,
 "nbformat_minor": 5
}
